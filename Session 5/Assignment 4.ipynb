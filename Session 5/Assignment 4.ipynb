{
  "cells": [
    {
      "cell_type": "markdown",
      "metadata": {
        "id": "view-in-github",
        "colab_type": "text"
      },
      "source": [
        "<a href=\"https://colab.research.google.com/github/EpiPandit/MPM_200/blob/main/Session%205/Assignment%204.ipynb\" target=\"_parent\"><img src=\"https://colab.research.google.com/assets/colab-badge.svg\" alt=\"Open In Colab\"/></a>"
      ]
    },
    {
      "cell_type": "markdown",
      "id": "0685d159",
      "metadata": {
        "id": "0685d159"
      },
      "source": [
        "# MPM 200: Assignment 4"
      ]
    },
    {
      "cell_type": "markdown",
      "id": "4c1da332",
      "metadata": {
        "id": "4c1da332"
      },
      "source": [
        "### Due 29th October 2025 9AM"
      ]
    },
    {
      "cell_type": "markdown",
      "id": "ce74d6c9",
      "metadata": {
        "id": "ce74d6c9"
      },
      "source": [
        "* For all questions, you must show your work. This will enable us to understand your thought process, give partial credit, and prevent crude cheating.\n",
        "* Please make sure that you are not simply copying each other's code, but rather striving to understand each other's work and learn from it\n",
        "* Additionally, please provide the R code at the end of your solution and include R commands along with R outputs. This will help to describe your solutions more clearly."
      ]
    },
    {
      "cell_type": "markdown",
      "id": "bf263321",
      "metadata": {
        "id": "bf263321"
      },
      "source": [
        "# Section 0: R"
      ]
    },
    {
      "cell_type": "markdown",
      "id": "3526ce3c",
      "metadata": {
        "id": "3526ce3c"
      },
      "source": [
        "**Q0: install package \"beepr\" from CRAN and use *beep()* function to make \"MARIO\" sound.**"
      ]
    },
    {
      "cell_type": "markdown",
      "id": "f83e364e",
      "metadata": {
        "id": "f83e364e"
      },
      "source": [
        "Make sure you have the following packages installed.\n",
        "1. Tidyverse\n",
        "2. dplyr\n",
        "3. ggplot2\n",
        "4. sjPlot"
      ]
    },
    {
      "cell_type": "markdown",
      "id": "1e8ce638",
      "metadata": {
        "id": "1e8ce638"
      },
      "source": [
        "## Will the hummers survive?\n",
        "\n",
        "#### As a wildlife veterinarian, you are interested in understanding the trends in hummingbird survival in California. To achieve this, you collaborate with several regional rehabilitation centers and develop a dataset of hummingbird rehabilitation cases, based on records maintained by these centers.\n",
        "\n",
        "\n",
        "#### The data recorded wasthe  following:\n",
        "\n",
        "Disposition_binary: Died or Released  \n",
        "Place: Rehabilitation center  \n",
        "F_Aid: First aid provided  \n",
        "Species_e: Hummingbird species: ANHU == Anna's Hummingbirds, NonSselasphorus: non-orange hummingbirds that are not identified till species level, Selasphorus: Hummingbirds that are from Selasphorus genus but not identified until species level, BCHU: Black-chinned hummingbirds  \n",
        "Sex_e:  \n",
        "Age_e:  \n",
        "Brought_in_after: Number of days it was with the rescuer before it came to a  rehabilitation center  \n",
        "season: season when it was admitted  \n",
        "r: reason for admission  \n",
        "Green_Orange: species classification: Green or Orange bird  \n",
        "ID: unique ID given to the  individual bird\n"
      ]
    },
    {
      "cell_type": "markdown",
      "id": "f112d952",
      "metadata": {
        "id": "f112d952"
      },
      "source": [
        "### Your aim is to identify factors that affect the survival or successful release of hummingbirds once they are admitted to the rehabilitation center. You are expected to do the following:\n",
        "1. Tabulate and plot the distribution of your outcome variable\n",
        "2. Identify covariates that you think (based on your general understanding) and explore individual covariates\n",
        "3. Plot/tabulate individual covariates with your outcome\n",
        "4. Run univariate generalized linear models\n",
        "5. Run backward elimination to find the best-fitting model\n",
        "6. Run forward addition to finding the best fitting model"
      ]
    },
    {
      "cell_type": "markdown",
      "id": "e4a93ce1",
      "metadata": {
        "id": "e4a93ce1"
      },
      "source": [
        "# Section 1\n",
        "### Reading the data\n",
        "Here, you will read the **Hummingbird_data.csv** file dataset and create a random sample of it. You will use this random sample of the dataset to complete the rest of the exercise.\n"
      ]
    },
    {
      "cell_type": "markdown",
      "id": "fb74fd4d",
      "metadata": {
        "id": "fb74fd4d"
      },
      "source": [
        "**Q1. read the Hummingbird_data.csv file in R**   \n",
        "2 points"
      ]
    },
    {
      "cell_type": "code",
      "execution_count": null,
      "id": "58816218",
      "metadata": {
        "id": "58816218"
      },
      "outputs": [],
      "source": [
        "#read the csv file and\n",
        "data  ="
      ]
    },
    {
      "cell_type": "code",
      "execution_count": null,
      "id": "de6f182c",
      "metadata": {
        "id": "de6f182c"
      },
      "outputs": [],
      "source": [
        "colnames(data)"
      ]
    },
    {
      "cell_type": "markdown",
      "id": "c07c075a",
      "metadata": {
        "id": "c07c075a"
      },
      "source": [
        "**Q2. How many rows and columns are in the datafame**  \n",
        "1 point"
      ]
    },
    {
      "cell_type": "code",
      "execution_count": null,
      "id": "6dcbdc08",
      "metadata": {
        "id": "6dcbdc08"
      },
      "outputs": [],
      "source": [
        "## your code answer here"
      ]
    },
    {
      "cell_type": "markdown",
      "id": "52969e6f-b479-4003-960e-429785b38125",
      "metadata": {
        "id": "52969e6f-b479-4003-960e-429785b38125"
      },
      "source": [
        "### Checking the Structure of Each Column and Identifying Data Types\n",
        "* Use the `str()` function to view the structure of the dataframe.  \n",
        "*\n",
        "Use the` sapply(`) function with class() to identify the data types of each column\n",
        "*\n",
        "Discuss any observations or potential issues with the data types."
      ]
    },
    {
      "cell_type": "code",
      "execution_count": null,
      "id": "c416787e-75d1-4511-bcc6-6a5c98ade6b8",
      "metadata": {
        "id": "c416787e-75d1-4511-bcc6-6a5c98ade6b8"
      },
      "outputs": [],
      "source": [
        "str(____)\n"
      ]
    },
    {
      "cell_type": "code",
      "execution_count": null,
      "id": "a13ad771-8d75-42ae-a357-d37b49e2e30a",
      "metadata": {
        "id": "a13ad771-8d75-42ae-a357-d37b49e2e30a",
        "outputId": "e6e6a6fd-ab4f-4ae4-9277-f67eafd4d432"
      },
      "outputs": [
        {
          "ename": "ERROR",
          "evalue": "Error in parse(text = input): <text>:2:22: unexpected input\n1: # Identify data types of each column\n2: data_types = sapply(__\n                        ^\n",
          "output_type": "error",
          "traceback": [
            "Error in parse(text = input): <text>:2:22: unexpected input\n1: # Identify data types of each column\n2: data_types = sapply(__\n                        ^\nTraceback:\n"
          ]
        }
      ],
      "source": [
        "# Identify data types of each column\n",
        "data_types = sapply(_____, class)\n",
        "print(_____)"
      ]
    },
    {
      "cell_type": "markdown",
      "id": "8cbeb0cb",
      "metadata": {
        "id": "8cbeb0cb"
      },
      "source": [
        "Next step is to create a random subset of the given data.   \n",
        "Use the given code to create the subset data."
      ]
    },
    {
      "cell_type": "code",
      "execution_count": null,
      "id": "8ac6ac85",
      "metadata": {
        "id": "8ac6ac85"
      },
      "outputs": [],
      "source": [
        "library(dplyr)\n",
        "model_data = sample_n(data, 5000)"
      ]
    },
    {
      "cell_type": "markdown",
      "id": "03464722",
      "metadata": {
        "id": "03464722"
      },
      "source": [
        "**Use *model_data* dataframe to answer remainder questions of the assingment.**"
      ]
    },
    {
      "cell_type": "markdown",
      "id": "dcf2646a",
      "metadata": {
        "id": "dcf2646a"
      },
      "source": [
        "**Q3: How many rows and columns are present in your data frame currently?  \n",
        "1 Point**"
      ]
    },
    {
      "cell_type": "markdown",
      "id": "f6efcd72",
      "metadata": {
        "id": "f6efcd72"
      },
      "source": [
        "**Q4: How many columns are categorical variables, and how many are continuous variables in the dataset?  \n",
        "2 Points**"
      ]
    },
    {
      "cell_type": "markdown",
      "id": "d56e0d4a",
      "metadata": {
        "id": "d56e0d4a"
      },
      "source": [
        "**Q5: Submit your model_data file along with your submission.  \n",
        "Save it as \"Hummingbird_data_YOURNAME.csv\" and submit it    \n",
        "2 Points**"
      ]
    },
    {
      "cell_type": "code",
      "execution_count": null,
      "id": "fed5f8bc",
      "metadata": {
        "id": "fed5f8bc"
      },
      "outputs": [],
      "source": [
        "library(ggplot2)"
      ]
    },
    {
      "cell_type": "markdown",
      "id": "f7158e0b",
      "metadata": {
        "id": "f7158e0b"
      },
      "source": [
        "# Section 2\n",
        "## Rehabilitation Center and number of hummingbirds\n",
        "Lets see how we can explore how many birds were admitted to each rehabilitation center (represented by column Place).  \n",
        "We will use functions from` dply`r to generate summary tables and plot them using` GGplot`2"
      ]
    },
    {
      "cell_type": "code",
      "execution_count": null,
      "id": "5282f32f",
      "metadata": {
        "id": "5282f32f"
      },
      "outputs": [],
      "source": [
        "model_data%>%\n",
        "group_by(Place)%>%\n",
        "summarise(count = n_distinct(ID))"
      ]
    },
    {
      "cell_type": "code",
      "execution_count": null,
      "id": "f4496200",
      "metadata": {
        "id": "f4496200"
      },
      "outputs": [],
      "source": [
        "rehab = model_data  %>%\n",
        "group_by(Place)%>%\n",
        "summarise(count = n_distinct(ID))"
      ]
    },
    {
      "cell_type": "code",
      "execution_count": null,
      "id": "43fb4e42",
      "metadata": {
        "id": "43fb4e42"
      },
      "outputs": [],
      "source": [
        "p = ggplot(rehab, aes(x = Place, y = count)) +\n",
        "geom_bar(stat=\"identity\", color = 'steelblue', fill = 'steelblue')+\n",
        "xlab('Rehabilitation center')+ ylab('number of hummingbirds')+\n",
        "labs(title = \"Number of rescued hummingbirds\")"
      ]
    },
    {
      "cell_type": "code",
      "execution_count": null,
      "id": "d41faf21",
      "metadata": {
        "id": "d41faf21"
      },
      "outputs": [],
      "source": [
        "p"
      ]
    },
    {
      "cell_type": "markdown",
      "id": "8ae6f679",
      "metadata": {
        "id": "8ae6f679"
      },
      "source": [
        "**Q6: Please save this plot to a PDF file and submit it along with your assignment. Ensure that the size of the plot is 4 inches wide and 3 inches tall.  \n",
        "Point: 2**  "
      ]
    },
    {
      "cell_type": "markdown",
      "id": "f98e561e",
      "metadata": {
        "id": "f98e561e"
      },
      "source": [
        "**Q7: Please explain the code above in words, including what each line of R code is doing, starting from the code that creates the \"Rehab\" object until the plot.  \n",
        "Points: 2**  "
      ]
    },
    {
      "cell_type": "markdown",
      "id": "30a03203",
      "metadata": {
        "id": "30a03203"
      },
      "source": [
        "# Section 3\n",
        "\n",
        "## Key variables that affect the survival of hummingbirds  "
      ]
    },
    {
      "cell_type": "markdown",
      "id": "8c6f17c5",
      "metadata": {
        "id": "8c6f17c5"
      },
      "source": [
        "#### Do the following steps\n",
        "1. List 5 covariates from data columns that you think might affect the survival.   \n",
        "2. For each variable, create a table showing the number of birds that survived and died for each subcategory for the covariate.  \n",
        "3. To do that, create a table first with COVARIATE, Disposition_binary, and unique IDs\n",
        "4. Then use that data frame to generate bar plots and use  `facet_grid` function in `GGPlot`"
      ]
    },
    {
      "cell_type": "markdown",
      "id": "0870fdc7",
      "metadata": {
        "id": "0870fdc7"
      },
      "source": [
        "**Q8: What is your observation based on those tables and plots? Do you think all those are associated with the final disposition of hummingbirds? Any suggestions for statistically testing them?  \n",
        "Points: 5**"
      ]
    },
    {
      "cell_type": "code",
      "execution_count": null,
      "id": "3950bc39",
      "metadata": {
        "scrolled": true,
        "id": "3950bc39"
      },
      "outputs": [],
      "source": [
        "df = model_data  %>%\n",
        "group_by(COLUMN, COLUMN)%>%\n",
        "summarise(count = n_distinct(COLUMN))"
      ]
    },
    {
      "cell_type": "code",
      "execution_count": null,
      "id": "2af484e4",
      "metadata": {
        "id": "2af484e4"
      },
      "outputs": [],
      "source": [
        "df"
      ]
    },
    {
      "cell_type": "code",
      "execution_count": null,
      "id": "94943eaf",
      "metadata": {
        "id": "94943eaf"
      },
      "outputs": [],
      "source": []
    },
    {
      "cell_type": "code",
      "execution_count": null,
      "id": "18a7c5a3",
      "metadata": {
        "id": "18a7c5a3"
      },
      "outputs": [],
      "source": [
        "p + facet_grid(. ~ FACET_column)+ coord_flip()"
      ]
    },
    {
      "cell_type": "markdown",
      "id": "38533bd4-17ba-4f83-9c34-26cb81ede645",
      "metadata": {
        "id": "38533bd4-17ba-4f83-9c34-26cb81ede645"
      },
      "source": [
        "## Calculating Proportions"
      ]
    },
    {
      "cell_type": "markdown",
      "id": "074cca2e-8e3a-41da-ac20-7756ae0c753a",
      "metadata": {
        "id": "074cca2e-8e3a-41da-ac20-7756ae0c753a"
      },
      "source": [
        "#### Q10: Calculate the proportion of hummingbirds that were released versus those that died for each rehabilitation center.\n",
        "* Use the `model_data` dataframe to calculate these proportions.\n",
        "*\n",
        "Create a table showing the proportions for each rehabilitation center (denoted by column `Place`)   .*\n",
        "Plot a bar chart to visualize these proportions."
      ]
    },
    {
      "cell_type": "code",
      "execution_count": null,
      "id": "7b97c92e-7f44-4510-bb01-fa3f8048143e",
      "metadata": {
        "id": "7b97c92e-7f44-4510-bb01-fa3f8048143e"
      },
      "outputs": [],
      "source": [
        "# Calculate proportions\n",
        "proportions = model_data %>%\n",
        "  group_by(__, ___) %>%\n",
        "  summarise() %>%\n",
        "  group_by(Place) %>%\n",
        "  mutate(proportion = count / sum(count))\n",
        "\n",
        "# Plot the proportions\n",
        "ggplot(proportions, aes(x = , y = , fill = )) +\n",
        "  geom_bar(stat = \"identity\", position = \"dodge\") +\n",
        "  xlab() +\n",
        "  ylab() +\n",
        "  labs(title = )"
      ]
    },
    {
      "cell_type": "markdown",
      "id": "250e8ec8-85cf-4d83-b922-8513944c902b",
      "metadata": {
        "id": "250e8ec8-85cf-4d83-b922-8513944c902b"
      },
      "source": [
        "### Merging Species into Groups/Families  \n",
        "#### Q11: Merge the Species_e column into broader categories (e.g., Anna's Hummingbirds, Selasphorus genus, Non-selasphorus, Black-chinned Hummingbirds).\n",
        "* Anna's Hummingbird, Black-chinned Hummingbird and \"non-selasphorous' hummingbirds need to be classified as Non-selasphorus\n",
        "* All Selasphorus species should be classified as `Selasphorus`\n",
        "* Create a new column `Species_group` that categorizes the species into these broader groups.\n",
        "* Tabulate and plot the distribution of hummingbirds by these new species groups.\n",
        "* Analyze how the survival rates differ across these species groups."
      ]
    },
    {
      "cell_type": "code",
      "execution_count": null,
      "id": "26d04c36-2a77-4b96-aa3b-3251901b6f5c",
      "metadata": {
        "id": "26d04c36-2a77-4b96-aa3b-3251901b6f5c"
      },
      "outputs": [],
      "source": [
        "## Hint: think about the logic. How would you quickly classify these species into multiple groups using ifelse statement?\n",
        "\n",
        "model_data$Species_group = ifelse(model_data$Species_e == ______ ________,\n",
        "                                  _________)\n",
        "\n",
        "# Tabulate and plot the distribution\n",
        "species_distribution = model_data %>%\n",
        "  group_by(________, __________) %>%\n",
        "  summarise(____________)\n",
        "\n",
        "ggplot(_______________, aes(x = __________, y = ____, fill = ______)) +\n",
        "  geom_bar() +\n",
        "  xlab() +\n",
        "  ylab() +\n",
        "  labs(title = )"
      ]
    },
    {
      "cell_type": "markdown",
      "id": "8ca56e47-8496-474c-8a24-4a0c7e4aa912",
      "metadata": {
        "id": "8ca56e47-8496-474c-8a24-4a0c7e4aa912"
      },
      "source": [
        "### Q12 Analyze the Trend of Hummingbird Admissions Over Time\n",
        "* Convert the `Admitted` column to a date format.\n",
        "*\n",
        "Summarize the trend of hummingbird admissions over time\n",
        "*\n",
        "Plot the trend using `ggplot2`."
      ]
    },
    {
      "cell_type": "code",
      "execution_count": null,
      "id": "347ac34e-33f3-46e0-92f9-f24fec44a8dd",
      "metadata": {
        "id": "347ac34e-33f3-46e0-92f9-f24fec44a8dd",
        "outputId": "1fb7b5f2-18fc-4f86-b9a5-0eb66403a464"
      },
      "outputs": [
        {
          "ename": "ERROR",
          "evalue": "Error in parse(text = input): <text>:1:37: unexpected input\n1: model_data$Admitted_date = as.Date(__\n                                        ^\n",
          "output_type": "error",
          "traceback": [
            "Error in parse(text = input): <text>:1:37: unexpected input\n1: model_data$Admitted_date = as.Date(__\n                                        ^\nTraceback:\n"
          ]
        }
      ],
      "source": [
        "model_data$Admitted_date = as.Date(___________, format = \"%m/%d/%Y\")"
      ]
    },
    {
      "cell_type": "markdown",
      "id": "0e2e471c-b866-403f-9c0c-f0d89402667c",
      "metadata": {
        "id": "0e2e471c-b866-403f-9c0c-f0d89402667c"
      },
      "source": [
        "Q12a Please explain the argument `format` in code above"
      ]
    },
    {
      "cell_type": "markdown",
      "id": "48fda4c1-00bb-4842-9ba1-8b91d5182845",
      "metadata": {
        "id": "48fda4c1-00bb-4842-9ba1-8b91d5182845"
      },
      "source": [
        "The next step is to summarize the number of birds seen in each month and similarly in each year."
      ]
    },
    {
      "cell_type": "code",
      "execution_count": null,
      "id": "dc978abb-9e1b-470c-85df-8bb2225ebd05",
      "metadata": {
        "id": "dc978abb-9e1b-470c-85df-8bb2225ebd05"
      },
      "outputs": [],
      "source": [
        "admissions_by_month = ____ %>%\n",
        "  mutate(Admitted_month = format(Admitted_date, \"%Y-%m\")) %>%\n",
        "  group_by(Admitted_month) %>%\n",
        "  summarise(_____)\n",
        "\n",
        "admissions_by_year = _____ %>%\n",
        "  mutate(______ = format(______, \"%Y\")) %>%\n",
        "  group_by(_______) %>%\n",
        "  summarise(_______)"
      ]
    },
    {
      "cell_type": "markdown",
      "id": "96dc4313-0184-43ff-869c-95a8ad3a7ea9",
      "metadata": {
        "id": "96dc4313-0184-43ff-869c-95a8ad3a7ea9"
      },
      "source": [
        "Finally, we can use `ggplot` to plot these timelines."
      ]
    },
    {
      "cell_type": "code",
      "execution_count": null,
      "id": "a0b591a8-cb0e-46c7-becb-f3af851fff38",
      "metadata": {
        "id": "a0b591a8-cb0e-46c7-becb-f3af851fff38"
      },
      "outputs": [],
      "source": [
        "# Plot admissions by month\n",
        "p_month = ggplot(admissions_by_month, aes(x = _______, y = _____)) +\n",
        "  geom_bar(_____________________________) +\n",
        "  xlab(_______) +\n",
        "  ylab(_______) +\n",
        "  labs(_______________________)"
      ]
    },
    {
      "cell_type": "code",
      "execution_count": null,
      "id": "bafcade0-3cba-4f81-9def-709a21cbbe95",
      "metadata": {
        "id": "bafcade0-3cba-4f81-9def-709a21cbbe95"
      },
      "outputs": [],
      "source": [
        "## Plot similar timeline for Yearly admissions of Hummingbirds"
      ]
    }
  ],
  "metadata": {
    "kernelspec": {
      "display_name": "R",
      "language": "R",
      "name": "ir"
    },
    "language_info": {
      "codemirror_mode": "r",
      "file_extension": ".r",
      "mimetype": "text/x-r-source",
      "name": "R",
      "pygments_lexer": "r",
      "version": "4.4.1"
    },
    "colab": {
      "provenance": [],
      "include_colab_link": true
    }
  },
  "nbformat": 4,
  "nbformat_minor": 5
}