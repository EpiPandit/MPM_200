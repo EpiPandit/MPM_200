{
 "cells": [
  {
   "cell_type": "markdown",
   "id": "a4a3f689",
   "metadata": {
    "slideshow": {
     "slide_type": "slide"
    }
   },
   "source": [
    "## Lets get comfortable with R"
   ]
  },
  {
   "cell_type": "markdown",
   "id": "291e4b6c",
   "metadata": {
    "slideshow": {
     "slide_type": "subslide"
    }
   },
   "source": [
    "### How to install a package"
   ]
  },
  {
   "cell_type": "markdown",
   "id": "f0653624",
   "metadata": {
    "slideshow": {
     "slide_type": "subslide"
    }
   },
   "source": [
    "Installing a new package is required only once for your computer system.  \n",
    "You will not need to re-install the package once it is on your computer. "
   ]
  },
  {
   "cell_type": "code",
   "execution_count": null,
   "id": "62debc01",
   "metadata": {
    "slideshow": {
     "slide_type": "subslide"
    }
   },
   "outputs": [],
   "source": [
    "install.packages('beepr') #type = 'binary'"
   ]
  },
  {
   "cell_type": "markdown",
   "id": "68bea7bb",
   "metadata": {
    "slideshow": {
     "slide_type": "subslide"
    }
   },
   "source": [
    "Using a \"question mark\" or \"help(function)\" will show you the documentation page of the specific R function. It will describe exact arguments, possible options and what the function returns.It is highly advised to read the help function for every command that you use. "
   ]
  },
  {
   "cell_type": "code",
   "execution_count": null,
   "id": "095a9932",
   "metadata": {
    "slideshow": {
     "slide_type": "subslide"
    }
   },
   "outputs": [],
   "source": [
    "?install.packages"
   ]
  },
  {
   "cell_type": "markdown",
   "id": "1319c3aa",
   "metadata": {
    "slideshow": {
     "slide_type": "slide"
    }
   },
   "source": [
    "## loading package in your workspace\n",
    "Once the package is installed on your computer, it is essential to \"load\" the package in your working environment. You cannot use functions withing the specific package unless you load it with following command. "
   ]
  },
  {
   "cell_type": "code",
   "execution_count": null,
   "id": "9e0b90cd",
   "metadata": {
    "slideshow": {
     "slide_type": "subslide"
    }
   },
   "outputs": [],
   "source": [
    "library(beepr)"
   ]
  },
  {
   "cell_type": "code",
   "execution_count": null,
   "id": "83788898-4d05-45ee-9b7e-1ba5a438dd8c",
   "metadata": {},
   "outputs": [],
   "source": [
    "beep(sound =8)"
   ]
  },
  {
   "cell_type": "code",
   "execution_count": null,
   "id": "bce1e3ca",
   "metadata": {
    "slideshow": {
     "slide_type": "subslide"
    }
   },
   "outputs": [],
   "source": [
    "#?beep"
   ]
  },
  {
   "cell_type": "code",
   "execution_count": null,
   "id": "d113e0a1",
   "metadata": {
    "slideshow": {
     "slide_type": "subslide"
    }
   },
   "outputs": [],
   "source": [
    "beep()"
   ]
  },
  {
   "cell_type": "markdown",
   "id": "4344c2f2",
   "metadata": {
    "slideshow": {
     "slide_type": "subslide"
    }
   },
   "source": [
    "### Use the command to produce \"MARIO\" game sound"
   ]
  },
  {
   "cell_type": "markdown",
   "id": "5b5c6ba6",
   "metadata": {
    "slideshow": {
     "slide_type": "slide"
    }
   },
   "source": [
    "### Manage your R working environment\n",
    "* Setting your working environment\n",
    "* Make sure you have correct folder selected on your computer as your working directory.  \n",
    "* It will be the folder from where you will read your data files and will save your outputs.\n"
   ]
  },
  {
   "cell_type": "markdown",
   "id": "6e0e6fa3",
   "metadata": {
    "slideshow": {
     "slide_type": "subslide"
    }
   },
   "source": [
    "#### what is your current working directory?"
   ]
  },
  {
   "cell_type": "code",
   "execution_count": null,
   "id": "a60c27d7",
   "metadata": {
    "slideshow": {
     "slide_type": "subslide"
    }
   },
   "outputs": [],
   "source": [
    "getwd() #the current working directory"
   ]
  },
  {
   "cell_type": "markdown",
   "id": "5026a794",
   "metadata": {
    "slideshow": {
     "slide_type": "subslide"
    }
   },
   "source": [
    "#### change it appropriate working directory"
   ]
  },
  {
   "cell_type": "code",
   "execution_count": null,
   "id": "c1f425bb",
   "metadata": {
    "slideshow": {
     "slide_type": "subslide"
    }
   },
   "outputs": [],
   "source": [
    "setwd('C:/Users/prana/Desktop/directory/Applied-Veterinary-Population-Statistics/Week 1/Code notebooks/data')"
   ]
  },
  {
   "cell_type": "code",
   "execution_count": null,
   "id": "a15f4530-9a14-414f-a3d7-08865d9174f4",
   "metadata": {},
   "outputs": [],
   "source": [
    "getwd()"
   ]
  },
  {
   "cell_type": "markdown",
   "id": "40e3e75b",
   "metadata": {
    "slideshow": {
     "slide_type": "subslide"
    }
   },
   "source": [
    "#### will list all of the variables and functions stored in the global environment (your working R session):"
   ]
  },
  {
   "cell_type": "code",
   "execution_count": null,
   "id": "f9717350",
   "metadata": {
    "slideshow": {
     "slide_type": "subslide"
    }
   },
   "outputs": [],
   "source": [
    "ls()"
   ]
  },
  {
   "cell_type": "markdown",
   "id": "36469111",
   "metadata": {
    "slideshow": {
     "slide_type": "subslide"
    }
   },
   "source": [
    "#### I have nothing right now"
   ]
  },
  {
   "cell_type": "code",
   "execution_count": null,
   "id": "9b3077f8",
   "metadata": {
    "slideshow": {
     "slide_type": "subslide"
    }
   },
   "outputs": [],
   "source": [
    "a = 2"
   ]
  },
  {
   "cell_type": "code",
   "execution_count": null,
   "id": "06488480",
   "metadata": {
    "slideshow": {
     "slide_type": "subslide"
    }
   },
   "outputs": [],
   "source": [
    "ls()"
   ]
  },
  {
   "cell_type": "markdown",
   "id": "66ee6a6f",
   "metadata": {
    "slideshow": {
     "slide_type": "subslide"
    }
   },
   "source": [
    "If you want to delete all objects in your environment you can use following command"
   ]
  },
  {
   "cell_type": "code",
   "execution_count": null,
   "id": "400c7f3d",
   "metadata": {
    "slideshow": {
     "slide_type": "subslide"
    }
   },
   "outputs": [],
   "source": [
    "rm(list = ls())"
   ]
  },
  {
   "cell_type": "code",
   "execution_count": null,
   "id": "8d9cddc0",
   "metadata": {
    "slideshow": {
     "slide_type": "subslide"
    }
   },
   "outputs": [],
   "source": [
    "ls()"
   ]
  },
  {
   "cell_type": "markdown",
   "id": "15512fa1",
   "metadata": {
    "slideshow": {
     "slide_type": "slide"
    }
   },
   "source": [
    "## Key R packages that we will use to explore the data\n",
    "\n",
    "* Tidyverse: is a collection of packages that share the same philisophy of data management and visualization\n",
    "* ggplot2: Grammer of Graphics\n",
    "* dplyr: Data Wrangling package: check the cheetsheet here https://www.rstudio.com/wp-content/uploads/2015/02/data-wrangling-cheatsheet.pdf"
   ]
  },
  {
   "cell_type": "code",
   "execution_count": null,
   "id": "322054f7",
   "metadata": {
    "slideshow": {
     "slide_type": "subslide"
    }
   },
   "outputs": [],
   "source": [
    "#install.packages(\"tidyverse\", type = 'binary')"
   ]
  },
  {
   "cell_type": "markdown",
   "id": "4ea25ba4",
   "metadata": {
    "slideshow": {
     "slide_type": "subslide"
    }
   },
   "source": [
    "#### Reading the data"
   ]
  },
  {
   "cell_type": "code",
   "execution_count": null,
   "id": "7e95a924",
   "metadata": {
    "slideshow": {
     "slide_type": "subslide"
    }
   },
   "outputs": [],
   "source": [
    "COVID = read.csv('covid-tracking-data-master_COVID_Tracking_Project_2020_08_07_daily.csv')\n"
   ]
  },
  {
   "cell_type": "code",
   "execution_count": null,
   "id": "9e3ee316",
   "metadata": {
    "slideshow": {
     "slide_type": "subslide"
    }
   },
   "outputs": [],
   "source": [
    "COVID = read.csv('C:/Users/prana/Desktop/directory/MPM_200/data/covid-tracking-data-master_COVID_Tracking_Project_2020_08_07_daily.csv')"
   ]
  },
  {
   "cell_type": "code",
   "execution_count": null,
   "id": "9e9de82b-4157-41fc-99ef-a701e56f78a1",
   "metadata": {},
   "outputs": [],
   "source": [
    "ls()"
   ]
  },
  {
   "cell_type": "markdown",
   "id": "76fded52",
   "metadata": {
    "slideshow": {
     "slide_type": "subslide"
    }
   },
   "source": [
    "## Check first few lines of your dataframe"
   ]
  },
  {
   "cell_type": "code",
   "execution_count": null,
   "id": "ad85c3f9",
   "metadata": {
    "slideshow": {
     "slide_type": "fragment"
    }
   },
   "outputs": [],
   "source": [
    "head(COVID)"
   ]
  },
  {
   "cell_type": "code",
   "execution_count": null,
   "id": "f95ba5d0",
   "metadata": {
    "scrolled": true,
    "slideshow": {
     "slide_type": "skip"
    }
   },
   "outputs": [],
   "source": [
    "#View(COVID)"
   ]
  },
  {
   "cell_type": "markdown",
   "id": "81937fbd",
   "metadata": {
    "slideshow": {
     "slide_type": "subslide"
    }
   },
   "source": [
    "* Explore the Environment section in RStudio and click on \"COVID\"\n",
    "* Explore various columns of the data-frame\n",
    "* Similar presentation as Excel Spreadshee"
   ]
  },
  {
   "cell_type": "markdown",
   "id": "049d72ea",
   "metadata": {
    "slideshow": {
     "slide_type": "slide"
    }
   },
   "source": [
    "### Exploring dataframe Stucture"
   ]
  },
  {
   "cell_type": "code",
   "execution_count": null,
   "id": "25557d9d",
   "metadata": {},
   "outputs": [],
   "source": [
    "nrow(COVID)"
   ]
  },
  {
   "cell_type": "code",
   "execution_count": null,
   "id": "255139f7",
   "metadata": {},
   "outputs": [],
   "source": [
    "ncol(COVID)"
   ]
  },
  {
   "cell_type": "code",
   "execution_count": null,
   "id": "5a35ed91",
   "metadata": {},
   "outputs": [],
   "source": [
    "dim(COVID)"
   ]
  },
  {
   "cell_type": "code",
   "execution_count": null,
   "id": "a007166c",
   "metadata": {},
   "outputs": [],
   "source": [
    "colnames(COVID)"
   ]
  },
  {
   "cell_type": "markdown",
   "id": "6f071e4f",
   "metadata": {},
   "source": [
    "#### Calling a single column from the dataframe"
   ]
  },
  {
   "cell_type": "code",
   "execution_count": null,
   "id": "d561269d",
   "metadata": {},
   "outputs": [],
   "source": [
    "COVID$state"
   ]
  },
  {
   "cell_type": "code",
   "execution_count": null,
   "id": "5cda687b",
   "metadata": {
    "scrolled": true
   },
   "outputs": [],
   "source": [
    "str(COVID)"
   ]
  },
  {
   "cell_type": "markdown",
   "id": "1e569849",
   "metadata": {},
   "source": [
    "## find unique values in a column"
   ]
  },
  {
   "cell_type": "code",
   "execution_count": null,
   "id": "f954b289",
   "metadata": {},
   "outputs": [],
   "source": [
    "unique(COVID$state)"
   ]
  },
  {
   "cell_type": "code",
   "execution_count": null,
   "id": "ba88ce48",
   "metadata": {},
   "outputs": [],
   "source": [
    "table(COVID$state) ## what is this function doing?"
   ]
  },
  {
   "cell_type": "code",
   "execution_count": null,
   "id": "54f526e5",
   "metadata": {},
   "outputs": [],
   "source": [
    "length(unique(COVID$state))"
   ]
  },
  {
   "cell_type": "markdown",
   "id": "999f4be3",
   "metadata": {},
   "source": [
    "#### Checking missing values"
   ]
  },
  {
   "cell_type": "code",
   "execution_count": null,
   "id": "c1935ec8",
   "metadata": {
    "scrolled": true
   },
   "outputs": [],
   "source": [
    "is.na(COVID$state)\n",
    "### logical function that will give TRUE if there is missing data,\n",
    "# ###else it will give FALSE "
   ]
  },
  {
   "cell_type": "code",
   "execution_count": null,
   "id": "3a89d87a",
   "metadata": {},
   "outputs": [],
   "source": [
    "sum(is.na(COVID$state))"
   ]
  },
  {
   "cell_type": "markdown",
   "id": "7eb5d99c",
   "metadata": {},
   "source": [
    "#### Find which column has truly missing data?"
   ]
  },
  {
   "cell_type": "code",
   "execution_count": null,
   "id": "1b630bfc",
   "metadata": {},
   "outputs": [],
   "source": [
    "?table"
   ]
  },
  {
   "cell_type": "markdown",
   "id": "acb83cc2",
   "metadata": {},
   "source": [
    "### Exporting data /saving outputs"
   ]
  },
  {
   "cell_type": "code",
   "execution_count": null,
   "id": "32d9825e",
   "metadata": {},
   "outputs": [],
   "source": [
    "table(COVID$state)"
   ]
  },
  {
   "cell_type": "code",
   "execution_count": null,
   "id": "1d27875a",
   "metadata": {
    "scrolled": true
   },
   "outputs": [],
   "source": [
    "as.data.frame(table(COVID$state)) ## we are creating a table here"
   ]
  },
  {
   "cell_type": "code",
   "execution_count": null,
   "id": "9e4d7138",
   "metadata": {},
   "outputs": [],
   "source": [
    "State_table = as.data.frame(table(COVID$state)) ## we are creating a table here\n",
    "## Dataframe in the Variable Environment\n",
    "#View(State_table)"
   ]
  },
  {
   "cell_type": "code",
   "execution_count": null,
   "id": "4538b432",
   "metadata": {},
   "outputs": [],
   "source": [
    "ls()"
   ]
  },
  {
   "cell_type": "markdown",
   "id": "0888a278",
   "metadata": {},
   "source": [
    "`write.csv` will help us save our dataframe as an excel table.  \n",
    "`write.csv(Name_of_Dataframe, 'file_location_on_your_computer/Name_of_file.csv')`  \n",
    "Here we want to save our TaxaGroupTable in \"outputs\" folder as `TaxaGroupTable.csv`.  \n",
    "**It will overwrite your previous file, and erase the old one and save the new one with the same name**  \n"
   ]
  },
  {
   "cell_type": "code",
   "execution_count": null,
   "id": "957494c4",
   "metadata": {},
   "outputs": [],
   "source": [
    "write.csv(State_table, \"State_table.csv\")"
   ]
  },
  {
   "cell_type": "markdown",
   "id": "0ed5aba9",
   "metadata": {},
   "source": [
    "Where is it saved? "
   ]
  },
  {
   "cell_type": "code",
   "execution_count": null,
   "id": "218fb6b7-e7a5-4fac-92fc-0541c3c35fa1",
   "metadata": {},
   "outputs": [],
   "source": [
    "getwd()"
   ]
  },
  {
   "cell_type": "markdown",
   "id": "835e2181",
   "metadata": {},
   "source": [
    "## Plotting GGplot"
   ]
  },
  {
   "cell_type": "code",
   "execution_count": null,
   "id": "531cc20b",
   "metadata": {},
   "outputs": [],
   "source": [
    "library(repr)\n",
    "options(repr.plot.width=6, repr.plot.height=4)"
   ]
  },
  {
   "cell_type": "markdown",
   "id": "db10d580",
   "metadata": {},
   "source": [
    "#### ggplot is package that stands for Grammer of Graphics \n",
    "One of the most popular packages for plotting in R."
   ]
  },
  {
   "cell_type": "code",
   "execution_count": null,
   "id": "e07ac404",
   "metadata": {},
   "outputs": [],
   "source": [
    "library(ggplot2)"
   ]
  },
  {
   "cell_type": "markdown",
   "id": "d2c1b7aa",
   "metadata": {},
   "source": [
    "#### lets see if we can plot the table that we generated"
   ]
  },
  {
   "cell_type": "code",
   "execution_count": null,
   "id": "d6c7dedf",
   "metadata": {},
   "outputs": [],
   "source": [
    "head(State_table)"
   ]
  },
  {
   "cell_type": "code",
   "execution_count": null,
   "id": "bf7c0ad7",
   "metadata": {},
   "outputs": [],
   "source": [
    "library(ggplot2)"
   ]
  },
  {
   "cell_type": "code",
   "execution_count": null,
   "id": "1cd0170c",
   "metadata": {},
   "outputs": [],
   "source": [
    "ggplot(State_table) ## we got our canvas to draw our plot"
   ]
  },
  {
   "cell_type": "code",
   "execution_count": null,
   "id": "d9813cd8",
   "metadata": {},
   "outputs": [],
   "source": [
    "ggplot(State_table) +\n",
    "aes(x = Var1)"
   ]
  },
  {
   "cell_type": "code",
   "execution_count": null,
   "id": "64996c4b",
   "metadata": {},
   "outputs": [],
   "source": [
    "ggplot(State_table) +\n",
    "aes(x = Var1)+\n",
    "aes(y = Freq)"
   ]
  },
  {
   "cell_type": "code",
   "execution_count": null,
   "id": "2a7639dd",
   "metadata": {},
   "outputs": [],
   "source": [
    "ggplot(State_table)+\n",
    "aes(x = Var1)+\n",
    "aes(y = Freq)+\n",
    "geom_bar(stat=\"identity\")"
   ]
  },
  {
   "cell_type": "code",
   "execution_count": null,
   "id": "fcf7319a",
   "metadata": {},
   "outputs": [],
   "source": [
    "ggplot(State_table)+\n",
    "aes(x = Var1)+\n",
    "aes(y = Freq)+\n",
    "geom_bar(stat=\"identity\")+\n",
    "coord_flip()"
   ]
  },
  {
   "cell_type": "code",
   "execution_count": null,
   "id": "d3e56d4e",
   "metadata": {},
   "outputs": [],
   "source": [
    "ggplot(State_table)+\n",
    "aes(x = Var1)+\n",
    "aes(y = Freq)+\n",
    "geom_bar(stat=\"identity\", width = 0.5,\n",
    "color = 'steelblue', fill = 'steelblue')+\n",
    "coord_flip()"
   ]
  },
  {
   "cell_type": "code",
   "execution_count": null,
   "id": "676aa004",
   "metadata": {},
   "outputs": [],
   "source": [
    "ggplot(State_table)+\n",
    "aes(x = Var1)+\n",
    "aes(y = Freq)+\n",
    "geom_bar(stat=\"identity\", width = 0.5,\n",
    "color = 'steelblue', fill = 'steelblue')+\n",
    "xlab('State')+ ylab('Number of rows in the dataset')+\n",
    "labs(title = \"Covid data description\")+\n",
    "coord_flip()"
   ]
  },
  {
   "cell_type": "markdown",
   "id": "47693ea8",
   "metadata": {},
   "source": [
    "I would like to create point plot instead?"
   ]
  },
  {
   "cell_type": "code",
   "execution_count": null,
   "id": "b784a222",
   "metadata": {},
   "outputs": [],
   "source": [
    "ggplot(State_table)+\n",
    "aes(x = Var1)+\n",
    "aes(y = Freq)+\n",
    "geom_point(stat=\"identity\", color = 'steelblue', fill = 'steelblue')+\n",
    "xlab('State')+ ylab('Number of rows in the dataset')+\n",
    "labs(title = \"Covid data description\")+\n",
    "coord_flip()"
   ]
  },
  {
   "cell_type": "code",
   "execution_count": null,
   "id": "34ff8b45",
   "metadata": {},
   "outputs": [],
   "source": [
    "ggplot(State_table)+\n",
    "aes(x = Var1)+\n",
    "aes(y = Freq)+\n",
    "geom_point(stat=\"identity\", color = 'steelblue', fill = 'steelblue')+\n",
    "xlab('State')+ ylab('Number of rows in the dataset')+\n",
    "labs(title = \"Covid data description\")+\n",
    "coord_flip()\n",
    "ggsave(\"state_points.pdf\", width = 4, height = 4)"
   ]
  },
  {
   "cell_type": "code",
   "execution_count": null,
   "id": "bccb3452",
   "metadata": {},
   "outputs": [],
   "source": [
    "getwd()"
   ]
  },
  {
   "cell_type": "markdown",
   "id": "8d7f026b",
   "metadata": {},
   "source": [
    "## Summarizing data "
   ]
  },
  {
   "cell_type": "markdown",
   "id": "76abef48",
   "metadata": {},
   "source": [
    "#### Subsetting data\n",
    "Lets say we have to explore data only for the state of California"
   ]
  },
  {
   "cell_type": "code",
   "execution_count": null,
   "id": "a0f2c946",
   "metadata": {},
   "outputs": [],
   "source": [
    "unique(COVID$state)"
   ]
  },
  {
   "cell_type": "code",
   "execution_count": null,
   "id": "877da6db",
   "metadata": {},
   "outputs": [],
   "source": [
    "CA = COVID[COVID$state == 'CA',   ]"
   ]
  },
  {
   "cell_type": "code",
   "execution_count": null,
   "id": "acff08f9-b681-4cea-a012-5dc09cd27ec8",
   "metadata": {},
   "outputs": [],
   "source": [
    "CA"
   ]
  },
  {
   "cell_type": "code",
   "execution_count": null,
   "id": "d35c94a2",
   "metadata": {},
   "outputs": [],
   "source": [
    "COVID[2,1]"
   ]
  },
  {
   "cell_type": "code",
   "execution_count": null,
   "id": "def70008",
   "metadata": {
    "scrolled": true
   },
   "outputs": [],
   "source": [
    "COVID(1,1)"
   ]
  },
  {
   "cell_type": "code",
   "execution_count": null,
   "id": "4061410d",
   "metadata": {
    "scrolled": true
   },
   "outputs": [],
   "source": [
    "COVID$state == 'CA'"
   ]
  },
  {
   "cell_type": "code",
   "execution_count": null,
   "id": "6c1f510b",
   "metadata": {
    "scrolled": true
   },
   "outputs": [],
   "source": [
    "COVID"
   ]
  },
  {
   "cell_type": "code",
   "execution_count": null,
   "id": "b4b0264b",
   "metadata": {},
   "outputs": [],
   "source": [
    "ls()"
   ]
  },
  {
   "cell_type": "code",
   "execution_count": null,
   "id": "b4150d68",
   "metadata": {},
   "outputs": [],
   "source": [
    "head(CA)"
   ]
  },
  {
   "cell_type": "markdown",
   "id": "af9b33da",
   "metadata": {},
   "source": [
    "## Use of ***dplyr*** package for summarizing variables"
   ]
  },
  {
   "cell_type": "markdown",
   "id": "baf818ae",
   "metadata": {},
   "source": [
    "We’re going to learn some of the most common dplyr functions: \n",
    "select(), filter(),\n",
    "group_by(), and summarize().\n",
    "* To select columns of a data frame, use select().\n",
    "* filter() helps you filter your data.\n",
    "* group_by() helps you aggregate your data into groups.\n",
    "* summarize() will eventually create a summary table"
   ]
  },
  {
   "cell_type": "markdown",
   "id": "1abbc8cf",
   "metadata": {},
   "source": [
    "### pipeline function\n",
    "\n",
    "pipe operator ***%>%** is Ctrl+Shift+M (Windows) or Cmd+Shift+M (Mac)."
   ]
  },
  {
   "cell_type": "markdown",
   "id": "d5c27975",
   "metadata": {},
   "source": [
    "for more details on the data check this description  \n",
    "https://covidtracking.com/data/api"
   ]
  },
  {
   "cell_type": "code",
   "execution_count": null,
   "id": "81d30553",
   "metadata": {},
   "outputs": [],
   "source": [
    "library(dplyr)"
   ]
  },
  {
   "cell_type": "code",
   "execution_count": null,
   "id": "d08ad6ea",
   "metadata": {
    "scrolled": true
   },
   "outputs": [],
   "source": [
    "COVID %>% \n",
    "select(state)"
   ]
  },
  {
   "cell_type": "code",
   "execution_count": null,
   "id": "1a8cac46",
   "metadata": {},
   "outputs": [],
   "source": [
    "typeof(state)"
   ]
  },
  {
   "cell_type": "code",
   "execution_count": null,
   "id": "d74871dc",
   "metadata": {},
   "outputs": [],
   "source": [
    "typeof(COVID$state)"
   ]
  },
  {
   "cell_type": "code",
   "execution_count": null,
   "id": "e9fb276d",
   "metadata": {
    "scrolled": true
   },
   "outputs": [],
   "source": [
    "COVID %>% \n",
    "select(state, positive, positiveIncrease) ## total cases and increase in cases every day"
   ]
  },
  {
   "cell_type": "markdown",
   "id": "1fd22a56",
   "metadata": {},
   "source": [
    "\n",
    "## How can we determine the TOTAL number of cases for each state?\n",
    "positive: represents cumulative number of cases  \n",
    "positiveIncrease: daily increase: incidence   "
   ]
  },
  {
   "cell_type": "code",
   "execution_count": null,
   "id": "fe520974",
   "metadata": {
    "scrolled": true
   },
   "outputs": [],
   "source": [
    "COVID %>% \n",
    "select(state, positive, positiveIncrease) %>% \n",
    "group_by(state) %>% \n",
    "summarise_all(list()) "
   ]
  },
  {
   "cell_type": "code",
   "execution_count": null,
   "id": "26486a3d",
   "metadata": {},
   "outputs": [],
   "source": [
    "total_cases = COVID %>% \n",
    "select(state, positive, positiveIncrease)  %>% \n",
    "group_by(state) %>% \n",
    "summarise_all(list(sum)) "
   ]
  },
  {
   "cell_type": "code",
   "execution_count": null,
   "id": "bf7caffc",
   "metadata": {
    "scrolled": true
   },
   "outputs": [],
   "source": [
    "total_cases"
   ]
  },
  {
   "cell_type": "code",
   "execution_count": null,
   "id": "3042db08",
   "metadata": {},
   "outputs": [],
   "source": [
    "ggplot(total_cases)+\n",
    "aes(x = state)+\n",
    "aes(y = positiveIncrease)+\n",
    "geom_bar(stat=\"identity\", color = 'steelblue', fill = 'steelblue')+\n",
    "xlab('State')+ ylab('Total COVID cases')+\n",
    "labs(title = \"COVID tracker data\")+\n",
    "coord_flip()\n",
    "#ggsave(\"state_points.pdf\", width = 4, height = 4)"
   ]
  },
  {
   "cell_type": "code",
   "execution_count": null,
   "id": "9b0ad0d0-ad11-4076-844a-c52b58801a6c",
   "metadata": {},
   "outputs": [],
   "source": []
  }
 ],
 "metadata": {
  "celltoolbar": "Slideshow",
  "kernelspec": {
   "display_name": "R",
   "language": "R",
   "name": "ir"
  },
  "language_info": {
   "codemirror_mode": "r",
   "file_extension": ".r",
   "mimetype": "text/x-r-source",
   "name": "R",
   "pygments_lexer": "r",
   "version": "4.4.1"
  }
 },
 "nbformat": 4,
 "nbformat_minor": 5
}
