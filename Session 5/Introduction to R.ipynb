{
  "cells": [
    {
      "cell_type": "markdown",
      "metadata": {
        "id": "view-in-github",
        "colab_type": "text"
      },
      "source": [
        "<a href=\"https://colab.research.google.com/github/EpiPandit/MPM_200/blob/main/Session%205/Introduction%20to%20R.ipynb\" target=\"_parent\"><img src=\"https://colab.research.google.com/assets/colab-badge.svg\" alt=\"Open In Colab\"/></a>"
      ]
    },
    {
      "cell_type": "markdown",
      "id": "a4a3f689",
      "metadata": {
        "id": "a4a3f689"
      },
      "source": [
        "## Lets get comfortable with R (MPVM 2025 Cohort)"
      ]
    },
    {
      "cell_type": "markdown",
      "id": "291e4b6c",
      "metadata": {
        "id": "291e4b6c"
      },
      "source": [
        "### How to install a package"
      ]
    },
    {
      "cell_type": "markdown",
      "id": "f0653624",
      "metadata": {
        "id": "f0653624"
      },
      "source": [
        "Installing a new package is required only once for your computer system.  \n",
        "You will not need to re-install the package once it is on your computer."
      ]
    },
    {
      "cell_type": "code",
      "execution_count": 1,
      "id": "62debc01",
      "metadata": {
        "id": "62debc01",
        "outputId": "04f61087-22b9-4c7a-af5e-41d535fbf1a3",
        "colab": {
          "base_uri": "https://localhost:8080/"
        }
      },
      "outputs": [
        {
          "output_type": "stream",
          "name": "stderr",
          "text": [
            "Installing package into ‘/usr/local/lib/R/site-library’\n",
            "(as ‘lib’ is unspecified)\n",
            "\n"
          ]
        }
      ],
      "source": [
        "install.packages('cowsay')"
      ]
    },
    {
      "cell_type": "markdown",
      "id": "68bea7bb",
      "metadata": {
        "id": "68bea7bb"
      },
      "source": [
        "Using a \"question mark\" or \"help(function)\" will show you the documentation page of the specific R function. It will describe exact arguments, possible options and what the function returns.It is highly advised to read the help function for every command that you use."
      ]
    },
    {
      "cell_type": "code",
      "execution_count": 2,
      "id": "095a9932",
      "metadata": {
        "id": "095a9932"
      },
      "outputs": [],
      "source": [
        "?install.packages"
      ]
    },
    {
      "cell_type": "markdown",
      "id": "1319c3aa",
      "metadata": {
        "id": "1319c3aa"
      },
      "source": [
        "## loading package in your workspace\n",
        "Once the package is installed on your computer, it is essential to \"load\" the package in your working environment. You cannot use functions withing the specific package unless you load it with following command."
      ]
    },
    {
      "cell_type": "code",
      "execution_count": 3,
      "id": "9e0b90cd",
      "metadata": {
        "id": "9e0b90cd"
      },
      "outputs": [],
      "source": [
        "library(cowsay)"
      ]
    },
    {
      "cell_type": "code",
      "execution_count": 4,
      "id": "83788898-4d05-45ee-9b7e-1ba5a438dd8c",
      "metadata": {
        "id": "83788898-4d05-45ee-9b7e-1ba5a438dd8c"
      },
      "outputs": [],
      "source": [
        "?say"
      ]
    },
    {
      "cell_type": "code",
      "execution_count": 5,
      "id": "bce1e3ca",
      "metadata": {
        "id": "bce1e3ca",
        "colab": {
          "base_uri": "https://localhost:8080/"
        },
        "outputId": "864ed9c0-b4e8-4359-935e-7ddfeaeb2cad"
      },
      "outputs": [
        {
          "output_type": "stream",
          "name": "stdout",
          "text": [
            "\n",
            " ______________ \n",
            "< Hello world! >\n",
            " -------------- \n",
            "      \\\n",
            "       \\\n",
            "\n",
            "        ^__^ \n",
            "        (oo)\\ ________ \n",
            "        (__)\\         )\\ /\\ \n",
            "             ||------w|\n",
            "             ||      ||"
          ]
        }
      ],
      "source": [
        "say()"
      ]
    },
    {
      "cell_type": "code",
      "execution_count": 6,
      "id": "d113e0a1",
      "metadata": {
        "id": "d113e0a1"
      },
      "outputs": [],
      "source": []
    },
    {
      "cell_type": "markdown",
      "id": "4344c2f2",
      "metadata": {
        "id": "4344c2f2"
      },
      "source": [
        "### Use the same command same something nice about Bats, using a Bat emoji."
      ]
    },
    {
      "cell_type": "code",
      "source": [
        "say(\"R is fun\", by = \"bat\",  what_color  = \"blue\", by_color = \"red\")"
      ],
      "metadata": {
        "colab": {
          "base_uri": "https://localhost:8080/"
        },
        "id": "96hrfefQ2z_l",
        "outputId": "6d526203-6c22-449c-f61a-51ca5aafecdf"
      },
      "id": "96hrfefQ2z_l",
      "execution_count": 7,
      "outputs": [
        {
          "output_type": "stream",
          "name": "stdout",
          "text": [
            "\u001b[34m\u001b[39m\n",
            "\u001b[34m __________ \u001b[39m\n",
            "\u001b[34m< R is fun >\u001b[39m\n",
            "\u001b[34m ---------- \u001b[39m\n",
            "\u001b[34m               \\\u001b[39m\n",
            "\u001b[34m                \\\u001b[39m\n",
            "\u001b[31m\n",
            "        __.--'\\     \\.__./     /'--.__\n",
            "    _.-'       '.__.'    '.__.'       '-._\n",
            "  .'                                      '.\n",
            " /                                          \\\n",
            "|                                            |\n",
            "|                                            |\n",
            " \\         .---.              .---.         /\n",
            "  '._    .'     '.''.    .''.'     '.    _.'\n",
            "     '-./            \\  /           \\.-'\n",
            "                      ''mrf\u001b[39m"
          ]
        }
      ]
    },
    {
      "cell_type": "markdown",
      "id": "5b5c6ba6",
      "metadata": {
        "id": "5b5c6ba6"
      },
      "source": [
        "### Manage your R working environment\n",
        "* Setting your working environment\n",
        "* Make sure you have correct folder selected on your computer as your working directory.  \n",
        "* It will be the folder from where you will read your data files and will save your outputs.\n"
      ]
    },
    {
      "cell_type": "markdown",
      "id": "6e0e6fa3",
      "metadata": {
        "id": "6e0e6fa3"
      },
      "source": [
        "#### what is your current working directory?"
      ]
    },
    {
      "cell_type": "code",
      "execution_count": 8,
      "id": "a60c27d7",
      "metadata": {
        "id": "a60c27d7",
        "outputId": "7fd51c94-b547-449e-d510-b714f8e77faf",
        "colab": {
          "base_uri": "https://localhost:8080/",
          "height": 34
        }
      },
      "outputs": [
        {
          "output_type": "display_data",
          "data": {
            "text/html": [
              "'/content'"
            ],
            "text/markdown": "'/content'",
            "text/latex": "'/content'",
            "text/plain": [
              "[1] \"/content\""
            ]
          },
          "metadata": {}
        }
      ],
      "source": [
        "getwd() #the current working directory"
      ]
    },
    {
      "cell_type": "markdown",
      "id": "5026a794",
      "metadata": {
        "id": "5026a794"
      },
      "source": [
        "#### change it appropriate working directory"
      ]
    },
    {
      "cell_type": "code",
      "execution_count": null,
      "id": "c1f425bb",
      "metadata": {
        "id": "c1f425bb"
      },
      "outputs": [],
      "source": [
        "setwd('C:/Users/prana/Desktop/directory/Applied-Veterinary-Population-Statistics/Week 1/Code notebooks/data')"
      ]
    },
    {
      "cell_type": "code",
      "execution_count": 9,
      "id": "a15f4530-9a14-414f-a3d7-08865d9174f4",
      "metadata": {
        "id": "a15f4530-9a14-414f-a3d7-08865d9174f4",
        "outputId": "bc7c0d61-ac3e-41f8-9472-05bf2e92232b",
        "colab": {
          "base_uri": "https://localhost:8080/",
          "height": 34
        }
      },
      "outputs": [
        {
          "output_type": "display_data",
          "data": {
            "text/html": [
              "'/content'"
            ],
            "text/markdown": "'/content'",
            "text/latex": "'/content'",
            "text/plain": [
              "[1] \"/content\""
            ]
          },
          "metadata": {}
        }
      ],
      "source": [
        "getwd()"
      ]
    },
    {
      "cell_type": "markdown",
      "id": "40e3e75b",
      "metadata": {
        "id": "40e3e75b"
      },
      "source": [
        "#### will list all of the variables and functions stored in the global environment (your working R session):"
      ]
    },
    {
      "cell_type": "code",
      "execution_count": 10,
      "id": "f9717350",
      "metadata": {
        "id": "f9717350",
        "outputId": "bb684ef6-540e-4367-e769-01c81866fadd",
        "colab": {
          "base_uri": "https://localhost:8080/",
          "height": 17
        }
      },
      "outputs": [
        {
          "output_type": "display_data",
          "data": {
            "text/html": [],
            "text/markdown": "",
            "text/latex": "",
            "text/plain": [
              "character(0)"
            ]
          },
          "metadata": {}
        }
      ],
      "source": [
        "ls()"
      ]
    },
    {
      "cell_type": "markdown",
      "id": "36469111",
      "metadata": {
        "id": "36469111"
      },
      "source": [
        "#### I have nothing right now"
      ]
    },
    {
      "cell_type": "code",
      "execution_count": 11,
      "id": "9b3077f8",
      "metadata": {
        "id": "9b3077f8"
      },
      "outputs": [],
      "source": [
        "a = 2"
      ]
    },
    {
      "cell_type": "code",
      "execution_count": 12,
      "id": "06488480",
      "metadata": {
        "id": "06488480",
        "outputId": "93890e85-2bca-4238-b47a-308997939016",
        "colab": {
          "base_uri": "https://localhost:8080/",
          "height": 34
        }
      },
      "outputs": [
        {
          "output_type": "display_data",
          "data": {
            "text/html": [
              "'a'"
            ],
            "text/markdown": "'a'",
            "text/latex": "'a'",
            "text/plain": [
              "[1] \"a\""
            ]
          },
          "metadata": {}
        }
      ],
      "source": [
        "ls()"
      ]
    },
    {
      "cell_type": "markdown",
      "id": "66ee6a6f",
      "metadata": {
        "id": "66ee6a6f"
      },
      "source": [
        "If you want to delete all objects in your environment you can use following command"
      ]
    },
    {
      "cell_type": "code",
      "execution_count": 13,
      "id": "400c7f3d",
      "metadata": {
        "id": "400c7f3d"
      },
      "outputs": [],
      "source": [
        "rm(list = ls())"
      ]
    },
    {
      "cell_type": "code",
      "execution_count": 14,
      "id": "8d9cddc0",
      "metadata": {
        "id": "8d9cddc0",
        "outputId": "6231f3ce-e6cf-4f8c-c4f5-ff3027e0d28a",
        "colab": {
          "base_uri": "https://localhost:8080/",
          "height": 17
        }
      },
      "outputs": [
        {
          "output_type": "display_data",
          "data": {
            "text/html": [],
            "text/markdown": "",
            "text/latex": "",
            "text/plain": [
              "character(0)"
            ]
          },
          "metadata": {}
        }
      ],
      "source": [
        "ls()"
      ]
    },
    {
      "cell_type": "markdown",
      "id": "15512fa1",
      "metadata": {
        "id": "15512fa1"
      },
      "source": [
        "## Key R packages that we will use to explore the data\n",
        "\n",
        "* Tidyverse: is a collection of packages that share the same philisophy of data management and visualization\n",
        "* ggplot2: Grammer of Graphics\n",
        "* dplyr: Data Wrangling package: check the cheetsheet here https://www.rstudio.com/wp-content/uploads/2015/02/data-wrangling-cheatsheet.pdf"
      ]
    },
    {
      "cell_type": "code",
      "execution_count": 15,
      "id": "322054f7",
      "metadata": {
        "id": "322054f7",
        "outputId": "476c6229-44e2-4cc4-fdb1-42b6da8dfec7",
        "colab": {
          "base_uri": "https://localhost:8080/"
        }
      },
      "outputs": [
        {
          "output_type": "stream",
          "name": "stderr",
          "text": [
            "Installing package into ‘/usr/local/lib/R/site-library’\n",
            "(as ‘lib’ is unspecified)\n",
            "\n"
          ]
        }
      ],
      "source": [
        "install.packages(\"tidyverse\")# type = 'binary'"
      ]
    },
    {
      "cell_type": "markdown",
      "id": "4ea25ba4",
      "metadata": {
        "id": "4ea25ba4"
      },
      "source": [
        "#### Reading the data"
      ]
    },
    {
      "cell_type": "code",
      "execution_count": 20,
      "id": "7e95a924",
      "metadata": {
        "id": "7e95a924"
      },
      "outputs": [],
      "source": [
        "COVID = read.csv('/content/covid-tracking-data-master_COVID_Tracking_Project_2020_08_07_daily.csv')"
      ]
    },
    {
      "cell_type": "code",
      "execution_count": 21,
      "id": "9e3ee316",
      "metadata": {
        "id": "9e3ee316"
      },
      "outputs": [],
      "source": [
        "#COVID = read.csv('C:/Users/prana/Desktop/directory/MPM_200/data/covid-tracking-data-master_COVID_Tracking_Project_2020_08_07_daily.csv')"
      ]
    },
    {
      "cell_type": "code",
      "execution_count": 22,
      "id": "9e9de82b-4157-41fc-99ef-a701e56f78a1",
      "metadata": {
        "id": "9e9de82b-4157-41fc-99ef-a701e56f78a1",
        "outputId": "e997f3cc-88bf-45a6-9891-09dcfb7b89b6",
        "colab": {
          "base_uri": "https://localhost:8080/",
          "height": 34
        }
      },
      "outputs": [
        {
          "output_type": "display_data",
          "data": {
            "text/html": [
              "'COVID'"
            ],
            "text/markdown": "'COVID'",
            "text/latex": "'COVID'",
            "text/plain": [
              "[1] \"COVID\""
            ]
          },
          "metadata": {}
        }
      ],
      "source": [
        "ls()"
      ]
    },
    {
      "cell_type": "markdown",
      "id": "76fded52",
      "metadata": {
        "id": "76fded52"
      },
      "source": [
        "## Check first few lines of your dataframe"
      ]
    },
    {
      "cell_type": "code",
      "execution_count": 23,
      "id": "ad85c3f9",
      "metadata": {
        "id": "ad85c3f9",
        "outputId": "b3d13f25-44c5-474b-f874-b057b7b455d1",
        "colab": {
          "base_uri": "https://localhost:8080/",
          "height": 306
        }
      },
      "outputs": [
        {
          "output_type": "display_data",
          "data": {
            "text/html": [
              "<table class=\"dataframe\">\n",
              "<caption>A data.frame: 6 × 41</caption>\n",
              "<thead>\n",
              "\t<tr><th></th><th scope=col>date</th><th scope=col>state</th><th scope=col>positive</th><th scope=col>negative</th><th scope=col>pending</th><th scope=col>hospitalizedCurrently</th><th scope=col>hospitalizedCumulative</th><th scope=col>inIcuCurrently</th><th scope=col>inIcuCumulative</th><th scope=col>onVentilatorCurrently</th><th scope=col>⋯</th><th scope=col>posNeg</th><th scope=col>deathIncrease</th><th scope=col>hospitalizedIncrease</th><th scope=col>hash</th><th scope=col>commercialScore</th><th scope=col>negativeRegularScore</th><th scope=col>negativeScore</th><th scope=col>positiveScore</th><th scope=col>score</th><th scope=col>grade</th></tr>\n",
              "\t<tr><th></th><th scope=col>&lt;int&gt;</th><th scope=col>&lt;chr&gt;</th><th scope=col>&lt;int&gt;</th><th scope=col>&lt;int&gt;</th><th scope=col>&lt;int&gt;</th><th scope=col>&lt;int&gt;</th><th scope=col>&lt;int&gt;</th><th scope=col>&lt;int&gt;</th><th scope=col>&lt;int&gt;</th><th scope=col>&lt;int&gt;</th><th scope=col>⋯</th><th scope=col>&lt;int&gt;</th><th scope=col>&lt;int&gt;</th><th scope=col>&lt;int&gt;</th><th scope=col>&lt;chr&gt;</th><th scope=col>&lt;int&gt;</th><th scope=col>&lt;int&gt;</th><th scope=col>&lt;int&gt;</th><th scope=col>&lt;int&gt;</th><th scope=col>&lt;int&gt;</th><th scope=col>&lt;lgl&gt;</th></tr>\n",
              "</thead>\n",
              "<tbody>\n",
              "\t<tr><th scope=row>1</th><td>20200807</td><td>AK</td><td>  4288</td><td> 264563</td><td>NA</td><td>  37</td><td>   NA</td><td>  NA</td><td>  NA</td><td>  3</td><td>⋯</td><td> 268851</td><td>  0</td><td>   0</td><td>d608cee3e98d23a9e920faab4361b771c779880f</td><td>0</td><td>0</td><td>0</td><td>0</td><td>0</td><td>NA</td></tr>\n",
              "\t<tr><th scope=row>2</th><td>20200807</td><td>AL</td><td> 98301</td><td> 651115</td><td>NA</td><td>1575</td><td>11537</td><td>  NA</td><td>1219</td><td> NA</td><td>⋯</td><td> 749416</td><td> 21</td><td> 224</td><td>b180d67ecb2784ceaaaf7fef67dcee5833fadd52</td><td>0</td><td>0</td><td>0</td><td>0</td><td>0</td><td>NA</td></tr>\n",
              "\t<tr><th scope=row>3</th><td>20200807</td><td>AR</td><td> 48039</td><td> 503484</td><td>NA</td><td> 514</td><td> 3168</td><td>  NA</td><td>  NA</td><td>111</td><td>⋯</td><td> 551523</td><td>  6</td><td>  50</td><td>1e9a8ed04dc081a895e26f03a10711ce88d78be2</td><td>0</td><td>0</td><td>0</td><td>0</td><td>0</td><td>NA</td></tr>\n",
              "\t<tr><th scope=row>4</th><td>20200807</td><td>AS</td><td>     0</td><td>   1396</td><td>NA</td><td>  NA</td><td>   NA</td><td>  NA</td><td>  NA</td><td> NA</td><td>⋯</td><td>   1396</td><td>  0</td><td>   0</td><td>9395052fa25b89c3561068bed6cc6c425623bb9c</td><td>0</td><td>0</td><td>0</td><td>0</td><td>0</td><td>NA</td></tr>\n",
              "\t<tr><th scope=row>5</th><td>20200807</td><td>AZ</td><td>185053</td><td> 819792</td><td>NA</td><td>1772</td><td>19241</td><td> 565</td><td>  NA</td><td>411</td><td>⋯</td><td>1004845</td><td> 79</td><td>5173</td><td>73a278d71ae7e87e4e634538a146339f015d5531</td><td>0</td><td>0</td><td>0</td><td>0</td><td>0</td><td>NA</td></tr>\n",
              "\t<tr><th scope=row>6</th><td>20200807</td><td>CA</td><td>538416</td><td>8058466</td><td>NA</td><td>7277</td><td>   NA</td><td>1978</td><td>  NA</td><td> NA</td><td>⋯</td><td>8596882</td><td>142</td><td>   0</td><td>de76be81f6dc15ca6c65b81d94e2c5e34e4489df</td><td>0</td><td>0</td><td>0</td><td>0</td><td>0</td><td>NA</td></tr>\n",
              "</tbody>\n",
              "</table>\n"
            ],
            "text/markdown": "\nA data.frame: 6 × 41\n\n| <!--/--> | date &lt;int&gt; | state &lt;chr&gt; | positive &lt;int&gt; | negative &lt;int&gt; | pending &lt;int&gt; | hospitalizedCurrently &lt;int&gt; | hospitalizedCumulative &lt;int&gt; | inIcuCurrently &lt;int&gt; | inIcuCumulative &lt;int&gt; | onVentilatorCurrently &lt;int&gt; | ⋯ ⋯ | posNeg &lt;int&gt; | deathIncrease &lt;int&gt; | hospitalizedIncrease &lt;int&gt; | hash &lt;chr&gt; | commercialScore &lt;int&gt; | negativeRegularScore &lt;int&gt; | negativeScore &lt;int&gt; | positiveScore &lt;int&gt; | score &lt;int&gt; | grade &lt;lgl&gt; |\n|---|---|---|---|---|---|---|---|---|---|---|---|---|---|---|---|---|---|---|---|---|---|\n| 1 | 20200807 | AK |   4288 |  264563 | NA |   37 |    NA |   NA |   NA |   3 | ⋯ |  268851 |   0 |    0 | d608cee3e98d23a9e920faab4361b771c779880f | 0 | 0 | 0 | 0 | 0 | NA |\n| 2 | 20200807 | AL |  98301 |  651115 | NA | 1575 | 11537 |   NA | 1219 |  NA | ⋯ |  749416 |  21 |  224 | b180d67ecb2784ceaaaf7fef67dcee5833fadd52 | 0 | 0 | 0 | 0 | 0 | NA |\n| 3 | 20200807 | AR |  48039 |  503484 | NA |  514 |  3168 |   NA |   NA | 111 | ⋯ |  551523 |   6 |   50 | 1e9a8ed04dc081a895e26f03a10711ce88d78be2 | 0 | 0 | 0 | 0 | 0 | NA |\n| 4 | 20200807 | AS |      0 |    1396 | NA |   NA |    NA |   NA |   NA |  NA | ⋯ |    1396 |   0 |    0 | 9395052fa25b89c3561068bed6cc6c425623bb9c | 0 | 0 | 0 | 0 | 0 | NA |\n| 5 | 20200807 | AZ | 185053 |  819792 | NA | 1772 | 19241 |  565 |   NA | 411 | ⋯ | 1004845 |  79 | 5173 | 73a278d71ae7e87e4e634538a146339f015d5531 | 0 | 0 | 0 | 0 | 0 | NA |\n| 6 | 20200807 | CA | 538416 | 8058466 | NA | 7277 |    NA | 1978 |   NA |  NA | ⋯ | 8596882 | 142 |    0 | de76be81f6dc15ca6c65b81d94e2c5e34e4489df | 0 | 0 | 0 | 0 | 0 | NA |\n\n",
            "text/latex": "A data.frame: 6 × 41\n\\begin{tabular}{r|lllllllllllllllllllll}\n  & date & state & positive & negative & pending & hospitalizedCurrently & hospitalizedCumulative & inIcuCurrently & inIcuCumulative & onVentilatorCurrently & ⋯ & posNeg & deathIncrease & hospitalizedIncrease & hash & commercialScore & negativeRegularScore & negativeScore & positiveScore & score & grade\\\\\n  & <int> & <chr> & <int> & <int> & <int> & <int> & <int> & <int> & <int> & <int> & ⋯ & <int> & <int> & <int> & <chr> & <int> & <int> & <int> & <int> & <int> & <lgl>\\\\\n\\hline\n\t1 & 20200807 & AK &   4288 &  264563 & NA &   37 &    NA &   NA &   NA &   3 & ⋯ &  268851 &   0 &    0 & d608cee3e98d23a9e920faab4361b771c779880f & 0 & 0 & 0 & 0 & 0 & NA\\\\\n\t2 & 20200807 & AL &  98301 &  651115 & NA & 1575 & 11537 &   NA & 1219 &  NA & ⋯ &  749416 &  21 &  224 & b180d67ecb2784ceaaaf7fef67dcee5833fadd52 & 0 & 0 & 0 & 0 & 0 & NA\\\\\n\t3 & 20200807 & AR &  48039 &  503484 & NA &  514 &  3168 &   NA &   NA & 111 & ⋯ &  551523 &   6 &   50 & 1e9a8ed04dc081a895e26f03a10711ce88d78be2 & 0 & 0 & 0 & 0 & 0 & NA\\\\\n\t4 & 20200807 & AS &      0 &    1396 & NA &   NA &    NA &   NA &   NA &  NA & ⋯ &    1396 &   0 &    0 & 9395052fa25b89c3561068bed6cc6c425623bb9c & 0 & 0 & 0 & 0 & 0 & NA\\\\\n\t5 & 20200807 & AZ & 185053 &  819792 & NA & 1772 & 19241 &  565 &   NA & 411 & ⋯ & 1004845 &  79 & 5173 & 73a278d71ae7e87e4e634538a146339f015d5531 & 0 & 0 & 0 & 0 & 0 & NA\\\\\n\t6 & 20200807 & CA & 538416 & 8058466 & NA & 7277 &    NA & 1978 &   NA &  NA & ⋯ & 8596882 & 142 &    0 & de76be81f6dc15ca6c65b81d94e2c5e34e4489df & 0 & 0 & 0 & 0 & 0 & NA\\\\\n\\end{tabular}\n",
            "text/plain": [
              "  date     state positive negative pending hospitalizedCurrently\n",
              "1 20200807 AK      4288    264563  NA        37                 \n",
              "2 20200807 AL     98301    651115  NA      1575                 \n",
              "3 20200807 AR     48039    503484  NA       514                 \n",
              "4 20200807 AS         0      1396  NA        NA                 \n",
              "5 20200807 AZ    185053    819792  NA      1772                 \n",
              "6 20200807 CA    538416   8058466  NA      7277                 \n",
              "  hospitalizedCumulative inIcuCurrently inIcuCumulative onVentilatorCurrently ⋯\n",
              "1    NA                    NA             NA              3                   ⋯\n",
              "2 11537                    NA           1219             NA                   ⋯\n",
              "3  3168                    NA             NA            111                   ⋯\n",
              "4    NA                    NA             NA             NA                   ⋯\n",
              "5 19241                   565             NA            411                   ⋯\n",
              "6    NA                  1978             NA             NA                   ⋯\n",
              "  posNeg  deathIncrease hospitalizedIncrease\n",
              "1  268851   0              0                \n",
              "2  749416  21            224                \n",
              "3  551523   6             50                \n",
              "4    1396   0              0                \n",
              "5 1004845  79           5173                \n",
              "6 8596882 142              0                \n",
              "  hash                                     commercialScore negativeRegularScore\n",
              "1 d608cee3e98d23a9e920faab4361b771c779880f 0               0                   \n",
              "2 b180d67ecb2784ceaaaf7fef67dcee5833fadd52 0               0                   \n",
              "3 1e9a8ed04dc081a895e26f03a10711ce88d78be2 0               0                   \n",
              "4 9395052fa25b89c3561068bed6cc6c425623bb9c 0               0                   \n",
              "5 73a278d71ae7e87e4e634538a146339f015d5531 0               0                   \n",
              "6 de76be81f6dc15ca6c65b81d94e2c5e34e4489df 0               0                   \n",
              "  negativeScore positiveScore score grade\n",
              "1 0             0             0     NA   \n",
              "2 0             0             0     NA   \n",
              "3 0             0             0     NA   \n",
              "4 0             0             0     NA   \n",
              "5 0             0             0     NA   \n",
              "6 0             0             0     NA   "
            ]
          },
          "metadata": {}
        }
      ],
      "source": [
        "head(COVID)"
      ]
    },
    {
      "cell_type": "code",
      "execution_count": 26,
      "id": "f95ba5d0",
      "metadata": {
        "scrolled": true,
        "id": "f95ba5d0"
      },
      "outputs": [],
      "source": [
        "#View(COVID)"
      ]
    },
    {
      "cell_type": "markdown",
      "id": "81937fbd",
      "metadata": {
        "id": "81937fbd"
      },
      "source": [
        "* Explore the Environment section in RStudio and click on \"COVID\"\n",
        "* Explore various columns of the data-frame\n",
        "* Similar presentation as Excel Spreadshee"
      ]
    },
    {
      "cell_type": "markdown",
      "id": "049d72ea",
      "metadata": {
        "id": "049d72ea"
      },
      "source": [
        "### Exploring dataframe Stucture"
      ]
    },
    {
      "cell_type": "code",
      "execution_count": 27,
      "id": "25557d9d",
      "metadata": {
        "id": "25557d9d",
        "outputId": "faf4bb10-ffc8-42f7-b4e7-bc2562f890fd",
        "colab": {
          "base_uri": "https://localhost:8080/",
          "height": 34
        }
      },
      "outputs": [
        {
          "output_type": "display_data",
          "data": {
            "text/html": [
              "8697"
            ],
            "text/markdown": "8697",
            "text/latex": "8697",
            "text/plain": [
              "[1] 8697"
            ]
          },
          "metadata": {}
        }
      ],
      "source": [
        "nrow(COVID)"
      ]
    },
    {
      "cell_type": "code",
      "execution_count": 28,
      "id": "255139f7",
      "metadata": {
        "id": "255139f7",
        "outputId": "0e9bb7dc-bf7b-4539-ec23-0df11f2ebfcd",
        "colab": {
          "base_uri": "https://localhost:8080/",
          "height": 34
        }
      },
      "outputs": [
        {
          "output_type": "display_data",
          "data": {
            "text/html": [
              "41"
            ],
            "text/markdown": "41",
            "text/latex": "41",
            "text/plain": [
              "[1] 41"
            ]
          },
          "metadata": {}
        }
      ],
      "source": [
        "ncol(COVID)"
      ]
    },
    {
      "cell_type": "code",
      "execution_count": 29,
      "id": "5a35ed91",
      "metadata": {
        "id": "5a35ed91",
        "outputId": "9bd62474-b0a0-47cb-8b80-1e3a6eca7a12",
        "colab": {
          "base_uri": "https://localhost:8080/",
          "height": 34
        }
      },
      "outputs": [
        {
          "output_type": "display_data",
          "data": {
            "text/html": [
              "<style>\n",
              ".list-inline {list-style: none; margin:0; padding: 0}\n",
              ".list-inline>li {display: inline-block}\n",
              ".list-inline>li:not(:last-child)::after {content: \"\\00b7\"; padding: 0 .5ex}\n",
              "</style>\n",
              "<ol class=list-inline><li>8697</li><li>41</li></ol>\n"
            ],
            "text/markdown": "1. 8697\n2. 41\n\n\n",
            "text/latex": "\\begin{enumerate*}\n\\item 8697\n\\item 41\n\\end{enumerate*}\n",
            "text/plain": [
              "[1] 8697   41"
            ]
          },
          "metadata": {}
        }
      ],
      "source": [
        "dim(COVID)"
      ]
    },
    {
      "cell_type": "code",
      "execution_count": 30,
      "id": "a007166c",
      "metadata": {
        "id": "a007166c",
        "outputId": "52cce4f1-7558-45f4-a06a-ada56a473e8f",
        "colab": {
          "base_uri": "https://localhost:8080/",
          "height": 69
        }
      },
      "outputs": [
        {
          "output_type": "display_data",
          "data": {
            "text/html": [
              "<style>\n",
              ".list-inline {list-style: none; margin:0; padding: 0}\n",
              ".list-inline>li {display: inline-block}\n",
              ".list-inline>li:not(:last-child)::after {content: \"\\00b7\"; padding: 0 .5ex}\n",
              "</style>\n",
              "<ol class=list-inline><li>'date'</li><li>'state'</li><li>'positive'</li><li>'negative'</li><li>'pending'</li><li>'hospitalizedCurrently'</li><li>'hospitalizedCumulative'</li><li>'inIcuCurrently'</li><li>'inIcuCumulative'</li><li>'onVentilatorCurrently'</li><li>'onVentilatorCumulative'</li><li>'recovered'</li><li>'dataQualityGrade'</li><li>'lastUpdateEt'</li><li>'dateModified'</li><li>'checkTimeEt'</li><li>'death'</li><li>'hospitalized'</li><li>'dateChecked'</li><li>'totalTestsViral'</li><li>'positiveTestsViral'</li><li>'negativeTestsViral'</li><li>'positiveCasesViral'</li><li>'deathConfirmed'</li><li>'deathProbable'</li><li>'fips'</li><li>'positiveIncrease'</li><li>'negativeIncrease'</li><li>'total'</li><li>'totalTestResults'</li><li>'totalTestResultsIncrease'</li><li>'posNeg'</li><li>'deathIncrease'</li><li>'hospitalizedIncrease'</li><li>'hash'</li><li>'commercialScore'</li><li>'negativeRegularScore'</li><li>'negativeScore'</li><li>'positiveScore'</li><li>'score'</li><li>'grade'</li></ol>\n"
            ],
            "text/markdown": "1. 'date'\n2. 'state'\n3. 'positive'\n4. 'negative'\n5. 'pending'\n6. 'hospitalizedCurrently'\n7. 'hospitalizedCumulative'\n8. 'inIcuCurrently'\n9. 'inIcuCumulative'\n10. 'onVentilatorCurrently'\n11. 'onVentilatorCumulative'\n12. 'recovered'\n13. 'dataQualityGrade'\n14. 'lastUpdateEt'\n15. 'dateModified'\n16. 'checkTimeEt'\n17. 'death'\n18. 'hospitalized'\n19. 'dateChecked'\n20. 'totalTestsViral'\n21. 'positiveTestsViral'\n22. 'negativeTestsViral'\n23. 'positiveCasesViral'\n24. 'deathConfirmed'\n25. 'deathProbable'\n26. 'fips'\n27. 'positiveIncrease'\n28. 'negativeIncrease'\n29. 'total'\n30. 'totalTestResults'\n31. 'totalTestResultsIncrease'\n32. 'posNeg'\n33. 'deathIncrease'\n34. 'hospitalizedIncrease'\n35. 'hash'\n36. 'commercialScore'\n37. 'negativeRegularScore'\n38. 'negativeScore'\n39. 'positiveScore'\n40. 'score'\n41. 'grade'\n\n\n",
            "text/latex": "\\begin{enumerate*}\n\\item 'date'\n\\item 'state'\n\\item 'positive'\n\\item 'negative'\n\\item 'pending'\n\\item 'hospitalizedCurrently'\n\\item 'hospitalizedCumulative'\n\\item 'inIcuCurrently'\n\\item 'inIcuCumulative'\n\\item 'onVentilatorCurrently'\n\\item 'onVentilatorCumulative'\n\\item 'recovered'\n\\item 'dataQualityGrade'\n\\item 'lastUpdateEt'\n\\item 'dateModified'\n\\item 'checkTimeEt'\n\\item 'death'\n\\item 'hospitalized'\n\\item 'dateChecked'\n\\item 'totalTestsViral'\n\\item 'positiveTestsViral'\n\\item 'negativeTestsViral'\n\\item 'positiveCasesViral'\n\\item 'deathConfirmed'\n\\item 'deathProbable'\n\\item 'fips'\n\\item 'positiveIncrease'\n\\item 'negativeIncrease'\n\\item 'total'\n\\item 'totalTestResults'\n\\item 'totalTestResultsIncrease'\n\\item 'posNeg'\n\\item 'deathIncrease'\n\\item 'hospitalizedIncrease'\n\\item 'hash'\n\\item 'commercialScore'\n\\item 'negativeRegularScore'\n\\item 'negativeScore'\n\\item 'positiveScore'\n\\item 'score'\n\\item 'grade'\n\\end{enumerate*}\n",
            "text/plain": [
              " [1] \"date\"                     \"state\"                   \n",
              " [3] \"positive\"                 \"negative\"                \n",
              " [5] \"pending\"                  \"hospitalizedCurrently\"   \n",
              " [7] \"hospitalizedCumulative\"   \"inIcuCurrently\"          \n",
              " [9] \"inIcuCumulative\"          \"onVentilatorCurrently\"   \n",
              "[11] \"onVentilatorCumulative\"   \"recovered\"               \n",
              "[13] \"dataQualityGrade\"         \"lastUpdateEt\"            \n",
              "[15] \"dateModified\"             \"checkTimeEt\"             \n",
              "[17] \"death\"                    \"hospitalized\"            \n",
              "[19] \"dateChecked\"              \"totalTestsViral\"         \n",
              "[21] \"positiveTestsViral\"       \"negativeTestsViral\"      \n",
              "[23] \"positiveCasesViral\"       \"deathConfirmed\"          \n",
              "[25] \"deathProbable\"            \"fips\"                    \n",
              "[27] \"positiveIncrease\"         \"negativeIncrease\"        \n",
              "[29] \"total\"                    \"totalTestResults\"        \n",
              "[31] \"totalTestResultsIncrease\" \"posNeg\"                  \n",
              "[33] \"deathIncrease\"            \"hospitalizedIncrease\"    \n",
              "[35] \"hash\"                     \"commercialScore\"         \n",
              "[37] \"negativeRegularScore\"     \"negativeScore\"           \n",
              "[39] \"positiveScore\"            \"score\"                   \n",
              "[41] \"grade\"                   "
            ]
          },
          "metadata": {}
        }
      ],
      "source": [
        "colnames(COVID)"
      ]
    },
    {
      "cell_type": "markdown",
      "id": "6f071e4f",
      "metadata": {
        "id": "6f071e4f"
      },
      "source": [
        "#### Calling a single column from the dataframe"
      ]
    },
    {
      "cell_type": "code",
      "execution_count": 31,
      "id": "d561269d",
      "metadata": {
        "id": "d561269d",
        "outputId": "eb82a01d-0a0b-4d5e-aac1-0816c1703659",
        "colab": {
          "base_uri": "https://localhost:8080/",
          "height": 173
        }
      },
      "outputs": [
        {
          "output_type": "display_data",
          "data": {
            "text/html": [
              "<style>\n",
              ".list-inline {list-style: none; margin:0; padding: 0}\n",
              ".list-inline>li {display: inline-block}\n",
              ".list-inline>li:not(:last-child)::after {content: \"\\00b7\"; padding: 0 .5ex}\n",
              "</style>\n",
              "<ol class=list-inline><li>'AK'</li><li>'AL'</li><li>'AR'</li><li>'AS'</li><li>'AZ'</li><li>'CA'</li><li>'CO'</li><li>'CT'</li><li>'DC'</li><li>'DE'</li><li>'FL'</li><li>'GA'</li><li>'GU'</li><li>'HI'</li><li>'IA'</li><li>'ID'</li><li>'IL'</li><li>'IN'</li><li>'KS'</li><li>'KY'</li><li>'LA'</li><li>'MA'</li><li>'MD'</li><li>'ME'</li><li>'MI'</li><li>'MN'</li><li>'MO'</li><li>'MP'</li><li>'MS'</li><li>'MT'</li><li>'NC'</li><li>'ND'</li><li>'NE'</li><li>'NH'</li><li>'NJ'</li><li>'NM'</li><li>'NV'</li><li>'NY'</li><li>'OH'</li><li>'OK'</li><li>'OR'</li><li>'PA'</li><li>'PR'</li><li>'RI'</li><li>'SC'</li><li>'SD'</li><li>'TN'</li><li>'TX'</li><li>'UT'</li><li>'VA'</li><li>'VI'</li><li>'VT'</li><li>'WA'</li><li>'WI'</li><li>'WV'</li><li>'WY'</li><li>'AK'</li><li>'AL'</li><li>'AR'</li><li>'AS'</li><li>'AZ'</li><li>'CA'</li><li>'CO'</li><li>'CT'</li><li>'DC'</li><li>'DE'</li><li>'FL'</li><li>'GA'</li><li>'GU'</li><li>'HI'</li><li>'IA'</li><li>'ID'</li><li>'IL'</li><li>'IN'</li><li>'KS'</li><li>'KY'</li><li>'LA'</li><li>'MA'</li><li>'MD'</li><li>'ME'</li><li>'MI'</li><li>'MN'</li><li>'MO'</li><li>'MP'</li><li>'MS'</li><li>'MT'</li><li>'NC'</li><li>'ND'</li><li>'NE'</li><li>'NH'</li><li>'NJ'</li><li>'NM'</li><li>'NV'</li><li>'NY'</li><li>'OH'</li><li>'OK'</li><li>'OR'</li><li>'PA'</li><li>'PR'</li><li>'RI'</li><li>'SC'</li><li>'SD'</li><li>'TN'</li><li>'TX'</li><li>'UT'</li><li>'VA'</li><li>'VI'</li><li>'VT'</li><li>'WA'</li><li>'WI'</li><li>'WV'</li><li>'WY'</li><li>'AK'</li><li>'AL'</li><li>'AR'</li><li>'AS'</li><li>'AZ'</li><li>'CA'</li><li>'CO'</li><li>'CT'</li><li>'DC'</li><li>'DE'</li><li>'FL'</li><li>'GA'</li><li>'GU'</li><li>'HI'</li><li>'IA'</li><li>'ID'</li><li>'IL'</li><li>'IN'</li><li>'KS'</li><li>'KY'</li><li>'LA'</li><li>'MA'</li><li>'MD'</li><li>'ME'</li><li>'MI'</li><li>'MN'</li><li>'MO'</li><li>'MP'</li><li>'MS'</li><li>'MT'</li><li>'NC'</li><li>'ND'</li><li>'NE'</li><li>'NH'</li><li>'NJ'</li><li>'NM'</li><li>'NV'</li><li>'NY'</li><li>'OH'</li><li>'OK'</li><li>'OR'</li><li>'PA'</li><li>'PR'</li><li>'RI'</li><li>'SC'</li><li>'SD'</li><li>'TN'</li><li>'TX'</li><li>'UT'</li><li>'VA'</li><li>'VI'</li><li>'VT'</li><li>'WA'</li><li>'WI'</li><li>'WV'</li><li>'WY'</li><li>'AK'</li><li>'AL'</li><li>'AR'</li><li>'AS'</li><li>'AZ'</li><li>'CA'</li><li>'CO'</li><li>'CT'</li><li>'DC'</li><li>'DE'</li><li>'FL'</li><li>'GA'</li><li>'GU'</li><li>'HI'</li><li>'IA'</li><li>'ID'</li><li>'IL'</li><li>'IN'</li><li>'KS'</li><li>'KY'</li><li>'LA'</li><li>'MA'</li><li>'MD'</li><li>'ME'</li><li>'MI'</li><li>'MN'</li><li>'MO'</li><li>'MP'</li><li>'MS'</li><li>'MT'</li><li>'NC'</li><li>'ND'</li><li>⋯</li><li>'MO'</li><li>'MS'</li><li>'MT'</li><li>'NC'</li><li>'ND'</li><li>'NE'</li><li>'NH'</li><li>'NJ'</li><li>'NM'</li><li>'NV'</li><li>'NY'</li><li>'OH'</li><li>'OK'</li><li>'OR'</li><li>'PA'</li><li>'RI'</li><li>'SC'</li><li>'SD'</li><li>'TN'</li><li>'TX'</li><li>'UT'</li><li>'VA'</li><li>'VT'</li><li>'WA'</li><li>'WI'</li><li>'WV'</li><li>'WY'</li><li>'AK'</li><li>'AL'</li><li>'AR'</li><li>'AZ'</li><li>'CA'</li><li>'CO'</li><li>'CT'</li><li>'DC'</li><li>'DE'</li><li>'FL'</li><li>'GA'</li><li>'HI'</li><li>'IA'</li><li>'ID'</li><li>'IL'</li><li>'IN'</li><li>'KS'</li><li>'KY'</li><li>'LA'</li><li>'MD'</li><li>'ME'</li><li>'MI'</li><li>'MN'</li><li>'MO'</li><li>'MS'</li><li>'MT'</li><li>'NC'</li><li>'ND'</li><li>'NE'</li><li>'NH'</li><li>'NJ'</li><li>'NM'</li><li>'NV'</li><li>'NY'</li><li>'OH'</li><li>'OK'</li><li>'OR'</li><li>'PA'</li><li>'RI'</li><li>'SC'</li><li>'SD'</li><li>'TN'</li><li>'TX'</li><li>'UT'</li><li>'VA'</li><li>'VT'</li><li>'WA'</li><li>'WI'</li><li>'WV'</li><li>'WY'</li><li>'AK'</li><li>'AR'</li><li>'AZ'</li><li>'CA'</li><li>'CO'</li><li>'DC'</li><li>'DE'</li><li>'FL'</li><li>'GA'</li><li>'IA'</li><li>'IL'</li><li>'IN'</li><li>'KS'</li><li>'KY'</li><li>'MD'</li><li>'MI'</li><li>'MN'</li><li>'NC'</li><li>'NE'</li><li>'NH'</li><li>'NJ'</li><li>'NM'</li><li>'NV'</li><li>'NY'</li><li>'OH'</li><li>'OR'</li><li>'PA'</li><li>'RI'</li><li>'SC'</li><li>'TN'</li><li>'TX'</li><li>'VA'</li><li>'VT'</li><li>'WA'</li><li>'WI'</li><li>'WV'</li><li>'AZ'</li><li>'CA'</li><li>'CO'</li><li>'DC'</li><li>'FL'</li><li>'GA'</li><li>'IL'</li><li>'MD'</li><li>'MI'</li><li>'NC'</li><li>'NE'</li><li>'NH'</li><li>'NJ'</li><li>'NV'</li><li>'NY'</li><li>'OH'</li><li>'OR'</li><li>'RI'</li><li>'SC'</li><li>'TN'</li><li>'TX'</li><li>'VA'</li><li>'WA'</li><li>'WI'</li><li>'AZ'</li><li>'CA'</li><li>'FL'</li><li>'GA'</li><li>'IL'</li><li>'MI'</li><li>'NC'</li><li>'NH'</li><li>'NY'</li><li>'OR'</li><li>'RI'</li><li>'SC'</li><li>'TX'</li><li>'WA'</li><li>'WI'</li><li>'MI'</li><li>'RI'</li><li>'WA'</li><li>'MI'</li><li>'RI'</li><li>'WA'</li><li>'MI'</li><li>'RI'</li><li>'WA'</li><li>'WA'</li><li>'WA'</li><li>'WA'</li><li>'WA'</li><li>'WA'</li><li>'WA'</li><li>'WA'</li><li>'WA'</li><li>'WA'</li><li>'WA'</li><li>'WA'</li><li>'WA'</li><li>'WA'</li><li>'WA'</li><li>'WA'</li><li>'WA'</li><li>'WA'</li><li>'WA'</li><li>'WA'</li><li>'WA'</li><li>'WA'</li><li>'WA'</li><li>'WA'</li><li>'WA'</li><li>'WA'</li><li>'WA'</li><li>'WA'</li><li>'WA'</li><li>'WA'</li><li>'WA'</li><li>'WA'</li><li>'WA'</li><li>'WA'</li><li>'WA'</li><li>'WA'</li><li>'WA'</li><li>'WA'</li><li>'WA'</li><li>'WA'</li></ol>\n"
            ],
            "text/markdown": "1. 'AK'\n2. 'AL'\n3. 'AR'\n4. 'AS'\n5. 'AZ'\n6. 'CA'\n7. 'CO'\n8. 'CT'\n9. 'DC'\n10. 'DE'\n11. 'FL'\n12. 'GA'\n13. 'GU'\n14. 'HI'\n15. 'IA'\n16. 'ID'\n17. 'IL'\n18. 'IN'\n19. 'KS'\n20. 'KY'\n21. 'LA'\n22. 'MA'\n23. 'MD'\n24. 'ME'\n25. 'MI'\n26. 'MN'\n27. 'MO'\n28. 'MP'\n29. 'MS'\n30. 'MT'\n31. 'NC'\n32. 'ND'\n33. 'NE'\n34. 'NH'\n35. 'NJ'\n36. 'NM'\n37. 'NV'\n38. 'NY'\n39. 'OH'\n40. 'OK'\n41. 'OR'\n42. 'PA'\n43. 'PR'\n44. 'RI'\n45. 'SC'\n46. 'SD'\n47. 'TN'\n48. 'TX'\n49. 'UT'\n50. 'VA'\n51. 'VI'\n52. 'VT'\n53. 'WA'\n54. 'WI'\n55. 'WV'\n56. 'WY'\n57. 'AK'\n58. 'AL'\n59. 'AR'\n60. 'AS'\n61. 'AZ'\n62. 'CA'\n63. 'CO'\n64. 'CT'\n65. 'DC'\n66. 'DE'\n67. 'FL'\n68. 'GA'\n69. 'GU'\n70. 'HI'\n71. 'IA'\n72. 'ID'\n73. 'IL'\n74. 'IN'\n75. 'KS'\n76. 'KY'\n77. 'LA'\n78. 'MA'\n79. 'MD'\n80. 'ME'\n81. 'MI'\n82. 'MN'\n83. 'MO'\n84. 'MP'\n85. 'MS'\n86. 'MT'\n87. 'NC'\n88. 'ND'\n89. 'NE'\n90. 'NH'\n91. 'NJ'\n92. 'NM'\n93. 'NV'\n94. 'NY'\n95. 'OH'\n96. 'OK'\n97. 'OR'\n98. 'PA'\n99. 'PR'\n100. 'RI'\n101. 'SC'\n102. 'SD'\n103. 'TN'\n104. 'TX'\n105. 'UT'\n106. 'VA'\n107. 'VI'\n108. 'VT'\n109. 'WA'\n110. 'WI'\n111. 'WV'\n112. 'WY'\n113. 'AK'\n114. 'AL'\n115. 'AR'\n116. 'AS'\n117. 'AZ'\n118. 'CA'\n119. 'CO'\n120. 'CT'\n121. 'DC'\n122. 'DE'\n123. 'FL'\n124. 'GA'\n125. 'GU'\n126. 'HI'\n127. 'IA'\n128. 'ID'\n129. 'IL'\n130. 'IN'\n131. 'KS'\n132. 'KY'\n133. 'LA'\n134. 'MA'\n135. 'MD'\n136. 'ME'\n137. 'MI'\n138. 'MN'\n139. 'MO'\n140. 'MP'\n141. 'MS'\n142. 'MT'\n143. 'NC'\n144. 'ND'\n145. 'NE'\n146. 'NH'\n147. 'NJ'\n148. 'NM'\n149. 'NV'\n150. 'NY'\n151. 'OH'\n152. 'OK'\n153. 'OR'\n154. 'PA'\n155. 'PR'\n156. 'RI'\n157. 'SC'\n158. 'SD'\n159. 'TN'\n160. 'TX'\n161. 'UT'\n162. 'VA'\n163. 'VI'\n164. 'VT'\n165. 'WA'\n166. 'WI'\n167. 'WV'\n168. 'WY'\n169. 'AK'\n170. 'AL'\n171. 'AR'\n172. 'AS'\n173. 'AZ'\n174. 'CA'\n175. 'CO'\n176. 'CT'\n177. 'DC'\n178. 'DE'\n179. 'FL'\n180. 'GA'\n181. 'GU'\n182. 'HI'\n183. 'IA'\n184. 'ID'\n185. 'IL'\n186. 'IN'\n187. 'KS'\n188. 'KY'\n189. 'LA'\n190. 'MA'\n191. 'MD'\n192. 'ME'\n193. 'MI'\n194. 'MN'\n195. 'MO'\n196. 'MP'\n197. 'MS'\n198. 'MT'\n199. 'NC'\n200. 'ND'\n201. ⋯\n202. 'MO'\n203. 'MS'\n204. 'MT'\n205. 'NC'\n206. 'ND'\n207. 'NE'\n208. 'NH'\n209. 'NJ'\n210. 'NM'\n211. 'NV'\n212. 'NY'\n213. 'OH'\n214. 'OK'\n215. 'OR'\n216. 'PA'\n217. 'RI'\n218. 'SC'\n219. 'SD'\n220. 'TN'\n221. 'TX'\n222. 'UT'\n223. 'VA'\n224. 'VT'\n225. 'WA'\n226. 'WI'\n227. 'WV'\n228. 'WY'\n229. 'AK'\n230. 'AL'\n231. 'AR'\n232. 'AZ'\n233. 'CA'\n234. 'CO'\n235. 'CT'\n236. 'DC'\n237. 'DE'\n238. 'FL'\n239. 'GA'\n240. 'HI'\n241. 'IA'\n242. 'ID'\n243. 'IL'\n244. 'IN'\n245. 'KS'\n246. 'KY'\n247. 'LA'\n248. 'MD'\n249. 'ME'\n250. 'MI'\n251. 'MN'\n252. 'MO'\n253. 'MS'\n254. 'MT'\n255. 'NC'\n256. 'ND'\n257. 'NE'\n258. 'NH'\n259. 'NJ'\n260. 'NM'\n261. 'NV'\n262. 'NY'\n263. 'OH'\n264. 'OK'\n265. 'OR'\n266. 'PA'\n267. 'RI'\n268. 'SC'\n269. 'SD'\n270. 'TN'\n271. 'TX'\n272. 'UT'\n273. 'VA'\n274. 'VT'\n275. 'WA'\n276. 'WI'\n277. 'WV'\n278. 'WY'\n279. 'AK'\n280. 'AR'\n281. 'AZ'\n282. 'CA'\n283. 'CO'\n284. 'DC'\n285. 'DE'\n286. 'FL'\n287. 'GA'\n288. 'IA'\n289. 'IL'\n290. 'IN'\n291. 'KS'\n292. 'KY'\n293. 'MD'\n294. 'MI'\n295. 'MN'\n296. 'NC'\n297. 'NE'\n298. 'NH'\n299. 'NJ'\n300. 'NM'\n301. 'NV'\n302. 'NY'\n303. 'OH'\n304. 'OR'\n305. 'PA'\n306. 'RI'\n307. 'SC'\n308. 'TN'\n309. 'TX'\n310. 'VA'\n311. 'VT'\n312. 'WA'\n313. 'WI'\n314. 'WV'\n315. 'AZ'\n316. 'CA'\n317. 'CO'\n318. 'DC'\n319. 'FL'\n320. 'GA'\n321. 'IL'\n322. 'MD'\n323. 'MI'\n324. 'NC'\n325. 'NE'\n326. 'NH'\n327. 'NJ'\n328. 'NV'\n329. 'NY'\n330. 'OH'\n331. 'OR'\n332. 'RI'\n333. 'SC'\n334. 'TN'\n335. 'TX'\n336. 'VA'\n337. 'WA'\n338. 'WI'\n339. 'AZ'\n340. 'CA'\n341. 'FL'\n342. 'GA'\n343. 'IL'\n344. 'MI'\n345. 'NC'\n346. 'NH'\n347. 'NY'\n348. 'OR'\n349. 'RI'\n350. 'SC'\n351. 'TX'\n352. 'WA'\n353. 'WI'\n354. 'MI'\n355. 'RI'\n356. 'WA'\n357. 'MI'\n358. 'RI'\n359. 'WA'\n360. 'MI'\n361. 'RI'\n362. 'WA'\n363. 'WA'\n364. 'WA'\n365. 'WA'\n366. 'WA'\n367. 'WA'\n368. 'WA'\n369. 'WA'\n370. 'WA'\n371. 'WA'\n372. 'WA'\n373. 'WA'\n374. 'WA'\n375. 'WA'\n376. 'WA'\n377. 'WA'\n378. 'WA'\n379. 'WA'\n380. 'WA'\n381. 'WA'\n382. 'WA'\n383. 'WA'\n384. 'WA'\n385. 'WA'\n386. 'WA'\n387. 'WA'\n388. 'WA'\n389. 'WA'\n390. 'WA'\n391. 'WA'\n392. 'WA'\n393. 'WA'\n394. 'WA'\n395. 'WA'\n396. 'WA'\n397. 'WA'\n398. 'WA'\n399. 'WA'\n400. 'WA'\n401. 'WA'\n\n\n",
            "text/latex": "\\begin{enumerate*}\n\\item 'AK'\n\\item 'AL'\n\\item 'AR'\n\\item 'AS'\n\\item 'AZ'\n\\item 'CA'\n\\item 'CO'\n\\item 'CT'\n\\item 'DC'\n\\item 'DE'\n\\item 'FL'\n\\item 'GA'\n\\item 'GU'\n\\item 'HI'\n\\item 'IA'\n\\item 'ID'\n\\item 'IL'\n\\item 'IN'\n\\item 'KS'\n\\item 'KY'\n\\item 'LA'\n\\item 'MA'\n\\item 'MD'\n\\item 'ME'\n\\item 'MI'\n\\item 'MN'\n\\item 'MO'\n\\item 'MP'\n\\item 'MS'\n\\item 'MT'\n\\item 'NC'\n\\item 'ND'\n\\item 'NE'\n\\item 'NH'\n\\item 'NJ'\n\\item 'NM'\n\\item 'NV'\n\\item 'NY'\n\\item 'OH'\n\\item 'OK'\n\\item 'OR'\n\\item 'PA'\n\\item 'PR'\n\\item 'RI'\n\\item 'SC'\n\\item 'SD'\n\\item 'TN'\n\\item 'TX'\n\\item 'UT'\n\\item 'VA'\n\\item 'VI'\n\\item 'VT'\n\\item 'WA'\n\\item 'WI'\n\\item 'WV'\n\\item 'WY'\n\\item 'AK'\n\\item 'AL'\n\\item 'AR'\n\\item 'AS'\n\\item 'AZ'\n\\item 'CA'\n\\item 'CO'\n\\item 'CT'\n\\item 'DC'\n\\item 'DE'\n\\item 'FL'\n\\item 'GA'\n\\item 'GU'\n\\item 'HI'\n\\item 'IA'\n\\item 'ID'\n\\item 'IL'\n\\item 'IN'\n\\item 'KS'\n\\item 'KY'\n\\item 'LA'\n\\item 'MA'\n\\item 'MD'\n\\item 'ME'\n\\item 'MI'\n\\item 'MN'\n\\item 'MO'\n\\item 'MP'\n\\item 'MS'\n\\item 'MT'\n\\item 'NC'\n\\item 'ND'\n\\item 'NE'\n\\item 'NH'\n\\item 'NJ'\n\\item 'NM'\n\\item 'NV'\n\\item 'NY'\n\\item 'OH'\n\\item 'OK'\n\\item 'OR'\n\\item 'PA'\n\\item 'PR'\n\\item 'RI'\n\\item 'SC'\n\\item 'SD'\n\\item 'TN'\n\\item 'TX'\n\\item 'UT'\n\\item 'VA'\n\\item 'VI'\n\\item 'VT'\n\\item 'WA'\n\\item 'WI'\n\\item 'WV'\n\\item 'WY'\n\\item 'AK'\n\\item 'AL'\n\\item 'AR'\n\\item 'AS'\n\\item 'AZ'\n\\item 'CA'\n\\item 'CO'\n\\item 'CT'\n\\item 'DC'\n\\item 'DE'\n\\item 'FL'\n\\item 'GA'\n\\item 'GU'\n\\item 'HI'\n\\item 'IA'\n\\item 'ID'\n\\item 'IL'\n\\item 'IN'\n\\item 'KS'\n\\item 'KY'\n\\item 'LA'\n\\item 'MA'\n\\item 'MD'\n\\item 'ME'\n\\item 'MI'\n\\item 'MN'\n\\item 'MO'\n\\item 'MP'\n\\item 'MS'\n\\item 'MT'\n\\item 'NC'\n\\item 'ND'\n\\item 'NE'\n\\item 'NH'\n\\item 'NJ'\n\\item 'NM'\n\\item 'NV'\n\\item 'NY'\n\\item 'OH'\n\\item 'OK'\n\\item 'OR'\n\\item 'PA'\n\\item 'PR'\n\\item 'RI'\n\\item 'SC'\n\\item 'SD'\n\\item 'TN'\n\\item 'TX'\n\\item 'UT'\n\\item 'VA'\n\\item 'VI'\n\\item 'VT'\n\\item 'WA'\n\\item 'WI'\n\\item 'WV'\n\\item 'WY'\n\\item 'AK'\n\\item 'AL'\n\\item 'AR'\n\\item 'AS'\n\\item 'AZ'\n\\item 'CA'\n\\item 'CO'\n\\item 'CT'\n\\item 'DC'\n\\item 'DE'\n\\item 'FL'\n\\item 'GA'\n\\item 'GU'\n\\item 'HI'\n\\item 'IA'\n\\item 'ID'\n\\item 'IL'\n\\item 'IN'\n\\item 'KS'\n\\item 'KY'\n\\item 'LA'\n\\item 'MA'\n\\item 'MD'\n\\item 'ME'\n\\item 'MI'\n\\item 'MN'\n\\item 'MO'\n\\item 'MP'\n\\item 'MS'\n\\item 'MT'\n\\item 'NC'\n\\item 'ND'\n\\item ⋯\n\\item 'MO'\n\\item 'MS'\n\\item 'MT'\n\\item 'NC'\n\\item 'ND'\n\\item 'NE'\n\\item 'NH'\n\\item 'NJ'\n\\item 'NM'\n\\item 'NV'\n\\item 'NY'\n\\item 'OH'\n\\item 'OK'\n\\item 'OR'\n\\item 'PA'\n\\item 'RI'\n\\item 'SC'\n\\item 'SD'\n\\item 'TN'\n\\item 'TX'\n\\item 'UT'\n\\item 'VA'\n\\item 'VT'\n\\item 'WA'\n\\item 'WI'\n\\item 'WV'\n\\item 'WY'\n\\item 'AK'\n\\item 'AL'\n\\item 'AR'\n\\item 'AZ'\n\\item 'CA'\n\\item 'CO'\n\\item 'CT'\n\\item 'DC'\n\\item 'DE'\n\\item 'FL'\n\\item 'GA'\n\\item 'HI'\n\\item 'IA'\n\\item 'ID'\n\\item 'IL'\n\\item 'IN'\n\\item 'KS'\n\\item 'KY'\n\\item 'LA'\n\\item 'MD'\n\\item 'ME'\n\\item 'MI'\n\\item 'MN'\n\\item 'MO'\n\\item 'MS'\n\\item 'MT'\n\\item 'NC'\n\\item 'ND'\n\\item 'NE'\n\\item 'NH'\n\\item 'NJ'\n\\item 'NM'\n\\item 'NV'\n\\item 'NY'\n\\item 'OH'\n\\item 'OK'\n\\item 'OR'\n\\item 'PA'\n\\item 'RI'\n\\item 'SC'\n\\item 'SD'\n\\item 'TN'\n\\item 'TX'\n\\item 'UT'\n\\item 'VA'\n\\item 'VT'\n\\item 'WA'\n\\item 'WI'\n\\item 'WV'\n\\item 'WY'\n\\item 'AK'\n\\item 'AR'\n\\item 'AZ'\n\\item 'CA'\n\\item 'CO'\n\\item 'DC'\n\\item 'DE'\n\\item 'FL'\n\\item 'GA'\n\\item 'IA'\n\\item 'IL'\n\\item 'IN'\n\\item 'KS'\n\\item 'KY'\n\\item 'MD'\n\\item 'MI'\n\\item 'MN'\n\\item 'NC'\n\\item 'NE'\n\\item 'NH'\n\\item 'NJ'\n\\item 'NM'\n\\item 'NV'\n\\item 'NY'\n\\item 'OH'\n\\item 'OR'\n\\item 'PA'\n\\item 'RI'\n\\item 'SC'\n\\item 'TN'\n\\item 'TX'\n\\item 'VA'\n\\item 'VT'\n\\item 'WA'\n\\item 'WI'\n\\item 'WV'\n\\item 'AZ'\n\\item 'CA'\n\\item 'CO'\n\\item 'DC'\n\\item 'FL'\n\\item 'GA'\n\\item 'IL'\n\\item 'MD'\n\\item 'MI'\n\\item 'NC'\n\\item 'NE'\n\\item 'NH'\n\\item 'NJ'\n\\item 'NV'\n\\item 'NY'\n\\item 'OH'\n\\item 'OR'\n\\item 'RI'\n\\item 'SC'\n\\item 'TN'\n\\item 'TX'\n\\item 'VA'\n\\item 'WA'\n\\item 'WI'\n\\item 'AZ'\n\\item 'CA'\n\\item 'FL'\n\\item 'GA'\n\\item 'IL'\n\\item 'MI'\n\\item 'NC'\n\\item 'NH'\n\\item 'NY'\n\\item 'OR'\n\\item 'RI'\n\\item 'SC'\n\\item 'TX'\n\\item 'WA'\n\\item 'WI'\n\\item 'MI'\n\\item 'RI'\n\\item 'WA'\n\\item 'MI'\n\\item 'RI'\n\\item 'WA'\n\\item 'MI'\n\\item 'RI'\n\\item 'WA'\n\\item 'WA'\n\\item 'WA'\n\\item 'WA'\n\\item 'WA'\n\\item 'WA'\n\\item 'WA'\n\\item 'WA'\n\\item 'WA'\n\\item 'WA'\n\\item 'WA'\n\\item 'WA'\n\\item 'WA'\n\\item 'WA'\n\\item 'WA'\n\\item 'WA'\n\\item 'WA'\n\\item 'WA'\n\\item 'WA'\n\\item 'WA'\n\\item 'WA'\n\\item 'WA'\n\\item 'WA'\n\\item 'WA'\n\\item 'WA'\n\\item 'WA'\n\\item 'WA'\n\\item 'WA'\n\\item 'WA'\n\\item 'WA'\n\\item 'WA'\n\\item 'WA'\n\\item 'WA'\n\\item 'WA'\n\\item 'WA'\n\\item 'WA'\n\\item 'WA'\n\\item 'WA'\n\\item 'WA'\n\\item 'WA'\n\\end{enumerate*}\n",
            "text/plain": [
              "   [1] \"AK\" \"AL\" \"AR\" \"AS\" \"AZ\" \"CA\" \"CO\" \"CT\" \"DC\" \"DE\" \"FL\" \"GA\" \"GU\" \"HI\"\n",
              "  [15] \"IA\" \"ID\" \"IL\" \"IN\" \"KS\" \"KY\" \"LA\" \"MA\" \"MD\" \"ME\" \"MI\" \"MN\" \"MO\" \"MP\"\n",
              "  [29] \"MS\" \"MT\" \"NC\" \"ND\" \"NE\" \"NH\" \"NJ\" \"NM\" \"NV\" \"NY\" \"OH\" \"OK\" \"OR\" \"PA\"\n",
              "  [43] \"PR\" \"RI\" \"SC\" \"SD\" \"TN\" \"TX\" \"UT\" \"VA\" \"VI\" \"VT\" \"WA\" \"WI\" \"WV\" \"WY\"\n",
              "  [57] \"AK\" \"AL\" \"AR\" \"AS\" \"AZ\" \"CA\" \"CO\" \"CT\" \"DC\" \"DE\" \"FL\" \"GA\" \"GU\" \"HI\"\n",
              "  [71] \"IA\" \"ID\" \"IL\" \"IN\" \"KS\" \"KY\" \"LA\" \"MA\" \"MD\" \"ME\" \"MI\" \"MN\" \"MO\" \"MP\"\n",
              "  [85] \"MS\" \"MT\" \"NC\" \"ND\" \"NE\" \"NH\" \"NJ\" \"NM\" \"NV\" \"NY\" \"OH\" \"OK\" \"OR\" \"PA\"\n",
              "  [99] \"PR\" \"RI\" \"SC\" \"SD\" \"TN\" \"TX\" \"UT\" \"VA\" \"VI\" \"VT\" \"WA\" \"WI\" \"WV\" \"WY\"\n",
              " [113] \"AK\" \"AL\" \"AR\" \"AS\" \"AZ\" \"CA\" \"CO\" \"CT\" \"DC\" \"DE\" \"FL\" \"GA\" \"GU\" \"HI\"\n",
              " [127] \"IA\" \"ID\" \"IL\" \"IN\" \"KS\" \"KY\" \"LA\" \"MA\" \"MD\" \"ME\" \"MI\" \"MN\" \"MO\" \"MP\"\n",
              " [141] \"MS\" \"MT\" \"NC\" \"ND\" \"NE\" \"NH\" \"NJ\" \"NM\" \"NV\" \"NY\" \"OH\" \"OK\" \"OR\" \"PA\"\n",
              " [155] \"PR\" \"RI\" \"SC\" \"SD\" \"TN\" \"TX\" \"UT\" \"VA\" \"VI\" \"VT\" \"WA\" \"WI\" \"WV\" \"WY\"\n",
              " [169] \"AK\" \"AL\" \"AR\" \"AS\" \"AZ\" \"CA\" \"CO\" \"CT\" \"DC\" \"DE\" \"FL\" \"GA\" \"GU\" \"HI\"\n",
              " [183] \"IA\" \"ID\" \"IL\" \"IN\" \"KS\" \"KY\" \"LA\" \"MA\" \"MD\" \"ME\" \"MI\" \"MN\" \"MO\" \"MP\"\n",
              " [197] \"MS\" \"MT\" \"NC\" \"ND\" \"NE\" \"NH\" \"NJ\" \"NM\" \"NV\" \"NY\" \"OH\" \"OK\" \"OR\" \"PA\"\n",
              " [211] \"PR\" \"RI\" \"SC\" \"SD\" \"TN\" \"TX\" \"UT\" \"VA\" \"VI\" \"VT\" \"WA\" \"WI\" \"WV\" \"WY\"\n",
              " [225] \"AK\" \"AL\" \"AR\" \"AS\" \"AZ\" \"CA\" \"CO\" \"CT\" \"DC\" \"DE\" \"FL\" \"GA\" \"GU\" \"HI\"\n",
              " [239] \"IA\" \"ID\" \"IL\" \"IN\" \"KS\" \"KY\" \"LA\" \"MA\" \"MD\" \"ME\" \"MI\" \"MN\" \"MO\" \"MP\"\n",
              " [253] \"MS\" \"MT\" \"NC\" \"ND\" \"NE\" \"NH\" \"NJ\" \"NM\" \"NV\" \"NY\" \"OH\" \"OK\" \"OR\" \"PA\"\n",
              " [267] \"PR\" \"RI\" \"SC\" \"SD\" \"TN\" \"TX\" \"UT\" \"VA\" \"VI\" \"VT\" \"WA\" \"WI\" \"WV\" \"WY\"\n",
              " [281] \"AK\" \"AL\" \"AR\" \"AS\" \"AZ\" \"CA\" \"CO\" \"CT\" \"DC\" \"DE\" \"FL\" \"GA\" \"GU\" \"HI\"\n",
              " [295] \"IA\" \"ID\" \"IL\" \"IN\" \"KS\" \"KY\" \"LA\" \"MA\" \"MD\" \"ME\" \"MI\" \"MN\" \"MO\" \"MP\"\n",
              " [309] \"MS\" \"MT\" \"NC\" \"ND\" \"NE\" \"NH\" \"NJ\" \"NM\" \"NV\" \"NY\" \"OH\" \"OK\" \"OR\" \"PA\"\n",
              " [323] \"PR\" \"RI\" \"SC\" \"SD\" \"TN\" \"TX\" \"UT\" \"VA\" \"VI\" \"VT\" \"WA\" \"WI\" \"WV\" \"WY\"\n",
              " [337] \"AK\" \"AL\" \"AR\" \"AS\" \"AZ\" \"CA\" \"CO\" \"CT\" \"DC\" \"DE\" \"FL\" \"GA\" \"GU\" \"HI\"\n",
              " [351] \"IA\" \"ID\" \"IL\" \"IN\" \"KS\" \"KY\" \"LA\" \"MA\" \"MD\" \"ME\" \"MI\" \"MN\" \"MO\" \"MP\"\n",
              " [365] \"MS\" \"MT\" \"NC\" \"ND\" \"NE\" \"NH\" \"NJ\" \"NM\" \"NV\" \"NY\" \"OH\" \"OK\" \"OR\" \"PA\"\n",
              " [379] \"PR\" \"RI\" \"SC\" \"SD\" \"TN\" \"TX\" \"UT\" \"VA\" \"VI\" \"VT\" \"WA\" \"WI\" \"WV\" \"WY\"\n",
              " [393] \"AK\" \"AL\" \"AR\" \"AS\" \"AZ\" \"CA\" \"CO\" \"CT\" \"DC\" \"DE\" \"FL\" \"GA\" \"GU\" \"HI\"\n",
              " [407] \"IA\" \"ID\" \"IL\" \"IN\" \"KS\" \"KY\" \"LA\" \"MA\" \"MD\" \"ME\" \"MI\" \"MN\" \"MO\" \"MP\"\n",
              " [421] \"MS\" \"MT\" \"NC\" \"ND\" \"NE\" \"NH\" \"NJ\" \"NM\" \"NV\" \"NY\" \"OH\" \"OK\" \"OR\" \"PA\"\n",
              " [435] \"PR\" \"RI\" \"SC\" \"SD\" \"TN\" \"TX\" \"UT\" \"VA\" \"VI\" \"VT\" \"WA\" \"WI\" \"WV\" \"WY\"\n",
              " [449] \"AK\" \"AL\" \"AR\" \"AS\" \"AZ\" \"CA\" \"CO\" \"CT\" \"DC\" \"DE\" \"FL\" \"GA\" \"GU\" \"HI\"\n",
              " [463] \"IA\" \"ID\" \"IL\" \"IN\" \"KS\" \"KY\" \"LA\" \"MA\" \"MD\" \"ME\" \"MI\" \"MN\" \"MO\" \"MP\"\n",
              " [477] \"MS\" \"MT\" \"NC\" \"ND\" \"NE\" \"NH\" \"NJ\" \"NM\" \"NV\" \"NY\" \"OH\" \"OK\" \"OR\" \"PA\"\n",
              " [491] \"PR\" \"RI\" \"SC\" \"SD\" \"TN\" \"TX\" \"UT\" \"VA\" \"VI\" \"VT\" \"WA\" \"WI\" \"WV\" \"WY\"\n",
              " [505] \"AK\" \"AL\" \"AR\" \"AS\" \"AZ\" \"CA\" \"CO\" \"CT\" \"DC\" \"DE\" \"FL\" \"GA\" \"GU\" \"HI\"\n",
              " [519] \"IA\" \"ID\" \"IL\" \"IN\" \"KS\" \"KY\" \"LA\" \"MA\" \"MD\" \"ME\" \"MI\" \"MN\" \"MO\" \"MP\"\n",
              " [533] \"MS\" \"MT\" \"NC\" \"ND\" \"NE\" \"NH\" \"NJ\" \"NM\" \"NV\" \"NY\" \"OH\" \"OK\" \"OR\" \"PA\"\n",
              " [547] \"PR\" \"RI\" \"SC\" \"SD\" \"TN\" \"TX\" \"UT\" \"VA\" \"VI\" \"VT\" \"WA\" \"WI\" \"WV\" \"WY\"\n",
              " [561] \"AK\" \"AL\" \"AR\" \"AS\" \"AZ\" \"CA\" \"CO\" \"CT\" \"DC\" \"DE\" \"FL\" \"GA\" \"GU\" \"HI\"\n",
              " [575] \"IA\" \"ID\" \"IL\" \"IN\" \"KS\" \"KY\" \"LA\" \"MA\" \"MD\" \"ME\" \"MI\" \"MN\" \"MO\" \"MP\"\n",
              " [589] \"MS\" \"MT\" \"NC\" \"ND\" \"NE\" \"NH\" \"NJ\" \"NM\" \"NV\" \"NY\" \"OH\" \"OK\" \"OR\" \"PA\"\n",
              " [603] \"PR\" \"RI\" \"SC\" \"SD\" \"TN\" \"TX\" \"UT\" \"VA\" \"VI\" \"VT\" \"WA\" \"WI\" \"WV\" \"WY\"\n",
              " [617] \"AK\" \"AL\" \"AR\" \"AS\" \"AZ\" \"CA\" \"CO\" \"CT\" \"DC\" \"DE\" \"FL\" \"GA\" \"GU\" \"HI\"\n",
              " [631] \"IA\" \"ID\" \"IL\" \"IN\" \"KS\" \"KY\" \"LA\" \"MA\" \"MD\" \"ME\" \"MI\" \"MN\" \"MO\" \"MP\"\n",
              " [645] \"MS\" \"MT\" \"NC\" \"ND\" \"NE\" \"NH\" \"NJ\" \"NM\" \"NV\" \"NY\" \"OH\" \"OK\" \"OR\" \"PA\"\n",
              " [659] \"PR\" \"RI\" \"SC\" \"SD\" \"TN\" \"TX\" \"UT\" \"VA\" \"VI\" \"VT\" \"WA\" \"WI\" \"WV\" \"WY\"\n",
              " [673] \"AK\" \"AL\" \"AR\" \"AS\" \"AZ\" \"CA\" \"CO\" \"CT\" \"DC\" \"DE\" \"FL\" \"GA\" \"GU\" \"HI\"\n",
              " [687] \"IA\" \"ID\" \"IL\" \"IN\" \"KS\" \"KY\" \"LA\" \"MA\" \"MD\" \"ME\" \"MI\" \"MN\" \"MO\" \"MP\"\n",
              " [701] \"MS\" \"MT\" \"NC\" \"ND\" \"NE\" \"NH\" \"NJ\" \"NM\" \"NV\" \"NY\" \"OH\" \"OK\" \"OR\" \"PA\"\n",
              " [715] \"PR\" \"RI\" \"SC\" \"SD\" \"TN\" \"TX\" \"UT\" \"VA\" \"VI\" \"VT\" \"WA\" \"WI\" \"WV\" \"WY\"\n",
              " [729] \"AK\" \"AL\" \"AR\" \"AS\" \"AZ\" \"CA\" \"CO\" \"CT\" \"DC\" \"DE\" \"FL\" \"GA\" \"GU\" \"HI\"\n",
              " [743] \"IA\" \"ID\" \"IL\" \"IN\" \"KS\" \"KY\" \"LA\" \"MA\" \"MD\" \"ME\" \"MI\" \"MN\" \"MO\" \"MP\"\n",
              " [757] \"MS\" \"MT\" \"NC\" \"ND\" \"NE\" \"NH\" \"NJ\" \"NM\" \"NV\" \"NY\" \"OH\" \"OK\" \"OR\" \"PA\"\n",
              " [771] \"PR\" \"RI\" \"SC\" \"SD\" \"TN\" \"TX\" \"UT\" \"VA\" \"VI\" \"VT\" \"WA\" \"WI\" \"WV\" \"WY\"\n",
              " [785] \"AK\" \"AL\" \"AR\" \"AS\" \"AZ\" \"CA\" \"CO\" \"CT\" \"DC\" \"DE\" \"FL\" \"GA\" \"GU\" \"HI\"\n",
              " [799] \"IA\" \"ID\" \"IL\" \"IN\" \"KS\" \"KY\" \"LA\" \"MA\" \"MD\" \"ME\" \"MI\" \"MN\" \"MO\" \"MP\"\n",
              " [813] \"MS\" \"MT\" \"NC\" \"ND\" \"NE\" \"NH\" \"NJ\" \"NM\" \"NV\" \"NY\" \"OH\" \"OK\" \"OR\" \"PA\"\n",
              " [827] \"PR\" \"RI\" \"SC\" \"SD\" \"TN\" \"TX\" \"UT\" \"VA\" \"VI\" \"VT\" \"WA\" \"WI\" \"WV\" \"WY\"\n",
              " [841] \"AK\" \"AL\" \"AR\" \"AS\" \"AZ\" \"CA\" \"CO\" \"CT\" \"DC\" \"DE\" \"FL\" \"GA\" \"GU\" \"HI\"\n",
              " [855] \"IA\" \"ID\" \"IL\" \"IN\" \"KS\" \"KY\" \"LA\" \"MA\" \"MD\" \"ME\" \"MI\" \"MN\" \"MO\" \"MP\"\n",
              " [869] \"MS\" \"MT\" \"NC\" \"ND\" \"NE\" \"NH\" \"NJ\" \"NM\" \"NV\" \"NY\" \"OH\" \"OK\" \"OR\" \"PA\"\n",
              " [883] \"PR\" \"RI\" \"SC\" \"SD\" \"TN\" \"TX\" \"UT\" \"VA\" \"VI\" \"VT\" \"WA\" \"WI\" \"WV\" \"WY\"\n",
              " [897] \"AK\" \"AL\" \"AR\" \"AS\" \"AZ\" \"CA\" \"CO\" \"CT\" \"DC\" \"DE\" \"FL\" \"GA\" \"GU\" \"HI\"\n",
              " [911] \"IA\" \"ID\" \"IL\" \"IN\" \"KS\" \"KY\" \"LA\" \"MA\" \"MD\" \"ME\" \"MI\" \"MN\" \"MO\" \"MP\"\n",
              " [925] \"MS\" \"MT\" \"NC\" \"ND\" \"NE\" \"NH\" \"NJ\" \"NM\" \"NV\" \"NY\" \"OH\" \"OK\" \"OR\" \"PA\"\n",
              " [939] \"PR\" \"RI\" \"SC\" \"SD\" \"TN\" \"TX\" \"UT\" \"VA\" \"VI\" \"VT\" \"WA\" \"WI\" \"WV\" \"WY\"\n",
              " [953] \"AK\" \"AL\" \"AR\" \"AS\" \"AZ\" \"CA\" \"CO\" \"CT\" \"DC\" \"DE\" \"FL\" \"GA\" \"GU\" \"HI\"\n",
              " [967] \"IA\" \"ID\" \"IL\" \"IN\" \"KS\" \"KY\" \"LA\" \"MA\" \"MD\" \"ME\" \"MI\" \"MN\" \"MO\" \"MP\"\n",
              " [981] \"MS\" \"MT\" \"NC\" \"ND\" \"NE\" \"NH\" \"NJ\" \"NM\" \"NV\" \"NY\" \"OH\" \"OK\" \"OR\" \"PA\"\n",
              " [995] \"PR\" \"RI\" \"SC\" \"SD\" \"TN\" \"TX\" \"UT\" \"VA\" \"VI\" \"VT\" \"WA\" \"WI\" \"WV\" \"WY\"\n",
              "[1009] \"AK\" \"AL\" \"AR\" \"AS\" \"AZ\" \"CA\" \"CO\" \"CT\" \"DC\" \"DE\" \"FL\" \"GA\" \"GU\" \"HI\"\n",
              "[1023] \"IA\" \"ID\" \"IL\" \"IN\" \"KS\" \"KY\" \"LA\" \"MA\" \"MD\" \"ME\" \"MI\" \"MN\" \"MO\" \"MP\"\n",
              "[1037] \"MS\" \"MT\" \"NC\" \"ND\" \"NE\" \"NH\" \"NJ\" \"NM\" \"NV\" \"NY\" \"OH\" \"OK\" \"OR\" \"PA\"\n",
              "[1051] \"PR\" \"RI\" \"SC\" \"SD\" \"TN\" \"TX\" \"UT\" \"VA\" \"VI\" \"VT\" \"WA\" \"WI\" \"WV\" \"WY\"\n",
              "[1065] \"AK\" \"AL\" \"AR\" \"AS\" \"AZ\" \"CA\" \"CO\" \"CT\" \"DC\" \"DE\" \"FL\" \"GA\" \"GU\" \"HI\"\n",
              "[1079] \"IA\" \"ID\" \"IL\" \"IN\" \"KS\" \"KY\" \"LA\" \"MA\" \"MD\" \"ME\" \"MI\" \"MN\" \"MO\" \"MP\"\n",
              "[1093] \"MS\" \"MT\" \"NC\" \"ND\" \"NE\" \"NH\" \"NJ\" \"NM\" \"NV\" \"NY\" \"OH\" \"OK\" \"OR\" \"PA\"\n",
              "[1107] \"PR\" \"RI\" \"SC\" \"SD\" \"TN\" \"TX\" \"UT\" \"VA\" \"VI\" \"VT\" \"WA\" \"WI\" \"WV\" \"WY\"\n",
              "[1121] \"AK\" \"AL\" \"AR\" \"AS\" \"AZ\" \"CA\" \"CO\" \"CT\" \"DC\" \"DE\" \"FL\" \"GA\" \"GU\" \"HI\"\n",
              "[1135] \"IA\" \"ID\" \"IL\" \"IN\" \"KS\" \"KY\" \"LA\" \"MA\" \"MD\" \"ME\" \"MI\" \"MN\" \"MO\" \"MP\"\n",
              "[1149] \"MS\" \"MT\" \"NC\" \"ND\" \"NE\" \"NH\" \"NJ\" \"NM\" \"NV\" \"NY\" \"OH\" \"OK\" \"OR\" \"PA\"\n",
              "[1163] \"PR\" \"RI\" \"SC\" \"SD\" \"TN\" \"TX\" \"UT\" \"VA\" \"VI\" \"VT\" \"WA\" \"WI\" \"WV\" \"WY\"\n",
              "[1177] \"AK\" \"AL\" \"AR\" \"AS\" \"AZ\" \"CA\" \"CO\" \"CT\" \"DC\" \"DE\" \"FL\" \"GA\" \"GU\" \"HI\"\n",
              "[1191] \"IA\" \"ID\" \"IL\" \"IN\" \"KS\" \"KY\" \"LA\" \"MA\" \"MD\" \"ME\" \"MI\" \"MN\" \"MO\" \"MP\"\n",
              "[1205] \"MS\" \"MT\" \"NC\" \"ND\" \"NE\" \"NH\" \"NJ\" \"NM\" \"NV\" \"NY\" \"OH\" \"OK\" \"OR\" \"PA\"\n",
              "[1219] \"PR\" \"RI\" \"SC\" \"SD\" \"TN\" \"TX\" \"UT\" \"VA\" \"VI\" \"VT\" \"WA\" \"WI\" \"WV\" \"WY\"\n",
              "[1233] \"AK\" \"AL\" \"AR\" \"AS\" \"AZ\" \"CA\" \"CO\" \"CT\" \"DC\" \"DE\" \"FL\" \"GA\" \"GU\" \"HI\"\n",
              "[1247] \"IA\" \"ID\" \"IL\" \"IN\" \"KS\" \"KY\" \"LA\" \"MA\" \"MD\" \"ME\" \"MI\" \"MN\" \"MO\" \"MP\"\n",
              "[1261] \"MS\" \"MT\" \"NC\" \"ND\" \"NE\" \"NH\" \"NJ\" \"NM\" \"NV\" \"NY\" \"OH\" \"OK\" \"OR\" \"PA\"\n",
              "[1275] \"PR\" \"RI\" \"SC\" \"SD\" \"TN\" \"TX\" \"UT\" \"VA\" \"VI\" \"VT\" \"WA\" \"WI\" \"WV\" \"WY\"\n",
              "[1289] \"AK\" \"AL\" \"AR\" \"AS\" \"AZ\" \"CA\" \"CO\" \"CT\" \"DC\" \"DE\" \"FL\" \"GA\" \"GU\" \"HI\"\n",
              "[1303] \"IA\" \"ID\" \"IL\" \"IN\" \"KS\" \"KY\" \"LA\" \"MA\" \"MD\" \"ME\" \"MI\" \"MN\" \"MO\" \"MP\"\n",
              "[1317] \"MS\" \"MT\" \"NC\" \"ND\" \"NE\" \"NH\" \"NJ\" \"NM\" \"NV\" \"NY\" \"OH\" \"OK\" \"OR\" \"PA\"\n",
              "[1331] \"PR\" \"RI\" \"SC\" \"SD\" \"TN\" \"TX\" \"UT\" \"VA\" \"VI\" \"VT\" \"WA\" \"WI\" \"WV\" \"WY\"\n",
              "[1345] \"AK\" \"AL\" \"AR\" \"AS\" \"AZ\" \"CA\" \"CO\" \"CT\" \"DC\" \"DE\" \"FL\" \"GA\" \"GU\" \"HI\"\n",
              "[1359] \"IA\" \"ID\" \"IL\" \"IN\" \"KS\" \"KY\" \"LA\" \"MA\" \"MD\" \"ME\" \"MI\" \"MN\" \"MO\" \"MP\"\n",
              "[1373] \"MS\" \"MT\" \"NC\" \"ND\" \"NE\" \"NH\" \"NJ\" \"NM\" \"NV\" \"NY\" \"OH\" \"OK\" \"OR\" \"PA\"\n",
              "[1387] \"PR\" \"RI\" \"SC\" \"SD\" \"TN\" \"TX\" \"UT\" \"VA\" \"VI\" \"VT\" \"WA\" \"WI\" \"WV\" \"WY\"\n",
              "[1401] \"AK\" \"AL\" \"AR\" \"AS\" \"AZ\" \"CA\" \"CO\" \"CT\" \"DC\" \"DE\" \"FL\" \"GA\" \"GU\" \"HI\"\n",
              "[1415] \"IA\" \"ID\" \"IL\" \"IN\" \"KS\" \"KY\" \"LA\" \"MA\" \"MD\" \"ME\" \"MI\" \"MN\" \"MO\" \"MP\"\n",
              "[1429] \"MS\" \"MT\" \"NC\" \"ND\" \"NE\" \"NH\" \"NJ\" \"NM\" \"NV\" \"NY\" \"OH\" \"OK\" \"OR\" \"PA\"\n",
              "[1443] \"PR\" \"RI\" \"SC\" \"SD\" \"TN\" \"TX\" \"UT\" \"VA\" \"VI\" \"VT\" \"WA\" \"WI\" \"WV\" \"WY\"\n",
              "[1457] \"AK\" \"AL\" \"AR\" \"AS\" \"AZ\" \"CA\" \"CO\" \"CT\" \"DC\" \"DE\" \"FL\" \"GA\" \"GU\" \"HI\"\n",
              "[1471] \"IA\" \"ID\" \"IL\" \"IN\" \"KS\" \"KY\" \"LA\" \"MA\" \"MD\" \"ME\" \"MI\" \"MN\" \"MO\" \"MP\"\n",
              "[1485] \"MS\" \"MT\" \"NC\" \"ND\" \"NE\" \"NH\" \"NJ\" \"NM\" \"NV\" \"NY\" \"OH\" \"OK\" \"OR\" \"PA\"\n",
              "[1499] \"PR\" \"RI\" \"SC\" \"SD\" \"TN\" \"TX\" \"UT\" \"VA\" \"VI\" \"VT\" \"WA\" \"WI\" \"WV\" \"WY\"\n",
              "[1513] \"AK\" \"AL\" \"AR\" \"AS\" \"AZ\" \"CA\" \"CO\" \"CT\" \"DC\" \"DE\" \"FL\" \"GA\" \"GU\" \"HI\"\n",
              "[1527] \"IA\" \"ID\" \"IL\" \"IN\" \"KS\" \"KY\" \"LA\" \"MA\" \"MD\" \"ME\" \"MI\" \"MN\" \"MO\" \"MP\"\n",
              "[1541] \"MS\" \"MT\" \"NC\" \"ND\" \"NE\" \"NH\" \"NJ\" \"NM\" \"NV\" \"NY\" \"OH\" \"OK\" \"OR\" \"PA\"\n",
              "[1555] \"PR\" \"RI\" \"SC\" \"SD\" \"TN\" \"TX\" \"UT\" \"VA\" \"VI\" \"VT\" \"WA\" \"WI\" \"WV\" \"WY\"\n",
              "[1569] \"AK\" \"AL\" \"AR\" \"AS\" \"AZ\" \"CA\" \"CO\" \"CT\" \"DC\" \"DE\" \"FL\" \"GA\" \"GU\" \"HI\"\n",
              "[1583] \"IA\" \"ID\" \"IL\" \"IN\" \"KS\" \"KY\" \"LA\" \"MA\" \"MD\" \"ME\" \"MI\" \"MN\" \"MO\" \"MP\"\n",
              "[1597] \"MS\" \"MT\" \"NC\" \"ND\" \"NE\" \"NH\" \"NJ\" \"NM\" \"NV\" \"NY\" \"OH\" \"OK\" \"OR\" \"PA\"\n",
              "[1611] \"PR\" \"RI\" \"SC\" \"SD\" \"TN\" \"TX\" \"UT\" \"VA\" \"VI\" \"VT\" \"WA\" \"WI\" \"WV\" \"WY\"\n",
              "[1625] \"AK\" \"AL\" \"AR\" \"AS\" \"AZ\" \"CA\" \"CO\" \"CT\" \"DC\" \"DE\" \"FL\" \"GA\" \"GU\" \"HI\"\n",
              "[1639] \"IA\" \"ID\" \"IL\" \"IN\" \"KS\" \"KY\" \"LA\" \"MA\" \"MD\" \"ME\" \"MI\" \"MN\" \"MO\" \"MP\"\n",
              "[1653] \"MS\" \"MT\" \"NC\" \"ND\" \"NE\" \"NH\" \"NJ\" \"NM\" \"NV\" \"NY\" \"OH\" \"OK\" \"OR\" \"PA\"\n",
              "[1667] \"PR\" \"RI\" \"SC\" \"SD\" \"TN\" \"TX\" \"UT\" \"VA\" \"VI\" \"VT\" \"WA\" \"WI\" \"WV\" \"WY\"\n",
              "[1681] \"AK\" \"AL\" \"AR\" \"AS\" \"AZ\" \"CA\" \"CO\" \"CT\" \"DC\" \"DE\" \"FL\" \"GA\" \"GU\" \"HI\"\n",
              "[1695] \"IA\" \"ID\" \"IL\" \"IN\" \"KS\" \"KY\" \"LA\" \"MA\" \"MD\" \"ME\" \"MI\" \"MN\" \"MO\" \"MP\"\n",
              "[1709] \"MS\" \"MT\" \"NC\" \"ND\" \"NE\" \"NH\" \"NJ\" \"NM\" \"NV\" \"NY\" \"OH\" \"OK\" \"OR\" \"PA\"\n",
              "[1723] \"PR\" \"RI\" \"SC\" \"SD\" \"TN\" \"TX\" \"UT\" \"VA\" \"VI\" \"VT\" \"WA\" \"WI\" \"WV\" \"WY\"\n",
              "[1737] \"AK\" \"AL\" \"AR\" \"AS\" \"AZ\" \"CA\" \"CO\" \"CT\" \"DC\" \"DE\" \"FL\" \"GA\" \"GU\" \"HI\"\n",
              "[1751] \"IA\" \"ID\" \"IL\" \"IN\" \"KS\" \"KY\" \"LA\" \"MA\" \"MD\" \"ME\" \"MI\" \"MN\" \"MO\" \"MP\"\n",
              "[1765] \"MS\" \"MT\" \"NC\" \"ND\" \"NE\" \"NH\" \"NJ\" \"NM\" \"NV\" \"NY\" \"OH\" \"OK\" \"OR\" \"PA\"\n",
              "[1779] \"PR\" \"RI\" \"SC\" \"SD\" \"TN\" \"TX\" \"UT\" \"VA\" \"VI\" \"VT\" \"WA\" \"WI\" \"WV\" \"WY\"\n",
              "[1793] \"AK\" \"AL\" \"AR\" \"AS\" \"AZ\" \"CA\" \"CO\" \"CT\" \"DC\" \"DE\" \"FL\" \"GA\" \"GU\" \"HI\"\n",
              "[1807] \"IA\" \"ID\" \"IL\" \"IN\" \"KS\" \"KY\" \"LA\" \"MA\" \"MD\" \"ME\" \"MI\" \"MN\" \"MO\" \"MP\"\n",
              "[1821] \"MS\" \"MT\" \"NC\" \"ND\" \"NE\" \"NH\" \"NJ\" \"NM\" \"NV\" \"NY\" \"OH\" \"OK\" \"OR\" \"PA\"\n",
              "[1835] \"PR\" \"RI\" \"SC\" \"SD\" \"TN\" \"TX\" \"UT\" \"VA\" \"VI\" \"VT\" \"WA\" \"WI\" \"WV\" \"WY\"\n",
              "[1849] \"AK\" \"AL\" \"AR\" \"AS\" \"AZ\" \"CA\" \"CO\" \"CT\" \"DC\" \"DE\" \"FL\" \"GA\" \"GU\" \"HI\"\n",
              "[1863] \"IA\" \"ID\" \"IL\" \"IN\" \"KS\" \"KY\" \"LA\" \"MA\" \"MD\" \"ME\" \"MI\" \"MN\" \"MO\" \"MP\"\n",
              "[1877] \"MS\" \"MT\" \"NC\" \"ND\" \"NE\" \"NH\" \"NJ\" \"NM\" \"NV\" \"NY\" \"OH\" \"OK\" \"OR\" \"PA\"\n",
              "[1891] \"PR\" \"RI\" \"SC\" \"SD\" \"TN\" \"TX\" \"UT\" \"VA\" \"VI\" \"VT\" \"WA\" \"WI\" \"WV\" \"WY\"\n",
              "[1905] \"AK\" \"AL\" \"AR\" \"AS\" \"AZ\" \"CA\" \"CO\" \"CT\" \"DC\" \"DE\" \"FL\" \"GA\" \"GU\" \"HI\"\n",
              "[1919] \"IA\" \"ID\" \"IL\" \"IN\" \"KS\" \"KY\" \"LA\" \"MA\" \"MD\" \"ME\" \"MI\" \"MN\" \"MO\" \"MP\"\n",
              "[1933] \"MS\" \"MT\" \"NC\" \"ND\" \"NE\" \"NH\" \"NJ\" \"NM\" \"NV\" \"NY\" \"OH\" \"OK\" \"OR\" \"PA\"\n",
              "[1947] \"PR\" \"RI\" \"SC\" \"SD\" \"TN\" \"TX\" \"UT\" \"VA\" \"VI\" \"VT\" \"WA\" \"WI\" \"WV\" \"WY\"\n",
              "[1961] \"AK\" \"AL\" \"AR\" \"AS\" \"AZ\" \"CA\" \"CO\" \"CT\" \"DC\" \"DE\" \"FL\" \"GA\" \"GU\" \"HI\"\n",
              "[1975] \"IA\" \"ID\" \"IL\" \"IN\" \"KS\" \"KY\" \"LA\" \"MA\" \"MD\" \"ME\" \"MI\" \"MN\" \"MO\" \"MP\"\n",
              "[1989] \"MS\" \"MT\" \"NC\" \"ND\" \"NE\" \"NH\" \"NJ\" \"NM\" \"NV\" \"NY\" \"OH\" \"OK\" \"OR\" \"PA\"\n",
              "[2003] \"PR\" \"RI\" \"SC\" \"SD\" \"TN\" \"TX\" \"UT\" \"VA\" \"VI\" \"VT\" \"WA\" \"WI\" \"WV\" \"WY\"\n",
              "[2017] \"AK\" \"AL\" \"AR\" \"AS\" \"AZ\" \"CA\" \"CO\" \"CT\" \"DC\" \"DE\" \"FL\" \"GA\" \"GU\" \"HI\"\n",
              "[2031] \"IA\" \"ID\" \"IL\" \"IN\" \"KS\" \"KY\" \"LA\" \"MA\" \"MD\" \"ME\" \"MI\" \"MN\" \"MO\" \"MP\"\n",
              "[2045] \"MS\" \"MT\" \"NC\" \"ND\" \"NE\" \"NH\" \"NJ\" \"NM\" \"NV\" \"NY\" \"OH\" \"OK\" \"OR\" \"PA\"\n",
              "[2059] \"PR\" \"RI\" \"SC\" \"SD\" \"TN\" \"TX\" \"UT\" \"VA\" \"VI\" \"VT\" \"WA\" \"WI\" \"WV\" \"WY\"\n",
              "[2073] \"AK\" \"AL\" \"AR\" \"AS\" \"AZ\" \"CA\" \"CO\" \"CT\" \"DC\" \"DE\" \"FL\" \"GA\" \"GU\" \"HI\"\n",
              "[2087] \"IA\" \"ID\" \"IL\" \"IN\" \"KS\" \"KY\" \"LA\" \"MA\" \"MD\" \"ME\" \"MI\" \"MN\" \"MO\" \"MP\"\n",
              "[2101] \"MS\" \"MT\" \"NC\" \"ND\" \"NE\" \"NH\" \"NJ\" \"NM\" \"NV\" \"NY\" \"OH\" \"OK\" \"OR\" \"PA\"\n",
              "[2115] \"PR\" \"RI\" \"SC\" \"SD\" \"TN\" \"TX\" \"UT\" \"VA\" \"VI\" \"VT\" \"WA\" \"WI\" \"WV\" \"WY\"\n",
              "[2129] \"AK\" \"AL\" \"AR\" \"AS\" \"AZ\" \"CA\" \"CO\" \"CT\" \"DC\" \"DE\" \"FL\" \"GA\" \"GU\" \"HI\"\n",
              "[2143] \"IA\" \"ID\" \"IL\" \"IN\" \"KS\" \"KY\" \"LA\" \"MA\" \"MD\" \"ME\" \"MI\" \"MN\" \"MO\" \"MP\"\n",
              "[2157] \"MS\" \"MT\" \"NC\" \"ND\" \"NE\" \"NH\" \"NJ\" \"NM\" \"NV\" \"NY\" \"OH\" \"OK\" \"OR\" \"PA\"\n",
              "[2171] \"PR\" \"RI\" \"SC\" \"SD\" \"TN\" \"TX\" \"UT\" \"VA\" \"VI\" \"VT\" \"WA\" \"WI\" \"WV\" \"WY\"\n",
              "[2185] \"AK\" \"AL\" \"AR\" \"AS\" \"AZ\" \"CA\" \"CO\" \"CT\" \"DC\" \"DE\" \"FL\" \"GA\" \"GU\" \"HI\"\n",
              "[2199] \"IA\" \"ID\" \"IL\" \"IN\" \"KS\" \"KY\" \"LA\" \"MA\" \"MD\" \"ME\" \"MI\" \"MN\" \"MO\" \"MP\"\n",
              "[2213] \"MS\" \"MT\" \"NC\" \"ND\" \"NE\" \"NH\" \"NJ\" \"NM\" \"NV\" \"NY\" \"OH\" \"OK\" \"OR\" \"PA\"\n",
              "[2227] \"PR\" \"RI\" \"SC\" \"SD\" \"TN\" \"TX\" \"UT\" \"VA\" \"VI\" \"VT\" \"WA\" \"WI\" \"WV\" \"WY\"\n",
              "[2241] \"AK\" \"AL\" \"AR\" \"AS\" \"AZ\" \"CA\" \"CO\" \"CT\" \"DC\" \"DE\" \"FL\" \"GA\" \"GU\" \"HI\"\n",
              "[2255] \"IA\" \"ID\" \"IL\" \"IN\" \"KS\" \"KY\" \"LA\" \"MA\" \"MD\" \"ME\" \"MI\" \"MN\" \"MO\" \"MP\"\n",
              "[2269] \"MS\" \"MT\" \"NC\" \"ND\" \"NE\" \"NH\" \"NJ\" \"NM\" \"NV\" \"NY\" \"OH\" \"OK\" \"OR\" \"PA\"\n",
              "[2283] \"PR\" \"RI\" \"SC\" \"SD\" \"TN\" \"TX\" \"UT\" \"VA\" \"VI\" \"VT\" \"WA\" \"WI\" \"WV\" \"WY\"\n",
              "[2297] \"AK\" \"AL\" \"AR\" \"AS\" \"AZ\" \"CA\" \"CO\" \"CT\" \"DC\" \"DE\" \"FL\" \"GA\" \"GU\" \"HI\"\n",
              "[2311] \"IA\" \"ID\" \"IL\" \"IN\" \"KS\" \"KY\" \"LA\" \"MA\" \"MD\" \"ME\" \"MI\" \"MN\" \"MO\" \"MP\"\n",
              "[2325] \"MS\" \"MT\" \"NC\" \"ND\" \"NE\" \"NH\" \"NJ\" \"NM\" \"NV\" \"NY\" \"OH\" \"OK\" \"OR\" \"PA\"\n",
              "[2339] \"PR\" \"RI\" \"SC\" \"SD\" \"TN\" \"TX\" \"UT\" \"VA\" \"VI\" \"VT\" \"WA\" \"WI\" \"WV\" \"WY\"\n",
              "[2353] \"AK\" \"AL\" \"AR\" \"AS\" \"AZ\" \"CA\" \"CO\" \"CT\" \"DC\" \"DE\" \"FL\" \"GA\" \"GU\" \"HI\"\n",
              "[2367] \"IA\" \"ID\" \"IL\" \"IN\" \"KS\" \"KY\" \"LA\" \"MA\" \"MD\" \"ME\" \"MI\" \"MN\" \"MO\" \"MP\"\n",
              "[2381] \"MS\" \"MT\" \"NC\" \"ND\" \"NE\" \"NH\" \"NJ\" \"NM\" \"NV\" \"NY\" \"OH\" \"OK\" \"OR\" \"PA\"\n",
              "[2395] \"PR\" \"RI\" \"SC\" \"SD\" \"TN\" \"TX\" \"UT\" \"VA\" \"VI\" \"VT\" \"WA\" \"WI\" \"WV\" \"WY\"\n",
              "[2409] \"AK\" \"AL\" \"AR\" \"AS\" \"AZ\" \"CA\" \"CO\" \"CT\" \"DC\" \"DE\" \"FL\" \"GA\" \"GU\" \"HI\"\n",
              "[2423] \"IA\" \"ID\" \"IL\" \"IN\" \"KS\" \"KY\" \"LA\" \"MA\" \"MD\" \"ME\" \"MI\" \"MN\" \"MO\" \"MP\"\n",
              "[2437] \"MS\" \"MT\" \"NC\" \"ND\" \"NE\" \"NH\" \"NJ\" \"NM\" \"NV\" \"NY\" \"OH\" \"OK\" \"OR\" \"PA\"\n",
              "[2451] \"PR\" \"RI\" \"SC\" \"SD\" \"TN\" \"TX\" \"UT\" \"VA\" \"VI\" \"VT\" \"WA\" \"WI\" \"WV\" \"WY\"\n",
              "[2465] \"AK\" \"AL\" \"AR\" \"AS\" \"AZ\" \"CA\" \"CO\" \"CT\" \"DC\" \"DE\" \"FL\" \"GA\" \"GU\" \"HI\"\n",
              "[2479] \"IA\" \"ID\" \"IL\" \"IN\" \"KS\" \"KY\" \"LA\" \"MA\" \"MD\" \"ME\" \"MI\" \"MN\" \"MO\" \"MP\"\n",
              "[2493] \"MS\" \"MT\" \"NC\" \"ND\" \"NE\" \"NH\" \"NJ\" \"NM\" \"NV\" \"NY\" \"OH\" \"OK\" \"OR\" \"PA\"\n",
              "[2507] \"PR\" \"RI\" \"SC\" \"SD\" \"TN\" \"TX\" \"UT\" \"VA\" \"VI\" \"VT\" \"WA\" \"WI\" \"WV\" \"WY\"\n",
              "[2521] \"AK\" \"AL\" \"AR\" \"AS\" \"AZ\" \"CA\" \"CO\" \"CT\" \"DC\" \"DE\" \"FL\" \"GA\" \"GU\" \"HI\"\n",
              "[2535] \"IA\" \"ID\" \"IL\" \"IN\" \"KS\" \"KY\" \"LA\" \"MA\" \"MD\" \"ME\" \"MI\" \"MN\" \"MO\" \"MP\"\n",
              "[2549] \"MS\" \"MT\" \"NC\" \"ND\" \"NE\" \"NH\" \"NJ\" \"NM\" \"NV\" \"NY\" \"OH\" \"OK\" \"OR\" \"PA\"\n",
              "[2563] \"PR\" \"RI\" \"SC\" \"SD\" \"TN\" \"TX\" \"UT\" \"VA\" \"VI\" \"VT\" \"WA\" \"WI\" \"WV\" \"WY\"\n",
              "[2577] \"AK\" \"AL\" \"AR\" \"AS\" \"AZ\" \"CA\" \"CO\" \"CT\" \"DC\" \"DE\" \"FL\" \"GA\" \"GU\" \"HI\"\n",
              "[2591] \"IA\" \"ID\" \"IL\" \"IN\" \"KS\" \"KY\" \"LA\" \"MA\" \"MD\" \"ME\" \"MI\" \"MN\" \"MO\" \"MP\"\n",
              "[2605] \"MS\" \"MT\" \"NC\" \"ND\" \"NE\" \"NH\" \"NJ\" \"NM\" \"NV\" \"NY\" \"OH\" \"OK\" \"OR\" \"PA\"\n",
              "[2619] \"PR\" \"RI\" \"SC\" \"SD\" \"TN\" \"TX\" \"UT\" \"VA\" \"VI\" \"VT\" \"WA\" \"WI\" \"WV\" \"WY\"\n",
              "[2633] \"AK\" \"AL\" \"AR\" \"AS\" \"AZ\" \"CA\" \"CO\" \"CT\" \"DC\" \"DE\" \"FL\" \"GA\" \"GU\" \"HI\"\n",
              "[2647] \"IA\" \"ID\" \"IL\" \"IN\" \"KS\" \"KY\" \"LA\" \"MA\" \"MD\" \"ME\" \"MI\" \"MN\" \"MO\" \"MP\"\n",
              "[2661] \"MS\" \"MT\" \"NC\" \"ND\" \"NE\" \"NH\" \"NJ\" \"NM\" \"NV\" \"NY\" \"OH\" \"OK\" \"OR\" \"PA\"\n",
              "[2675] \"PR\" \"RI\" \"SC\" \"SD\" \"TN\" \"TX\" \"UT\" \"VA\" \"VI\" \"VT\" \"WA\" \"WI\" \"WV\" \"WY\"\n",
              "[2689] \"AK\" \"AL\" \"AR\" \"AS\" \"AZ\" \"CA\" \"CO\" \"CT\" \"DC\" \"DE\" \"FL\" \"GA\" \"GU\" \"HI\"\n",
              "[2703] \"IA\" \"ID\" \"IL\" \"IN\" \"KS\" \"KY\" \"LA\" \"MA\" \"MD\" \"ME\" \"MI\" \"MN\" \"MO\" \"MP\"\n",
              "[2717] \"MS\" \"MT\" \"NC\" \"ND\" \"NE\" \"NH\" \"NJ\" \"NM\" \"NV\" \"NY\" \"OH\" \"OK\" \"OR\" \"PA\"\n",
              "[2731] \"PR\" \"RI\" \"SC\" \"SD\" \"TN\" \"TX\" \"UT\" \"VA\" \"VI\" \"VT\" \"WA\" \"WI\" \"WV\" \"WY\"\n",
              "[2745] \"AK\" \"AL\" \"AR\" \"AS\" \"AZ\" \"CA\" \"CO\" \"CT\" \"DC\" \"DE\" \"FL\" \"GA\" \"GU\" \"HI\"\n",
              "[2759] \"IA\" \"ID\" \"IL\" \"IN\" \"KS\" \"KY\" \"LA\" \"MA\" \"MD\" \"ME\" \"MI\" \"MN\" \"MO\" \"MP\"\n",
              "[2773] \"MS\" \"MT\" \"NC\" \"ND\" \"NE\" \"NH\" \"NJ\" \"NM\" \"NV\" \"NY\" \"OH\" \"OK\" \"OR\" \"PA\"\n",
              "[2787] \"PR\" \"RI\" \"SC\" \"SD\" \"TN\" \"TX\" \"UT\" \"VA\" \"VI\" \"VT\" \"WA\" \"WI\" \"WV\" \"WY\"\n",
              "[2801] \"AK\" \"AL\" \"AR\" \"AS\" \"AZ\" \"CA\" \"CO\" \"CT\" \"DC\" \"DE\" \"FL\" \"GA\" \"GU\" \"HI\"\n",
              "[2815] \"IA\" \"ID\" \"IL\" \"IN\" \"KS\" \"KY\" \"LA\" \"MA\" \"MD\" \"ME\" \"MI\" \"MN\" \"MO\" \"MP\"\n",
              "[2829] \"MS\" \"MT\" \"NC\" \"ND\" \"NE\" \"NH\" \"NJ\" \"NM\" \"NV\" \"NY\" \"OH\" \"OK\" \"OR\" \"PA\"\n",
              "[2843] \"PR\" \"RI\" \"SC\" \"SD\" \"TN\" \"TX\" \"UT\" \"VA\" \"VI\" \"VT\" \"WA\" \"WI\" \"WV\" \"WY\"\n",
              "[2857] \"AK\" \"AL\" \"AR\" \"AS\" \"AZ\" \"CA\" \"CO\" \"CT\" \"DC\" \"DE\" \"FL\" \"GA\" \"GU\" \"HI\"\n",
              "[2871] \"IA\" \"ID\" \"IL\" \"IN\" \"KS\" \"KY\" \"LA\" \"MA\" \"MD\" \"ME\" \"MI\" \"MN\" \"MO\" \"MP\"\n",
              "[2885] \"MS\" \"MT\" \"NC\" \"ND\" \"NE\" \"NH\" \"NJ\" \"NM\" \"NV\" \"NY\" \"OH\" \"OK\" \"OR\" \"PA\"\n",
              "[2899] \"PR\" \"RI\" \"SC\" \"SD\" \"TN\" \"TX\" \"UT\" \"VA\" \"VI\" \"VT\" \"WA\" \"WI\" \"WV\" \"WY\"\n",
              "[2913] \"AK\" \"AL\" \"AR\" \"AS\" \"AZ\" \"CA\" \"CO\" \"CT\" \"DC\" \"DE\" \"FL\" \"GA\" \"GU\" \"HI\"\n",
              "[2927] \"IA\" \"ID\" \"IL\" \"IN\" \"KS\" \"KY\" \"LA\" \"MA\" \"MD\" \"ME\" \"MI\" \"MN\" \"MO\" \"MP\"\n",
              "[2941] \"MS\" \"MT\" \"NC\" \"ND\" \"NE\" \"NH\" \"NJ\" \"NM\" \"NV\" \"NY\" \"OH\" \"OK\" \"OR\" \"PA\"\n",
              "[2955] \"PR\" \"RI\" \"SC\" \"SD\" \"TN\" \"TX\" \"UT\" \"VA\" \"VI\" \"VT\" \"WA\" \"WI\" \"WV\" \"WY\"\n",
              "[2969] \"AK\" \"AL\" \"AR\" \"AS\" \"AZ\" \"CA\" \"CO\" \"CT\" \"DC\" \"DE\" \"FL\" \"GA\" \"GU\" \"HI\"\n",
              "[2983] \"IA\" \"ID\" \"IL\" \"IN\" \"KS\" \"KY\" \"LA\" \"MA\" \"MD\" \"ME\" \"MI\" \"MN\" \"MO\" \"MP\"\n",
              "[2997] \"MS\" \"MT\" \"NC\" \"ND\" \"NE\" \"NH\" \"NJ\" \"NM\" \"NV\" \"NY\" \"OH\" \"OK\" \"OR\" \"PA\"\n",
              "[3011] \"PR\" \"RI\" \"SC\" \"SD\" \"TN\" \"TX\" \"UT\" \"VA\" \"VI\" \"VT\" \"WA\" \"WI\" \"WV\" \"WY\"\n",
              "[3025] \"AK\" \"AL\" \"AR\" \"AS\" \"AZ\" \"CA\" \"CO\" \"CT\" \"DC\" \"DE\" \"FL\" \"GA\" \"GU\" \"HI\"\n",
              "[3039] \"IA\" \"ID\" \"IL\" \"IN\" \"KS\" \"KY\" \"LA\" \"MA\" \"MD\" \"ME\" \"MI\" \"MN\" \"MO\" \"MP\"\n",
              "[3053] \"MS\" \"MT\" \"NC\" \"ND\" \"NE\" \"NH\" \"NJ\" \"NM\" \"NV\" \"NY\" \"OH\" \"OK\" \"OR\" \"PA\"\n",
              "[3067] \"PR\" \"RI\" \"SC\" \"SD\" \"TN\" \"TX\" \"UT\" \"VA\" \"VI\" \"VT\" \"WA\" \"WI\" \"WV\" \"WY\"\n",
              "[3081] \"AK\" \"AL\" \"AR\" \"AS\" \"AZ\" \"CA\" \"CO\" \"CT\" \"DC\" \"DE\" \"FL\" \"GA\" \"GU\" \"HI\"\n",
              "[3095] \"IA\" \"ID\" \"IL\" \"IN\" \"KS\" \"KY\" \"LA\" \"MA\" \"MD\" \"ME\" \"MI\" \"MN\" \"MO\" \"MP\"\n",
              "[3109] \"MS\" \"MT\" \"NC\" \"ND\" \"NE\" \"NH\" \"NJ\" \"NM\" \"NV\" \"NY\" \"OH\" \"OK\" \"OR\" \"PA\"\n",
              "[3123] \"PR\" \"RI\" \"SC\" \"SD\" \"TN\" \"TX\" \"UT\" \"VA\" \"VI\" \"VT\" \"WA\" \"WI\" \"WV\" \"WY\"\n",
              "[3137] \"AK\" \"AL\" \"AR\" \"AS\" \"AZ\" \"CA\" \"CO\" \"CT\" \"DC\" \"DE\" \"FL\" \"GA\" \"GU\" \"HI\"\n",
              "[3151] \"IA\" \"ID\" \"IL\" \"IN\" \"KS\" \"KY\" \"LA\" \"MA\" \"MD\" \"ME\" \"MI\" \"MN\" \"MO\" \"MP\"\n",
              "[3165] \"MS\" \"MT\" \"NC\" \"ND\" \"NE\" \"NH\" \"NJ\" \"NM\" \"NV\" \"NY\" \"OH\" \"OK\" \"OR\" \"PA\"\n",
              "[3179] \"PR\" \"RI\" \"SC\" \"SD\" \"TN\" \"TX\" \"UT\" \"VA\" \"VI\" \"VT\" \"WA\" \"WI\" \"WV\" \"WY\"\n",
              "[3193] \"AK\" \"AL\" \"AR\" \"AS\" \"AZ\" \"CA\" \"CO\" \"CT\" \"DC\" \"DE\" \"FL\" \"GA\" \"GU\" \"HI\"\n",
              "[3207] \"IA\" \"ID\" \"IL\" \"IN\" \"KS\" \"KY\" \"LA\" \"MA\" \"MD\" \"ME\" \"MI\" \"MN\" \"MO\" \"MP\"\n",
              "[3221] \"MS\" \"MT\" \"NC\" \"ND\" \"NE\" \"NH\" \"NJ\" \"NM\" \"NV\" \"NY\" \"OH\" \"OK\" \"OR\" \"PA\"\n",
              "[3235] \"PR\" \"RI\" \"SC\" \"SD\" \"TN\" \"TX\" \"UT\" \"VA\" \"VI\" \"VT\" \"WA\" \"WI\" \"WV\" \"WY\"\n",
              "[3249] \"AK\" \"AL\" \"AR\" \"AS\" \"AZ\" \"CA\" \"CO\" \"CT\" \"DC\" \"DE\" \"FL\" \"GA\" \"GU\" \"HI\"\n",
              "[3263] \"IA\" \"ID\" \"IL\" \"IN\" \"KS\" \"KY\" \"LA\" \"MA\" \"MD\" \"ME\" \"MI\" \"MN\" \"MO\" \"MP\"\n",
              "[3277] \"MS\" \"MT\" \"NC\" \"ND\" \"NE\" \"NH\" \"NJ\" \"NM\" \"NV\" \"NY\" \"OH\" \"OK\" \"OR\" \"PA\"\n",
              "[3291] \"PR\" \"RI\" \"SC\" \"SD\" \"TN\" \"TX\" \"UT\" \"VA\" \"VI\" \"VT\" \"WA\" \"WI\" \"WV\" \"WY\"\n",
              "[3305] \"AK\" \"AL\" \"AR\" \"AS\" \"AZ\" \"CA\" \"CO\" \"CT\" \"DC\" \"DE\" \"FL\" \"GA\" \"GU\" \"HI\"\n",
              "[3319] \"IA\" \"ID\" \"IL\" \"IN\" \"KS\" \"KY\" \"LA\" \"MA\" \"MD\" \"ME\" \"MI\" \"MN\" \"MO\" \"MP\"\n",
              "[3333] \"MS\" \"MT\" \"NC\" \"ND\" \"NE\" \"NH\" \"NJ\" \"NM\" \"NV\" \"NY\" \"OH\" \"OK\" \"OR\" \"PA\"\n",
              "[3347] \"PR\" \"RI\" \"SC\" \"SD\" \"TN\" \"TX\" \"UT\" \"VA\" \"VI\" \"VT\" \"WA\" \"WI\" \"WV\" \"WY\"\n",
              "[3361] \"AK\" \"AL\" \"AR\" \"AS\" \"AZ\" \"CA\" \"CO\" \"CT\" \"DC\" \"DE\" \"FL\" \"GA\" \"GU\" \"HI\"\n",
              "[3375] \"IA\" \"ID\" \"IL\" \"IN\" \"KS\" \"KY\" \"LA\" \"MA\" \"MD\" \"ME\" \"MI\" \"MN\" \"MO\" \"MP\"\n",
              "[3389] \"MS\" \"MT\" \"NC\" \"ND\" \"NE\" \"NH\" \"NJ\" \"NM\" \"NV\" \"NY\" \"OH\" \"OK\" \"OR\" \"PA\"\n",
              "[3403] \"PR\" \"RI\" \"SC\" \"SD\" \"TN\" \"TX\" \"UT\" \"VA\" \"VI\" \"VT\" \"WA\" \"WI\" \"WV\" \"WY\"\n",
              "[3417] \"AK\" \"AL\" \"AR\" \"AS\" \"AZ\" \"CA\" \"CO\" \"CT\" \"DC\" \"DE\" \"FL\" \"GA\" \"GU\" \"HI\"\n",
              "[3431] \"IA\" \"ID\" \"IL\" \"IN\" \"KS\" \"KY\" \"LA\" \"MA\" \"MD\" \"ME\" \"MI\" \"MN\" \"MO\" \"MP\"\n",
              "[3445] \"MS\" \"MT\" \"NC\" \"ND\" \"NE\" \"NH\" \"NJ\" \"NM\" \"NV\" \"NY\" \"OH\" \"OK\" \"OR\" \"PA\"\n",
              "[3459] \"PR\" \"RI\" \"SC\" \"SD\" \"TN\" \"TX\" \"UT\" \"VA\" \"VI\" \"VT\" \"WA\" \"WI\" \"WV\" \"WY\"\n",
              "[3473] \"AK\" \"AL\" \"AR\" \"AS\" \"AZ\" \"CA\" \"CO\" \"CT\" \"DC\" \"DE\" \"FL\" \"GA\" \"GU\" \"HI\"\n",
              "[3487] \"IA\" \"ID\" \"IL\" \"IN\" \"KS\" \"KY\" \"LA\" \"MA\" \"MD\" \"ME\" \"MI\" \"MN\" \"MO\" \"MP\"\n",
              "[3501] \"MS\" \"MT\" \"NC\" \"ND\" \"NE\" \"NH\" \"NJ\" \"NM\" \"NV\" \"NY\" \"OH\" \"OK\" \"OR\" \"PA\"\n",
              "[3515] \"PR\" \"RI\" \"SC\" \"SD\" \"TN\" \"TX\" \"UT\" \"VA\" \"VI\" \"VT\" \"WA\" \"WI\" \"WV\" \"WY\"\n",
              "[3529] \"AK\" \"AL\" \"AR\" \"AS\" \"AZ\" \"CA\" \"CO\" \"CT\" \"DC\" \"DE\" \"FL\" \"GA\" \"GU\" \"HI\"\n",
              "[3543] \"IA\" \"ID\" \"IL\" \"IN\" \"KS\" \"KY\" \"LA\" \"MA\" \"MD\" \"ME\" \"MI\" \"MN\" \"MO\" \"MP\"\n",
              "[3557] \"MS\" \"MT\" \"NC\" \"ND\" \"NE\" \"NH\" \"NJ\" \"NM\" \"NV\" \"NY\" \"OH\" \"OK\" \"OR\" \"PA\"\n",
              "[3571] \"PR\" \"RI\" \"SC\" \"SD\" \"TN\" \"TX\" \"UT\" \"VA\" \"VI\" \"VT\" \"WA\" \"WI\" \"WV\" \"WY\"\n",
              "[3585] \"AK\" \"AL\" \"AR\" \"AS\" \"AZ\" \"CA\" \"CO\" \"CT\" \"DC\" \"DE\" \"FL\" \"GA\" \"GU\" \"HI\"\n",
              "[3599] \"IA\" \"ID\" \"IL\" \"IN\" \"KS\" \"KY\" \"LA\" \"MA\" \"MD\" \"ME\" \"MI\" \"MN\" \"MO\" \"MP\"\n",
              "[3613] \"MS\" \"MT\" \"NC\" \"ND\" \"NE\" \"NH\" \"NJ\" \"NM\" \"NV\" \"NY\" \"OH\" \"OK\" \"OR\" \"PA\"\n",
              "[3627] \"PR\" \"RI\" \"SC\" \"SD\" \"TN\" \"TX\" \"UT\" \"VA\" \"VI\" \"VT\" \"WA\" \"WI\" \"WV\" \"WY\"\n",
              "[3641] \"AK\" \"AL\" \"AR\" \"AS\" \"AZ\" \"CA\" \"CO\" \"CT\" \"DC\" \"DE\" \"FL\" \"GA\" \"GU\" \"HI\"\n",
              "[3655] \"IA\" \"ID\" \"IL\" \"IN\" \"KS\" \"KY\" \"LA\" \"MA\" \"MD\" \"ME\" \"MI\" \"MN\" \"MO\" \"MP\"\n",
              "[3669] \"MS\" \"MT\" \"NC\" \"ND\" \"NE\" \"NH\" \"NJ\" \"NM\" \"NV\" \"NY\" \"OH\" \"OK\" \"OR\" \"PA\"\n",
              "[3683] \"PR\" \"RI\" \"SC\" \"SD\" \"TN\" \"TX\" \"UT\" \"VA\" \"VI\" \"VT\" \"WA\" \"WI\" \"WV\" \"WY\"\n",
              "[3697] \"AK\" \"AL\" \"AR\" \"AS\" \"AZ\" \"CA\" \"CO\" \"CT\" \"DC\" \"DE\" \"FL\" \"GA\" \"GU\" \"HI\"\n",
              "[3711] \"IA\" \"ID\" \"IL\" \"IN\" \"KS\" \"KY\" \"LA\" \"MA\" \"MD\" \"ME\" \"MI\" \"MN\" \"MO\" \"MP\"\n",
              "[3725] \"MS\" \"MT\" \"NC\" \"ND\" \"NE\" \"NH\" \"NJ\" \"NM\" \"NV\" \"NY\" \"OH\" \"OK\" \"OR\" \"PA\"\n",
              "[3739] \"PR\" \"RI\" \"SC\" \"SD\" \"TN\" \"TX\" \"UT\" \"VA\" \"VI\" \"VT\" \"WA\" \"WI\" \"WV\" \"WY\"\n",
              "[3753] \"AK\" \"AL\" \"AR\" \"AS\" \"AZ\" \"CA\" \"CO\" \"CT\" \"DC\" \"DE\" \"FL\" \"GA\" \"GU\" \"HI\"\n",
              "[3767] \"IA\" \"ID\" \"IL\" \"IN\" \"KS\" \"KY\" \"LA\" \"MA\" \"MD\" \"ME\" \"MI\" \"MN\" \"MO\" \"MP\"\n",
              "[3781] \"MS\" \"MT\" \"NC\" \"ND\" \"NE\" \"NH\" \"NJ\" \"NM\" \"NV\" \"NY\" \"OH\" \"OK\" \"OR\" \"PA\"\n",
              "[3795] \"PR\" \"RI\" \"SC\" \"SD\" \"TN\" \"TX\" \"UT\" \"VA\" \"VI\" \"VT\" \"WA\" \"WI\" \"WV\" \"WY\"\n",
              "[3809] \"AK\" \"AL\" \"AR\" \"AS\" \"AZ\" \"CA\" \"CO\" \"CT\" \"DC\" \"DE\" \"FL\" \"GA\" \"GU\" \"HI\"\n",
              "[3823] \"IA\" \"ID\" \"IL\" \"IN\" \"KS\" \"KY\" \"LA\" \"MA\" \"MD\" \"ME\" \"MI\" \"MN\" \"MO\" \"MP\"\n",
              "[3837] \"MS\" \"MT\" \"NC\" \"ND\" \"NE\" \"NH\" \"NJ\" \"NM\" \"NV\" \"NY\" \"OH\" \"OK\" \"OR\" \"PA\"\n",
              "[3851] \"PR\" \"RI\" \"SC\" \"SD\" \"TN\" \"TX\" \"UT\" \"VA\" \"VI\" \"VT\" \"WA\" \"WI\" \"WV\" \"WY\"\n",
              "[3865] \"AK\" \"AL\" \"AR\" \"AS\" \"AZ\" \"CA\" \"CO\" \"CT\" \"DC\" \"DE\" \"FL\" \"GA\" \"GU\" \"HI\"\n",
              "[3879] \"IA\" \"ID\" \"IL\" \"IN\" \"KS\" \"KY\" \"LA\" \"MA\" \"MD\" \"ME\" \"MI\" \"MN\" \"MO\" \"MP\"\n",
              "[3893] \"MS\" \"MT\" \"NC\" \"ND\" \"NE\" \"NH\" \"NJ\" \"NM\" \"NV\" \"NY\" \"OH\" \"OK\" \"OR\" \"PA\"\n",
              "[3907] \"PR\" \"RI\" \"SC\" \"SD\" \"TN\" \"TX\" \"UT\" \"VA\" \"VI\" \"VT\" \"WA\" \"WI\" \"WV\" \"WY\"\n",
              "[3921] \"AK\" \"AL\" \"AR\" \"AS\" \"AZ\" \"CA\" \"CO\" \"CT\" \"DC\" \"DE\" \"FL\" \"GA\" \"GU\" \"HI\"\n",
              "[3935] \"IA\" \"ID\" \"IL\" \"IN\" \"KS\" \"KY\" \"LA\" \"MA\" \"MD\" \"ME\" \"MI\" \"MN\" \"MO\" \"MP\"\n",
              "[3949] \"MS\" \"MT\" \"NC\" \"ND\" \"NE\" \"NH\" \"NJ\" \"NM\" \"NV\" \"NY\" \"OH\" \"OK\" \"OR\" \"PA\"\n",
              "[3963] \"PR\" \"RI\" \"SC\" \"SD\" \"TN\" \"TX\" \"UT\" \"VA\" \"VI\" \"VT\" \"WA\" \"WI\" \"WV\" \"WY\"\n",
              "[3977] \"AK\" \"AL\" \"AR\" \"AS\" \"AZ\" \"CA\" \"CO\" \"CT\" \"DC\" \"DE\" \"FL\" \"GA\" \"GU\" \"HI\"\n",
              "[3991] \"IA\" \"ID\" \"IL\" \"IN\" \"KS\" \"KY\" \"LA\" \"MA\" \"MD\" \"ME\" \"MI\" \"MN\" \"MO\" \"MP\"\n",
              "[4005] \"MS\" \"MT\" \"NC\" \"ND\" \"NE\" \"NH\" \"NJ\" \"NM\" \"NV\" \"NY\" \"OH\" \"OK\" \"OR\" \"PA\"\n",
              "[4019] \"PR\" \"RI\" \"SC\" \"SD\" \"TN\" \"TX\" \"UT\" \"VA\" \"VI\" \"VT\" \"WA\" \"WI\" \"WV\" \"WY\"\n",
              "[4033] \"AK\" \"AL\" \"AR\" \"AS\" \"AZ\" \"CA\" \"CO\" \"CT\" \"DC\" \"DE\" \"FL\" \"GA\" \"GU\" \"HI\"\n",
              "[4047] \"IA\" \"ID\" \"IL\" \"IN\" \"KS\" \"KY\" \"LA\" \"MA\" \"MD\" \"ME\" \"MI\" \"MN\" \"MO\" \"MP\"\n",
              "[4061] \"MS\" \"MT\" \"NC\" \"ND\" \"NE\" \"NH\" \"NJ\" \"NM\" \"NV\" \"NY\" \"OH\" \"OK\" \"OR\" \"PA\"\n",
              "[4075] \"PR\" \"RI\" \"SC\" \"SD\" \"TN\" \"TX\" \"UT\" \"VA\" \"VI\" \"VT\" \"WA\" \"WI\" \"WV\" \"WY\"\n",
              "[4089] \"AK\" \"AL\" \"AR\" \"AS\" \"AZ\" \"CA\" \"CO\" \"CT\" \"DC\" \"DE\" \"FL\" \"GA\" \"GU\" \"HI\"\n",
              "[4103] \"IA\" \"ID\" \"IL\" \"IN\" \"KS\" \"KY\" \"LA\" \"MA\" \"MD\" \"ME\" \"MI\" \"MN\" \"MO\" \"MP\"\n",
              "[4117] \"MS\" \"MT\" \"NC\" \"ND\" \"NE\" \"NH\" \"NJ\" \"NM\" \"NV\" \"NY\" \"OH\" \"OK\" \"OR\" \"PA\"\n",
              "[4131] \"PR\" \"RI\" \"SC\" \"SD\" \"TN\" \"TX\" \"UT\" \"VA\" \"VI\" \"VT\" \"WA\" \"WI\" \"WV\" \"WY\"\n",
              "[4145] \"AK\" \"AL\" \"AR\" \"AS\" \"AZ\" \"CA\" \"CO\" \"CT\" \"DC\" \"DE\" \"FL\" \"GA\" \"GU\" \"HI\"\n",
              "[4159] \"IA\" \"ID\" \"IL\" \"IN\" \"KS\" \"KY\" \"LA\" \"MA\" \"MD\" \"ME\" \"MI\" \"MN\" \"MO\" \"MP\"\n",
              "[4173] \"MS\" \"MT\" \"NC\" \"ND\" \"NE\" \"NH\" \"NJ\" \"NM\" \"NV\" \"NY\" \"OH\" \"OK\" \"OR\" \"PA\"\n",
              "[4187] \"PR\" \"RI\" \"SC\" \"SD\" \"TN\" \"TX\" \"UT\" \"VA\" \"VI\" \"VT\" \"WA\" \"WI\" \"WV\" \"WY\"\n",
              "[4201] \"AK\" \"AL\" \"AR\" \"AS\" \"AZ\" \"CA\" \"CO\" \"CT\" \"DC\" \"DE\" \"FL\" \"GA\" \"GU\" \"HI\"\n",
              "[4215] \"IA\" \"ID\" \"IL\" \"IN\" \"KS\" \"KY\" \"LA\" \"MA\" \"MD\" \"ME\" \"MI\" \"MN\" \"MO\" \"MP\"\n",
              "[4229] \"MS\" \"MT\" \"NC\" \"ND\" \"NE\" \"NH\" \"NJ\" \"NM\" \"NV\" \"NY\" \"OH\" \"OK\" \"OR\" \"PA\"\n",
              "[4243] \"PR\" \"RI\" \"SC\" \"SD\" \"TN\" \"TX\" \"UT\" \"VA\" \"VI\" \"VT\" \"WA\" \"WI\" \"WV\" \"WY\"\n",
              "[4257] \"AK\" \"AL\" \"AR\" \"AS\" \"AZ\" \"CA\" \"CO\" \"CT\" \"DC\" \"DE\" \"FL\" \"GA\" \"GU\" \"HI\"\n",
              "[4271] \"IA\" \"ID\" \"IL\" \"IN\" \"KS\" \"KY\" \"LA\" \"MA\" \"MD\" \"ME\" \"MI\" \"MN\" \"MO\" \"MP\"\n",
              "[4285] \"MS\" \"MT\" \"NC\" \"ND\" \"NE\" \"NH\" \"NJ\" \"NM\" \"NV\" \"NY\" \"OH\" \"OK\" \"OR\" \"PA\"\n",
              "[4299] \"PR\" \"RI\" \"SC\" \"SD\" \"TN\" \"TX\" \"UT\" \"VA\" \"VI\" \"VT\" \"WA\" \"WI\" \"WV\" \"WY\"\n",
              "[4313] \"AK\" \"AL\" \"AR\" \"AS\" \"AZ\" \"CA\" \"CO\" \"CT\" \"DC\" \"DE\" \"FL\" \"GA\" \"GU\" \"HI\"\n",
              "[4327] \"IA\" \"ID\" \"IL\" \"IN\" \"KS\" \"KY\" \"LA\" \"MA\" \"MD\" \"ME\" \"MI\" \"MN\" \"MO\" \"MP\"\n",
              "[4341] \"MS\" \"MT\" \"NC\" \"ND\" \"NE\" \"NH\" \"NJ\" \"NM\" \"NV\" \"NY\" \"OH\" \"OK\" \"OR\" \"PA\"\n",
              "[4355] \"PR\" \"RI\" \"SC\" \"SD\" \"TN\" \"TX\" \"UT\" \"VA\" \"VI\" \"VT\" \"WA\" \"WI\" \"WV\" \"WY\"\n",
              "[4369] \"AK\" \"AL\" \"AR\" \"AS\" \"AZ\" \"CA\" \"CO\" \"CT\" \"DC\" \"DE\" \"FL\" \"GA\" \"GU\" \"HI\"\n",
              "[4383] \"IA\" \"ID\" \"IL\" \"IN\" \"KS\" \"KY\" \"LA\" \"MA\" \"MD\" \"ME\" \"MI\" \"MN\" \"MO\" \"MP\"\n",
              "[4397] \"MS\" \"MT\" \"NC\" \"ND\" \"NE\" \"NH\" \"NJ\" \"NM\" \"NV\" \"NY\" \"OH\" \"OK\" \"OR\" \"PA\"\n",
              "[4411] \"PR\" \"RI\" \"SC\" \"SD\" \"TN\" \"TX\" \"UT\" \"VA\" \"VI\" \"VT\" \"WA\" \"WI\" \"WV\" \"WY\"\n",
              "[4425] \"AK\" \"AL\" \"AR\" \"AS\" \"AZ\" \"CA\" \"CO\" \"CT\" \"DC\" \"DE\" \"FL\" \"GA\" \"GU\" \"HI\"\n",
              "[4439] \"IA\" \"ID\" \"IL\" \"IN\" \"KS\" \"KY\" \"LA\" \"MA\" \"MD\" \"ME\" \"MI\" \"MN\" \"MO\" \"MP\"\n",
              "[4453] \"MS\" \"MT\" \"NC\" \"ND\" \"NE\" \"NH\" \"NJ\" \"NM\" \"NV\" \"NY\" \"OH\" \"OK\" \"OR\" \"PA\"\n",
              "[4467] \"PR\" \"RI\" \"SC\" \"SD\" \"TN\" \"TX\" \"UT\" \"VA\" \"VI\" \"VT\" \"WA\" \"WI\" \"WV\" \"WY\"\n",
              "[4481] \"AK\" \"AL\" \"AR\" \"AS\" \"AZ\" \"CA\" \"CO\" \"CT\" \"DC\" \"DE\" \"FL\" \"GA\" \"GU\" \"HI\"\n",
              "[4495] \"IA\" \"ID\" \"IL\" \"IN\" \"KS\" \"KY\" \"LA\" \"MA\" \"MD\" \"ME\" \"MI\" \"MN\" \"MO\" \"MP\"\n",
              "[4509] \"MS\" \"MT\" \"NC\" \"ND\" \"NE\" \"NH\" \"NJ\" \"NM\" \"NV\" \"NY\" \"OH\" \"OK\" \"OR\" \"PA\"\n",
              "[4523] \"PR\" \"RI\" \"SC\" \"SD\" \"TN\" \"TX\" \"UT\" \"VA\" \"VI\" \"VT\" \"WA\" \"WI\" \"WV\" \"WY\"\n",
              "[4537] \"AK\" \"AL\" \"AR\" \"AS\" \"AZ\" \"CA\" \"CO\" \"CT\" \"DC\" \"DE\" \"FL\" \"GA\" \"GU\" \"HI\"\n",
              "[4551] \"IA\" \"ID\" \"IL\" \"IN\" \"KS\" \"KY\" \"LA\" \"MA\" \"MD\" \"ME\" \"MI\" \"MN\" \"MO\" \"MP\"\n",
              "[4565] \"MS\" \"MT\" \"NC\" \"ND\" \"NE\" \"NH\" \"NJ\" \"NM\" \"NV\" \"NY\" \"OH\" \"OK\" \"OR\" \"PA\"\n",
              "[4579] \"PR\" \"RI\" \"SC\" \"SD\" \"TN\" \"TX\" \"UT\" \"VA\" \"VI\" \"VT\" \"WA\" \"WI\" \"WV\" \"WY\"\n",
              "[4593] \"AK\" \"AL\" \"AR\" \"AS\" \"AZ\" \"CA\" \"CO\" \"CT\" \"DC\" \"DE\" \"FL\" \"GA\" \"GU\" \"HI\"\n",
              "[4607] \"IA\" \"ID\" \"IL\" \"IN\" \"KS\" \"KY\" \"LA\" \"MA\" \"MD\" \"ME\" \"MI\" \"MN\" \"MO\" \"MP\"\n",
              "[4621] \"MS\" \"MT\" \"NC\" \"ND\" \"NE\" \"NH\" \"NJ\" \"NM\" \"NV\" \"NY\" \"OH\" \"OK\" \"OR\" \"PA\"\n",
              "[4635] \"PR\" \"RI\" \"SC\" \"SD\" \"TN\" \"TX\" \"UT\" \"VA\" \"VI\" \"VT\" \"WA\" \"WI\" \"WV\" \"WY\"\n",
              "[4649] \"AK\" \"AL\" \"AR\" \"AS\" \"AZ\" \"CA\" \"CO\" \"CT\" \"DC\" \"DE\" \"FL\" \"GA\" \"GU\" \"HI\"\n",
              "[4663] \"IA\" \"ID\" \"IL\" \"IN\" \"KS\" \"KY\" \"LA\" \"MA\" \"MD\" \"ME\" \"MI\" \"MN\" \"MO\" \"MP\"\n",
              "[4677] \"MS\" \"MT\" \"NC\" \"ND\" \"NE\" \"NH\" \"NJ\" \"NM\" \"NV\" \"NY\" \"OH\" \"OK\" \"OR\" \"PA\"\n",
              "[4691] \"PR\" \"RI\" \"SC\" \"SD\" \"TN\" \"TX\" \"UT\" \"VA\" \"VI\" \"VT\" \"WA\" \"WI\" \"WV\" \"WY\"\n",
              "[4705] \"AK\" \"AL\" \"AR\" \"AS\" \"AZ\" \"CA\" \"CO\" \"CT\" \"DC\" \"DE\" \"FL\" \"GA\" \"GU\" \"HI\"\n",
              "[4719] \"IA\" \"ID\" \"IL\" \"IN\" \"KS\" \"KY\" \"LA\" \"MA\" \"MD\" \"ME\" \"MI\" \"MN\" \"MO\" \"MP\"\n",
              "[4733] \"MS\" \"MT\" \"NC\" \"ND\" \"NE\" \"NH\" \"NJ\" \"NM\" \"NV\" \"NY\" \"OH\" \"OK\" \"OR\" \"PA\"\n",
              "[4747] \"PR\" \"RI\" \"SC\" \"SD\" \"TN\" \"TX\" \"UT\" \"VA\" \"VI\" \"VT\" \"WA\" \"WI\" \"WV\" \"WY\"\n",
              "[4761] \"AK\" \"AL\" \"AR\" \"AS\" \"AZ\" \"CA\" \"CO\" \"CT\" \"DC\" \"DE\" \"FL\" \"GA\" \"GU\" \"HI\"\n",
              "[4775] \"IA\" \"ID\" \"IL\" \"IN\" \"KS\" \"KY\" \"LA\" \"MA\" \"MD\" \"ME\" \"MI\" \"MN\" \"MO\" \"MP\"\n",
              "[4789] \"MS\" \"MT\" \"NC\" \"ND\" \"NE\" \"NH\" \"NJ\" \"NM\" \"NV\" \"NY\" \"OH\" \"OK\" \"OR\" \"PA\"\n",
              "[4803] \"PR\" \"RI\" \"SC\" \"SD\" \"TN\" \"TX\" \"UT\" \"VA\" \"VI\" \"VT\" \"WA\" \"WI\" \"WV\" \"WY\"\n",
              "[4817] \"AK\" \"AL\" \"AR\" \"AS\" \"AZ\" \"CA\" \"CO\" \"CT\" \"DC\" \"DE\" \"FL\" \"GA\" \"GU\" \"HI\"\n",
              "[4831] \"IA\" \"ID\" \"IL\" \"IN\" \"KS\" \"KY\" \"LA\" \"MA\" \"MD\" \"ME\" \"MI\" \"MN\" \"MO\" \"MP\"\n",
              "[4845] \"MS\" \"MT\" \"NC\" \"ND\" \"NE\" \"NH\" \"NJ\" \"NM\" \"NV\" \"NY\" \"OH\" \"OK\" \"OR\" \"PA\"\n",
              "[4859] \"PR\" \"RI\" \"SC\" \"SD\" \"TN\" \"TX\" \"UT\" \"VA\" \"VI\" \"VT\" \"WA\" \"WI\" \"WV\" \"WY\"\n",
              "[4873] \"AK\" \"AL\" \"AR\" \"AS\" \"AZ\" \"CA\" \"CO\" \"CT\" \"DC\" \"DE\" \"FL\" \"GA\" \"GU\" \"HI\"\n",
              "[4887] \"IA\" \"ID\" \"IL\" \"IN\" \"KS\" \"KY\" \"LA\" \"MA\" \"MD\" \"ME\" \"MI\" \"MN\" \"MO\" \"MP\"\n",
              "[4901] \"MS\" \"MT\" \"NC\" \"ND\" \"NE\" \"NH\" \"NJ\" \"NM\" \"NV\" \"NY\" \"OH\" \"OK\" \"OR\" \"PA\"\n",
              "[4915] \"PR\" \"RI\" \"SC\" \"SD\" \"TN\" \"TX\" \"UT\" \"VA\" \"VI\" \"VT\" \"WA\" \"WI\" \"WV\" \"WY\"\n",
              "[4929] \"AK\" \"AL\" \"AR\" \"AS\" \"AZ\" \"CA\" \"CO\" \"CT\" \"DC\" \"DE\" \"FL\" \"GA\" \"GU\" \"HI\"\n",
              "[4943] \"IA\" \"ID\" \"IL\" \"IN\" \"KS\" \"KY\" \"LA\" \"MA\" \"MD\" \"ME\" \"MI\" \"MN\" \"MO\" \"MP\"\n",
              "[4957] \"MS\" \"MT\" \"NC\" \"ND\" \"NE\" \"NH\" \"NJ\" \"NM\" \"NV\" \"NY\" \"OH\" \"OK\" \"OR\" \"PA\"\n",
              "[4971] \"PR\" \"RI\" \"SC\" \"SD\" \"TN\" \"TX\" \"UT\" \"VA\" \"VI\" \"VT\" \"WA\" \"WI\" \"WV\" \"WY\"\n",
              "[4985] \"AK\" \"AL\" \"AR\" \"AS\" \"AZ\" \"CA\" \"CO\" \"CT\" \"DC\" \"DE\" \"FL\" \"GA\" \"GU\" \"HI\"\n",
              "[4999] \"IA\" \"ID\" \"IL\" \"IN\" \"KS\" \"KY\" \"LA\" \"MA\" \"MD\" \"ME\" \"MI\" \"MN\" \"MO\" \"MP\"\n",
              "[5013] \"MS\" \"MT\" \"NC\" \"ND\" \"NE\" \"NH\" \"NJ\" \"NM\" \"NV\" \"NY\" \"OH\" \"OK\" \"OR\" \"PA\"\n",
              "[5027] \"PR\" \"RI\" \"SC\" \"SD\" \"TN\" \"TX\" \"UT\" \"VA\" \"VI\" \"VT\" \"WA\" \"WI\" \"WV\" \"WY\"\n",
              "[5041] \"AK\" \"AL\" \"AR\" \"AS\" \"AZ\" \"CA\" \"CO\" \"CT\" \"DC\" \"DE\" \"FL\" \"GA\" \"GU\" \"HI\"\n",
              "[5055] \"IA\" \"ID\" \"IL\" \"IN\" \"KS\" \"KY\" \"LA\" \"MA\" \"MD\" \"ME\" \"MI\" \"MN\" \"MO\" \"MP\"\n",
              "[5069] \"MS\" \"MT\" \"NC\" \"ND\" \"NE\" \"NH\" \"NJ\" \"NM\" \"NV\" \"NY\" \"OH\" \"OK\" \"OR\" \"PA\"\n",
              "[5083] \"PR\" \"RI\" \"SC\" \"SD\" \"TN\" \"TX\" \"UT\" \"VA\" \"VI\" \"VT\" \"WA\" \"WI\" \"WV\" \"WY\"\n",
              "[5097] \"AK\" \"AL\" \"AR\" \"AS\" \"AZ\" \"CA\" \"CO\" \"CT\" \"DC\" \"DE\" \"FL\" \"GA\" \"GU\" \"HI\"\n",
              "[5111] \"IA\" \"ID\" \"IL\" \"IN\" \"KS\" \"KY\" \"LA\" \"MA\" \"MD\" \"ME\" \"MI\" \"MN\" \"MO\" \"MP\"\n",
              "[5125] \"MS\" \"MT\" \"NC\" \"ND\" \"NE\" \"NH\" \"NJ\" \"NM\" \"NV\" \"NY\" \"OH\" \"OK\" \"OR\" \"PA\"\n",
              "[5139] \"PR\" \"RI\" \"SC\" \"SD\" \"TN\" \"TX\" \"UT\" \"VA\" \"VI\" \"VT\" \"WA\" \"WI\" \"WV\" \"WY\"\n",
              "[5153] \"AK\" \"AL\" \"AR\" \"AS\" \"AZ\" \"CA\" \"CO\" \"CT\" \"DC\" \"DE\" \"FL\" \"GA\" \"GU\" \"HI\"\n",
              "[5167] \"IA\" \"ID\" \"IL\" \"IN\" \"KS\" \"KY\" \"LA\" \"MA\" \"MD\" \"ME\" \"MI\" \"MN\" \"MO\" \"MP\"\n",
              "[5181] \"MS\" \"MT\" \"NC\" \"ND\" \"NE\" \"NH\" \"NJ\" \"NM\" \"NV\" \"NY\" \"OH\" \"OK\" \"OR\" \"PA\"\n",
              "[5195] \"PR\" \"RI\" \"SC\" \"SD\" \"TN\" \"TX\" \"UT\" \"VA\" \"VI\" \"VT\" \"WA\" \"WI\" \"WV\" \"WY\"\n",
              "[5209] \"AK\" \"AL\" \"AR\" \"AS\" \"AZ\" \"CA\" \"CO\" \"CT\" \"DC\" \"DE\" \"FL\" \"GA\" \"GU\" \"HI\"\n",
              "[5223] \"IA\" \"ID\" \"IL\" \"IN\" \"KS\" \"KY\" \"LA\" \"MA\" \"MD\" \"ME\" \"MI\" \"MN\" \"MO\" \"MP\"\n",
              "[5237] \"MS\" \"MT\" \"NC\" \"ND\" \"NE\" \"NH\" \"NJ\" \"NM\" \"NV\" \"NY\" \"OH\" \"OK\" \"OR\" \"PA\"\n",
              "[5251] \"PR\" \"RI\" \"SC\" \"SD\" \"TN\" \"TX\" \"UT\" \"VA\" \"VI\" \"VT\" \"WA\" \"WI\" \"WV\" \"WY\"\n",
              "[5265] \"AK\" \"AL\" \"AR\" \"AS\" \"AZ\" \"CA\" \"CO\" \"CT\" \"DC\" \"DE\" \"FL\" \"GA\" \"GU\" \"HI\"\n",
              "[5279] \"IA\" \"ID\" \"IL\" \"IN\" \"KS\" \"KY\" \"LA\" \"MA\" \"MD\" \"ME\" \"MI\" \"MN\" \"MO\" \"MP\"\n",
              "[5293] \"MS\" \"MT\" \"NC\" \"ND\" \"NE\" \"NH\" \"NJ\" \"NM\" \"NV\" \"NY\" \"OH\" \"OK\" \"OR\" \"PA\"\n",
              "[5307] \"PR\" \"RI\" \"SC\" \"SD\" \"TN\" \"TX\" \"UT\" \"VA\" \"VI\" \"VT\" \"WA\" \"WI\" \"WV\" \"WY\"\n",
              "[5321] \"AK\" \"AL\" \"AR\" \"AS\" \"AZ\" \"CA\" \"CO\" \"CT\" \"DC\" \"DE\" \"FL\" \"GA\" \"GU\" \"HI\"\n",
              "[5335] \"IA\" \"ID\" \"IL\" \"IN\" \"KS\" \"KY\" \"LA\" \"MA\" \"MD\" \"ME\" \"MI\" \"MN\" \"MO\" \"MP\"\n",
              "[5349] \"MS\" \"MT\" \"NC\" \"ND\" \"NE\" \"NH\" \"NJ\" \"NM\" \"NV\" \"NY\" \"OH\" \"OK\" \"OR\" \"PA\"\n",
              "[5363] \"PR\" \"RI\" \"SC\" \"SD\" \"TN\" \"TX\" \"UT\" \"VA\" \"VI\" \"VT\" \"WA\" \"WI\" \"WV\" \"WY\"\n",
              "[5377] \"AK\" \"AL\" \"AR\" \"AS\" \"AZ\" \"CA\" \"CO\" \"CT\" \"DC\" \"DE\" \"FL\" \"GA\" \"GU\" \"HI\"\n",
              "[5391] \"IA\" \"ID\" \"IL\" \"IN\" \"KS\" \"KY\" \"LA\" \"MA\" \"MD\" \"ME\" \"MI\" \"MN\" \"MO\" \"MP\"\n",
              "[5405] \"MS\" \"MT\" \"NC\" \"ND\" \"NE\" \"NH\" \"NJ\" \"NM\" \"NV\" \"NY\" \"OH\" \"OK\" \"OR\" \"PA\"\n",
              "[5419] \"PR\" \"RI\" \"SC\" \"SD\" \"TN\" \"TX\" \"UT\" \"VA\" \"VI\" \"VT\" \"WA\" \"WI\" \"WV\" \"WY\"\n",
              "[5433] \"AK\" \"AL\" \"AR\" \"AS\" \"AZ\" \"CA\" \"CO\" \"CT\" \"DC\" \"DE\" \"FL\" \"GA\" \"GU\" \"HI\"\n",
              "[5447] \"IA\" \"ID\" \"IL\" \"IN\" \"KS\" \"KY\" \"LA\" \"MA\" \"MD\" \"ME\" \"MI\" \"MN\" \"MO\" \"MP\"\n",
              "[5461] \"MS\" \"MT\" \"NC\" \"ND\" \"NE\" \"NH\" \"NJ\" \"NM\" \"NV\" \"NY\" \"OH\" \"OK\" \"OR\" \"PA\"\n",
              "[5475] \"PR\" \"RI\" \"SC\" \"SD\" \"TN\" \"TX\" \"UT\" \"VA\" \"VI\" \"VT\" \"WA\" \"WI\" \"WV\" \"WY\"\n",
              "[5489] \"AK\" \"AL\" \"AR\" \"AS\" \"AZ\" \"CA\" \"CO\" \"CT\" \"DC\" \"DE\" \"FL\" \"GA\" \"GU\" \"HI\"\n",
              "[5503] \"IA\" \"ID\" \"IL\" \"IN\" \"KS\" \"KY\" \"LA\" \"MA\" \"MD\" \"ME\" \"MI\" \"MN\" \"MO\" \"MP\"\n",
              "[5517] \"MS\" \"MT\" \"NC\" \"ND\" \"NE\" \"NH\" \"NJ\" \"NM\" \"NV\" \"NY\" \"OH\" \"OK\" \"OR\" \"PA\"\n",
              "[5531] \"PR\" \"RI\" \"SC\" \"SD\" \"TN\" \"TX\" \"UT\" \"VA\" \"VI\" \"VT\" \"WA\" \"WI\" \"WV\" \"WY\"\n",
              "[5545] \"AK\" \"AL\" \"AR\" \"AS\" \"AZ\" \"CA\" \"CO\" \"CT\" \"DC\" \"DE\" \"FL\" \"GA\" \"GU\" \"HI\"\n",
              "[5559] \"IA\" \"ID\" \"IL\" \"IN\" \"KS\" \"KY\" \"LA\" \"MA\" \"MD\" \"ME\" \"MI\" \"MN\" \"MO\" \"MP\"\n",
              "[5573] \"MS\" \"MT\" \"NC\" \"ND\" \"NE\" \"NH\" \"NJ\" \"NM\" \"NV\" \"NY\" \"OH\" \"OK\" \"OR\" \"PA\"\n",
              "[5587] \"PR\" \"RI\" \"SC\" \"SD\" \"TN\" \"TX\" \"UT\" \"VA\" \"VI\" \"VT\" \"WA\" \"WI\" \"WV\" \"WY\"\n",
              "[5601] \"AK\" \"AL\" \"AR\" \"AS\" \"AZ\" \"CA\" \"CO\" \"CT\" \"DC\" \"DE\" \"FL\" \"GA\" \"GU\" \"HI\"\n",
              "[5615] \"IA\" \"ID\" \"IL\" \"IN\" \"KS\" \"KY\" \"LA\" \"MA\" \"MD\" \"ME\" \"MI\" \"MN\" \"MO\" \"MP\"\n",
              "[5629] \"MS\" \"MT\" \"NC\" \"ND\" \"NE\" \"NH\" \"NJ\" \"NM\" \"NV\" \"NY\" \"OH\" \"OK\" \"OR\" \"PA\"\n",
              "[5643] \"PR\" \"RI\" \"SC\" \"SD\" \"TN\" \"TX\" \"UT\" \"VA\" \"VI\" \"VT\" \"WA\" \"WI\" \"WV\" \"WY\"\n",
              "[5657] \"AK\" \"AL\" \"AR\" \"AS\" \"AZ\" \"CA\" \"CO\" \"CT\" \"DC\" \"DE\" \"FL\" \"GA\" \"GU\" \"HI\"\n",
              "[5671] \"IA\" \"ID\" \"IL\" \"IN\" \"KS\" \"KY\" \"LA\" \"MA\" \"MD\" \"ME\" \"MI\" \"MN\" \"MO\" \"MP\"\n",
              "[5685] \"MS\" \"MT\" \"NC\" \"ND\" \"NE\" \"NH\" \"NJ\" \"NM\" \"NV\" \"NY\" \"OH\" \"OK\" \"OR\" \"PA\"\n",
              "[5699] \"PR\" \"RI\" \"SC\" \"SD\" \"TN\" \"TX\" \"UT\" \"VA\" \"VI\" \"VT\" \"WA\" \"WI\" \"WV\" \"WY\"\n",
              "[5713] \"AK\" \"AL\" \"AR\" \"AS\" \"AZ\" \"CA\" \"CO\" \"CT\" \"DC\" \"DE\" \"FL\" \"GA\" \"GU\" \"HI\"\n",
              "[5727] \"IA\" \"ID\" \"IL\" \"IN\" \"KS\" \"KY\" \"LA\" \"MA\" \"MD\" \"ME\" \"MI\" \"MN\" \"MO\" \"MP\"\n",
              "[5741] \"MS\" \"MT\" \"NC\" \"ND\" \"NE\" \"NH\" \"NJ\" \"NM\" \"NV\" \"NY\" \"OH\" \"OK\" \"OR\" \"PA\"\n",
              "[5755] \"PR\" \"RI\" \"SC\" \"SD\" \"TN\" \"TX\" \"UT\" \"VA\" \"VI\" \"VT\" \"WA\" \"WI\" \"WV\" \"WY\"\n",
              "[5769] \"AK\" \"AL\" \"AR\" \"AS\" \"AZ\" \"CA\" \"CO\" \"CT\" \"DC\" \"DE\" \"FL\" \"GA\" \"GU\" \"HI\"\n",
              "[5783] \"IA\" \"ID\" \"IL\" \"IN\" \"KS\" \"KY\" \"LA\" \"MA\" \"MD\" \"ME\" \"MI\" \"MN\" \"MO\" \"MP\"\n",
              "[5797] \"MS\" \"MT\" \"NC\" \"ND\" \"NE\" \"NH\" \"NJ\" \"NM\" \"NV\" \"NY\" \"OH\" \"OK\" \"OR\" \"PA\"\n",
              "[5811] \"PR\" \"RI\" \"SC\" \"SD\" \"TN\" \"TX\" \"UT\" \"VA\" \"VI\" \"VT\" \"WA\" \"WI\" \"WV\" \"WY\"\n",
              "[5825] \"AK\" \"AL\" \"AR\" \"AS\" \"AZ\" \"CA\" \"CO\" \"CT\" \"DC\" \"DE\" \"FL\" \"GA\" \"GU\" \"HI\"\n",
              "[5839] \"IA\" \"ID\" \"IL\" \"IN\" \"KS\" \"KY\" \"LA\" \"MA\" \"MD\" \"ME\" \"MI\" \"MN\" \"MO\" \"MP\"\n",
              "[5853] \"MS\" \"MT\" \"NC\" \"ND\" \"NE\" \"NH\" \"NJ\" \"NM\" \"NV\" \"NY\" \"OH\" \"OK\" \"OR\" \"PA\"\n",
              "[5867] \"PR\" \"RI\" \"SC\" \"SD\" \"TN\" \"TX\" \"UT\" \"VA\" \"VI\" \"VT\" \"WA\" \"WI\" \"WV\" \"WY\"\n",
              "[5881] \"AK\" \"AL\" \"AR\" \"AS\" \"AZ\" \"CA\" \"CO\" \"CT\" \"DC\" \"DE\" \"FL\" \"GA\" \"GU\" \"HI\"\n",
              "[5895] \"IA\" \"ID\" \"IL\" \"IN\" \"KS\" \"KY\" \"LA\" \"MA\" \"MD\" \"ME\" \"MI\" \"MN\" \"MO\" \"MP\"\n",
              "[5909] \"MS\" \"MT\" \"NC\" \"ND\" \"NE\" \"NH\" \"NJ\" \"NM\" \"NV\" \"NY\" \"OH\" \"OK\" \"OR\" \"PA\"\n",
              "[5923] \"PR\" \"RI\" \"SC\" \"SD\" \"TN\" \"TX\" \"UT\" \"VA\" \"VI\" \"VT\" \"WA\" \"WI\" \"WV\" \"WY\"\n",
              "[5937] \"AK\" \"AL\" \"AR\" \"AS\" \"AZ\" \"CA\" \"CO\" \"CT\" \"DC\" \"DE\" \"FL\" \"GA\" \"GU\" \"HI\"\n",
              "[5951] \"IA\" \"ID\" \"IL\" \"IN\" \"KS\" \"KY\" \"LA\" \"MA\" \"MD\" \"ME\" \"MI\" \"MN\" \"MO\" \"MP\"\n",
              "[5965] \"MS\" \"MT\" \"NC\" \"ND\" \"NE\" \"NH\" \"NJ\" \"NM\" \"NV\" \"NY\" \"OH\" \"OK\" \"OR\" \"PA\"\n",
              "[5979] \"PR\" \"RI\" \"SC\" \"SD\" \"TN\" \"TX\" \"UT\" \"VA\" \"VI\" \"VT\" \"WA\" \"WI\" \"WV\" \"WY\"\n",
              "[5993] \"AK\" \"AL\" \"AR\" \"AS\" \"AZ\" \"CA\" \"CO\" \"CT\" \"DC\" \"DE\" \"FL\" \"GA\" \"GU\" \"HI\"\n",
              "[6007] \"IA\" \"ID\" \"IL\" \"IN\" \"KS\" \"KY\" \"LA\" \"MA\" \"MD\" \"ME\" \"MI\" \"MN\" \"MO\" \"MP\"\n",
              "[6021] \"MS\" \"MT\" \"NC\" \"ND\" \"NE\" \"NH\" \"NJ\" \"NM\" \"NV\" \"NY\" \"OH\" \"OK\" \"OR\" \"PA\"\n",
              "[6035] \"PR\" \"RI\" \"SC\" \"SD\" \"TN\" \"TX\" \"UT\" \"VA\" \"VI\" \"VT\" \"WA\" \"WI\" \"WV\" \"WY\"\n",
              "[6049] \"AK\" \"AL\" \"AR\" \"AS\" \"AZ\" \"CA\" \"CO\" \"CT\" \"DC\" \"DE\" \"FL\" \"GA\" \"GU\" \"HI\"\n",
              "[6063] \"IA\" \"ID\" \"IL\" \"IN\" \"KS\" \"KY\" \"LA\" \"MA\" \"MD\" \"ME\" \"MI\" \"MN\" \"MO\" \"MP\"\n",
              "[6077] \"MS\" \"MT\" \"NC\" \"ND\" \"NE\" \"NH\" \"NJ\" \"NM\" \"NV\" \"NY\" \"OH\" \"OK\" \"OR\" \"PA\"\n",
              "[6091] \"PR\" \"RI\" \"SC\" \"SD\" \"TN\" \"TX\" \"UT\" \"VA\" \"VI\" \"VT\" \"WA\" \"WI\" \"WV\" \"WY\"\n",
              "[6105] \"AK\" \"AL\" \"AR\" \"AS\" \"AZ\" \"CA\" \"CO\" \"CT\" \"DC\" \"DE\" \"FL\" \"GA\" \"GU\" \"HI\"\n",
              "[6119] \"IA\" \"ID\" \"IL\" \"IN\" \"KS\" \"KY\" \"LA\" \"MA\" \"MD\" \"ME\" \"MI\" \"MN\" \"MO\" \"MP\"\n",
              "[6133] \"MS\" \"MT\" \"NC\" \"ND\" \"NE\" \"NH\" \"NJ\" \"NM\" \"NV\" \"NY\" \"OH\" \"OK\" \"OR\" \"PA\"\n",
              "[6147] \"PR\" \"RI\" \"SC\" \"SD\" \"TN\" \"TX\" \"UT\" \"VA\" \"VI\" \"VT\" \"WA\" \"WI\" \"WV\" \"WY\"\n",
              "[6161] \"AK\" \"AL\" \"AR\" \"AS\" \"AZ\" \"CA\" \"CO\" \"CT\" \"DC\" \"DE\" \"FL\" \"GA\" \"GU\" \"HI\"\n",
              "[6175] \"IA\" \"ID\" \"IL\" \"IN\" \"KS\" \"KY\" \"LA\" \"MA\" \"MD\" \"ME\" \"MI\" \"MN\" \"MO\" \"MP\"\n",
              "[6189] \"MS\" \"MT\" \"NC\" \"ND\" \"NE\" \"NH\" \"NJ\" \"NM\" \"NV\" \"NY\" \"OH\" \"OK\" \"OR\" \"PA\"\n",
              "[6203] \"PR\" \"RI\" \"SC\" \"SD\" \"TN\" \"TX\" \"UT\" \"VA\" \"VI\" \"VT\" \"WA\" \"WI\" \"WV\" \"WY\"\n",
              "[6217] \"AK\" \"AL\" \"AR\" \"AS\" \"AZ\" \"CA\" \"CO\" \"CT\" \"DC\" \"DE\" \"FL\" \"GA\" \"GU\" \"HI\"\n",
              "[6231] \"IA\" \"ID\" \"IL\" \"IN\" \"KS\" \"KY\" \"LA\" \"MA\" \"MD\" \"ME\" \"MI\" \"MN\" \"MO\" \"MP\"\n",
              "[6245] \"MS\" \"MT\" \"NC\" \"ND\" \"NE\" \"NH\" \"NJ\" \"NM\" \"NV\" \"NY\" \"OH\" \"OK\" \"OR\" \"PA\"\n",
              "[6259] \"PR\" \"RI\" \"SC\" \"SD\" \"TN\" \"TX\" \"UT\" \"VA\" \"VI\" \"VT\" \"WA\" \"WI\" \"WV\" \"WY\"\n",
              "[6273] \"AK\" \"AL\" \"AR\" \"AS\" \"AZ\" \"CA\" \"CO\" \"CT\" \"DC\" \"DE\" \"FL\" \"GA\" \"GU\" \"HI\"\n",
              "[6287] \"IA\" \"ID\" \"IL\" \"IN\" \"KS\" \"KY\" \"LA\" \"MA\" \"MD\" \"ME\" \"MI\" \"MN\" \"MO\" \"MP\"\n",
              "[6301] \"MS\" \"MT\" \"NC\" \"ND\" \"NE\" \"NH\" \"NJ\" \"NM\" \"NV\" \"NY\" \"OH\" \"OK\" \"OR\" \"PA\"\n",
              "[6315] \"PR\" \"RI\" \"SC\" \"SD\" \"TN\" \"TX\" \"UT\" \"VA\" \"VI\" \"VT\" \"WA\" \"WI\" \"WV\" \"WY\"\n",
              "[6329] \"AK\" \"AL\" \"AR\" \"AS\" \"AZ\" \"CA\" \"CO\" \"CT\" \"DC\" \"DE\" \"FL\" \"GA\" \"GU\" \"HI\"\n",
              "[6343] \"IA\" \"ID\" \"IL\" \"IN\" \"KS\" \"KY\" \"LA\" \"MA\" \"MD\" \"ME\" \"MI\" \"MN\" \"MO\" \"MP\"\n",
              "[6357] \"MS\" \"MT\" \"NC\" \"ND\" \"NE\" \"NH\" \"NJ\" \"NM\" \"NV\" \"NY\" \"OH\" \"OK\" \"OR\" \"PA\"\n",
              "[6371] \"PR\" \"RI\" \"SC\" \"SD\" \"TN\" \"TX\" \"UT\" \"VA\" \"VI\" \"VT\" \"WA\" \"WI\" \"WV\" \"WY\"\n",
              "[6385] \"AK\" \"AL\" \"AR\" \"AS\" \"AZ\" \"CA\" \"CO\" \"CT\" \"DC\" \"DE\" \"FL\" \"GA\" \"GU\" \"HI\"\n",
              "[6399] \"IA\" \"ID\" \"IL\" \"IN\" \"KS\" \"KY\" \"LA\" \"MA\" \"MD\" \"ME\" \"MI\" \"MN\" \"MO\" \"MP\"\n",
              "[6413] \"MS\" \"MT\" \"NC\" \"ND\" \"NE\" \"NH\" \"NJ\" \"NM\" \"NV\" \"NY\" \"OH\" \"OK\" \"OR\" \"PA\"\n",
              "[6427] \"PR\" \"RI\" \"SC\" \"SD\" \"TN\" \"TX\" \"UT\" \"VA\" \"VI\" \"VT\" \"WA\" \"WI\" \"WV\" \"WY\"\n",
              "[6441] \"AK\" \"AL\" \"AR\" \"AS\" \"AZ\" \"CA\" \"CO\" \"CT\" \"DC\" \"DE\" \"FL\" \"GA\" \"GU\" \"HI\"\n",
              "[6455] \"IA\" \"ID\" \"IL\" \"IN\" \"KS\" \"KY\" \"LA\" \"MA\" \"MD\" \"ME\" \"MI\" \"MN\" \"MO\" \"MP\"\n",
              "[6469] \"MS\" \"MT\" \"NC\" \"ND\" \"NE\" \"NH\" \"NJ\" \"NM\" \"NV\" \"NY\" \"OH\" \"OK\" \"OR\" \"PA\"\n",
              "[6483] \"PR\" \"RI\" \"SC\" \"SD\" \"TN\" \"TX\" \"UT\" \"VA\" \"VI\" \"VT\" \"WA\" \"WI\" \"WV\" \"WY\"\n",
              "[6497] \"AK\" \"AL\" \"AR\" \"AS\" \"AZ\" \"CA\" \"CO\" \"CT\" \"DC\" \"DE\" \"FL\" \"GA\" \"GU\" \"HI\"\n",
              "[6511] \"IA\" \"ID\" \"IL\" \"IN\" \"KS\" \"KY\" \"LA\" \"MA\" \"MD\" \"ME\" \"MI\" \"MN\" \"MO\" \"MP\"\n",
              "[6525] \"MS\" \"MT\" \"NC\" \"ND\" \"NE\" \"NH\" \"NJ\" \"NM\" \"NV\" \"NY\" \"OH\" \"OK\" \"OR\" \"PA\"\n",
              "[6539] \"PR\" \"RI\" \"SC\" \"SD\" \"TN\" \"TX\" \"UT\" \"VA\" \"VI\" \"VT\" \"WA\" \"WI\" \"WV\" \"WY\"\n",
              "[6553] \"AK\" \"AL\" \"AR\" \"AS\" \"AZ\" \"CA\" \"CO\" \"CT\" \"DC\" \"DE\" \"FL\" \"GA\" \"GU\" \"HI\"\n",
              "[6567] \"IA\" \"ID\" \"IL\" \"IN\" \"KS\" \"KY\" \"LA\" \"MA\" \"MD\" \"ME\" \"MI\" \"MN\" \"MO\" \"MP\"\n",
              "[6581] \"MS\" \"MT\" \"NC\" \"ND\" \"NE\" \"NH\" \"NJ\" \"NM\" \"NV\" \"NY\" \"OH\" \"OK\" \"OR\" \"PA\"\n",
              "[6595] \"PR\" \"RI\" \"SC\" \"SD\" \"TN\" \"TX\" \"UT\" \"VA\" \"VI\" \"VT\" \"WA\" \"WI\" \"WV\" \"WY\"\n",
              "[6609] \"AK\" \"AL\" \"AR\" \"AS\" \"AZ\" \"CA\" \"CO\" \"CT\" \"DC\" \"DE\" \"FL\" \"GA\" \"GU\" \"HI\"\n",
              "[6623] \"IA\" \"ID\" \"IL\" \"IN\" \"KS\" \"KY\" \"LA\" \"MA\" \"MD\" \"ME\" \"MI\" \"MN\" \"MO\" \"MP\"\n",
              "[6637] \"MS\" \"MT\" \"NC\" \"ND\" \"NE\" \"NH\" \"NJ\" \"NM\" \"NV\" \"NY\" \"OH\" \"OK\" \"OR\" \"PA\"\n",
              "[6651] \"PR\" \"RI\" \"SC\" \"SD\" \"TN\" \"TX\" \"UT\" \"VA\" \"VI\" \"VT\" \"WA\" \"WI\" \"WV\" \"WY\"\n",
              "[6665] \"AK\" \"AL\" \"AR\" \"AS\" \"AZ\" \"CA\" \"CO\" \"CT\" \"DC\" \"DE\" \"FL\" \"GA\" \"GU\" \"HI\"\n",
              "[6679] \"IA\" \"ID\" \"IL\" \"IN\" \"KS\" \"KY\" \"LA\" \"MA\" \"MD\" \"ME\" \"MI\" \"MN\" \"MO\" \"MP\"\n",
              "[6693] \"MS\" \"MT\" \"NC\" \"ND\" \"NE\" \"NH\" \"NJ\" \"NM\" \"NV\" \"NY\" \"OH\" \"OK\" \"OR\" \"PA\"\n",
              "[6707] \"PR\" \"RI\" \"SC\" \"SD\" \"TN\" \"TX\" \"UT\" \"VA\" \"VI\" \"VT\" \"WA\" \"WI\" \"WV\" \"WY\"\n",
              "[6721] \"AK\" \"AL\" \"AR\" \"AS\" \"AZ\" \"CA\" \"CO\" \"CT\" \"DC\" \"DE\" \"FL\" \"GA\" \"GU\" \"HI\"\n",
              "[6735] \"IA\" \"ID\" \"IL\" \"IN\" \"KS\" \"KY\" \"LA\" \"MA\" \"MD\" \"ME\" \"MI\" \"MN\" \"MO\" \"MP\"\n",
              "[6749] \"MS\" \"MT\" \"NC\" \"ND\" \"NE\" \"NH\" \"NJ\" \"NM\" \"NV\" \"NY\" \"OH\" \"OK\" \"OR\" \"PA\"\n",
              "[6763] \"PR\" \"RI\" \"SC\" \"SD\" \"TN\" \"TX\" \"UT\" \"VA\" \"VI\" \"VT\" \"WA\" \"WI\" \"WV\" \"WY\"\n",
              "[6777] \"AK\" \"AL\" \"AR\" \"AS\" \"AZ\" \"CA\" \"CO\" \"CT\" \"DC\" \"DE\" \"FL\" \"GA\" \"GU\" \"HI\"\n",
              "[6791] \"IA\" \"ID\" \"IL\" \"IN\" \"KS\" \"KY\" \"LA\" \"MA\" \"MD\" \"ME\" \"MI\" \"MN\" \"MO\" \"MP\"\n",
              "[6805] \"MS\" \"MT\" \"NC\" \"ND\" \"NE\" \"NH\" \"NJ\" \"NM\" \"NV\" \"NY\" \"OH\" \"OK\" \"OR\" \"PA\"\n",
              "[6819] \"PR\" \"RI\" \"SC\" \"SD\" \"TN\" \"TX\" \"UT\" \"VA\" \"VI\" \"VT\" \"WA\" \"WI\" \"WV\" \"WY\"\n",
              "[6833] \"AK\" \"AL\" \"AR\" \"AS\" \"AZ\" \"CA\" \"CO\" \"CT\" \"DC\" \"DE\" \"FL\" \"GA\" \"GU\" \"HI\"\n",
              "[6847] \"IA\" \"ID\" \"IL\" \"IN\" \"KS\" \"KY\" \"LA\" \"MA\" \"MD\" \"ME\" \"MI\" \"MN\" \"MO\" \"MP\"\n",
              "[6861] \"MS\" \"MT\" \"NC\" \"ND\" \"NE\" \"NH\" \"NJ\" \"NM\" \"NV\" \"NY\" \"OH\" \"OK\" \"OR\" \"PA\"\n",
              "[6875] \"PR\" \"RI\" \"SC\" \"SD\" \"TN\" \"TX\" \"UT\" \"VA\" \"VI\" \"VT\" \"WA\" \"WI\" \"WV\" \"WY\"\n",
              "[6889] \"AK\" \"AL\" \"AR\" \"AS\" \"AZ\" \"CA\" \"CO\" \"CT\" \"DC\" \"DE\" \"FL\" \"GA\" \"GU\" \"HI\"\n",
              "[6903] \"IA\" \"ID\" \"IL\" \"IN\" \"KS\" \"KY\" \"LA\" \"MA\" \"MD\" \"ME\" \"MI\" \"MN\" \"MO\" \"MP\"\n",
              "[6917] \"MS\" \"MT\" \"NC\" \"ND\" \"NE\" \"NH\" \"NJ\" \"NM\" \"NV\" \"NY\" \"OH\" \"OK\" \"OR\" \"PA\"\n",
              "[6931] \"PR\" \"RI\" \"SC\" \"SD\" \"TN\" \"TX\" \"UT\" \"VA\" \"VI\" \"VT\" \"WA\" \"WI\" \"WV\" \"WY\"\n",
              "[6945] \"AK\" \"AL\" \"AR\" \"AS\" \"AZ\" \"CA\" \"CO\" \"CT\" \"DC\" \"DE\" \"FL\" \"GA\" \"GU\" \"HI\"\n",
              "[6959] \"IA\" \"ID\" \"IL\" \"IN\" \"KS\" \"KY\" \"LA\" \"MA\" \"MD\" \"ME\" \"MI\" \"MN\" \"MO\" \"MP\"\n",
              "[6973] \"MS\" \"MT\" \"NC\" \"ND\" \"NE\" \"NH\" \"NJ\" \"NM\" \"NV\" \"NY\" \"OH\" \"OK\" \"OR\" \"PA\"\n",
              "[6987] \"PR\" \"RI\" \"SC\" \"SD\" \"TN\" \"TX\" \"UT\" \"VA\" \"VI\" \"VT\" \"WA\" \"WI\" \"WV\" \"WY\"\n",
              "[7001] \"AK\" \"AL\" \"AR\" \"AS\" \"AZ\" \"CA\" \"CO\" \"CT\" \"DC\" \"DE\" \"FL\" \"GA\" \"GU\" \"HI\"\n",
              "[7015] \"IA\" \"ID\" \"IL\" \"IN\" \"KS\" \"KY\" \"LA\" \"MA\" \"MD\" \"ME\" \"MI\" \"MN\" \"MO\" \"MP\"\n",
              "[7029] \"MS\" \"MT\" \"NC\" \"ND\" \"NE\" \"NH\" \"NJ\" \"NM\" \"NV\" \"NY\" \"OH\" \"OK\" \"OR\" \"PA\"\n",
              "[7043] \"PR\" \"RI\" \"SC\" \"SD\" \"TN\" \"TX\" \"UT\" \"VA\" \"VI\" \"VT\" \"WA\" \"WI\" \"WV\" \"WY\"\n",
              "[7057] \"AK\" \"AL\" \"AR\" \"AS\" \"AZ\" \"CA\" \"CO\" \"CT\" \"DC\" \"DE\" \"FL\" \"GA\" \"GU\" \"HI\"\n",
              "[7071] \"IA\" \"ID\" \"IL\" \"IN\" \"KS\" \"KY\" \"LA\" \"MA\" \"MD\" \"ME\" \"MI\" \"MN\" \"MO\" \"MP\"\n",
              "[7085] \"MS\" \"MT\" \"NC\" \"ND\" \"NE\" \"NH\" \"NJ\" \"NM\" \"NV\" \"NY\" \"OH\" \"OK\" \"OR\" \"PA\"\n",
              "[7099] \"PR\" \"RI\" \"SC\" \"SD\" \"TN\" \"TX\" \"UT\" \"VA\" \"VI\" \"VT\" \"WA\" \"WI\" \"WV\" \"WY\"\n",
              "[7113] \"AK\" \"AL\" \"AR\" \"AS\" \"AZ\" \"CA\" \"CO\" \"CT\" \"DC\" \"DE\" \"FL\" \"GA\" \"GU\" \"HI\"\n",
              "[7127] \"IA\" \"ID\" \"IL\" \"IN\" \"KS\" \"KY\" \"LA\" \"MA\" \"MD\" \"ME\" \"MI\" \"MN\" \"MO\" \"MP\"\n",
              "[7141] \"MS\" \"MT\" \"NC\" \"ND\" \"NE\" \"NH\" \"NJ\" \"NM\" \"NV\" \"NY\" \"OH\" \"OK\" \"OR\" \"PA\"\n",
              "[7155] \"PR\" \"RI\" \"SC\" \"SD\" \"TN\" \"TX\" \"UT\" \"VA\" \"VI\" \"VT\" \"WA\" \"WI\" \"WV\" \"WY\"\n",
              "[7169] \"AK\" \"AL\" \"AR\" \"AS\" \"AZ\" \"CA\" \"CO\" \"CT\" \"DC\" \"DE\" \"FL\" \"GA\" \"GU\" \"HI\"\n",
              "[7183] \"IA\" \"ID\" \"IL\" \"IN\" \"KS\" \"KY\" \"LA\" \"MA\" \"MD\" \"ME\" \"MI\" \"MN\" \"MO\" \"MP\"\n",
              "[7197] \"MS\" \"MT\" \"NC\" \"ND\" \"NE\" \"NH\" \"NJ\" \"NM\" \"NV\" \"NY\" \"OH\" \"OK\" \"OR\" \"PA\"\n",
              "[7211] \"PR\" \"RI\" \"SC\" \"SD\" \"TN\" \"TX\" \"UT\" \"VA\" \"VI\" \"VT\" \"WA\" \"WI\" \"WV\" \"WY\"\n",
              "[7225] \"AK\" \"AL\" \"AR\" \"AS\" \"AZ\" \"CA\" \"CO\" \"CT\" \"DC\" \"DE\" \"FL\" \"GA\" \"GU\" \"HI\"\n",
              "[7239] \"IA\" \"ID\" \"IL\" \"IN\" \"KS\" \"KY\" \"LA\" \"MA\" \"MD\" \"ME\" \"MI\" \"MN\" \"MO\" \"MP\"\n",
              "[7253] \"MS\" \"MT\" \"NC\" \"ND\" \"NE\" \"NH\" \"NJ\" \"NM\" \"NV\" \"NY\" \"OH\" \"OK\" \"OR\" \"PA\"\n",
              "[7267] \"PR\" \"RI\" \"SC\" \"SD\" \"TN\" \"TX\" \"UT\" \"VA\" \"VI\" \"VT\" \"WA\" \"WI\" \"WV\" \"WY\"\n",
              "[7281] \"AK\" \"AL\" \"AR\" \"AS\" \"AZ\" \"CA\" \"CO\" \"CT\" \"DC\" \"DE\" \"FL\" \"GA\" \"GU\" \"HI\"\n",
              "[7295] \"IA\" \"ID\" \"IL\" \"IN\" \"KS\" \"KY\" \"LA\" \"MA\" \"MD\" \"ME\" \"MI\" \"MN\" \"MO\" \"MP\"\n",
              "[7309] \"MS\" \"MT\" \"NC\" \"ND\" \"NE\" \"NH\" \"NJ\" \"NM\" \"NV\" \"NY\" \"OH\" \"OK\" \"OR\" \"PA\"\n",
              "[7323] \"PR\" \"RI\" \"SC\" \"SD\" \"TN\" \"TX\" \"UT\" \"VA\" \"VI\" \"VT\" \"WA\" \"WI\" \"WV\" \"WY\"\n",
              "[7337] \"AK\" \"AL\" \"AR\" \"AS\" \"AZ\" \"CA\" \"CO\" \"CT\" \"DC\" \"DE\" \"FL\" \"GA\" \"GU\" \"HI\"\n",
              "[7351] \"IA\" \"ID\" \"IL\" \"IN\" \"KS\" \"KY\" \"LA\" \"MA\" \"MD\" \"ME\" \"MI\" \"MN\" \"MO\" \"MP\"\n",
              "[7365] \"MS\" \"MT\" \"NC\" \"ND\" \"NE\" \"NH\" \"NJ\" \"NM\" \"NV\" \"NY\" \"OH\" \"OK\" \"OR\" \"PA\"\n",
              "[7379] \"PR\" \"RI\" \"SC\" \"SD\" \"TN\" \"TX\" \"UT\" \"VA\" \"VI\" \"VT\" \"WA\" \"WI\" \"WV\" \"WY\"\n",
              "[7393] \"AK\" \"AL\" \"AR\" \"AS\" \"AZ\" \"CA\" \"CO\" \"CT\" \"DC\" \"DE\" \"FL\" \"GA\" \"GU\" \"HI\"\n",
              "[7407] \"IA\" \"ID\" \"IL\" \"IN\" \"KS\" \"KY\" \"LA\" \"MA\" \"MD\" \"ME\" \"MI\" \"MN\" \"MO\" \"MP\"\n",
              "[7421] \"MS\" \"MT\" \"NC\" \"ND\" \"NE\" \"NH\" \"NJ\" \"NM\" \"NV\" \"NY\" \"OH\" \"OK\" \"OR\" \"PA\"\n",
              "[7435] \"PR\" \"RI\" \"SC\" \"SD\" \"TN\" \"TX\" \"UT\" \"VA\" \"VI\" \"VT\" \"WA\" \"WI\" \"WV\" \"WY\"\n",
              "[7449] \"AK\" \"AL\" \"AR\" \"AS\" \"AZ\" \"CA\" \"CO\" \"CT\" \"DC\" \"DE\" \"FL\" \"GA\" \"GU\" \"HI\"\n",
              "[7463] \"IA\" \"ID\" \"IL\" \"IN\" \"KS\" \"KY\" \"LA\" \"MA\" \"MD\" \"ME\" \"MI\" \"MN\" \"MO\" \"MP\"\n",
              "[7477] \"MS\" \"MT\" \"NC\" \"ND\" \"NE\" \"NH\" \"NJ\" \"NM\" \"NV\" \"NY\" \"OH\" \"OK\" \"OR\" \"PA\"\n",
              "[7491] \"PR\" \"RI\" \"SC\" \"SD\" \"TN\" \"TX\" \"UT\" \"VA\" \"VI\" \"VT\" \"WA\" \"WI\" \"WV\" \"WY\"\n",
              "[7505] \"AK\" \"AL\" \"AR\" \"AS\" \"AZ\" \"CA\" \"CO\" \"CT\" \"DC\" \"DE\" \"FL\" \"GA\" \"GU\" \"HI\"\n",
              "[7519] \"IA\" \"ID\" \"IL\" \"IN\" \"KS\" \"KY\" \"LA\" \"MA\" \"MD\" \"ME\" \"MI\" \"MN\" \"MO\" \"MP\"\n",
              "[7533] \"MS\" \"MT\" \"NC\" \"ND\" \"NE\" \"NH\" \"NJ\" \"NM\" \"NV\" \"NY\" \"OH\" \"OK\" \"OR\" \"PA\"\n",
              "[7547] \"PR\" \"RI\" \"SC\" \"SD\" \"TN\" \"TX\" \"UT\" \"VA\" \"VI\" \"VT\" \"WA\" \"WI\" \"WV\" \"WY\"\n",
              "[7561] \"AK\" \"AL\" \"AR\" \"AS\" \"AZ\" \"CA\" \"CO\" \"CT\" \"DC\" \"DE\" \"FL\" \"GA\" \"GU\" \"HI\"\n",
              "[7575] \"IA\" \"ID\" \"IL\" \"IN\" \"KS\" \"KY\" \"LA\" \"MA\" \"MD\" \"ME\" \"MI\" \"MN\" \"MO\" \"MP\"\n",
              "[7589] \"MS\" \"MT\" \"NC\" \"ND\" \"NE\" \"NH\" \"NJ\" \"NM\" \"NV\" \"NY\" \"OH\" \"OK\" \"OR\" \"PA\"\n",
              "[7603] \"PR\" \"RI\" \"SC\" \"SD\" \"TN\" \"TX\" \"UT\" \"VA\" \"VI\" \"VT\" \"WA\" \"WI\" \"WV\" \"WY\"\n",
              "[7617] \"AK\" \"AL\" \"AR\" \"AS\" \"AZ\" \"CA\" \"CO\" \"CT\" \"DC\" \"DE\" \"FL\" \"GA\" \"GU\" \"HI\"\n",
              "[7631] \"IA\" \"ID\" \"IL\" \"IN\" \"KS\" \"KY\" \"LA\" \"MA\" \"MD\" \"ME\" \"MI\" \"MN\" \"MO\" \"MP\"\n",
              "[7645] \"MS\" \"MT\" \"NC\" \"ND\" \"NE\" \"NH\" \"NJ\" \"NM\" \"NV\" \"NY\" \"OH\" \"OK\" \"OR\" \"PA\"\n",
              "[7659] \"PR\" \"RI\" \"SC\" \"SD\" \"TN\" \"TX\" \"UT\" \"VA\" \"VI\" \"VT\" \"WA\" \"WI\" \"WV\" \"WY\"\n",
              "[7673] \"AK\" \"AL\" \"AR\" \"AS\" \"AZ\" \"CA\" \"CO\" \"CT\" \"DC\" \"DE\" \"FL\" \"GA\" \"GU\" \"HI\"\n",
              "[7687] \"IA\" \"ID\" \"IL\" \"IN\" \"KS\" \"KY\" \"LA\" \"MA\" \"MD\" \"ME\" \"MI\" \"MN\" \"MO\" \"MP\"\n",
              "[7701] \"MS\" \"MT\" \"NC\" \"ND\" \"NE\" \"NH\" \"NJ\" \"NM\" \"NV\" \"NY\" \"OH\" \"OK\" \"OR\" \"PA\"\n",
              "[7715] \"PR\" \"RI\" \"SC\" \"SD\" \"TN\" \"TX\" \"UT\" \"VA\" \"VI\" \"VT\" \"WA\" \"WI\" \"WV\" \"WY\"\n",
              "[7729] \"AK\" \"AL\" \"AR\" \"AS\" \"AZ\" \"CA\" \"CO\" \"CT\" \"DC\" \"DE\" \"FL\" \"GA\" \"GU\" \"HI\"\n",
              "[7743] \"IA\" \"ID\" \"IL\" \"IN\" \"KS\" \"KY\" \"LA\" \"MA\" \"MD\" \"ME\" \"MI\" \"MN\" \"MO\" \"MP\"\n",
              "[7757] \"MS\" \"MT\" \"NC\" \"ND\" \"NE\" \"NH\" \"NJ\" \"NM\" \"NV\" \"NY\" \"OH\" \"OK\" \"OR\" \"PA\"\n",
              "[7771] \"PR\" \"RI\" \"SC\" \"SD\" \"TN\" \"TX\" \"UT\" \"VA\" \"VI\" \"VT\" \"WA\" \"WI\" \"WV\" \"WY\"\n",
              "[7785] \"AK\" \"AL\" \"AR\" \"AS\" \"AZ\" \"CA\" \"CO\" \"CT\" \"DC\" \"DE\" \"FL\" \"GA\" \"GU\" \"HI\"\n",
              "[7799] \"IA\" \"ID\" \"IL\" \"IN\" \"KS\" \"KY\" \"LA\" \"MA\" \"MD\" \"ME\" \"MI\" \"MN\" \"MO\" \"MP\"\n",
              "[7813] \"MS\" \"MT\" \"NC\" \"ND\" \"NE\" \"NH\" \"NJ\" \"NM\" \"NV\" \"NY\" \"OH\" \"OK\" \"OR\" \"PA\"\n",
              "[7827] \"PR\" \"RI\" \"SC\" \"SD\" \"TN\" \"TX\" \"UT\" \"VA\" \"VI\" \"VT\" \"WA\" \"WI\" \"WV\" \"WY\"\n",
              "[7841] \"AK\" \"AL\" \"AR\" \"AS\" \"AZ\" \"CA\" \"CO\" \"CT\" \"DC\" \"DE\" \"FL\" \"GA\" \"GU\" \"HI\"\n",
              "[7855] \"IA\" \"ID\" \"IL\" \"IN\" \"KS\" \"KY\" \"LA\" \"MA\" \"MD\" \"ME\" \"MI\" \"MN\" \"MO\" \"MP\"\n",
              "[7869] \"MS\" \"MT\" \"NC\" \"ND\" \"NE\" \"NH\" \"NJ\" \"NM\" \"NV\" \"NY\" \"OH\" \"OK\" \"OR\" \"PA\"\n",
              "[7883] \"PR\" \"RI\" \"SC\" \"SD\" \"TN\" \"TX\" \"UT\" \"VA\" \"VI\" \"VT\" \"WA\" \"WI\" \"WV\" \"WY\"\n",
              "[7897] \"AK\" \"AL\" \"AR\" \"AS\" \"AZ\" \"CA\" \"CO\" \"CT\" \"DC\" \"DE\" \"FL\" \"GA\" \"GU\" \"HI\"\n",
              "[7911] \"IA\" \"ID\" \"IL\" \"IN\" \"KS\" \"KY\" \"LA\" \"MA\" \"MD\" \"ME\" \"MI\" \"MN\" \"MO\" \"MP\"\n",
              "[7925] \"MS\" \"MT\" \"NC\" \"ND\" \"NE\" \"NH\" \"NJ\" \"NM\" \"NV\" \"NY\" \"OH\" \"OK\" \"OR\" \"PA\"\n",
              "[7939] \"PR\" \"RI\" \"SC\" \"SD\" \"TN\" \"TX\" \"UT\" \"VA\" \"VI\" \"VT\" \"WA\" \"WI\" \"WV\" \"WY\"\n",
              "[7953] \"AK\" \"AL\" \"AR\" \"AS\" \"AZ\" \"CA\" \"CO\" \"CT\" \"DC\" \"DE\" \"FL\" \"GA\" \"GU\" \"HI\"\n",
              "[7967] \"IA\" \"ID\" \"IL\" \"IN\" \"KS\" \"KY\" \"LA\" \"MA\" \"MD\" \"ME\" \"MI\" \"MN\" \"MO\" \"MP\"\n",
              "[7981] \"MS\" \"MT\" \"NC\" \"ND\" \"NE\" \"NH\" \"NJ\" \"NM\" \"NV\" \"NY\" \"OH\" \"OK\" \"OR\" \"PA\"\n",
              "[7995] \"PR\" \"RI\" \"SC\" \"SD\" \"TN\" \"TX\" \"UT\" \"VA\" \"VI\" \"VT\" \"WA\" \"WI\" \"WV\" \"WY\"\n",
              "[8009] \"AK\" \"AL\" \"AR\" \"AS\" \"AZ\" \"CA\" \"CO\" \"CT\" \"DC\" \"DE\" \"FL\" \"GA\" \"GU\" \"HI\"\n",
              "[8023] \"IA\" \"ID\" \"IL\" \"IN\" \"KS\" \"KY\" \"LA\" \"MA\" \"MD\" \"ME\" \"MI\" \"MN\" \"MO\" \"MP\"\n",
              "[8037] \"MS\" \"MT\" \"NC\" \"ND\" \"NE\" \"NH\" \"NJ\" \"NM\" \"NV\" \"NY\" \"OH\" \"OK\" \"OR\" \"PA\"\n",
              "[8051] \"PR\" \"RI\" \"SC\" \"SD\" \"TN\" \"TX\" \"UT\" \"VA\" \"VI\" \"VT\" \"WA\" \"WI\" \"WV\" \"WY\"\n",
              "[8065] \"AK\" \"AL\" \"AR\" \"AS\" \"AZ\" \"CA\" \"CO\" \"CT\" \"DC\" \"DE\" \"FL\" \"GA\" \"GU\" \"HI\"\n",
              "[8079] \"IA\" \"ID\" \"IL\" \"IN\" \"KS\" \"KY\" \"LA\" \"MA\" \"MD\" \"ME\" \"MI\" \"MN\" \"MO\" \"MP\"\n",
              "[8093] \"MS\" \"MT\" \"NC\" \"ND\" \"NE\" \"NH\" \"NJ\" \"NM\" \"NV\" \"NY\" \"OH\" \"OK\" \"OR\" \"PA\"\n",
              "[8107] \"PR\" \"RI\" \"SC\" \"SD\" \"TN\" \"TX\" \"UT\" \"VA\" \"VI\" \"VT\" \"WA\" \"WI\" \"WV\" \"WY\"\n",
              "[8121] \"AK\" \"AL\" \"AR\" \"AZ\" \"CA\" \"CO\" \"CT\" \"DC\" \"DE\" \"FL\" \"GA\" \"HI\" \"IA\" \"ID\"\n",
              "[8135] \"IL\" \"IN\" \"KS\" \"KY\" \"LA\" \"MA\" \"MD\" \"ME\" \"MI\" \"MN\" \"MO\" \"MS\" \"MT\" \"NC\"\n",
              "[8149] \"ND\" \"NE\" \"NH\" \"NJ\" \"NM\" \"NV\" \"NY\" \"OH\" \"OK\" \"OR\" \"PA\" \"RI\" \"SC\" \"SD\"\n",
              "[8163] \"TN\" \"TX\" \"UT\" \"VA\" \"VT\" \"WA\" \"WI\" \"WV\" \"WY\" \"AK\" \"AL\" \"AR\" \"AZ\" \"CA\"\n",
              "[8177] \"CO\" \"CT\" \"DC\" \"DE\" \"FL\" \"GA\" \"HI\" \"IA\" \"ID\" \"IL\" \"IN\" \"KS\" \"KY\" \"LA\"\n",
              "[8191] \"MA\" \"MD\" \"ME\" \"MI\" \"MN\" \"MO\" \"MS\" \"MT\" \"NC\" \"ND\" \"NE\" \"NH\" \"NJ\" \"NM\"\n",
              "[8205] \"NV\" \"NY\" \"OH\" \"OK\" \"OR\" \"PA\" \"RI\" \"SC\" \"SD\" \"TN\" \"TX\" \"UT\" \"VA\" \"VT\"\n",
              "[8219] \"WA\" \"WI\" \"WV\" \"WY\" \"AK\" \"AL\" \"AR\" \"AZ\" \"CA\" \"CO\" \"CT\" \"DC\" \"DE\" \"FL\"\n",
              "[8233] \"GA\" \"HI\" \"IA\" \"ID\" \"IL\" \"IN\" \"KS\" \"KY\" \"LA\" \"MA\" \"MD\" \"ME\" \"MI\" \"MN\"\n",
              "[8247] \"MO\" \"MS\" \"MT\" \"NC\" \"ND\" \"NE\" \"NH\" \"NJ\" \"NM\" \"NV\" \"NY\" \"OH\" \"OK\" \"OR\"\n",
              "[8261] \"PA\" \"RI\" \"SC\" \"SD\" \"TN\" \"TX\" \"UT\" \"VA\" \"VT\" \"WA\" \"WI\" \"WV\" \"WY\" \"AK\"\n",
              "[8275] \"AL\" \"AR\" \"AZ\" \"CA\" \"CO\" \"CT\" \"DC\" \"DE\" \"FL\" \"GA\" \"HI\" \"IA\" \"ID\" \"IL\"\n",
              "[8289] \"IN\" \"KS\" \"KY\" \"LA\" \"MA\" \"MD\" \"ME\" \"MI\" \"MN\" \"MO\" \"MS\" \"MT\" \"NC\" \"ND\"\n",
              "[8303] \"NE\" \"NH\" \"NJ\" \"NM\" \"NV\" \"NY\" \"OH\" \"OK\" \"OR\" \"PA\" \"RI\" \"SC\" \"SD\" \"TN\"\n",
              "[8317] \"TX\" \"UT\" \"VA\" \"VT\" \"WA\" \"WI\" \"WV\" \"WY\" \"AK\" \"AL\" \"AR\" \"AZ\" \"CA\" \"CO\"\n",
              "[8331] \"CT\" \"DC\" \"DE\" \"FL\" \"GA\" \"HI\" \"IA\" \"ID\" \"IL\" \"IN\" \"KS\" \"KY\" \"LA\" \"MD\"\n",
              "[8345] \"ME\" \"MI\" \"MN\" \"MO\" \"MS\" \"MT\" \"NC\" \"ND\" \"NE\" \"NH\" \"NJ\" \"NM\" \"NV\" \"NY\"\n",
              "[8359] \"OH\" \"OK\" \"OR\" \"PA\" \"RI\" \"SC\" \"SD\" \"TN\" \"TX\" \"UT\" \"VA\" \"VT\" \"WA\" \"WI\"\n",
              "[8373] \"WV\" \"WY\" \"AK\" \"AL\" \"AR\" \"AZ\" \"CA\" \"CO\" \"CT\" \"DC\" \"DE\" \"FL\" \"GA\" \"HI\"\n",
              "[8387] \"IA\" \"ID\" \"IL\" \"IN\" \"KS\" \"KY\" \"LA\" \"MD\" \"ME\" \"MI\" \"MN\" \"MO\" \"MS\" \"MT\"\n",
              "[8401] \"NC\" \"ND\" \"NE\" \"NH\" \"NJ\" \"NM\" \"NV\" \"NY\" \"OH\" \"OK\" \"OR\" \"PA\" \"RI\" \"SC\"\n",
              "[8415] \"SD\" \"TN\" \"TX\" \"UT\" \"VA\" \"VT\" \"WA\" \"WI\" \"WV\" \"WY\" \"AK\" \"AL\" \"AR\" \"AZ\"\n",
              "[8429] \"CA\" \"CO\" \"CT\" \"DC\" \"DE\" \"FL\" \"GA\" \"HI\" \"IA\" \"ID\" \"IL\" \"IN\" \"KS\" \"KY\"\n",
              "[8443] \"LA\" \"MD\" \"ME\" \"MI\" \"MN\" \"MO\" \"MS\" \"MT\" \"NC\" \"ND\" \"NE\" \"NH\" \"NJ\" \"NM\"\n",
              "[8457] \"NV\" \"NY\" \"OH\" \"OK\" \"OR\" \"PA\" \"RI\" \"SC\" \"SD\" \"TN\" \"TX\" \"UT\" \"VA\" \"VT\"\n",
              "[8471] \"WA\" \"WI\" \"WV\" \"WY\" \"AK\" \"AL\" \"AR\" \"AZ\" \"CA\" \"CO\" \"CT\" \"DC\" \"DE\" \"FL\"\n",
              "[8485] \"GA\" \"HI\" \"IA\" \"ID\" \"IL\" \"IN\" \"KS\" \"KY\" \"LA\" \"MD\" \"ME\" \"MI\" \"MN\" \"MO\"\n",
              "[8499] \"MS\" \"MT\" \"NC\" \"ND\" \"NE\" \"NH\" \"NJ\" \"NM\" \"NV\" \"NY\" \"OH\" \"OK\" \"OR\" \"PA\"\n",
              "[8513] \"RI\" \"SC\" \"SD\" \"TN\" \"TX\" \"UT\" \"VA\" \"VT\" \"WA\" \"WI\" \"WV\" \"WY\" \"AK\" \"AL\"\n",
              "[8527] \"AR\" \"AZ\" \"CA\" \"CO\" \"CT\" \"DC\" \"DE\" \"FL\" \"GA\" \"HI\" \"IA\" \"ID\" \"IL\" \"IN\"\n",
              "[8541] \"KS\" \"KY\" \"LA\" \"MD\" \"ME\" \"MI\" \"MN\" \"MO\" \"MS\" \"MT\" \"NC\" \"ND\" \"NE\" \"NH\"\n",
              "[8555] \"NJ\" \"NM\" \"NV\" \"NY\" \"OH\" \"OK\" \"OR\" \"PA\" \"RI\" \"SC\" \"SD\" \"TN\" \"TX\" \"UT\"\n",
              "[8569] \"VA\" \"VT\" \"WA\" \"WI\" \"WV\" \"WY\" \"AK\" \"AR\" \"AZ\" \"CA\" \"CO\" \"DC\" \"DE\" \"FL\"\n",
              "[8583] \"GA\" \"IA\" \"IL\" \"IN\" \"KS\" \"KY\" \"MD\" \"MI\" \"MN\" \"NC\" \"NE\" \"NH\" \"NJ\" \"NM\"\n",
              "[8597] \"NV\" \"NY\" \"OH\" \"OR\" \"PA\" \"RI\" \"SC\" \"TN\" \"TX\" \"VA\" \"VT\" \"WA\" \"WI\" \"WV\"\n",
              "[8611] \"AZ\" \"CA\" \"CO\" \"DC\" \"FL\" \"GA\" \"IL\" \"MD\" \"MI\" \"NC\" \"NE\" \"NH\" \"NJ\" \"NV\"\n",
              "[8625] \"NY\" \"OH\" \"OR\" \"RI\" \"SC\" \"TN\" \"TX\" \"VA\" \"WA\" \"WI\" \"AZ\" \"CA\" \"FL\" \"GA\"\n",
              "[8639] \"IL\" \"MI\" \"NC\" \"NH\" \"NY\" \"OR\" \"RI\" \"SC\" \"TX\" \"WA\" \"WI\" \"MI\" \"RI\" \"WA\"\n",
              "[8653] \"MI\" \"RI\" \"WA\" \"MI\" \"RI\" \"WA\" \"WA\" \"WA\" \"WA\" \"WA\" \"WA\" \"WA\" \"WA\" \"WA\"\n",
              "[8667] \"WA\" \"WA\" \"WA\" \"WA\" \"WA\" \"WA\" \"WA\" \"WA\" \"WA\" \"WA\" \"WA\" \"WA\" \"WA\" \"WA\"\n",
              "[8681] \"WA\" \"WA\" \"WA\" \"WA\" \"WA\" \"WA\" \"WA\" \"WA\" \"WA\" \"WA\" \"WA\" \"WA\" \"WA\" \"WA\"\n",
              "[8695] \"WA\" \"WA\" \"WA\""
            ]
          },
          "metadata": {}
        }
      ],
      "source": [
        "COVID$state"
      ]
    },
    {
      "cell_type": "code",
      "execution_count": 32,
      "id": "5cda687b",
      "metadata": {
        "id": "5cda687b",
        "outputId": "e135e779-4538-4dd7-e43c-d7c32406fbe8",
        "colab": {
          "base_uri": "https://localhost:8080/"
        }
      },
      "outputs": [
        {
          "output_type": "stream",
          "name": "stdout",
          "text": [
            "'data.frame':\t8697 obs. of  41 variables:\n",
            " $ date                    : int  20200807 20200807 20200807 20200807 20200807 20200807 20200807 20200807 20200807 20200807 ...\n",
            " $ state                   : chr  \"AK\" \"AL\" \"AR\" \"AS\" ...\n",
            " $ positive                : int  4288 98301 48039 0 185053 538416 49436 50320 12589 15445 ...\n",
            " $ negative                : int  264563 651115 503484 1396 819792 8058466 521927 814313 196136 179339 ...\n",
            " $ pending                 : int  NA NA NA NA NA NA NA NA NA NA ...\n",
            " $ hospitalizedCurrently   : int  37 1575 514 NA 1772 7277 317 65 90 37 ...\n",
            " $ hospitalizedCumulative  : int  NA 11537 3168 NA 19241 NA 6572 10920 NA NA ...\n",
            " $ inIcuCurrently          : int  NA NA NA NA 565 1978 NA NA 18 15 ...\n",
            " $ inIcuCumulative         : int  NA 1219 NA NA NA NA NA NA NA NA ...\n",
            " $ onVentilatorCurrently   : int  3 NA 111 NA 411 NA NA NA 12 NA ...\n",
            " $ onVentilatorCumulative  : int  NA 658 429 NA NA NA NA NA NA NA ...\n",
            " $ recovered               : int  1238 37923 40360 NA 24815 NA 5490 8721 10118 8392 ...\n",
            " $ dataQualityGrade        : chr  \"A\" \"B\" \"A\" \"C\" ...\n",
            " $ lastUpdateEt            : chr  \"8/7/2020 00:00\" \"8/7/2020 11:00\" \"8/7/2020 15:30\" \"7/24/2020 00:00\" ...\n",
            " $ dateModified            : chr  \"2020-08-07T00:00:00Z\" \"2020-08-07T11:00:00Z\" \"2020-08-07T15:30:00Z\" \"2020-07-24T00:00:00Z\" ...\n",
            " $ checkTimeEt             : chr  \"08/06 20:00\" \"08/07 07:00\" \"08/07 11:30\" \"07/23 20:00\" ...\n",
            " $ death                   : int  25 1735 521 0 4081 10011 1729 4441 589 588 ...\n",
            " $ hospitalized            : int  NA 11537 3168 NA 19241 NA 6572 10920 NA NA ...\n",
            " $ dateChecked             : chr  \"2020-08-07T00:00:00Z\" \"2020-08-07T11:00:00Z\" \"2020-08-07T15:30:00Z\" \"2020-07-24T00:00:00Z\" ...\n",
            " $ totalTestsViral         : int  268851 745942 551523 NA 1003583 8596882 NA 862658 NA NA ...\n",
            " $ positiveTestsViral      : int  4124 NA NA NA NA NA NA NA NA NA ...\n",
            " $ negativeTestsViral      : int  261152 NA NA NA NA NA NA NA NA NA ...\n",
            " $ positiveCasesViral      : int  4288 94827 48039 0 183791 538416 46200 48345 NA 14447 ...\n",
            " $ deathConfirmed          : int  25 1674 NA NA 3860 NA NA 3558 NA 518 ...\n",
            " $ deathProbable           : int  NA 61 NA NA 221 NA NA 883 NA 70 ...\n",
            " $ fips                    : int  2 1 5 60 4 6 8 9 11 10 ...\n",
            " $ positiveIncrease        : int  65 1709 1011 0 1406 8436 448 75 71 80 ...\n",
            " $ negativeIncrease        : int  7214 7923 10676 0 7575 87983 5596 7460 2671 2001 ...\n",
            " $ total                   : int  268851 749416 551523 1396 1004845 8596882 571363 864633 208725 194784 ...\n",
            " $ totalTestResults        : int  268851 749416 551523 1396 1004845 8596882 571363 864633 208725 194784 ...\n",
            " $ totalTestResultsIncrease: int  7279 9632 11687 0 8981 96419 6044 7535 2742 2081 ...\n",
            " $ posNeg                  : int  268851 749416 551523 1396 1004845 8596882 571363 864633 208725 194784 ...\n",
            " $ deathIncrease           : int  0 21 6 0 79 142 12 4 2 1 ...\n",
            " $ hospitalizedIncrease    : int  0 224 50 0 5173 0 36 0 0 0 ...\n",
            " $ hash                    : chr  \"d608cee3e98d23a9e920faab4361b771c779880f\" \"b180d67ecb2784ceaaaf7fef67dcee5833fadd52\" \"1e9a8ed04dc081a895e26f03a10711ce88d78be2\" \"9395052fa25b89c3561068bed6cc6c425623bb9c\" ...\n",
            " $ commercialScore         : int  0 0 0 0 0 0 0 0 0 0 ...\n",
            " $ negativeRegularScore    : int  0 0 0 0 0 0 0 0 0 0 ...\n",
            " $ negativeScore           : int  0 0 0 0 0 0 0 0 0 0 ...\n",
            " $ positiveScore           : int  0 0 0 0 0 0 0 0 0 0 ...\n",
            " $ score                   : int  0 0 0 0 0 0 0 0 0 0 ...\n",
            " $ grade                   : logi  NA NA NA NA NA NA ...\n"
          ]
        }
      ],
      "source": [
        "str(COVID)"
      ]
    },
    {
      "cell_type": "code",
      "execution_count": 33,
      "id": "e98a440c-7728-4184-9e6c-b5ff5b2ed123",
      "metadata": {
        "id": "e98a440c-7728-4184-9e6c-b5ff5b2ed123"
      },
      "outputs": [],
      "source": [
        "COVID$state = as.factor(COVID$state)"
      ]
    },
    {
      "cell_type": "code",
      "execution_count": 34,
      "id": "0d2cce9f-8ae2-47b4-9aa7-cc73c71e731d",
      "metadata": {
        "id": "0d2cce9f-8ae2-47b4-9aa7-cc73c71e731d",
        "outputId": "9bb9adeb-19e8-4927-b150-4c0215fecda2",
        "colab": {
          "base_uri": "https://localhost:8080/"
        }
      },
      "outputs": [
        {
          "output_type": "stream",
          "name": "stdout",
          "text": [
            "'data.frame':\t8697 obs. of  41 variables:\n",
            " $ date                    : int  20200807 20200807 20200807 20200807 20200807 20200807 20200807 20200807 20200807 20200807 ...\n",
            " $ state                   : Factor w/ 56 levels \"AK\",\"AL\",\"AR\",..: 1 2 3 4 5 6 7 8 9 10 ...\n",
            " $ positive                : int  4288 98301 48039 0 185053 538416 49436 50320 12589 15445 ...\n",
            " $ negative                : int  264563 651115 503484 1396 819792 8058466 521927 814313 196136 179339 ...\n",
            " $ pending                 : int  NA NA NA NA NA NA NA NA NA NA ...\n",
            " $ hospitalizedCurrently   : int  37 1575 514 NA 1772 7277 317 65 90 37 ...\n",
            " $ hospitalizedCumulative  : int  NA 11537 3168 NA 19241 NA 6572 10920 NA NA ...\n",
            " $ inIcuCurrently          : int  NA NA NA NA 565 1978 NA NA 18 15 ...\n",
            " $ inIcuCumulative         : int  NA 1219 NA NA NA NA NA NA NA NA ...\n",
            " $ onVentilatorCurrently   : int  3 NA 111 NA 411 NA NA NA 12 NA ...\n",
            " $ onVentilatorCumulative  : int  NA 658 429 NA NA NA NA NA NA NA ...\n",
            " $ recovered               : int  1238 37923 40360 NA 24815 NA 5490 8721 10118 8392 ...\n",
            " $ dataQualityGrade        : chr  \"A\" \"B\" \"A\" \"C\" ...\n",
            " $ lastUpdateEt            : chr  \"8/7/2020 00:00\" \"8/7/2020 11:00\" \"8/7/2020 15:30\" \"7/24/2020 00:00\" ...\n",
            " $ dateModified            : chr  \"2020-08-07T00:00:00Z\" \"2020-08-07T11:00:00Z\" \"2020-08-07T15:30:00Z\" \"2020-07-24T00:00:00Z\" ...\n",
            " $ checkTimeEt             : chr  \"08/06 20:00\" \"08/07 07:00\" \"08/07 11:30\" \"07/23 20:00\" ...\n",
            " $ death                   : int  25 1735 521 0 4081 10011 1729 4441 589 588 ...\n",
            " $ hospitalized            : int  NA 11537 3168 NA 19241 NA 6572 10920 NA NA ...\n",
            " $ dateChecked             : chr  \"2020-08-07T00:00:00Z\" \"2020-08-07T11:00:00Z\" \"2020-08-07T15:30:00Z\" \"2020-07-24T00:00:00Z\" ...\n",
            " $ totalTestsViral         : int  268851 745942 551523 NA 1003583 8596882 NA 862658 NA NA ...\n",
            " $ positiveTestsViral      : int  4124 NA NA NA NA NA NA NA NA NA ...\n",
            " $ negativeTestsViral      : int  261152 NA NA NA NA NA NA NA NA NA ...\n",
            " $ positiveCasesViral      : int  4288 94827 48039 0 183791 538416 46200 48345 NA 14447 ...\n",
            " $ deathConfirmed          : int  25 1674 NA NA 3860 NA NA 3558 NA 518 ...\n",
            " $ deathProbable           : int  NA 61 NA NA 221 NA NA 883 NA 70 ...\n",
            " $ fips                    : int  2 1 5 60 4 6 8 9 11 10 ...\n",
            " $ positiveIncrease        : int  65 1709 1011 0 1406 8436 448 75 71 80 ...\n",
            " $ negativeIncrease        : int  7214 7923 10676 0 7575 87983 5596 7460 2671 2001 ...\n",
            " $ total                   : int  268851 749416 551523 1396 1004845 8596882 571363 864633 208725 194784 ...\n",
            " $ totalTestResults        : int  268851 749416 551523 1396 1004845 8596882 571363 864633 208725 194784 ...\n",
            " $ totalTestResultsIncrease: int  7279 9632 11687 0 8981 96419 6044 7535 2742 2081 ...\n",
            " $ posNeg                  : int  268851 749416 551523 1396 1004845 8596882 571363 864633 208725 194784 ...\n",
            " $ deathIncrease           : int  0 21 6 0 79 142 12 4 2 1 ...\n",
            " $ hospitalizedIncrease    : int  0 224 50 0 5173 0 36 0 0 0 ...\n",
            " $ hash                    : chr  \"d608cee3e98d23a9e920faab4361b771c779880f\" \"b180d67ecb2784ceaaaf7fef67dcee5833fadd52\" \"1e9a8ed04dc081a895e26f03a10711ce88d78be2\" \"9395052fa25b89c3561068bed6cc6c425623bb9c\" ...\n",
            " $ commercialScore         : int  0 0 0 0 0 0 0 0 0 0 ...\n",
            " $ negativeRegularScore    : int  0 0 0 0 0 0 0 0 0 0 ...\n",
            " $ negativeScore           : int  0 0 0 0 0 0 0 0 0 0 ...\n",
            " $ positiveScore           : int  0 0 0 0 0 0 0 0 0 0 ...\n",
            " $ score                   : int  0 0 0 0 0 0 0 0 0 0 ...\n",
            " $ grade                   : logi  NA NA NA NA NA NA ...\n"
          ]
        }
      ],
      "source": [
        "str(COVID)"
      ]
    },
    {
      "cell_type": "code",
      "execution_count": 35,
      "id": "b27f045e-cb09-4422-9e12-88ab32585ad8",
      "metadata": {
        "id": "b27f045e-cb09-4422-9e12-88ab32585ad8",
        "outputId": "de12c6ff-2066-4378-e808-a0e4f8d77ddd",
        "colab": {
          "base_uri": "https://localhost:8080/",
          "height": 52
        }
      },
      "outputs": [
        {
          "output_type": "display_data",
          "data": {
            "text/html": [
              "<style>\n",
              ".list-inline {list-style: none; margin:0; padding: 0}\n",
              ".list-inline>li {display: inline-block}\n",
              ".list-inline>li:not(:last-child)::after {content: \"\\00b7\"; padding: 0 .5ex}\n",
              "</style>\n",
              "<ol class=list-inline><li>'AK'</li><li>'AL'</li><li>'AR'</li><li>'AS'</li><li>'AZ'</li><li>'CA'</li><li>'CO'</li><li>'CT'</li><li>'DC'</li><li>'DE'</li><li>'FL'</li><li>'GA'</li><li>'GU'</li><li>'HI'</li><li>'IA'</li><li>'ID'</li><li>'IL'</li><li>'IN'</li><li>'KS'</li><li>'KY'</li><li>'LA'</li><li>'MA'</li><li>'MD'</li><li>'ME'</li><li>'MI'</li><li>'MN'</li><li>'MO'</li><li>'MP'</li><li>'MS'</li><li>'MT'</li><li>'NC'</li><li>'ND'</li><li>'NE'</li><li>'NH'</li><li>'NJ'</li><li>'NM'</li><li>'NV'</li><li>'NY'</li><li>'OH'</li><li>'OK'</li><li>'OR'</li><li>'PA'</li><li>'PR'</li><li>'RI'</li><li>'SC'</li><li>'SD'</li><li>'TN'</li><li>'TX'</li><li>'UT'</li><li>'VA'</li><li>'VI'</li><li>'VT'</li><li>'WA'</li><li>'WI'</li><li>'WV'</li><li>'WY'</li></ol>\n"
            ],
            "text/markdown": "1. 'AK'\n2. 'AL'\n3. 'AR'\n4. 'AS'\n5. 'AZ'\n6. 'CA'\n7. 'CO'\n8. 'CT'\n9. 'DC'\n10. 'DE'\n11. 'FL'\n12. 'GA'\n13. 'GU'\n14. 'HI'\n15. 'IA'\n16. 'ID'\n17. 'IL'\n18. 'IN'\n19. 'KS'\n20. 'KY'\n21. 'LA'\n22. 'MA'\n23. 'MD'\n24. 'ME'\n25. 'MI'\n26. 'MN'\n27. 'MO'\n28. 'MP'\n29. 'MS'\n30. 'MT'\n31. 'NC'\n32. 'ND'\n33. 'NE'\n34. 'NH'\n35. 'NJ'\n36. 'NM'\n37. 'NV'\n38. 'NY'\n39. 'OH'\n40. 'OK'\n41. 'OR'\n42. 'PA'\n43. 'PR'\n44. 'RI'\n45. 'SC'\n46. 'SD'\n47. 'TN'\n48. 'TX'\n49. 'UT'\n50. 'VA'\n51. 'VI'\n52. 'VT'\n53. 'WA'\n54. 'WI'\n55. 'WV'\n56. 'WY'\n\n\n",
            "text/latex": "\\begin{enumerate*}\n\\item 'AK'\n\\item 'AL'\n\\item 'AR'\n\\item 'AS'\n\\item 'AZ'\n\\item 'CA'\n\\item 'CO'\n\\item 'CT'\n\\item 'DC'\n\\item 'DE'\n\\item 'FL'\n\\item 'GA'\n\\item 'GU'\n\\item 'HI'\n\\item 'IA'\n\\item 'ID'\n\\item 'IL'\n\\item 'IN'\n\\item 'KS'\n\\item 'KY'\n\\item 'LA'\n\\item 'MA'\n\\item 'MD'\n\\item 'ME'\n\\item 'MI'\n\\item 'MN'\n\\item 'MO'\n\\item 'MP'\n\\item 'MS'\n\\item 'MT'\n\\item 'NC'\n\\item 'ND'\n\\item 'NE'\n\\item 'NH'\n\\item 'NJ'\n\\item 'NM'\n\\item 'NV'\n\\item 'NY'\n\\item 'OH'\n\\item 'OK'\n\\item 'OR'\n\\item 'PA'\n\\item 'PR'\n\\item 'RI'\n\\item 'SC'\n\\item 'SD'\n\\item 'TN'\n\\item 'TX'\n\\item 'UT'\n\\item 'VA'\n\\item 'VI'\n\\item 'VT'\n\\item 'WA'\n\\item 'WI'\n\\item 'WV'\n\\item 'WY'\n\\end{enumerate*}\n",
            "text/plain": [
              " [1] \"AK\" \"AL\" \"AR\" \"AS\" \"AZ\" \"CA\" \"CO\" \"CT\" \"DC\" \"DE\" \"FL\" \"GA\" \"GU\" \"HI\" \"IA\"\n",
              "[16] \"ID\" \"IL\" \"IN\" \"KS\" \"KY\" \"LA\" \"MA\" \"MD\" \"ME\" \"MI\" \"MN\" \"MO\" \"MP\" \"MS\" \"MT\"\n",
              "[31] \"NC\" \"ND\" \"NE\" \"NH\" \"NJ\" \"NM\" \"NV\" \"NY\" \"OH\" \"OK\" \"OR\" \"PA\" \"PR\" \"RI\" \"SC\"\n",
              "[46] \"SD\" \"TN\" \"TX\" \"UT\" \"VA\" \"VI\" \"VT\" \"WA\" \"WI\" \"WV\" \"WY\""
            ]
          },
          "metadata": {}
        }
      ],
      "source": [
        "levels(COVID$state)"
      ]
    },
    {
      "cell_type": "markdown",
      "id": "1e569849",
      "metadata": {
        "id": "1e569849"
      },
      "source": [
        "## find unique values in a column"
      ]
    },
    {
      "cell_type": "code",
      "execution_count": 36,
      "id": "f954b289",
      "metadata": {
        "id": "f954b289",
        "outputId": "e249037e-5eda-4d64-c8c9-c0420c0fb9c4",
        "colab": {
          "base_uri": "https://localhost:8080/",
          "height": 52
        }
      },
      "outputs": [
        {
          "output_type": "display_data",
          "data": {
            "text/html": [
              "<style>\n",
              ".list-inline {list-style: none; margin:0; padding: 0}\n",
              ".list-inline>li {display: inline-block}\n",
              ".list-inline>li:not(:last-child)::after {content: \"\\00b7\"; padding: 0 .5ex}\n",
              "</style>\n",
              "<ol class=list-inline><li>AK</li><li>AL</li><li>AR</li><li>AS</li><li>AZ</li><li>CA</li><li>CO</li><li>CT</li><li>DC</li><li>DE</li><li>FL</li><li>GA</li><li>GU</li><li>HI</li><li>IA</li><li>ID</li><li>IL</li><li>IN</li><li>KS</li><li>KY</li><li>LA</li><li>MA</li><li>MD</li><li>ME</li><li>MI</li><li>MN</li><li>MO</li><li>MP</li><li>MS</li><li>MT</li><li>NC</li><li>ND</li><li>NE</li><li>NH</li><li>NJ</li><li>NM</li><li>NV</li><li>NY</li><li>OH</li><li>OK</li><li>OR</li><li>PA</li><li>PR</li><li>RI</li><li>SC</li><li>SD</li><li>TN</li><li>TX</li><li>UT</li><li>VA</li><li>VI</li><li>VT</li><li>WA</li><li>WI</li><li>WV</li><li>WY</li></ol>\n",
              "\n",
              "<details>\n",
              "\t<summary style=display:list-item;cursor:pointer>\n",
              "\t\t<strong>Levels</strong>:\n",
              "\t</summary>\n",
              "\t<style>\n",
              "\t.list-inline {list-style: none; margin:0; padding: 0}\n",
              "\t.list-inline>li {display: inline-block}\n",
              "\t.list-inline>li:not(:last-child)::after {content: \"\\00b7\"; padding: 0 .5ex}\n",
              "\t</style>\n",
              "\t<ol class=list-inline><li>'AK'</li><li>'AL'</li><li>'AR'</li><li>'AS'</li><li>'AZ'</li><li>'CA'</li><li>'CO'</li><li>'CT'</li><li>'DC'</li><li>'DE'</li><li>'FL'</li><li>'GA'</li><li>'GU'</li><li>'HI'</li><li>'IA'</li><li>'ID'</li><li>'IL'</li><li>'IN'</li><li>'KS'</li><li>'KY'</li><li>'LA'</li><li>'MA'</li><li>'MD'</li><li>'ME'</li><li>'MI'</li><li>'MN'</li><li>'MO'</li><li>'MP'</li><li>'MS'</li><li>'MT'</li><li>'NC'</li><li>'ND'</li><li>'NE'</li><li>'NH'</li><li>'NJ'</li><li>'NM'</li><li>'NV'</li><li>'NY'</li><li>'OH'</li><li>'OK'</li><li>'OR'</li><li>'PA'</li><li>'PR'</li><li>'RI'</li><li>'SC'</li><li>'SD'</li><li>'TN'</li><li>'TX'</li><li>'UT'</li><li>'VA'</li><li>'VI'</li><li>'VT'</li><li>'WA'</li><li>'WI'</li><li>'WV'</li><li>'WY'</li></ol>\n",
              "</details>"
            ],
            "text/markdown": "1. AK\n2. AL\n3. AR\n4. AS\n5. AZ\n6. CA\n7. CO\n8. CT\n9. DC\n10. DE\n11. FL\n12. GA\n13. GU\n14. HI\n15. IA\n16. ID\n17. IL\n18. IN\n19. KS\n20. KY\n21. LA\n22. MA\n23. MD\n24. ME\n25. MI\n26. MN\n27. MO\n28. MP\n29. MS\n30. MT\n31. NC\n32. ND\n33. NE\n34. NH\n35. NJ\n36. NM\n37. NV\n38. NY\n39. OH\n40. OK\n41. OR\n42. PA\n43. PR\n44. RI\n45. SC\n46. SD\n47. TN\n48. TX\n49. UT\n50. VA\n51. VI\n52. VT\n53. WA\n54. WI\n55. WV\n56. WY\n\n\n\n**Levels**: 1. 'AK'\n2. 'AL'\n3. 'AR'\n4. 'AS'\n5. 'AZ'\n6. 'CA'\n7. 'CO'\n8. 'CT'\n9. 'DC'\n10. 'DE'\n11. 'FL'\n12. 'GA'\n13. 'GU'\n14. 'HI'\n15. 'IA'\n16. 'ID'\n17. 'IL'\n18. 'IN'\n19. 'KS'\n20. 'KY'\n21. 'LA'\n22. 'MA'\n23. 'MD'\n24. 'ME'\n25. 'MI'\n26. 'MN'\n27. 'MO'\n28. 'MP'\n29. 'MS'\n30. 'MT'\n31. 'NC'\n32. 'ND'\n33. 'NE'\n34. 'NH'\n35. 'NJ'\n36. 'NM'\n37. 'NV'\n38. 'NY'\n39. 'OH'\n40. 'OK'\n41. 'OR'\n42. 'PA'\n43. 'PR'\n44. 'RI'\n45. 'SC'\n46. 'SD'\n47. 'TN'\n48. 'TX'\n49. 'UT'\n50. 'VA'\n51. 'VI'\n52. 'VT'\n53. 'WA'\n54. 'WI'\n55. 'WV'\n56. 'WY'\n\n\n",
            "text/latex": "\\begin{enumerate*}\n\\item AK\n\\item AL\n\\item AR\n\\item AS\n\\item AZ\n\\item CA\n\\item CO\n\\item CT\n\\item DC\n\\item DE\n\\item FL\n\\item GA\n\\item GU\n\\item HI\n\\item IA\n\\item ID\n\\item IL\n\\item IN\n\\item KS\n\\item KY\n\\item LA\n\\item MA\n\\item MD\n\\item ME\n\\item MI\n\\item MN\n\\item MO\n\\item MP\n\\item MS\n\\item MT\n\\item NC\n\\item ND\n\\item NE\n\\item NH\n\\item NJ\n\\item NM\n\\item NV\n\\item NY\n\\item OH\n\\item OK\n\\item OR\n\\item PA\n\\item PR\n\\item RI\n\\item SC\n\\item SD\n\\item TN\n\\item TX\n\\item UT\n\\item VA\n\\item VI\n\\item VT\n\\item WA\n\\item WI\n\\item WV\n\\item WY\n\\end{enumerate*}\n\n\\emph{Levels}: \\begin{enumerate*}\n\\item 'AK'\n\\item 'AL'\n\\item 'AR'\n\\item 'AS'\n\\item 'AZ'\n\\item 'CA'\n\\item 'CO'\n\\item 'CT'\n\\item 'DC'\n\\item 'DE'\n\\item 'FL'\n\\item 'GA'\n\\item 'GU'\n\\item 'HI'\n\\item 'IA'\n\\item 'ID'\n\\item 'IL'\n\\item 'IN'\n\\item 'KS'\n\\item 'KY'\n\\item 'LA'\n\\item 'MA'\n\\item 'MD'\n\\item 'ME'\n\\item 'MI'\n\\item 'MN'\n\\item 'MO'\n\\item 'MP'\n\\item 'MS'\n\\item 'MT'\n\\item 'NC'\n\\item 'ND'\n\\item 'NE'\n\\item 'NH'\n\\item 'NJ'\n\\item 'NM'\n\\item 'NV'\n\\item 'NY'\n\\item 'OH'\n\\item 'OK'\n\\item 'OR'\n\\item 'PA'\n\\item 'PR'\n\\item 'RI'\n\\item 'SC'\n\\item 'SD'\n\\item 'TN'\n\\item 'TX'\n\\item 'UT'\n\\item 'VA'\n\\item 'VI'\n\\item 'VT'\n\\item 'WA'\n\\item 'WI'\n\\item 'WV'\n\\item 'WY'\n\\end{enumerate*}\n",
            "text/plain": [
              " [1] AK AL AR AS AZ CA CO CT DC DE FL GA GU HI IA ID IL IN KS KY LA MA MD ME MI\n",
              "[26] MN MO MP MS MT NC ND NE NH NJ NM NV NY OH OK OR PA PR RI SC SD TN TX UT VA\n",
              "[51] VI VT WA WI WV WY\n",
              "56 Levels: AK AL AR AS AZ CA CO CT DC DE FL GA GU HI IA ID IL IN KS KY ... WY"
            ]
          },
          "metadata": {}
        }
      ],
      "source": [
        "unique(COVID$state)"
      ]
    },
    {
      "cell_type": "code",
      "execution_count": 37,
      "id": "ba88ce48",
      "metadata": {
        "id": "ba88ce48",
        "outputId": "26d4bc3d-f09e-4620-c17f-fbbfefed911d",
        "colab": {
          "base_uri": "https://localhost:8080/",
          "height": 139
        }
      },
      "outputs": [
        {
          "output_type": "display_data",
          "data": {
            "text/plain": [
              "\n",
              " AK  AL  AR  AS  AZ  CA  CO  CT  DC  DE  FL  GA  GU  HI  IA  ID  IL  IN  KS  KY \n",
              "155 154 155 145 157 157 156 154 156 155 157 157 145 154 155 154 157 155 155 155 \n",
              " LA  MA  MD  ME  MI  MN  MO  MP  MS  MT  NC  ND  NE  NH  NJ  NM  NV  NY  OH  OK \n",
              "154 149 156 154 160 155 154 145 154 154 157 154 156 157 156 155 156 157 156 154 \n",
              " OR  PA  PR  RI  SC  SD  TN  TX  UT  VA  VI  VT  WA  WI  WV  WY \n",
              "157 155 145 160 157 154 156 157 154 156 145 155 199 157 155 154 "
            ]
          },
          "metadata": {}
        }
      ],
      "source": [
        "table(COVID$state) ## what is this function doing?"
      ]
    },
    {
      "cell_type": "code",
      "execution_count": 38,
      "id": "54f526e5",
      "metadata": {
        "id": "54f526e5",
        "outputId": "e4359571-75f2-4eba-be31-47afddd363e1",
        "colab": {
          "base_uri": "https://localhost:8080/",
          "height": 34
        }
      },
      "outputs": [
        {
          "output_type": "display_data",
          "data": {
            "text/html": [
              "56"
            ],
            "text/markdown": "56",
            "text/latex": "56",
            "text/plain": [
              "[1] 56"
            ]
          },
          "metadata": {}
        }
      ],
      "source": [
        "length(unique(COVID$state))"
      ]
    },
    {
      "cell_type": "markdown",
      "id": "999f4be3",
      "metadata": {
        "id": "999f4be3"
      },
      "source": [
        "#### Checking missing values"
      ]
    },
    {
      "cell_type": "code",
      "execution_count": 39,
      "id": "c1935ec8",
      "metadata": {
        "scrolled": true,
        "id": "c1935ec8",
        "outputId": "cc4e2ab6-39c1-435b-f098-37b164a1749c",
        "colab": {
          "base_uri": "https://localhost:8080/",
          "height": 243
        }
      },
      "outputs": [
        {
          "output_type": "display_data",
          "data": {
            "text/html": [
              "<style>\n",
              ".list-inline {list-style: none; margin:0; padding: 0}\n",
              ".list-inline>li {display: inline-block}\n",
              ".list-inline>li:not(:last-child)::after {content: \"\\00b7\"; padding: 0 .5ex}\n",
              "</style>\n",
              "<ol class=list-inline><li>FALSE</li><li>FALSE</li><li>FALSE</li><li>FALSE</li><li>FALSE</li><li>FALSE</li><li>FALSE</li><li>FALSE</li><li>FALSE</li><li>FALSE</li><li>FALSE</li><li>FALSE</li><li>FALSE</li><li>FALSE</li><li>FALSE</li><li>FALSE</li><li>FALSE</li><li>FALSE</li><li>FALSE</li><li>FALSE</li><li>FALSE</li><li>FALSE</li><li>FALSE</li><li>FALSE</li><li>FALSE</li><li>FALSE</li><li>FALSE</li><li>FALSE</li><li>FALSE</li><li>FALSE</li><li>FALSE</li><li>FALSE</li><li>FALSE</li><li>FALSE</li><li>FALSE</li><li>FALSE</li><li>FALSE</li><li>FALSE</li><li>FALSE</li><li>FALSE</li><li>FALSE</li><li>FALSE</li><li>FALSE</li><li>FALSE</li><li>FALSE</li><li>FALSE</li><li>FALSE</li><li>FALSE</li><li>FALSE</li><li>FALSE</li><li>FALSE</li><li>FALSE</li><li>FALSE</li><li>FALSE</li><li>FALSE</li><li>FALSE</li><li>FALSE</li><li>FALSE</li><li>FALSE</li><li>FALSE</li><li>FALSE</li><li>FALSE</li><li>FALSE</li><li>FALSE</li><li>FALSE</li><li>FALSE</li><li>FALSE</li><li>FALSE</li><li>FALSE</li><li>FALSE</li><li>FALSE</li><li>FALSE</li><li>FALSE</li><li>FALSE</li><li>FALSE</li><li>FALSE</li><li>FALSE</li><li>FALSE</li><li>FALSE</li><li>FALSE</li><li>FALSE</li><li>FALSE</li><li>FALSE</li><li>FALSE</li><li>FALSE</li><li>FALSE</li><li>FALSE</li><li>FALSE</li><li>FALSE</li><li>FALSE</li><li>FALSE</li><li>FALSE</li><li>FALSE</li><li>FALSE</li><li>FALSE</li><li>FALSE</li><li>FALSE</li><li>FALSE</li><li>FALSE</li><li>FALSE</li><li>FALSE</li><li>FALSE</li><li>FALSE</li><li>FALSE</li><li>FALSE</li><li>FALSE</li><li>FALSE</li><li>FALSE</li><li>FALSE</li><li>FALSE</li><li>FALSE</li><li>FALSE</li><li>FALSE</li><li>FALSE</li><li>FALSE</li><li>FALSE</li><li>FALSE</li><li>FALSE</li><li>FALSE</li><li>FALSE</li><li>FALSE</li><li>FALSE</li><li>FALSE</li><li>FALSE</li><li>FALSE</li><li>FALSE</li><li>FALSE</li><li>FALSE</li><li>FALSE</li><li>FALSE</li><li>FALSE</li><li>FALSE</li><li>FALSE</li><li>FALSE</li><li>FALSE</li><li>FALSE</li><li>FALSE</li><li>FALSE</li><li>FALSE</li><li>FALSE</li><li>FALSE</li><li>FALSE</li><li>FALSE</li><li>FALSE</li><li>FALSE</li><li>FALSE</li><li>FALSE</li><li>FALSE</li><li>FALSE</li><li>FALSE</li><li>FALSE</li><li>FALSE</li><li>FALSE</li><li>FALSE</li><li>FALSE</li><li>FALSE</li><li>FALSE</li><li>FALSE</li><li>FALSE</li><li>FALSE</li><li>FALSE</li><li>FALSE</li><li>FALSE</li><li>FALSE</li><li>FALSE</li><li>FALSE</li><li>FALSE</li><li>FALSE</li><li>FALSE</li><li>FALSE</li><li>FALSE</li><li>FALSE</li><li>FALSE</li><li>FALSE</li><li>FALSE</li><li>FALSE</li><li>FALSE</li><li>FALSE</li><li>FALSE</li><li>FALSE</li><li>FALSE</li><li>FALSE</li><li>FALSE</li><li>FALSE</li><li>FALSE</li><li>FALSE</li><li>FALSE</li><li>FALSE</li><li>FALSE</li><li>FALSE</li><li>FALSE</li><li>FALSE</li><li>FALSE</li><li>FALSE</li><li>FALSE</li><li>FALSE</li><li>FALSE</li><li>FALSE</li><li>FALSE</li><li>FALSE</li><li>⋯</li><li>FALSE</li><li>FALSE</li><li>FALSE</li><li>FALSE</li><li>FALSE</li><li>FALSE</li><li>FALSE</li><li>FALSE</li><li>FALSE</li><li>FALSE</li><li>FALSE</li><li>FALSE</li><li>FALSE</li><li>FALSE</li><li>FALSE</li><li>FALSE</li><li>FALSE</li><li>FALSE</li><li>FALSE</li><li>FALSE</li><li>FALSE</li><li>FALSE</li><li>FALSE</li><li>FALSE</li><li>FALSE</li><li>FALSE</li><li>FALSE</li><li>FALSE</li><li>FALSE</li><li>FALSE</li><li>FALSE</li><li>FALSE</li><li>FALSE</li><li>FALSE</li><li>FALSE</li><li>FALSE</li><li>FALSE</li><li>FALSE</li><li>FALSE</li><li>FALSE</li><li>FALSE</li><li>FALSE</li><li>FALSE</li><li>FALSE</li><li>FALSE</li><li>FALSE</li><li>FALSE</li><li>FALSE</li><li>FALSE</li><li>FALSE</li><li>FALSE</li><li>FALSE</li><li>FALSE</li><li>FALSE</li><li>FALSE</li><li>FALSE</li><li>FALSE</li><li>FALSE</li><li>FALSE</li><li>FALSE</li><li>FALSE</li><li>FALSE</li><li>FALSE</li><li>FALSE</li><li>FALSE</li><li>FALSE</li><li>FALSE</li><li>FALSE</li><li>FALSE</li><li>FALSE</li><li>FALSE</li><li>FALSE</li><li>FALSE</li><li>FALSE</li><li>FALSE</li><li>FALSE</li><li>FALSE</li><li>FALSE</li><li>FALSE</li><li>FALSE</li><li>FALSE</li><li>FALSE</li><li>FALSE</li><li>FALSE</li><li>FALSE</li><li>FALSE</li><li>FALSE</li><li>FALSE</li><li>FALSE</li><li>FALSE</li><li>FALSE</li><li>FALSE</li><li>FALSE</li><li>FALSE</li><li>FALSE</li><li>FALSE</li><li>FALSE</li><li>FALSE</li><li>FALSE</li><li>FALSE</li><li>FALSE</li><li>FALSE</li><li>FALSE</li><li>FALSE</li><li>FALSE</li><li>FALSE</li><li>FALSE</li><li>FALSE</li><li>FALSE</li><li>FALSE</li><li>FALSE</li><li>FALSE</li><li>FALSE</li><li>FALSE</li><li>FALSE</li><li>FALSE</li><li>FALSE</li><li>FALSE</li><li>FALSE</li><li>FALSE</li><li>FALSE</li><li>FALSE</li><li>FALSE</li><li>FALSE</li><li>FALSE</li><li>FALSE</li><li>FALSE</li><li>FALSE</li><li>FALSE</li><li>FALSE</li><li>FALSE</li><li>FALSE</li><li>FALSE</li><li>FALSE</li><li>FALSE</li><li>FALSE</li><li>FALSE</li><li>FALSE</li><li>FALSE</li><li>FALSE</li><li>FALSE</li><li>FALSE</li><li>FALSE</li><li>FALSE</li><li>FALSE</li><li>FALSE</li><li>FALSE</li><li>FALSE</li><li>FALSE</li><li>FALSE</li><li>FALSE</li><li>FALSE</li><li>FALSE</li><li>FALSE</li><li>FALSE</li><li>FALSE</li><li>FALSE</li><li>FALSE</li><li>FALSE</li><li>FALSE</li><li>FALSE</li><li>FALSE</li><li>FALSE</li><li>FALSE</li><li>FALSE</li><li>FALSE</li><li>FALSE</li><li>FALSE</li><li>FALSE</li><li>FALSE</li><li>FALSE</li><li>FALSE</li><li>FALSE</li><li>FALSE</li><li>FALSE</li><li>FALSE</li><li>FALSE</li><li>FALSE</li><li>FALSE</li><li>FALSE</li><li>FALSE</li><li>FALSE</li><li>FALSE</li><li>FALSE</li><li>FALSE</li><li>FALSE</li><li>FALSE</li><li>FALSE</li><li>FALSE</li><li>FALSE</li><li>FALSE</li><li>FALSE</li><li>FALSE</li><li>FALSE</li><li>FALSE</li><li>FALSE</li><li>FALSE</li><li>FALSE</li><li>FALSE</li><li>FALSE</li></ol>\n"
            ],
            "text/markdown": "1. FALSE\n2. FALSE\n3. FALSE\n4. FALSE\n5. FALSE\n6. FALSE\n7. FALSE\n8. FALSE\n9. FALSE\n10. FALSE\n11. FALSE\n12. FALSE\n13. FALSE\n14. FALSE\n15. FALSE\n16. FALSE\n17. FALSE\n18. FALSE\n19. FALSE\n20. FALSE\n21. FALSE\n22. FALSE\n23. FALSE\n24. FALSE\n25. FALSE\n26. FALSE\n27. FALSE\n28. FALSE\n29. FALSE\n30. FALSE\n31. FALSE\n32. FALSE\n33. FALSE\n34. FALSE\n35. FALSE\n36. FALSE\n37. FALSE\n38. FALSE\n39. FALSE\n40. FALSE\n41. FALSE\n42. FALSE\n43. FALSE\n44. FALSE\n45. FALSE\n46. FALSE\n47. FALSE\n48. FALSE\n49. FALSE\n50. FALSE\n51. FALSE\n52. FALSE\n53. FALSE\n54. FALSE\n55. FALSE\n56. FALSE\n57. FALSE\n58. FALSE\n59. FALSE\n60. FALSE\n61. FALSE\n62. FALSE\n63. FALSE\n64. FALSE\n65. FALSE\n66. FALSE\n67. FALSE\n68. FALSE\n69. FALSE\n70. FALSE\n71. FALSE\n72. FALSE\n73. FALSE\n74. FALSE\n75. FALSE\n76. FALSE\n77. FALSE\n78. FALSE\n79. FALSE\n80. FALSE\n81. FALSE\n82. FALSE\n83. FALSE\n84. FALSE\n85. FALSE\n86. FALSE\n87. FALSE\n88. FALSE\n89. FALSE\n90. FALSE\n91. FALSE\n92. FALSE\n93. FALSE\n94. FALSE\n95. FALSE\n96. FALSE\n97. FALSE\n98. FALSE\n99. FALSE\n100. FALSE\n101. FALSE\n102. FALSE\n103. FALSE\n104. FALSE\n105. FALSE\n106. FALSE\n107. FALSE\n108. FALSE\n109. FALSE\n110. FALSE\n111. FALSE\n112. FALSE\n113. FALSE\n114. FALSE\n115. FALSE\n116. FALSE\n117. FALSE\n118. FALSE\n119. FALSE\n120. FALSE\n121. FALSE\n122. FALSE\n123. FALSE\n124. FALSE\n125. FALSE\n126. FALSE\n127. FALSE\n128. FALSE\n129. FALSE\n130. FALSE\n131. FALSE\n132. FALSE\n133. FALSE\n134. FALSE\n135. FALSE\n136. FALSE\n137. FALSE\n138. FALSE\n139. FALSE\n140. FALSE\n141. FALSE\n142. FALSE\n143. FALSE\n144. FALSE\n145. FALSE\n146. FALSE\n147. FALSE\n148. FALSE\n149. FALSE\n150. FALSE\n151. FALSE\n152. FALSE\n153. FALSE\n154. FALSE\n155. FALSE\n156. FALSE\n157. FALSE\n158. FALSE\n159. FALSE\n160. FALSE\n161. FALSE\n162. FALSE\n163. FALSE\n164. FALSE\n165. FALSE\n166. FALSE\n167. FALSE\n168. FALSE\n169. FALSE\n170. FALSE\n171. FALSE\n172. FALSE\n173. FALSE\n174. FALSE\n175. FALSE\n176. FALSE\n177. FALSE\n178. FALSE\n179. FALSE\n180. FALSE\n181. FALSE\n182. FALSE\n183. FALSE\n184. FALSE\n185. FALSE\n186. FALSE\n187. FALSE\n188. FALSE\n189. FALSE\n190. FALSE\n191. FALSE\n192. FALSE\n193. FALSE\n194. FALSE\n195. FALSE\n196. FALSE\n197. FALSE\n198. FALSE\n199. FALSE\n200. FALSE\n201. ⋯\n202. FALSE\n203. FALSE\n204. FALSE\n205. FALSE\n206. FALSE\n207. FALSE\n208. FALSE\n209. FALSE\n210. FALSE\n211. FALSE\n212. FALSE\n213. FALSE\n214. FALSE\n215. FALSE\n216. FALSE\n217. FALSE\n218. FALSE\n219. FALSE\n220. FALSE\n221. FALSE\n222. FALSE\n223. FALSE\n224. FALSE\n225. FALSE\n226. FALSE\n227. FALSE\n228. FALSE\n229. FALSE\n230. FALSE\n231. FALSE\n232. FALSE\n233. FALSE\n234. FALSE\n235. FALSE\n236. FALSE\n237. FALSE\n238. FALSE\n239. FALSE\n240. FALSE\n241. FALSE\n242. FALSE\n243. FALSE\n244. FALSE\n245. FALSE\n246. FALSE\n247. FALSE\n248. FALSE\n249. FALSE\n250. FALSE\n251. FALSE\n252. FALSE\n253. FALSE\n254. FALSE\n255. FALSE\n256. FALSE\n257. FALSE\n258. FALSE\n259. FALSE\n260. FALSE\n261. FALSE\n262. FALSE\n263. FALSE\n264. FALSE\n265. FALSE\n266. FALSE\n267. FALSE\n268. FALSE\n269. FALSE\n270. FALSE\n271. FALSE\n272. FALSE\n273. FALSE\n274. FALSE\n275. FALSE\n276. FALSE\n277. FALSE\n278. FALSE\n279. FALSE\n280. FALSE\n281. FALSE\n282. FALSE\n283. FALSE\n284. FALSE\n285. FALSE\n286. FALSE\n287. FALSE\n288. FALSE\n289. FALSE\n290. FALSE\n291. FALSE\n292. FALSE\n293. FALSE\n294. FALSE\n295. FALSE\n296. FALSE\n297. FALSE\n298. FALSE\n299. FALSE\n300. FALSE\n301. FALSE\n302. FALSE\n303. FALSE\n304. FALSE\n305. FALSE\n306. FALSE\n307. FALSE\n308. FALSE\n309. FALSE\n310. FALSE\n311. FALSE\n312. FALSE\n313. FALSE\n314. FALSE\n315. FALSE\n316. FALSE\n317. FALSE\n318. FALSE\n319. FALSE\n320. FALSE\n321. FALSE\n322. FALSE\n323. FALSE\n324. FALSE\n325. FALSE\n326. FALSE\n327. FALSE\n328. FALSE\n329. FALSE\n330. FALSE\n331. FALSE\n332. FALSE\n333. FALSE\n334. FALSE\n335. FALSE\n336. FALSE\n337. FALSE\n338. FALSE\n339. FALSE\n340. FALSE\n341. FALSE\n342. FALSE\n343. FALSE\n344. FALSE\n345. FALSE\n346. FALSE\n347. FALSE\n348. FALSE\n349. FALSE\n350. FALSE\n351. FALSE\n352. FALSE\n353. FALSE\n354. FALSE\n355. FALSE\n356. FALSE\n357. FALSE\n358. FALSE\n359. FALSE\n360. FALSE\n361. FALSE\n362. FALSE\n363. FALSE\n364. FALSE\n365. FALSE\n366. FALSE\n367. FALSE\n368. FALSE\n369. FALSE\n370. FALSE\n371. FALSE\n372. FALSE\n373. FALSE\n374. FALSE\n375. FALSE\n376. FALSE\n377. FALSE\n378. FALSE\n379. FALSE\n380. FALSE\n381. FALSE\n382. FALSE\n383. FALSE\n384. FALSE\n385. FALSE\n386. FALSE\n387. FALSE\n388. FALSE\n389. FALSE\n390. FALSE\n391. FALSE\n392. FALSE\n393. FALSE\n394. FALSE\n395. FALSE\n396. FALSE\n397. FALSE\n398. FALSE\n399. FALSE\n400. FALSE\n401. FALSE\n\n\n",
            "text/latex": "\\begin{enumerate*}\n\\item FALSE\n\\item FALSE\n\\item FALSE\n\\item FALSE\n\\item FALSE\n\\item FALSE\n\\item FALSE\n\\item FALSE\n\\item FALSE\n\\item FALSE\n\\item FALSE\n\\item FALSE\n\\item FALSE\n\\item FALSE\n\\item FALSE\n\\item FALSE\n\\item FALSE\n\\item FALSE\n\\item FALSE\n\\item FALSE\n\\item FALSE\n\\item FALSE\n\\item FALSE\n\\item FALSE\n\\item FALSE\n\\item FALSE\n\\item FALSE\n\\item FALSE\n\\item FALSE\n\\item FALSE\n\\item FALSE\n\\item FALSE\n\\item FALSE\n\\item FALSE\n\\item FALSE\n\\item FALSE\n\\item FALSE\n\\item FALSE\n\\item FALSE\n\\item FALSE\n\\item FALSE\n\\item FALSE\n\\item FALSE\n\\item FALSE\n\\item FALSE\n\\item FALSE\n\\item FALSE\n\\item FALSE\n\\item FALSE\n\\item FALSE\n\\item FALSE\n\\item FALSE\n\\item FALSE\n\\item FALSE\n\\item FALSE\n\\item FALSE\n\\item FALSE\n\\item FALSE\n\\item FALSE\n\\item FALSE\n\\item FALSE\n\\item FALSE\n\\item FALSE\n\\item FALSE\n\\item FALSE\n\\item FALSE\n\\item FALSE\n\\item FALSE\n\\item FALSE\n\\item FALSE\n\\item FALSE\n\\item FALSE\n\\item FALSE\n\\item FALSE\n\\item FALSE\n\\item FALSE\n\\item FALSE\n\\item FALSE\n\\item FALSE\n\\item FALSE\n\\item FALSE\n\\item FALSE\n\\item FALSE\n\\item FALSE\n\\item FALSE\n\\item FALSE\n\\item FALSE\n\\item FALSE\n\\item FALSE\n\\item FALSE\n\\item FALSE\n\\item FALSE\n\\item FALSE\n\\item FALSE\n\\item FALSE\n\\item FALSE\n\\item FALSE\n\\item FALSE\n\\item FALSE\n\\item FALSE\n\\item FALSE\n\\item FALSE\n\\item FALSE\n\\item FALSE\n\\item FALSE\n\\item FALSE\n\\item FALSE\n\\item FALSE\n\\item FALSE\n\\item FALSE\n\\item FALSE\n\\item FALSE\n\\item FALSE\n\\item FALSE\n\\item FALSE\n\\item FALSE\n\\item FALSE\n\\item FALSE\n\\item FALSE\n\\item FALSE\n\\item FALSE\n\\item FALSE\n\\item FALSE\n\\item FALSE\n\\item FALSE\n\\item FALSE\n\\item FALSE\n\\item FALSE\n\\item FALSE\n\\item FALSE\n\\item FALSE\n\\item FALSE\n\\item FALSE\n\\item FALSE\n\\item FALSE\n\\item FALSE\n\\item FALSE\n\\item FALSE\n\\item FALSE\n\\item FALSE\n\\item FALSE\n\\item FALSE\n\\item FALSE\n\\item FALSE\n\\item FALSE\n\\item FALSE\n\\item FALSE\n\\item FALSE\n\\item FALSE\n\\item FALSE\n\\item FALSE\n\\item FALSE\n\\item FALSE\n\\item FALSE\n\\item FALSE\n\\item FALSE\n\\item FALSE\n\\item FALSE\n\\item FALSE\n\\item FALSE\n\\item FALSE\n\\item FALSE\n\\item FALSE\n\\item FALSE\n\\item FALSE\n\\item FALSE\n\\item FALSE\n\\item FALSE\n\\item FALSE\n\\item FALSE\n\\item FALSE\n\\item FALSE\n\\item FALSE\n\\item FALSE\n\\item FALSE\n\\item FALSE\n\\item FALSE\n\\item FALSE\n\\item FALSE\n\\item FALSE\n\\item FALSE\n\\item FALSE\n\\item FALSE\n\\item FALSE\n\\item FALSE\n\\item FALSE\n\\item FALSE\n\\item FALSE\n\\item FALSE\n\\item FALSE\n\\item FALSE\n\\item FALSE\n\\item FALSE\n\\item FALSE\n\\item FALSE\n\\item FALSE\n\\item FALSE\n\\item FALSE\n\\item FALSE\n\\item FALSE\n\\item ⋯\n\\item FALSE\n\\item FALSE\n\\item FALSE\n\\item FALSE\n\\item FALSE\n\\item FALSE\n\\item FALSE\n\\item FALSE\n\\item FALSE\n\\item FALSE\n\\item FALSE\n\\item FALSE\n\\item FALSE\n\\item FALSE\n\\item FALSE\n\\item FALSE\n\\item FALSE\n\\item FALSE\n\\item FALSE\n\\item FALSE\n\\item FALSE\n\\item FALSE\n\\item FALSE\n\\item FALSE\n\\item FALSE\n\\item FALSE\n\\item FALSE\n\\item FALSE\n\\item FALSE\n\\item FALSE\n\\item FALSE\n\\item FALSE\n\\item FALSE\n\\item FALSE\n\\item FALSE\n\\item FALSE\n\\item FALSE\n\\item FALSE\n\\item FALSE\n\\item FALSE\n\\item FALSE\n\\item FALSE\n\\item FALSE\n\\item FALSE\n\\item FALSE\n\\item FALSE\n\\item FALSE\n\\item FALSE\n\\item FALSE\n\\item FALSE\n\\item FALSE\n\\item FALSE\n\\item FALSE\n\\item FALSE\n\\item FALSE\n\\item FALSE\n\\item FALSE\n\\item FALSE\n\\item FALSE\n\\item FALSE\n\\item FALSE\n\\item FALSE\n\\item FALSE\n\\item FALSE\n\\item FALSE\n\\item FALSE\n\\item FALSE\n\\item FALSE\n\\item FALSE\n\\item FALSE\n\\item FALSE\n\\item FALSE\n\\item FALSE\n\\item FALSE\n\\item FALSE\n\\item FALSE\n\\item FALSE\n\\item FALSE\n\\item FALSE\n\\item FALSE\n\\item FALSE\n\\item FALSE\n\\item FALSE\n\\item FALSE\n\\item FALSE\n\\item FALSE\n\\item FALSE\n\\item FALSE\n\\item FALSE\n\\item FALSE\n\\item FALSE\n\\item FALSE\n\\item FALSE\n\\item FALSE\n\\item FALSE\n\\item FALSE\n\\item FALSE\n\\item FALSE\n\\item FALSE\n\\item FALSE\n\\item FALSE\n\\item FALSE\n\\item FALSE\n\\item FALSE\n\\item FALSE\n\\item FALSE\n\\item FALSE\n\\item FALSE\n\\item FALSE\n\\item FALSE\n\\item FALSE\n\\item FALSE\n\\item FALSE\n\\item FALSE\n\\item FALSE\n\\item FALSE\n\\item FALSE\n\\item FALSE\n\\item FALSE\n\\item FALSE\n\\item FALSE\n\\item FALSE\n\\item FALSE\n\\item FALSE\n\\item FALSE\n\\item FALSE\n\\item FALSE\n\\item FALSE\n\\item FALSE\n\\item FALSE\n\\item FALSE\n\\item FALSE\n\\item FALSE\n\\item FALSE\n\\item FALSE\n\\item FALSE\n\\item FALSE\n\\item FALSE\n\\item FALSE\n\\item FALSE\n\\item FALSE\n\\item FALSE\n\\item FALSE\n\\item FALSE\n\\item FALSE\n\\item FALSE\n\\item FALSE\n\\item FALSE\n\\item FALSE\n\\item FALSE\n\\item FALSE\n\\item FALSE\n\\item FALSE\n\\item FALSE\n\\item FALSE\n\\item FALSE\n\\item FALSE\n\\item FALSE\n\\item FALSE\n\\item FALSE\n\\item FALSE\n\\item FALSE\n\\item FALSE\n\\item FALSE\n\\item FALSE\n\\item FALSE\n\\item FALSE\n\\item FALSE\n\\item FALSE\n\\item FALSE\n\\item FALSE\n\\item FALSE\n\\item FALSE\n\\item FALSE\n\\item FALSE\n\\item FALSE\n\\item FALSE\n\\item FALSE\n\\item FALSE\n\\item FALSE\n\\item FALSE\n\\item FALSE\n\\item FALSE\n\\item FALSE\n\\item FALSE\n\\item FALSE\n\\item FALSE\n\\item FALSE\n\\item FALSE\n\\item FALSE\n\\item FALSE\n\\item FALSE\n\\item FALSE\n\\item FALSE\n\\item FALSE\n\\item FALSE\n\\item FALSE\n\\item FALSE\n\\item FALSE\n\\item FALSE\n\\end{enumerate*}\n",
            "text/plain": [
              "   [1] FALSE FALSE FALSE FALSE FALSE FALSE FALSE FALSE FALSE FALSE FALSE FALSE\n",
              "  [13] FALSE FALSE FALSE FALSE FALSE FALSE FALSE FALSE FALSE FALSE FALSE FALSE\n",
              "  [25] FALSE FALSE FALSE FALSE FALSE FALSE FALSE FALSE FALSE FALSE FALSE FALSE\n",
              "  [37] FALSE FALSE FALSE FALSE FALSE FALSE FALSE FALSE FALSE FALSE FALSE FALSE\n",
              "  [49] FALSE FALSE FALSE FALSE FALSE FALSE FALSE FALSE FALSE FALSE FALSE FALSE\n",
              "  [61] FALSE FALSE FALSE FALSE FALSE FALSE FALSE FALSE FALSE FALSE FALSE FALSE\n",
              "  [73] FALSE FALSE FALSE FALSE FALSE FALSE FALSE FALSE FALSE FALSE FALSE FALSE\n",
              "  [85] FALSE FALSE FALSE FALSE FALSE FALSE FALSE FALSE FALSE FALSE FALSE FALSE\n",
              "  [97] FALSE FALSE FALSE FALSE FALSE FALSE FALSE FALSE FALSE FALSE FALSE FALSE\n",
              " [109] FALSE FALSE FALSE FALSE FALSE FALSE FALSE FALSE FALSE FALSE FALSE FALSE\n",
              " [121] FALSE FALSE FALSE FALSE FALSE FALSE FALSE FALSE FALSE FALSE FALSE FALSE\n",
              " [133] FALSE FALSE FALSE FALSE FALSE FALSE FALSE FALSE FALSE FALSE FALSE FALSE\n",
              " [145] FALSE FALSE FALSE FALSE FALSE FALSE FALSE FALSE FALSE FALSE FALSE FALSE\n",
              " [157] FALSE FALSE FALSE FALSE FALSE FALSE FALSE FALSE FALSE FALSE FALSE FALSE\n",
              " [169] FALSE FALSE FALSE FALSE FALSE FALSE FALSE FALSE FALSE FALSE FALSE FALSE\n",
              " [181] FALSE FALSE FALSE FALSE FALSE FALSE FALSE FALSE FALSE FALSE FALSE FALSE\n",
              " [193] FALSE FALSE FALSE FALSE FALSE FALSE FALSE FALSE FALSE FALSE FALSE FALSE\n",
              " [205] FALSE FALSE FALSE FALSE FALSE FALSE FALSE FALSE FALSE FALSE FALSE FALSE\n",
              " [217] FALSE FALSE FALSE FALSE FALSE FALSE FALSE FALSE FALSE FALSE FALSE FALSE\n",
              " [229] FALSE FALSE FALSE FALSE FALSE FALSE FALSE FALSE FALSE FALSE FALSE FALSE\n",
              " [241] FALSE FALSE FALSE FALSE FALSE FALSE FALSE FALSE FALSE FALSE FALSE FALSE\n",
              " [253] FALSE FALSE FALSE FALSE FALSE FALSE FALSE FALSE FALSE FALSE FALSE FALSE\n",
              " [265] FALSE FALSE FALSE FALSE FALSE FALSE FALSE FALSE FALSE FALSE FALSE FALSE\n",
              " [277] FALSE FALSE FALSE FALSE FALSE FALSE FALSE FALSE FALSE FALSE FALSE FALSE\n",
              " [289] FALSE FALSE FALSE FALSE FALSE FALSE FALSE FALSE FALSE FALSE FALSE FALSE\n",
              " [301] FALSE FALSE FALSE FALSE FALSE FALSE FALSE FALSE FALSE FALSE FALSE FALSE\n",
              " [313] FALSE FALSE FALSE FALSE FALSE FALSE FALSE FALSE FALSE FALSE FALSE FALSE\n",
              " [325] FALSE FALSE FALSE FALSE FALSE FALSE FALSE FALSE FALSE FALSE FALSE FALSE\n",
              " [337] FALSE FALSE FALSE FALSE FALSE FALSE FALSE FALSE FALSE FALSE FALSE FALSE\n",
              " [349] FALSE FALSE FALSE FALSE FALSE FALSE FALSE FALSE FALSE FALSE FALSE FALSE\n",
              " [361] FALSE FALSE FALSE FALSE FALSE FALSE FALSE FALSE FALSE FALSE FALSE FALSE\n",
              " [373] FALSE FALSE FALSE FALSE FALSE FALSE FALSE FALSE FALSE FALSE FALSE FALSE\n",
              " [385] FALSE FALSE FALSE FALSE FALSE FALSE FALSE FALSE FALSE FALSE FALSE FALSE\n",
              " [397] FALSE FALSE FALSE FALSE FALSE FALSE FALSE FALSE FALSE FALSE FALSE FALSE\n",
              " [409] FALSE FALSE FALSE FALSE FALSE FALSE FALSE FALSE FALSE FALSE FALSE FALSE\n",
              " [421] FALSE FALSE FALSE FALSE FALSE FALSE FALSE FALSE FALSE FALSE FALSE FALSE\n",
              " [433] FALSE FALSE FALSE FALSE FALSE FALSE FALSE FALSE FALSE FALSE FALSE FALSE\n",
              " [445] FALSE FALSE FALSE FALSE FALSE FALSE FALSE FALSE FALSE FALSE FALSE FALSE\n",
              " [457] FALSE FALSE FALSE FALSE FALSE FALSE FALSE FALSE FALSE FALSE FALSE FALSE\n",
              " [469] FALSE FALSE FALSE FALSE FALSE FALSE FALSE FALSE FALSE FALSE FALSE FALSE\n",
              " [481] FALSE FALSE FALSE FALSE FALSE FALSE FALSE FALSE FALSE FALSE FALSE FALSE\n",
              " [493] FALSE FALSE FALSE FALSE FALSE FALSE FALSE FALSE FALSE FALSE FALSE FALSE\n",
              " [505] FALSE FALSE FALSE FALSE FALSE FALSE FALSE FALSE FALSE FALSE FALSE FALSE\n",
              " [517] FALSE FALSE FALSE FALSE FALSE FALSE FALSE FALSE FALSE FALSE FALSE FALSE\n",
              " [529] FALSE FALSE FALSE FALSE FALSE FALSE FALSE FALSE FALSE FALSE FALSE FALSE\n",
              " [541] FALSE FALSE FALSE FALSE FALSE FALSE FALSE FALSE FALSE FALSE FALSE FALSE\n",
              " [553] FALSE FALSE FALSE FALSE FALSE FALSE FALSE FALSE FALSE FALSE FALSE FALSE\n",
              " [565] FALSE FALSE FALSE FALSE FALSE FALSE FALSE FALSE FALSE FALSE FALSE FALSE\n",
              " [577] FALSE FALSE FALSE FALSE FALSE FALSE FALSE FALSE FALSE FALSE FALSE FALSE\n",
              " [589] FALSE FALSE FALSE FALSE FALSE FALSE FALSE FALSE FALSE FALSE FALSE FALSE\n",
              " [601] FALSE FALSE FALSE FALSE FALSE FALSE FALSE FALSE FALSE FALSE FALSE FALSE\n",
              " [613] FALSE FALSE FALSE FALSE FALSE FALSE FALSE FALSE FALSE FALSE FALSE FALSE\n",
              " [625] FALSE FALSE FALSE FALSE FALSE FALSE FALSE FALSE FALSE FALSE FALSE FALSE\n",
              " [637] FALSE FALSE FALSE FALSE FALSE FALSE FALSE FALSE FALSE FALSE FALSE FALSE\n",
              " [649] FALSE FALSE FALSE FALSE FALSE FALSE FALSE FALSE FALSE FALSE FALSE FALSE\n",
              " [661] FALSE FALSE FALSE FALSE FALSE FALSE FALSE FALSE FALSE FALSE FALSE FALSE\n",
              " [673] FALSE FALSE FALSE FALSE FALSE FALSE FALSE FALSE FALSE FALSE FALSE FALSE\n",
              " [685] FALSE FALSE FALSE FALSE FALSE FALSE FALSE FALSE FALSE FALSE FALSE FALSE\n",
              " [697] FALSE FALSE FALSE FALSE FALSE FALSE FALSE FALSE FALSE FALSE FALSE FALSE\n",
              " [709] FALSE FALSE FALSE FALSE FALSE FALSE FALSE FALSE FALSE FALSE FALSE FALSE\n",
              " [721] FALSE FALSE FALSE FALSE FALSE FALSE FALSE FALSE FALSE FALSE FALSE FALSE\n",
              " [733] FALSE FALSE FALSE FALSE FALSE FALSE FALSE FALSE FALSE FALSE FALSE FALSE\n",
              " [745] FALSE FALSE FALSE FALSE FALSE FALSE FALSE FALSE FALSE FALSE FALSE FALSE\n",
              " [757] FALSE FALSE FALSE FALSE FALSE FALSE FALSE FALSE FALSE FALSE FALSE FALSE\n",
              " [769] FALSE FALSE FALSE FALSE FALSE FALSE FALSE FALSE FALSE FALSE FALSE FALSE\n",
              " [781] FALSE FALSE FALSE FALSE FALSE FALSE FALSE FALSE FALSE FALSE FALSE FALSE\n",
              " [793] FALSE FALSE FALSE FALSE FALSE FALSE FALSE FALSE FALSE FALSE FALSE FALSE\n",
              " [805] FALSE FALSE FALSE FALSE FALSE FALSE FALSE FALSE FALSE FALSE FALSE FALSE\n",
              " [817] FALSE FALSE FALSE FALSE FALSE FALSE FALSE FALSE FALSE FALSE FALSE FALSE\n",
              " [829] FALSE FALSE FALSE FALSE FALSE FALSE FALSE FALSE FALSE FALSE FALSE FALSE\n",
              " [841] FALSE FALSE FALSE FALSE FALSE FALSE FALSE FALSE FALSE FALSE FALSE FALSE\n",
              " [853] FALSE FALSE FALSE FALSE FALSE FALSE FALSE FALSE FALSE FALSE FALSE FALSE\n",
              " [865] FALSE FALSE FALSE FALSE FALSE FALSE FALSE FALSE FALSE FALSE FALSE FALSE\n",
              " [877] FALSE FALSE FALSE FALSE FALSE FALSE FALSE FALSE FALSE FALSE FALSE FALSE\n",
              " [889] FALSE FALSE FALSE FALSE FALSE FALSE FALSE FALSE FALSE FALSE FALSE FALSE\n",
              " [901] FALSE FALSE FALSE FALSE FALSE FALSE FALSE FALSE FALSE FALSE FALSE FALSE\n",
              " [913] FALSE FALSE FALSE FALSE FALSE FALSE FALSE FALSE FALSE FALSE FALSE FALSE\n",
              " [925] FALSE FALSE FALSE FALSE FALSE FALSE FALSE FALSE FALSE FALSE FALSE FALSE\n",
              " [937] FALSE FALSE FALSE FALSE FALSE FALSE FALSE FALSE FALSE FALSE FALSE FALSE\n",
              " [949] FALSE FALSE FALSE FALSE FALSE FALSE FALSE FALSE FALSE FALSE FALSE FALSE\n",
              " [961] FALSE FALSE FALSE FALSE FALSE FALSE FALSE FALSE FALSE FALSE FALSE FALSE\n",
              " [973] FALSE FALSE FALSE FALSE FALSE FALSE FALSE FALSE FALSE FALSE FALSE FALSE\n",
              " [985] FALSE FALSE FALSE FALSE FALSE FALSE FALSE FALSE FALSE FALSE FALSE FALSE\n",
              " [997] FALSE FALSE FALSE FALSE FALSE FALSE FALSE FALSE FALSE FALSE FALSE FALSE\n",
              "[1009] FALSE FALSE FALSE FALSE FALSE FALSE FALSE FALSE FALSE FALSE FALSE FALSE\n",
              "[1021] FALSE FALSE FALSE FALSE FALSE FALSE FALSE FALSE FALSE FALSE FALSE FALSE\n",
              "[1033] FALSE FALSE FALSE FALSE FALSE FALSE FALSE FALSE FALSE FALSE FALSE FALSE\n",
              "[1045] FALSE FALSE FALSE FALSE FALSE FALSE FALSE FALSE FALSE FALSE FALSE FALSE\n",
              "[1057] FALSE FALSE FALSE FALSE FALSE FALSE FALSE FALSE FALSE FALSE FALSE FALSE\n",
              "[1069] FALSE FALSE FALSE FALSE FALSE FALSE FALSE FALSE FALSE FALSE FALSE FALSE\n",
              "[1081] FALSE FALSE FALSE FALSE FALSE FALSE FALSE FALSE FALSE FALSE FALSE FALSE\n",
              "[1093] FALSE FALSE FALSE FALSE FALSE FALSE FALSE FALSE FALSE FALSE FALSE FALSE\n",
              "[1105] FALSE FALSE FALSE FALSE FALSE FALSE FALSE FALSE FALSE FALSE FALSE FALSE\n",
              "[1117] FALSE FALSE FALSE FALSE FALSE FALSE FALSE FALSE FALSE FALSE FALSE FALSE\n",
              "[1129] FALSE FALSE FALSE FALSE FALSE FALSE FALSE FALSE FALSE FALSE FALSE FALSE\n",
              "[1141] FALSE FALSE FALSE FALSE FALSE FALSE FALSE FALSE FALSE FALSE FALSE FALSE\n",
              "[1153] FALSE FALSE FALSE FALSE FALSE FALSE FALSE FALSE FALSE FALSE FALSE FALSE\n",
              "[1165] FALSE FALSE FALSE FALSE FALSE FALSE FALSE FALSE FALSE FALSE FALSE FALSE\n",
              "[1177] FALSE FALSE FALSE FALSE FALSE FALSE FALSE FALSE FALSE FALSE FALSE FALSE\n",
              "[1189] FALSE FALSE FALSE FALSE FALSE FALSE FALSE FALSE FALSE FALSE FALSE FALSE\n",
              "[1201] FALSE FALSE FALSE FALSE FALSE FALSE FALSE FALSE FALSE FALSE FALSE FALSE\n",
              "[1213] FALSE FALSE FALSE FALSE FALSE FALSE FALSE FALSE FALSE FALSE FALSE FALSE\n",
              "[1225] FALSE FALSE FALSE FALSE FALSE FALSE FALSE FALSE FALSE FALSE FALSE FALSE\n",
              "[1237] FALSE FALSE FALSE FALSE FALSE FALSE FALSE FALSE FALSE FALSE FALSE FALSE\n",
              "[1249] FALSE FALSE FALSE FALSE FALSE FALSE FALSE FALSE FALSE FALSE FALSE FALSE\n",
              "[1261] FALSE FALSE FALSE FALSE FALSE FALSE FALSE FALSE FALSE FALSE FALSE FALSE\n",
              "[1273] FALSE FALSE FALSE FALSE FALSE FALSE FALSE FALSE FALSE FALSE FALSE FALSE\n",
              "[1285] FALSE FALSE FALSE FALSE FALSE FALSE FALSE FALSE FALSE FALSE FALSE FALSE\n",
              "[1297] FALSE FALSE FALSE FALSE FALSE FALSE FALSE FALSE FALSE FALSE FALSE FALSE\n",
              "[1309] FALSE FALSE FALSE FALSE FALSE FALSE FALSE FALSE FALSE FALSE FALSE FALSE\n",
              "[1321] FALSE FALSE FALSE FALSE FALSE FALSE FALSE FALSE FALSE FALSE FALSE FALSE\n",
              "[1333] FALSE FALSE FALSE FALSE FALSE FALSE FALSE FALSE FALSE FALSE FALSE FALSE\n",
              "[1345] FALSE FALSE FALSE FALSE FALSE FALSE FALSE FALSE FALSE FALSE FALSE FALSE\n",
              "[1357] FALSE FALSE FALSE FALSE FALSE FALSE FALSE FALSE FALSE FALSE FALSE FALSE\n",
              "[1369] FALSE FALSE FALSE FALSE FALSE FALSE FALSE FALSE FALSE FALSE FALSE FALSE\n",
              "[1381] FALSE FALSE FALSE FALSE FALSE FALSE FALSE FALSE FALSE FALSE FALSE FALSE\n",
              "[1393] FALSE FALSE FALSE FALSE FALSE FALSE FALSE FALSE FALSE FALSE FALSE FALSE\n",
              "[1405] FALSE FALSE FALSE FALSE FALSE FALSE FALSE FALSE FALSE FALSE FALSE FALSE\n",
              "[1417] FALSE FALSE FALSE FALSE FALSE FALSE FALSE FALSE FALSE FALSE FALSE FALSE\n",
              "[1429] FALSE FALSE FALSE FALSE FALSE FALSE FALSE FALSE FALSE FALSE FALSE FALSE\n",
              "[1441] FALSE FALSE FALSE FALSE FALSE FALSE FALSE FALSE FALSE FALSE FALSE FALSE\n",
              "[1453] FALSE FALSE FALSE FALSE FALSE FALSE FALSE FALSE FALSE FALSE FALSE FALSE\n",
              "[1465] FALSE FALSE FALSE FALSE FALSE FALSE FALSE FALSE FALSE FALSE FALSE FALSE\n",
              "[1477] FALSE FALSE FALSE FALSE FALSE FALSE FALSE FALSE FALSE FALSE FALSE FALSE\n",
              "[1489] FALSE FALSE FALSE FALSE FALSE FALSE FALSE FALSE FALSE FALSE FALSE FALSE\n",
              "[1501] FALSE FALSE FALSE FALSE FALSE FALSE FALSE FALSE FALSE FALSE FALSE FALSE\n",
              "[1513] FALSE FALSE FALSE FALSE FALSE FALSE FALSE FALSE FALSE FALSE FALSE FALSE\n",
              "[1525] FALSE FALSE FALSE FALSE FALSE FALSE FALSE FALSE FALSE FALSE FALSE FALSE\n",
              "[1537] FALSE FALSE FALSE FALSE FALSE FALSE FALSE FALSE FALSE FALSE FALSE FALSE\n",
              "[1549] FALSE FALSE FALSE FALSE FALSE FALSE FALSE FALSE FALSE FALSE FALSE FALSE\n",
              "[1561] FALSE FALSE FALSE FALSE FALSE FALSE FALSE FALSE FALSE FALSE FALSE FALSE\n",
              "[1573] FALSE FALSE FALSE FALSE FALSE FALSE FALSE FALSE FALSE FALSE FALSE FALSE\n",
              "[1585] FALSE FALSE FALSE FALSE FALSE FALSE FALSE FALSE FALSE FALSE FALSE FALSE\n",
              "[1597] FALSE FALSE FALSE FALSE FALSE FALSE FALSE FALSE FALSE FALSE FALSE FALSE\n",
              "[1609] FALSE FALSE FALSE FALSE FALSE FALSE FALSE FALSE FALSE FALSE FALSE FALSE\n",
              "[1621] FALSE FALSE FALSE FALSE FALSE FALSE FALSE FALSE FALSE FALSE FALSE FALSE\n",
              "[1633] FALSE FALSE FALSE FALSE FALSE FALSE FALSE FALSE FALSE FALSE FALSE FALSE\n",
              "[1645] FALSE FALSE FALSE FALSE FALSE FALSE FALSE FALSE FALSE FALSE FALSE FALSE\n",
              "[1657] FALSE FALSE FALSE FALSE FALSE FALSE FALSE FALSE FALSE FALSE FALSE FALSE\n",
              "[1669] FALSE FALSE FALSE FALSE FALSE FALSE FALSE FALSE FALSE FALSE FALSE FALSE\n",
              "[1681] FALSE FALSE FALSE FALSE FALSE FALSE FALSE FALSE FALSE FALSE FALSE FALSE\n",
              "[1693] FALSE FALSE FALSE FALSE FALSE FALSE FALSE FALSE FALSE FALSE FALSE FALSE\n",
              "[1705] FALSE FALSE FALSE FALSE FALSE FALSE FALSE FALSE FALSE FALSE FALSE FALSE\n",
              "[1717] FALSE FALSE FALSE FALSE FALSE FALSE FALSE FALSE FALSE FALSE FALSE FALSE\n",
              "[1729] FALSE FALSE FALSE FALSE FALSE FALSE FALSE FALSE FALSE FALSE FALSE FALSE\n",
              "[1741] FALSE FALSE FALSE FALSE FALSE FALSE FALSE FALSE FALSE FALSE FALSE FALSE\n",
              "[1753] FALSE FALSE FALSE FALSE FALSE FALSE FALSE FALSE FALSE FALSE FALSE FALSE\n",
              "[1765] FALSE FALSE FALSE FALSE FALSE FALSE FALSE FALSE FALSE FALSE FALSE FALSE\n",
              "[1777] FALSE FALSE FALSE FALSE FALSE FALSE FALSE FALSE FALSE FALSE FALSE FALSE\n",
              "[1789] FALSE FALSE FALSE FALSE FALSE FALSE FALSE FALSE FALSE FALSE FALSE FALSE\n",
              "[1801] FALSE FALSE FALSE FALSE FALSE FALSE FALSE FALSE FALSE FALSE FALSE FALSE\n",
              "[1813] FALSE FALSE FALSE FALSE FALSE FALSE FALSE FALSE FALSE FALSE FALSE FALSE\n",
              "[1825] FALSE FALSE FALSE FALSE FALSE FALSE FALSE FALSE FALSE FALSE FALSE FALSE\n",
              "[1837] FALSE FALSE FALSE FALSE FALSE FALSE FALSE FALSE FALSE FALSE FALSE FALSE\n",
              "[1849] FALSE FALSE FALSE FALSE FALSE FALSE FALSE FALSE FALSE FALSE FALSE FALSE\n",
              "[1861] FALSE FALSE FALSE FALSE FALSE FALSE FALSE FALSE FALSE FALSE FALSE FALSE\n",
              "[1873] FALSE FALSE FALSE FALSE FALSE FALSE FALSE FALSE FALSE FALSE FALSE FALSE\n",
              "[1885] FALSE FALSE FALSE FALSE FALSE FALSE FALSE FALSE FALSE FALSE FALSE FALSE\n",
              "[1897] FALSE FALSE FALSE FALSE FALSE FALSE FALSE FALSE FALSE FALSE FALSE FALSE\n",
              "[1909] FALSE FALSE FALSE FALSE FALSE FALSE FALSE FALSE FALSE FALSE FALSE FALSE\n",
              "[1921] FALSE FALSE FALSE FALSE FALSE FALSE FALSE FALSE FALSE FALSE FALSE FALSE\n",
              "[1933] FALSE FALSE FALSE FALSE FALSE FALSE FALSE FALSE FALSE FALSE FALSE FALSE\n",
              "[1945] FALSE FALSE FALSE FALSE FALSE FALSE FALSE FALSE FALSE FALSE FALSE FALSE\n",
              "[1957] FALSE FALSE FALSE FALSE FALSE FALSE FALSE FALSE FALSE FALSE FALSE FALSE\n",
              "[1969] FALSE FALSE FALSE FALSE FALSE FALSE FALSE FALSE FALSE FALSE FALSE FALSE\n",
              "[1981] FALSE FALSE FALSE FALSE FALSE FALSE FALSE FALSE FALSE FALSE FALSE FALSE\n",
              "[1993] FALSE FALSE FALSE FALSE FALSE FALSE FALSE FALSE FALSE FALSE FALSE FALSE\n",
              "[2005] FALSE FALSE FALSE FALSE FALSE FALSE FALSE FALSE FALSE FALSE FALSE FALSE\n",
              "[2017] FALSE FALSE FALSE FALSE FALSE FALSE FALSE FALSE FALSE FALSE FALSE FALSE\n",
              "[2029] FALSE FALSE FALSE FALSE FALSE FALSE FALSE FALSE FALSE FALSE FALSE FALSE\n",
              "[2041] FALSE FALSE FALSE FALSE FALSE FALSE FALSE FALSE FALSE FALSE FALSE FALSE\n",
              "[2053] FALSE FALSE FALSE FALSE FALSE FALSE FALSE FALSE FALSE FALSE FALSE FALSE\n",
              "[2065] FALSE FALSE FALSE FALSE FALSE FALSE FALSE FALSE FALSE FALSE FALSE FALSE\n",
              "[2077] FALSE FALSE FALSE FALSE FALSE FALSE FALSE FALSE FALSE FALSE FALSE FALSE\n",
              "[2089] FALSE FALSE FALSE FALSE FALSE FALSE FALSE FALSE FALSE FALSE FALSE FALSE\n",
              "[2101] FALSE FALSE FALSE FALSE FALSE FALSE FALSE FALSE FALSE FALSE FALSE FALSE\n",
              "[2113] FALSE FALSE FALSE FALSE FALSE FALSE FALSE FALSE FALSE FALSE FALSE FALSE\n",
              "[2125] FALSE FALSE FALSE FALSE FALSE FALSE FALSE FALSE FALSE FALSE FALSE FALSE\n",
              "[2137] FALSE FALSE FALSE FALSE FALSE FALSE FALSE FALSE FALSE FALSE FALSE FALSE\n",
              "[2149] FALSE FALSE FALSE FALSE FALSE FALSE FALSE FALSE FALSE FALSE FALSE FALSE\n",
              "[2161] FALSE FALSE FALSE FALSE FALSE FALSE FALSE FALSE FALSE FALSE FALSE FALSE\n",
              "[2173] FALSE FALSE FALSE FALSE FALSE FALSE FALSE FALSE FALSE FALSE FALSE FALSE\n",
              "[2185] FALSE FALSE FALSE FALSE FALSE FALSE FALSE FALSE FALSE FALSE FALSE FALSE\n",
              "[2197] FALSE FALSE FALSE FALSE FALSE FALSE FALSE FALSE FALSE FALSE FALSE FALSE\n",
              "[2209] FALSE FALSE FALSE FALSE FALSE FALSE FALSE FALSE FALSE FALSE FALSE FALSE\n",
              "[2221] FALSE FALSE FALSE FALSE FALSE FALSE FALSE FALSE FALSE FALSE FALSE FALSE\n",
              "[2233] FALSE FALSE FALSE FALSE FALSE FALSE FALSE FALSE FALSE FALSE FALSE FALSE\n",
              "[2245] FALSE FALSE FALSE FALSE FALSE FALSE FALSE FALSE FALSE FALSE FALSE FALSE\n",
              "[2257] FALSE FALSE FALSE FALSE FALSE FALSE FALSE FALSE FALSE FALSE FALSE FALSE\n",
              "[2269] FALSE FALSE FALSE FALSE FALSE FALSE FALSE FALSE FALSE FALSE FALSE FALSE\n",
              "[2281] FALSE FALSE FALSE FALSE FALSE FALSE FALSE FALSE FALSE FALSE FALSE FALSE\n",
              "[2293] FALSE FALSE FALSE FALSE FALSE FALSE FALSE FALSE FALSE FALSE FALSE FALSE\n",
              "[2305] FALSE FALSE FALSE FALSE FALSE FALSE FALSE FALSE FALSE FALSE FALSE FALSE\n",
              "[2317] FALSE FALSE FALSE FALSE FALSE FALSE FALSE FALSE FALSE FALSE FALSE FALSE\n",
              "[2329] FALSE FALSE FALSE FALSE FALSE FALSE FALSE FALSE FALSE FALSE FALSE FALSE\n",
              "[2341] FALSE FALSE FALSE FALSE FALSE FALSE FALSE FALSE FALSE FALSE FALSE FALSE\n",
              "[2353] FALSE FALSE FALSE FALSE FALSE FALSE FALSE FALSE FALSE FALSE FALSE FALSE\n",
              "[2365] FALSE FALSE FALSE FALSE FALSE FALSE FALSE FALSE FALSE FALSE FALSE FALSE\n",
              "[2377] FALSE FALSE FALSE FALSE FALSE FALSE FALSE FALSE FALSE FALSE FALSE FALSE\n",
              "[2389] FALSE FALSE FALSE FALSE FALSE FALSE FALSE FALSE FALSE FALSE FALSE FALSE\n",
              "[2401] FALSE FALSE FALSE FALSE FALSE FALSE FALSE FALSE FALSE FALSE FALSE FALSE\n",
              "[2413] FALSE FALSE FALSE FALSE FALSE FALSE FALSE FALSE FALSE FALSE FALSE FALSE\n",
              "[2425] FALSE FALSE FALSE FALSE FALSE FALSE FALSE FALSE FALSE FALSE FALSE FALSE\n",
              "[2437] FALSE FALSE FALSE FALSE FALSE FALSE FALSE FALSE FALSE FALSE FALSE FALSE\n",
              "[2449] FALSE FALSE FALSE FALSE FALSE FALSE FALSE FALSE FALSE FALSE FALSE FALSE\n",
              "[2461] FALSE FALSE FALSE FALSE FALSE FALSE FALSE FALSE FALSE FALSE FALSE FALSE\n",
              "[2473] FALSE FALSE FALSE FALSE FALSE FALSE FALSE FALSE FALSE FALSE FALSE FALSE\n",
              "[2485] FALSE FALSE FALSE FALSE FALSE FALSE FALSE FALSE FALSE FALSE FALSE FALSE\n",
              "[2497] FALSE FALSE FALSE FALSE FALSE FALSE FALSE FALSE FALSE FALSE FALSE FALSE\n",
              "[2509] FALSE FALSE FALSE FALSE FALSE FALSE FALSE FALSE FALSE FALSE FALSE FALSE\n",
              "[2521] FALSE FALSE FALSE FALSE FALSE FALSE FALSE FALSE FALSE FALSE FALSE FALSE\n",
              "[2533] FALSE FALSE FALSE FALSE FALSE FALSE FALSE FALSE FALSE FALSE FALSE FALSE\n",
              "[2545] FALSE FALSE FALSE FALSE FALSE FALSE FALSE FALSE FALSE FALSE FALSE FALSE\n",
              "[2557] FALSE FALSE FALSE FALSE FALSE FALSE FALSE FALSE FALSE FALSE FALSE FALSE\n",
              "[2569] FALSE FALSE FALSE FALSE FALSE FALSE FALSE FALSE FALSE FALSE FALSE FALSE\n",
              "[2581] FALSE FALSE FALSE FALSE FALSE FALSE FALSE FALSE FALSE FALSE FALSE FALSE\n",
              "[2593] FALSE FALSE FALSE FALSE FALSE FALSE FALSE FALSE FALSE FALSE FALSE FALSE\n",
              "[2605] FALSE FALSE FALSE FALSE FALSE FALSE FALSE FALSE FALSE FALSE FALSE FALSE\n",
              "[2617] FALSE FALSE FALSE FALSE FALSE FALSE FALSE FALSE FALSE FALSE FALSE FALSE\n",
              "[2629] FALSE FALSE FALSE FALSE FALSE FALSE FALSE FALSE FALSE FALSE FALSE FALSE\n",
              "[2641] FALSE FALSE FALSE FALSE FALSE FALSE FALSE FALSE FALSE FALSE FALSE FALSE\n",
              "[2653] FALSE FALSE FALSE FALSE FALSE FALSE FALSE FALSE FALSE FALSE FALSE FALSE\n",
              "[2665] FALSE FALSE FALSE FALSE FALSE FALSE FALSE FALSE FALSE FALSE FALSE FALSE\n",
              "[2677] FALSE FALSE FALSE FALSE FALSE FALSE FALSE FALSE FALSE FALSE FALSE FALSE\n",
              "[2689] FALSE FALSE FALSE FALSE FALSE FALSE FALSE FALSE FALSE FALSE FALSE FALSE\n",
              "[2701] FALSE FALSE FALSE FALSE FALSE FALSE FALSE FALSE FALSE FALSE FALSE FALSE\n",
              "[2713] FALSE FALSE FALSE FALSE FALSE FALSE FALSE FALSE FALSE FALSE FALSE FALSE\n",
              "[2725] FALSE FALSE FALSE FALSE FALSE FALSE FALSE FALSE FALSE FALSE FALSE FALSE\n",
              "[2737] FALSE FALSE FALSE FALSE FALSE FALSE FALSE FALSE FALSE FALSE FALSE FALSE\n",
              "[2749] FALSE FALSE FALSE FALSE FALSE FALSE FALSE FALSE FALSE FALSE FALSE FALSE\n",
              "[2761] FALSE FALSE FALSE FALSE FALSE FALSE FALSE FALSE FALSE FALSE FALSE FALSE\n",
              "[2773] FALSE FALSE FALSE FALSE FALSE FALSE FALSE FALSE FALSE FALSE FALSE FALSE\n",
              "[2785] FALSE FALSE FALSE FALSE FALSE FALSE FALSE FALSE FALSE FALSE FALSE FALSE\n",
              "[2797] FALSE FALSE FALSE FALSE FALSE FALSE FALSE FALSE FALSE FALSE FALSE FALSE\n",
              "[2809] FALSE FALSE FALSE FALSE FALSE FALSE FALSE FALSE FALSE FALSE FALSE FALSE\n",
              "[2821] FALSE FALSE FALSE FALSE FALSE FALSE FALSE FALSE FALSE FALSE FALSE FALSE\n",
              "[2833] FALSE FALSE FALSE FALSE FALSE FALSE FALSE FALSE FALSE FALSE FALSE FALSE\n",
              "[2845] FALSE FALSE FALSE FALSE FALSE FALSE FALSE FALSE FALSE FALSE FALSE FALSE\n",
              "[2857] FALSE FALSE FALSE FALSE FALSE FALSE FALSE FALSE FALSE FALSE FALSE FALSE\n",
              "[2869] FALSE FALSE FALSE FALSE FALSE FALSE FALSE FALSE FALSE FALSE FALSE FALSE\n",
              "[2881] FALSE FALSE FALSE FALSE FALSE FALSE FALSE FALSE FALSE FALSE FALSE FALSE\n",
              "[2893] FALSE FALSE FALSE FALSE FALSE FALSE FALSE FALSE FALSE FALSE FALSE FALSE\n",
              "[2905] FALSE FALSE FALSE FALSE FALSE FALSE FALSE FALSE FALSE FALSE FALSE FALSE\n",
              "[2917] FALSE FALSE FALSE FALSE FALSE FALSE FALSE FALSE FALSE FALSE FALSE FALSE\n",
              "[2929] FALSE FALSE FALSE FALSE FALSE FALSE FALSE FALSE FALSE FALSE FALSE FALSE\n",
              "[2941] FALSE FALSE FALSE FALSE FALSE FALSE FALSE FALSE FALSE FALSE FALSE FALSE\n",
              "[2953] FALSE FALSE FALSE FALSE FALSE FALSE FALSE FALSE FALSE FALSE FALSE FALSE\n",
              "[2965] FALSE FALSE FALSE FALSE FALSE FALSE FALSE FALSE FALSE FALSE FALSE FALSE\n",
              "[2977] FALSE FALSE FALSE FALSE FALSE FALSE FALSE FALSE FALSE FALSE FALSE FALSE\n",
              "[2989] FALSE FALSE FALSE FALSE FALSE FALSE FALSE FALSE FALSE FALSE FALSE FALSE\n",
              "[3001] FALSE FALSE FALSE FALSE FALSE FALSE FALSE FALSE FALSE FALSE FALSE FALSE\n",
              "[3013] FALSE FALSE FALSE FALSE FALSE FALSE FALSE FALSE FALSE FALSE FALSE FALSE\n",
              "[3025] FALSE FALSE FALSE FALSE FALSE FALSE FALSE FALSE FALSE FALSE FALSE FALSE\n",
              "[3037] FALSE FALSE FALSE FALSE FALSE FALSE FALSE FALSE FALSE FALSE FALSE FALSE\n",
              "[3049] FALSE FALSE FALSE FALSE FALSE FALSE FALSE FALSE FALSE FALSE FALSE FALSE\n",
              "[3061] FALSE FALSE FALSE FALSE FALSE FALSE FALSE FALSE FALSE FALSE FALSE FALSE\n",
              "[3073] FALSE FALSE FALSE FALSE FALSE FALSE FALSE FALSE FALSE FALSE FALSE FALSE\n",
              "[3085] FALSE FALSE FALSE FALSE FALSE FALSE FALSE FALSE FALSE FALSE FALSE FALSE\n",
              "[3097] FALSE FALSE FALSE FALSE FALSE FALSE FALSE FALSE FALSE FALSE FALSE FALSE\n",
              "[3109] FALSE FALSE FALSE FALSE FALSE FALSE FALSE FALSE FALSE FALSE FALSE FALSE\n",
              "[3121] FALSE FALSE FALSE FALSE FALSE FALSE FALSE FALSE FALSE FALSE FALSE FALSE\n",
              "[3133] FALSE FALSE FALSE FALSE FALSE FALSE FALSE FALSE FALSE FALSE FALSE FALSE\n",
              "[3145] FALSE FALSE FALSE FALSE FALSE FALSE FALSE FALSE FALSE FALSE FALSE FALSE\n",
              "[3157] FALSE FALSE FALSE FALSE FALSE FALSE FALSE FALSE FALSE FALSE FALSE FALSE\n",
              "[3169] FALSE FALSE FALSE FALSE FALSE FALSE FALSE FALSE FALSE FALSE FALSE FALSE\n",
              "[3181] FALSE FALSE FALSE FALSE FALSE FALSE FALSE FALSE FALSE FALSE FALSE FALSE\n",
              "[3193] FALSE FALSE FALSE FALSE FALSE FALSE FALSE FALSE FALSE FALSE FALSE FALSE\n",
              "[3205] FALSE FALSE FALSE FALSE FALSE FALSE FALSE FALSE FALSE FALSE FALSE FALSE\n",
              "[3217] FALSE FALSE FALSE FALSE FALSE FALSE FALSE FALSE FALSE FALSE FALSE FALSE\n",
              "[3229] FALSE FALSE FALSE FALSE FALSE FALSE FALSE FALSE FALSE FALSE FALSE FALSE\n",
              "[3241] FALSE FALSE FALSE FALSE FALSE FALSE FALSE FALSE FALSE FALSE FALSE FALSE\n",
              "[3253] FALSE FALSE FALSE FALSE FALSE FALSE FALSE FALSE FALSE FALSE FALSE FALSE\n",
              "[3265] FALSE FALSE FALSE FALSE FALSE FALSE FALSE FALSE FALSE FALSE FALSE FALSE\n",
              "[3277] FALSE FALSE FALSE FALSE FALSE FALSE FALSE FALSE FALSE FALSE FALSE FALSE\n",
              "[3289] FALSE FALSE FALSE FALSE FALSE FALSE FALSE FALSE FALSE FALSE FALSE FALSE\n",
              "[3301] FALSE FALSE FALSE FALSE FALSE FALSE FALSE FALSE FALSE FALSE FALSE FALSE\n",
              "[3313] FALSE FALSE FALSE FALSE FALSE FALSE FALSE FALSE FALSE FALSE FALSE FALSE\n",
              "[3325] FALSE FALSE FALSE FALSE FALSE FALSE FALSE FALSE FALSE FALSE FALSE FALSE\n",
              "[3337] FALSE FALSE FALSE FALSE FALSE FALSE FALSE FALSE FALSE FALSE FALSE FALSE\n",
              "[3349] FALSE FALSE FALSE FALSE FALSE FALSE FALSE FALSE FALSE FALSE FALSE FALSE\n",
              "[3361] FALSE FALSE FALSE FALSE FALSE FALSE FALSE FALSE FALSE FALSE FALSE FALSE\n",
              "[3373] FALSE FALSE FALSE FALSE FALSE FALSE FALSE FALSE FALSE FALSE FALSE FALSE\n",
              "[3385] FALSE FALSE FALSE FALSE FALSE FALSE FALSE FALSE FALSE FALSE FALSE FALSE\n",
              "[3397] FALSE FALSE FALSE FALSE FALSE FALSE FALSE FALSE FALSE FALSE FALSE FALSE\n",
              "[3409] FALSE FALSE FALSE FALSE FALSE FALSE FALSE FALSE FALSE FALSE FALSE FALSE\n",
              "[3421] FALSE FALSE FALSE FALSE FALSE FALSE FALSE FALSE FALSE FALSE FALSE FALSE\n",
              "[3433] FALSE FALSE FALSE FALSE FALSE FALSE FALSE FALSE FALSE FALSE FALSE FALSE\n",
              "[3445] FALSE FALSE FALSE FALSE FALSE FALSE FALSE FALSE FALSE FALSE FALSE FALSE\n",
              "[3457] FALSE FALSE FALSE FALSE FALSE FALSE FALSE FALSE FALSE FALSE FALSE FALSE\n",
              "[3469] FALSE FALSE FALSE FALSE FALSE FALSE FALSE FALSE FALSE FALSE FALSE FALSE\n",
              "[3481] FALSE FALSE FALSE FALSE FALSE FALSE FALSE FALSE FALSE FALSE FALSE FALSE\n",
              "[3493] FALSE FALSE FALSE FALSE FALSE FALSE FALSE FALSE FALSE FALSE FALSE FALSE\n",
              "[3505] FALSE FALSE FALSE FALSE FALSE FALSE FALSE FALSE FALSE FALSE FALSE FALSE\n",
              "[3517] FALSE FALSE FALSE FALSE FALSE FALSE FALSE FALSE FALSE FALSE FALSE FALSE\n",
              "[3529] FALSE FALSE FALSE FALSE FALSE FALSE FALSE FALSE FALSE FALSE FALSE FALSE\n",
              "[3541] FALSE FALSE FALSE FALSE FALSE FALSE FALSE FALSE FALSE FALSE FALSE FALSE\n",
              "[3553] FALSE FALSE FALSE FALSE FALSE FALSE FALSE FALSE FALSE FALSE FALSE FALSE\n",
              "[3565] FALSE FALSE FALSE FALSE FALSE FALSE FALSE FALSE FALSE FALSE FALSE FALSE\n",
              "[3577] FALSE FALSE FALSE FALSE FALSE FALSE FALSE FALSE FALSE FALSE FALSE FALSE\n",
              "[3589] FALSE FALSE FALSE FALSE FALSE FALSE FALSE FALSE FALSE FALSE FALSE FALSE\n",
              "[3601] FALSE FALSE FALSE FALSE FALSE FALSE FALSE FALSE FALSE FALSE FALSE FALSE\n",
              "[3613] FALSE FALSE FALSE FALSE FALSE FALSE FALSE FALSE FALSE FALSE FALSE FALSE\n",
              "[3625] FALSE FALSE FALSE FALSE FALSE FALSE FALSE FALSE FALSE FALSE FALSE FALSE\n",
              "[3637] FALSE FALSE FALSE FALSE FALSE FALSE FALSE FALSE FALSE FALSE FALSE FALSE\n",
              "[3649] FALSE FALSE FALSE FALSE FALSE FALSE FALSE FALSE FALSE FALSE FALSE FALSE\n",
              "[3661] FALSE FALSE FALSE FALSE FALSE FALSE FALSE FALSE FALSE FALSE FALSE FALSE\n",
              "[3673] FALSE FALSE FALSE FALSE FALSE FALSE FALSE FALSE FALSE FALSE FALSE FALSE\n",
              "[3685] FALSE FALSE FALSE FALSE FALSE FALSE FALSE FALSE FALSE FALSE FALSE FALSE\n",
              "[3697] FALSE FALSE FALSE FALSE FALSE FALSE FALSE FALSE FALSE FALSE FALSE FALSE\n",
              "[3709] FALSE FALSE FALSE FALSE FALSE FALSE FALSE FALSE FALSE FALSE FALSE FALSE\n",
              "[3721] FALSE FALSE FALSE FALSE FALSE FALSE FALSE FALSE FALSE FALSE FALSE FALSE\n",
              "[3733] FALSE FALSE FALSE FALSE FALSE FALSE FALSE FALSE FALSE FALSE FALSE FALSE\n",
              "[3745] FALSE FALSE FALSE FALSE FALSE FALSE FALSE FALSE FALSE FALSE FALSE FALSE\n",
              "[3757] FALSE FALSE FALSE FALSE FALSE FALSE FALSE FALSE FALSE FALSE FALSE FALSE\n",
              "[3769] FALSE FALSE FALSE FALSE FALSE FALSE FALSE FALSE FALSE FALSE FALSE FALSE\n",
              "[3781] FALSE FALSE FALSE FALSE FALSE FALSE FALSE FALSE FALSE FALSE FALSE FALSE\n",
              "[3793] FALSE FALSE FALSE FALSE FALSE FALSE FALSE FALSE FALSE FALSE FALSE FALSE\n",
              "[3805] FALSE FALSE FALSE FALSE FALSE FALSE FALSE FALSE FALSE FALSE FALSE FALSE\n",
              "[3817] FALSE FALSE FALSE FALSE FALSE FALSE FALSE FALSE FALSE FALSE FALSE FALSE\n",
              "[3829] FALSE FALSE FALSE FALSE FALSE FALSE FALSE FALSE FALSE FALSE FALSE FALSE\n",
              "[3841] FALSE FALSE FALSE FALSE FALSE FALSE FALSE FALSE FALSE FALSE FALSE FALSE\n",
              "[3853] FALSE FALSE FALSE FALSE FALSE FALSE FALSE FALSE FALSE FALSE FALSE FALSE\n",
              "[3865] FALSE FALSE FALSE FALSE FALSE FALSE FALSE FALSE FALSE FALSE FALSE FALSE\n",
              "[3877] FALSE FALSE FALSE FALSE FALSE FALSE FALSE FALSE FALSE FALSE FALSE FALSE\n",
              "[3889] FALSE FALSE FALSE FALSE FALSE FALSE FALSE FALSE FALSE FALSE FALSE FALSE\n",
              "[3901] FALSE FALSE FALSE FALSE FALSE FALSE FALSE FALSE FALSE FALSE FALSE FALSE\n",
              "[3913] FALSE FALSE FALSE FALSE FALSE FALSE FALSE FALSE FALSE FALSE FALSE FALSE\n",
              "[3925] FALSE FALSE FALSE FALSE FALSE FALSE FALSE FALSE FALSE FALSE FALSE FALSE\n",
              "[3937] FALSE FALSE FALSE FALSE FALSE FALSE FALSE FALSE FALSE FALSE FALSE FALSE\n",
              "[3949] FALSE FALSE FALSE FALSE FALSE FALSE FALSE FALSE FALSE FALSE FALSE FALSE\n",
              "[3961] FALSE FALSE FALSE FALSE FALSE FALSE FALSE FALSE FALSE FALSE FALSE FALSE\n",
              "[3973] FALSE FALSE FALSE FALSE FALSE FALSE FALSE FALSE FALSE FALSE FALSE FALSE\n",
              "[3985] FALSE FALSE FALSE FALSE FALSE FALSE FALSE FALSE FALSE FALSE FALSE FALSE\n",
              "[3997] FALSE FALSE FALSE FALSE FALSE FALSE FALSE FALSE FALSE FALSE FALSE FALSE\n",
              "[4009] FALSE FALSE FALSE FALSE FALSE FALSE FALSE FALSE FALSE FALSE FALSE FALSE\n",
              "[4021] FALSE FALSE FALSE FALSE FALSE FALSE FALSE FALSE FALSE FALSE FALSE FALSE\n",
              "[4033] FALSE FALSE FALSE FALSE FALSE FALSE FALSE FALSE FALSE FALSE FALSE FALSE\n",
              "[4045] FALSE FALSE FALSE FALSE FALSE FALSE FALSE FALSE FALSE FALSE FALSE FALSE\n",
              "[4057] FALSE FALSE FALSE FALSE FALSE FALSE FALSE FALSE FALSE FALSE FALSE FALSE\n",
              "[4069] FALSE FALSE FALSE FALSE FALSE FALSE FALSE FALSE FALSE FALSE FALSE FALSE\n",
              "[4081] FALSE FALSE FALSE FALSE FALSE FALSE FALSE FALSE FALSE FALSE FALSE FALSE\n",
              "[4093] FALSE FALSE FALSE FALSE FALSE FALSE FALSE FALSE FALSE FALSE FALSE FALSE\n",
              "[4105] FALSE FALSE FALSE FALSE FALSE FALSE FALSE FALSE FALSE FALSE FALSE FALSE\n",
              "[4117] FALSE FALSE FALSE FALSE FALSE FALSE FALSE FALSE FALSE FALSE FALSE FALSE\n",
              "[4129] FALSE FALSE FALSE FALSE FALSE FALSE FALSE FALSE FALSE FALSE FALSE FALSE\n",
              "[4141] FALSE FALSE FALSE FALSE FALSE FALSE FALSE FALSE FALSE FALSE FALSE FALSE\n",
              "[4153] FALSE FALSE FALSE FALSE FALSE FALSE FALSE FALSE FALSE FALSE FALSE FALSE\n",
              "[4165] FALSE FALSE FALSE FALSE FALSE FALSE FALSE FALSE FALSE FALSE FALSE FALSE\n",
              "[4177] FALSE FALSE FALSE FALSE FALSE FALSE FALSE FALSE FALSE FALSE FALSE FALSE\n",
              "[4189] FALSE FALSE FALSE FALSE FALSE FALSE FALSE FALSE FALSE FALSE FALSE FALSE\n",
              "[4201] FALSE FALSE FALSE FALSE FALSE FALSE FALSE FALSE FALSE FALSE FALSE FALSE\n",
              "[4213] FALSE FALSE FALSE FALSE FALSE FALSE FALSE FALSE FALSE FALSE FALSE FALSE\n",
              "[4225] FALSE FALSE FALSE FALSE FALSE FALSE FALSE FALSE FALSE FALSE FALSE FALSE\n",
              "[4237] FALSE FALSE FALSE FALSE FALSE FALSE FALSE FALSE FALSE FALSE FALSE FALSE\n",
              "[4249] FALSE FALSE FALSE FALSE FALSE FALSE FALSE FALSE FALSE FALSE FALSE FALSE\n",
              "[4261] FALSE FALSE FALSE FALSE FALSE FALSE FALSE FALSE FALSE FALSE FALSE FALSE\n",
              "[4273] FALSE FALSE FALSE FALSE FALSE FALSE FALSE FALSE FALSE FALSE FALSE FALSE\n",
              "[4285] FALSE FALSE FALSE FALSE FALSE FALSE FALSE FALSE FALSE FALSE FALSE FALSE\n",
              "[4297] FALSE FALSE FALSE FALSE FALSE FALSE FALSE FALSE FALSE FALSE FALSE FALSE\n",
              "[4309] FALSE FALSE FALSE FALSE FALSE FALSE FALSE FALSE FALSE FALSE FALSE FALSE\n",
              "[4321] FALSE FALSE FALSE FALSE FALSE FALSE FALSE FALSE FALSE FALSE FALSE FALSE\n",
              "[4333] FALSE FALSE FALSE FALSE FALSE FALSE FALSE FALSE FALSE FALSE FALSE FALSE\n",
              "[4345] FALSE FALSE FALSE FALSE FALSE FALSE FALSE FALSE FALSE FALSE FALSE FALSE\n",
              "[4357] FALSE FALSE FALSE FALSE FALSE FALSE FALSE FALSE FALSE FALSE FALSE FALSE\n",
              "[4369] FALSE FALSE FALSE FALSE FALSE FALSE FALSE FALSE FALSE FALSE FALSE FALSE\n",
              "[4381] FALSE FALSE FALSE FALSE FALSE FALSE FALSE FALSE FALSE FALSE FALSE FALSE\n",
              "[4393] FALSE FALSE FALSE FALSE FALSE FALSE FALSE FALSE FALSE FALSE FALSE FALSE\n",
              "[4405] FALSE FALSE FALSE FALSE FALSE FALSE FALSE FALSE FALSE FALSE FALSE FALSE\n",
              "[4417] FALSE FALSE FALSE FALSE FALSE FALSE FALSE FALSE FALSE FALSE FALSE FALSE\n",
              "[4429] FALSE FALSE FALSE FALSE FALSE FALSE FALSE FALSE FALSE FALSE FALSE FALSE\n",
              "[4441] FALSE FALSE FALSE FALSE FALSE FALSE FALSE FALSE FALSE FALSE FALSE FALSE\n",
              "[4453] FALSE FALSE FALSE FALSE FALSE FALSE FALSE FALSE FALSE FALSE FALSE FALSE\n",
              "[4465] FALSE FALSE FALSE FALSE FALSE FALSE FALSE FALSE FALSE FALSE FALSE FALSE\n",
              "[4477] FALSE FALSE FALSE FALSE FALSE FALSE FALSE FALSE FALSE FALSE FALSE FALSE\n",
              "[4489] FALSE FALSE FALSE FALSE FALSE FALSE FALSE FALSE FALSE FALSE FALSE FALSE\n",
              "[4501] FALSE FALSE FALSE FALSE FALSE FALSE FALSE FALSE FALSE FALSE FALSE FALSE\n",
              "[4513] FALSE FALSE FALSE FALSE FALSE FALSE FALSE FALSE FALSE FALSE FALSE FALSE\n",
              "[4525] FALSE FALSE FALSE FALSE FALSE FALSE FALSE FALSE FALSE FALSE FALSE FALSE\n",
              "[4537] FALSE FALSE FALSE FALSE FALSE FALSE FALSE FALSE FALSE FALSE FALSE FALSE\n",
              "[4549] FALSE FALSE FALSE FALSE FALSE FALSE FALSE FALSE FALSE FALSE FALSE FALSE\n",
              "[4561] FALSE FALSE FALSE FALSE FALSE FALSE FALSE FALSE FALSE FALSE FALSE FALSE\n",
              "[4573] FALSE FALSE FALSE FALSE FALSE FALSE FALSE FALSE FALSE FALSE FALSE FALSE\n",
              "[4585] FALSE FALSE FALSE FALSE FALSE FALSE FALSE FALSE FALSE FALSE FALSE FALSE\n",
              "[4597] FALSE FALSE FALSE FALSE FALSE FALSE FALSE FALSE FALSE FALSE FALSE FALSE\n",
              "[4609] FALSE FALSE FALSE FALSE FALSE FALSE FALSE FALSE FALSE FALSE FALSE FALSE\n",
              "[4621] FALSE FALSE FALSE FALSE FALSE FALSE FALSE FALSE FALSE FALSE FALSE FALSE\n",
              "[4633] FALSE FALSE FALSE FALSE FALSE FALSE FALSE FALSE FALSE FALSE FALSE FALSE\n",
              "[4645] FALSE FALSE FALSE FALSE FALSE FALSE FALSE FALSE FALSE FALSE FALSE FALSE\n",
              "[4657] FALSE FALSE FALSE FALSE FALSE FALSE FALSE FALSE FALSE FALSE FALSE FALSE\n",
              "[4669] FALSE FALSE FALSE FALSE FALSE FALSE FALSE FALSE FALSE FALSE FALSE FALSE\n",
              "[4681] FALSE FALSE FALSE FALSE FALSE FALSE FALSE FALSE FALSE FALSE FALSE FALSE\n",
              "[4693] FALSE FALSE FALSE FALSE FALSE FALSE FALSE FALSE FALSE FALSE FALSE FALSE\n",
              "[4705] FALSE FALSE FALSE FALSE FALSE FALSE FALSE FALSE FALSE FALSE FALSE FALSE\n",
              "[4717] FALSE FALSE FALSE FALSE FALSE FALSE FALSE FALSE FALSE FALSE FALSE FALSE\n",
              "[4729] FALSE FALSE FALSE FALSE FALSE FALSE FALSE FALSE FALSE FALSE FALSE FALSE\n",
              "[4741] FALSE FALSE FALSE FALSE FALSE FALSE FALSE FALSE FALSE FALSE FALSE FALSE\n",
              "[4753] FALSE FALSE FALSE FALSE FALSE FALSE FALSE FALSE FALSE FALSE FALSE FALSE\n",
              "[4765] FALSE FALSE FALSE FALSE FALSE FALSE FALSE FALSE FALSE FALSE FALSE FALSE\n",
              "[4777] FALSE FALSE FALSE FALSE FALSE FALSE FALSE FALSE FALSE FALSE FALSE FALSE\n",
              "[4789] FALSE FALSE FALSE FALSE FALSE FALSE FALSE FALSE FALSE FALSE FALSE FALSE\n",
              "[4801] FALSE FALSE FALSE FALSE FALSE FALSE FALSE FALSE FALSE FALSE FALSE FALSE\n",
              "[4813] FALSE FALSE FALSE FALSE FALSE FALSE FALSE FALSE FALSE FALSE FALSE FALSE\n",
              "[4825] FALSE FALSE FALSE FALSE FALSE FALSE FALSE FALSE FALSE FALSE FALSE FALSE\n",
              "[4837] FALSE FALSE FALSE FALSE FALSE FALSE FALSE FALSE FALSE FALSE FALSE FALSE\n",
              "[4849] FALSE FALSE FALSE FALSE FALSE FALSE FALSE FALSE FALSE FALSE FALSE FALSE\n",
              "[4861] FALSE FALSE FALSE FALSE FALSE FALSE FALSE FALSE FALSE FALSE FALSE FALSE\n",
              "[4873] FALSE FALSE FALSE FALSE FALSE FALSE FALSE FALSE FALSE FALSE FALSE FALSE\n",
              "[4885] FALSE FALSE FALSE FALSE FALSE FALSE FALSE FALSE FALSE FALSE FALSE FALSE\n",
              "[4897] FALSE FALSE FALSE FALSE FALSE FALSE FALSE FALSE FALSE FALSE FALSE FALSE\n",
              "[4909] FALSE FALSE FALSE FALSE FALSE FALSE FALSE FALSE FALSE FALSE FALSE FALSE\n",
              "[4921] FALSE FALSE FALSE FALSE FALSE FALSE FALSE FALSE FALSE FALSE FALSE FALSE\n",
              "[4933] FALSE FALSE FALSE FALSE FALSE FALSE FALSE FALSE FALSE FALSE FALSE FALSE\n",
              "[4945] FALSE FALSE FALSE FALSE FALSE FALSE FALSE FALSE FALSE FALSE FALSE FALSE\n",
              "[4957] FALSE FALSE FALSE FALSE FALSE FALSE FALSE FALSE FALSE FALSE FALSE FALSE\n",
              "[4969] FALSE FALSE FALSE FALSE FALSE FALSE FALSE FALSE FALSE FALSE FALSE FALSE\n",
              "[4981] FALSE FALSE FALSE FALSE FALSE FALSE FALSE FALSE FALSE FALSE FALSE FALSE\n",
              "[4993] FALSE FALSE FALSE FALSE FALSE FALSE FALSE FALSE FALSE FALSE FALSE FALSE\n",
              "[5005] FALSE FALSE FALSE FALSE FALSE FALSE FALSE FALSE FALSE FALSE FALSE FALSE\n",
              "[5017] FALSE FALSE FALSE FALSE FALSE FALSE FALSE FALSE FALSE FALSE FALSE FALSE\n",
              "[5029] FALSE FALSE FALSE FALSE FALSE FALSE FALSE FALSE FALSE FALSE FALSE FALSE\n",
              "[5041] FALSE FALSE FALSE FALSE FALSE FALSE FALSE FALSE FALSE FALSE FALSE FALSE\n",
              "[5053] FALSE FALSE FALSE FALSE FALSE FALSE FALSE FALSE FALSE FALSE FALSE FALSE\n",
              "[5065] FALSE FALSE FALSE FALSE FALSE FALSE FALSE FALSE FALSE FALSE FALSE FALSE\n",
              "[5077] FALSE FALSE FALSE FALSE FALSE FALSE FALSE FALSE FALSE FALSE FALSE FALSE\n",
              "[5089] FALSE FALSE FALSE FALSE FALSE FALSE FALSE FALSE FALSE FALSE FALSE FALSE\n",
              "[5101] FALSE FALSE FALSE FALSE FALSE FALSE FALSE FALSE FALSE FALSE FALSE FALSE\n",
              "[5113] FALSE FALSE FALSE FALSE FALSE FALSE FALSE FALSE FALSE FALSE FALSE FALSE\n",
              "[5125] FALSE FALSE FALSE FALSE FALSE FALSE FALSE FALSE FALSE FALSE FALSE FALSE\n",
              "[5137] FALSE FALSE FALSE FALSE FALSE FALSE FALSE FALSE FALSE FALSE FALSE FALSE\n",
              "[5149] FALSE FALSE FALSE FALSE FALSE FALSE FALSE FALSE FALSE FALSE FALSE FALSE\n",
              "[5161] FALSE FALSE FALSE FALSE FALSE FALSE FALSE FALSE FALSE FALSE FALSE FALSE\n",
              "[5173] FALSE FALSE FALSE FALSE FALSE FALSE FALSE FALSE FALSE FALSE FALSE FALSE\n",
              "[5185] FALSE FALSE FALSE FALSE FALSE FALSE FALSE FALSE FALSE FALSE FALSE FALSE\n",
              "[5197] FALSE FALSE FALSE FALSE FALSE FALSE FALSE FALSE FALSE FALSE FALSE FALSE\n",
              "[5209] FALSE FALSE FALSE FALSE FALSE FALSE FALSE FALSE FALSE FALSE FALSE FALSE\n",
              "[5221] FALSE FALSE FALSE FALSE FALSE FALSE FALSE FALSE FALSE FALSE FALSE FALSE\n",
              "[5233] FALSE FALSE FALSE FALSE FALSE FALSE FALSE FALSE FALSE FALSE FALSE FALSE\n",
              "[5245] FALSE FALSE FALSE FALSE FALSE FALSE FALSE FALSE FALSE FALSE FALSE FALSE\n",
              "[5257] FALSE FALSE FALSE FALSE FALSE FALSE FALSE FALSE FALSE FALSE FALSE FALSE\n",
              "[5269] FALSE FALSE FALSE FALSE FALSE FALSE FALSE FALSE FALSE FALSE FALSE FALSE\n",
              "[5281] FALSE FALSE FALSE FALSE FALSE FALSE FALSE FALSE FALSE FALSE FALSE FALSE\n",
              "[5293] FALSE FALSE FALSE FALSE FALSE FALSE FALSE FALSE FALSE FALSE FALSE FALSE\n",
              "[5305] FALSE FALSE FALSE FALSE FALSE FALSE FALSE FALSE FALSE FALSE FALSE FALSE\n",
              "[5317] FALSE FALSE FALSE FALSE FALSE FALSE FALSE FALSE FALSE FALSE FALSE FALSE\n",
              "[5329] FALSE FALSE FALSE FALSE FALSE FALSE FALSE FALSE FALSE FALSE FALSE FALSE\n",
              "[5341] FALSE FALSE FALSE FALSE FALSE FALSE FALSE FALSE FALSE FALSE FALSE FALSE\n",
              "[5353] FALSE FALSE FALSE FALSE FALSE FALSE FALSE FALSE FALSE FALSE FALSE FALSE\n",
              "[5365] FALSE FALSE FALSE FALSE FALSE FALSE FALSE FALSE FALSE FALSE FALSE FALSE\n",
              "[5377] FALSE FALSE FALSE FALSE FALSE FALSE FALSE FALSE FALSE FALSE FALSE FALSE\n",
              "[5389] FALSE FALSE FALSE FALSE FALSE FALSE FALSE FALSE FALSE FALSE FALSE FALSE\n",
              "[5401] FALSE FALSE FALSE FALSE FALSE FALSE FALSE FALSE FALSE FALSE FALSE FALSE\n",
              "[5413] FALSE FALSE FALSE FALSE FALSE FALSE FALSE FALSE FALSE FALSE FALSE FALSE\n",
              "[5425] FALSE FALSE FALSE FALSE FALSE FALSE FALSE FALSE FALSE FALSE FALSE FALSE\n",
              "[5437] FALSE FALSE FALSE FALSE FALSE FALSE FALSE FALSE FALSE FALSE FALSE FALSE\n",
              "[5449] FALSE FALSE FALSE FALSE FALSE FALSE FALSE FALSE FALSE FALSE FALSE FALSE\n",
              "[5461] FALSE FALSE FALSE FALSE FALSE FALSE FALSE FALSE FALSE FALSE FALSE FALSE\n",
              "[5473] FALSE FALSE FALSE FALSE FALSE FALSE FALSE FALSE FALSE FALSE FALSE FALSE\n",
              "[5485] FALSE FALSE FALSE FALSE FALSE FALSE FALSE FALSE FALSE FALSE FALSE FALSE\n",
              "[5497] FALSE FALSE FALSE FALSE FALSE FALSE FALSE FALSE FALSE FALSE FALSE FALSE\n",
              "[5509] FALSE FALSE FALSE FALSE FALSE FALSE FALSE FALSE FALSE FALSE FALSE FALSE\n",
              "[5521] FALSE FALSE FALSE FALSE FALSE FALSE FALSE FALSE FALSE FALSE FALSE FALSE\n",
              "[5533] FALSE FALSE FALSE FALSE FALSE FALSE FALSE FALSE FALSE FALSE FALSE FALSE\n",
              "[5545] FALSE FALSE FALSE FALSE FALSE FALSE FALSE FALSE FALSE FALSE FALSE FALSE\n",
              "[5557] FALSE FALSE FALSE FALSE FALSE FALSE FALSE FALSE FALSE FALSE FALSE FALSE\n",
              "[5569] FALSE FALSE FALSE FALSE FALSE FALSE FALSE FALSE FALSE FALSE FALSE FALSE\n",
              "[5581] FALSE FALSE FALSE FALSE FALSE FALSE FALSE FALSE FALSE FALSE FALSE FALSE\n",
              "[5593] FALSE FALSE FALSE FALSE FALSE FALSE FALSE FALSE FALSE FALSE FALSE FALSE\n",
              "[5605] FALSE FALSE FALSE FALSE FALSE FALSE FALSE FALSE FALSE FALSE FALSE FALSE\n",
              "[5617] FALSE FALSE FALSE FALSE FALSE FALSE FALSE FALSE FALSE FALSE FALSE FALSE\n",
              "[5629] FALSE FALSE FALSE FALSE FALSE FALSE FALSE FALSE FALSE FALSE FALSE FALSE\n",
              "[5641] FALSE FALSE FALSE FALSE FALSE FALSE FALSE FALSE FALSE FALSE FALSE FALSE\n",
              "[5653] FALSE FALSE FALSE FALSE FALSE FALSE FALSE FALSE FALSE FALSE FALSE FALSE\n",
              "[5665] FALSE FALSE FALSE FALSE FALSE FALSE FALSE FALSE FALSE FALSE FALSE FALSE\n",
              "[5677] FALSE FALSE FALSE FALSE FALSE FALSE FALSE FALSE FALSE FALSE FALSE FALSE\n",
              "[5689] FALSE FALSE FALSE FALSE FALSE FALSE FALSE FALSE FALSE FALSE FALSE FALSE\n",
              "[5701] FALSE FALSE FALSE FALSE FALSE FALSE FALSE FALSE FALSE FALSE FALSE FALSE\n",
              "[5713] FALSE FALSE FALSE FALSE FALSE FALSE FALSE FALSE FALSE FALSE FALSE FALSE\n",
              "[5725] FALSE FALSE FALSE FALSE FALSE FALSE FALSE FALSE FALSE FALSE FALSE FALSE\n",
              "[5737] FALSE FALSE FALSE FALSE FALSE FALSE FALSE FALSE FALSE FALSE FALSE FALSE\n",
              "[5749] FALSE FALSE FALSE FALSE FALSE FALSE FALSE FALSE FALSE FALSE FALSE FALSE\n",
              "[5761] FALSE FALSE FALSE FALSE FALSE FALSE FALSE FALSE FALSE FALSE FALSE FALSE\n",
              "[5773] FALSE FALSE FALSE FALSE FALSE FALSE FALSE FALSE FALSE FALSE FALSE FALSE\n",
              "[5785] FALSE FALSE FALSE FALSE FALSE FALSE FALSE FALSE FALSE FALSE FALSE FALSE\n",
              "[5797] FALSE FALSE FALSE FALSE FALSE FALSE FALSE FALSE FALSE FALSE FALSE FALSE\n",
              "[5809] FALSE FALSE FALSE FALSE FALSE FALSE FALSE FALSE FALSE FALSE FALSE FALSE\n",
              "[5821] FALSE FALSE FALSE FALSE FALSE FALSE FALSE FALSE FALSE FALSE FALSE FALSE\n",
              "[5833] FALSE FALSE FALSE FALSE FALSE FALSE FALSE FALSE FALSE FALSE FALSE FALSE\n",
              "[5845] FALSE FALSE FALSE FALSE FALSE FALSE FALSE FALSE FALSE FALSE FALSE FALSE\n",
              "[5857] FALSE FALSE FALSE FALSE FALSE FALSE FALSE FALSE FALSE FALSE FALSE FALSE\n",
              "[5869] FALSE FALSE FALSE FALSE FALSE FALSE FALSE FALSE FALSE FALSE FALSE FALSE\n",
              "[5881] FALSE FALSE FALSE FALSE FALSE FALSE FALSE FALSE FALSE FALSE FALSE FALSE\n",
              "[5893] FALSE FALSE FALSE FALSE FALSE FALSE FALSE FALSE FALSE FALSE FALSE FALSE\n",
              "[5905] FALSE FALSE FALSE FALSE FALSE FALSE FALSE FALSE FALSE FALSE FALSE FALSE\n",
              "[5917] FALSE FALSE FALSE FALSE FALSE FALSE FALSE FALSE FALSE FALSE FALSE FALSE\n",
              "[5929] FALSE FALSE FALSE FALSE FALSE FALSE FALSE FALSE FALSE FALSE FALSE FALSE\n",
              "[5941] FALSE FALSE FALSE FALSE FALSE FALSE FALSE FALSE FALSE FALSE FALSE FALSE\n",
              "[5953] FALSE FALSE FALSE FALSE FALSE FALSE FALSE FALSE FALSE FALSE FALSE FALSE\n",
              "[5965] FALSE FALSE FALSE FALSE FALSE FALSE FALSE FALSE FALSE FALSE FALSE FALSE\n",
              "[5977] FALSE FALSE FALSE FALSE FALSE FALSE FALSE FALSE FALSE FALSE FALSE FALSE\n",
              "[5989] FALSE FALSE FALSE FALSE FALSE FALSE FALSE FALSE FALSE FALSE FALSE FALSE\n",
              "[6001] FALSE FALSE FALSE FALSE FALSE FALSE FALSE FALSE FALSE FALSE FALSE FALSE\n",
              "[6013] FALSE FALSE FALSE FALSE FALSE FALSE FALSE FALSE FALSE FALSE FALSE FALSE\n",
              "[6025] FALSE FALSE FALSE FALSE FALSE FALSE FALSE FALSE FALSE FALSE FALSE FALSE\n",
              "[6037] FALSE FALSE FALSE FALSE FALSE FALSE FALSE FALSE FALSE FALSE FALSE FALSE\n",
              "[6049] FALSE FALSE FALSE FALSE FALSE FALSE FALSE FALSE FALSE FALSE FALSE FALSE\n",
              "[6061] FALSE FALSE FALSE FALSE FALSE FALSE FALSE FALSE FALSE FALSE FALSE FALSE\n",
              "[6073] FALSE FALSE FALSE FALSE FALSE FALSE FALSE FALSE FALSE FALSE FALSE FALSE\n",
              "[6085] FALSE FALSE FALSE FALSE FALSE FALSE FALSE FALSE FALSE FALSE FALSE FALSE\n",
              "[6097] FALSE FALSE FALSE FALSE FALSE FALSE FALSE FALSE FALSE FALSE FALSE FALSE\n",
              "[6109] FALSE FALSE FALSE FALSE FALSE FALSE FALSE FALSE FALSE FALSE FALSE FALSE\n",
              "[6121] FALSE FALSE FALSE FALSE FALSE FALSE FALSE FALSE FALSE FALSE FALSE FALSE\n",
              "[6133] FALSE FALSE FALSE FALSE FALSE FALSE FALSE FALSE FALSE FALSE FALSE FALSE\n",
              "[6145] FALSE FALSE FALSE FALSE FALSE FALSE FALSE FALSE FALSE FALSE FALSE FALSE\n",
              "[6157] FALSE FALSE FALSE FALSE FALSE FALSE FALSE FALSE FALSE FALSE FALSE FALSE\n",
              "[6169] FALSE FALSE FALSE FALSE FALSE FALSE FALSE FALSE FALSE FALSE FALSE FALSE\n",
              "[6181] FALSE FALSE FALSE FALSE FALSE FALSE FALSE FALSE FALSE FALSE FALSE FALSE\n",
              "[6193] FALSE FALSE FALSE FALSE FALSE FALSE FALSE FALSE FALSE FALSE FALSE FALSE\n",
              "[6205] FALSE FALSE FALSE FALSE FALSE FALSE FALSE FALSE FALSE FALSE FALSE FALSE\n",
              "[6217] FALSE FALSE FALSE FALSE FALSE FALSE FALSE FALSE FALSE FALSE FALSE FALSE\n",
              "[6229] FALSE FALSE FALSE FALSE FALSE FALSE FALSE FALSE FALSE FALSE FALSE FALSE\n",
              "[6241] FALSE FALSE FALSE FALSE FALSE FALSE FALSE FALSE FALSE FALSE FALSE FALSE\n",
              "[6253] FALSE FALSE FALSE FALSE FALSE FALSE FALSE FALSE FALSE FALSE FALSE FALSE\n",
              "[6265] FALSE FALSE FALSE FALSE FALSE FALSE FALSE FALSE FALSE FALSE FALSE FALSE\n",
              "[6277] FALSE FALSE FALSE FALSE FALSE FALSE FALSE FALSE FALSE FALSE FALSE FALSE\n",
              "[6289] FALSE FALSE FALSE FALSE FALSE FALSE FALSE FALSE FALSE FALSE FALSE FALSE\n",
              "[6301] FALSE FALSE FALSE FALSE FALSE FALSE FALSE FALSE FALSE FALSE FALSE FALSE\n",
              "[6313] FALSE FALSE FALSE FALSE FALSE FALSE FALSE FALSE FALSE FALSE FALSE FALSE\n",
              "[6325] FALSE FALSE FALSE FALSE FALSE FALSE FALSE FALSE FALSE FALSE FALSE FALSE\n",
              "[6337] FALSE FALSE FALSE FALSE FALSE FALSE FALSE FALSE FALSE FALSE FALSE FALSE\n",
              "[6349] FALSE FALSE FALSE FALSE FALSE FALSE FALSE FALSE FALSE FALSE FALSE FALSE\n",
              "[6361] FALSE FALSE FALSE FALSE FALSE FALSE FALSE FALSE FALSE FALSE FALSE FALSE\n",
              "[6373] FALSE FALSE FALSE FALSE FALSE FALSE FALSE FALSE FALSE FALSE FALSE FALSE\n",
              "[6385] FALSE FALSE FALSE FALSE FALSE FALSE FALSE FALSE FALSE FALSE FALSE FALSE\n",
              "[6397] FALSE FALSE FALSE FALSE FALSE FALSE FALSE FALSE FALSE FALSE FALSE FALSE\n",
              "[6409] FALSE FALSE FALSE FALSE FALSE FALSE FALSE FALSE FALSE FALSE FALSE FALSE\n",
              "[6421] FALSE FALSE FALSE FALSE FALSE FALSE FALSE FALSE FALSE FALSE FALSE FALSE\n",
              "[6433] FALSE FALSE FALSE FALSE FALSE FALSE FALSE FALSE FALSE FALSE FALSE FALSE\n",
              "[6445] FALSE FALSE FALSE FALSE FALSE FALSE FALSE FALSE FALSE FALSE FALSE FALSE\n",
              "[6457] FALSE FALSE FALSE FALSE FALSE FALSE FALSE FALSE FALSE FALSE FALSE FALSE\n",
              "[6469] FALSE FALSE FALSE FALSE FALSE FALSE FALSE FALSE FALSE FALSE FALSE FALSE\n",
              "[6481] FALSE FALSE FALSE FALSE FALSE FALSE FALSE FALSE FALSE FALSE FALSE FALSE\n",
              "[6493] FALSE FALSE FALSE FALSE FALSE FALSE FALSE FALSE FALSE FALSE FALSE FALSE\n",
              "[6505] FALSE FALSE FALSE FALSE FALSE FALSE FALSE FALSE FALSE FALSE FALSE FALSE\n",
              "[6517] FALSE FALSE FALSE FALSE FALSE FALSE FALSE FALSE FALSE FALSE FALSE FALSE\n",
              "[6529] FALSE FALSE FALSE FALSE FALSE FALSE FALSE FALSE FALSE FALSE FALSE FALSE\n",
              "[6541] FALSE FALSE FALSE FALSE FALSE FALSE FALSE FALSE FALSE FALSE FALSE FALSE\n",
              "[6553] FALSE FALSE FALSE FALSE FALSE FALSE FALSE FALSE FALSE FALSE FALSE FALSE\n",
              "[6565] FALSE FALSE FALSE FALSE FALSE FALSE FALSE FALSE FALSE FALSE FALSE FALSE\n",
              "[6577] FALSE FALSE FALSE FALSE FALSE FALSE FALSE FALSE FALSE FALSE FALSE FALSE\n",
              "[6589] FALSE FALSE FALSE FALSE FALSE FALSE FALSE FALSE FALSE FALSE FALSE FALSE\n",
              "[6601] FALSE FALSE FALSE FALSE FALSE FALSE FALSE FALSE FALSE FALSE FALSE FALSE\n",
              "[6613] FALSE FALSE FALSE FALSE FALSE FALSE FALSE FALSE FALSE FALSE FALSE FALSE\n",
              "[6625] FALSE FALSE FALSE FALSE FALSE FALSE FALSE FALSE FALSE FALSE FALSE FALSE\n",
              "[6637] FALSE FALSE FALSE FALSE FALSE FALSE FALSE FALSE FALSE FALSE FALSE FALSE\n",
              "[6649] FALSE FALSE FALSE FALSE FALSE FALSE FALSE FALSE FALSE FALSE FALSE FALSE\n",
              "[6661] FALSE FALSE FALSE FALSE FALSE FALSE FALSE FALSE FALSE FALSE FALSE FALSE\n",
              "[6673] FALSE FALSE FALSE FALSE FALSE FALSE FALSE FALSE FALSE FALSE FALSE FALSE\n",
              "[6685] FALSE FALSE FALSE FALSE FALSE FALSE FALSE FALSE FALSE FALSE FALSE FALSE\n",
              "[6697] FALSE FALSE FALSE FALSE FALSE FALSE FALSE FALSE FALSE FALSE FALSE FALSE\n",
              "[6709] FALSE FALSE FALSE FALSE FALSE FALSE FALSE FALSE FALSE FALSE FALSE FALSE\n",
              "[6721] FALSE FALSE FALSE FALSE FALSE FALSE FALSE FALSE FALSE FALSE FALSE FALSE\n",
              "[6733] FALSE FALSE FALSE FALSE FALSE FALSE FALSE FALSE FALSE FALSE FALSE FALSE\n",
              "[6745] FALSE FALSE FALSE FALSE FALSE FALSE FALSE FALSE FALSE FALSE FALSE FALSE\n",
              "[6757] FALSE FALSE FALSE FALSE FALSE FALSE FALSE FALSE FALSE FALSE FALSE FALSE\n",
              "[6769] FALSE FALSE FALSE FALSE FALSE FALSE FALSE FALSE FALSE FALSE FALSE FALSE\n",
              "[6781] FALSE FALSE FALSE FALSE FALSE FALSE FALSE FALSE FALSE FALSE FALSE FALSE\n",
              "[6793] FALSE FALSE FALSE FALSE FALSE FALSE FALSE FALSE FALSE FALSE FALSE FALSE\n",
              "[6805] FALSE FALSE FALSE FALSE FALSE FALSE FALSE FALSE FALSE FALSE FALSE FALSE\n",
              "[6817] FALSE FALSE FALSE FALSE FALSE FALSE FALSE FALSE FALSE FALSE FALSE FALSE\n",
              "[6829] FALSE FALSE FALSE FALSE FALSE FALSE FALSE FALSE FALSE FALSE FALSE FALSE\n",
              "[6841] FALSE FALSE FALSE FALSE FALSE FALSE FALSE FALSE FALSE FALSE FALSE FALSE\n",
              "[6853] FALSE FALSE FALSE FALSE FALSE FALSE FALSE FALSE FALSE FALSE FALSE FALSE\n",
              "[6865] FALSE FALSE FALSE FALSE FALSE FALSE FALSE FALSE FALSE FALSE FALSE FALSE\n",
              "[6877] FALSE FALSE FALSE FALSE FALSE FALSE FALSE FALSE FALSE FALSE FALSE FALSE\n",
              "[6889] FALSE FALSE FALSE FALSE FALSE FALSE FALSE FALSE FALSE FALSE FALSE FALSE\n",
              "[6901] FALSE FALSE FALSE FALSE FALSE FALSE FALSE FALSE FALSE FALSE FALSE FALSE\n",
              "[6913] FALSE FALSE FALSE FALSE FALSE FALSE FALSE FALSE FALSE FALSE FALSE FALSE\n",
              "[6925] FALSE FALSE FALSE FALSE FALSE FALSE FALSE FALSE FALSE FALSE FALSE FALSE\n",
              "[6937] FALSE FALSE FALSE FALSE FALSE FALSE FALSE FALSE FALSE FALSE FALSE FALSE\n",
              "[6949] FALSE FALSE FALSE FALSE FALSE FALSE FALSE FALSE FALSE FALSE FALSE FALSE\n",
              "[6961] FALSE FALSE FALSE FALSE FALSE FALSE FALSE FALSE FALSE FALSE FALSE FALSE\n",
              "[6973] FALSE FALSE FALSE FALSE FALSE FALSE FALSE FALSE FALSE FALSE FALSE FALSE\n",
              "[6985] FALSE FALSE FALSE FALSE FALSE FALSE FALSE FALSE FALSE FALSE FALSE FALSE\n",
              "[6997] FALSE FALSE FALSE FALSE FALSE FALSE FALSE FALSE FALSE FALSE FALSE FALSE\n",
              "[7009] FALSE FALSE FALSE FALSE FALSE FALSE FALSE FALSE FALSE FALSE FALSE FALSE\n",
              "[7021] FALSE FALSE FALSE FALSE FALSE FALSE FALSE FALSE FALSE FALSE FALSE FALSE\n",
              "[7033] FALSE FALSE FALSE FALSE FALSE FALSE FALSE FALSE FALSE FALSE FALSE FALSE\n",
              "[7045] FALSE FALSE FALSE FALSE FALSE FALSE FALSE FALSE FALSE FALSE FALSE FALSE\n",
              "[7057] FALSE FALSE FALSE FALSE FALSE FALSE FALSE FALSE FALSE FALSE FALSE FALSE\n",
              "[7069] FALSE FALSE FALSE FALSE FALSE FALSE FALSE FALSE FALSE FALSE FALSE FALSE\n",
              "[7081] FALSE FALSE FALSE FALSE FALSE FALSE FALSE FALSE FALSE FALSE FALSE FALSE\n",
              "[7093] FALSE FALSE FALSE FALSE FALSE FALSE FALSE FALSE FALSE FALSE FALSE FALSE\n",
              "[7105] FALSE FALSE FALSE FALSE FALSE FALSE FALSE FALSE FALSE FALSE FALSE FALSE\n",
              "[7117] FALSE FALSE FALSE FALSE FALSE FALSE FALSE FALSE FALSE FALSE FALSE FALSE\n",
              "[7129] FALSE FALSE FALSE FALSE FALSE FALSE FALSE FALSE FALSE FALSE FALSE FALSE\n",
              "[7141] FALSE FALSE FALSE FALSE FALSE FALSE FALSE FALSE FALSE FALSE FALSE FALSE\n",
              "[7153] FALSE FALSE FALSE FALSE FALSE FALSE FALSE FALSE FALSE FALSE FALSE FALSE\n",
              "[7165] FALSE FALSE FALSE FALSE FALSE FALSE FALSE FALSE FALSE FALSE FALSE FALSE\n",
              "[7177] FALSE FALSE FALSE FALSE FALSE FALSE FALSE FALSE FALSE FALSE FALSE FALSE\n",
              "[7189] FALSE FALSE FALSE FALSE FALSE FALSE FALSE FALSE FALSE FALSE FALSE FALSE\n",
              "[7201] FALSE FALSE FALSE FALSE FALSE FALSE FALSE FALSE FALSE FALSE FALSE FALSE\n",
              "[7213] FALSE FALSE FALSE FALSE FALSE FALSE FALSE FALSE FALSE FALSE FALSE FALSE\n",
              "[7225] FALSE FALSE FALSE FALSE FALSE FALSE FALSE FALSE FALSE FALSE FALSE FALSE\n",
              "[7237] FALSE FALSE FALSE FALSE FALSE FALSE FALSE FALSE FALSE FALSE FALSE FALSE\n",
              "[7249] FALSE FALSE FALSE FALSE FALSE FALSE FALSE FALSE FALSE FALSE FALSE FALSE\n",
              "[7261] FALSE FALSE FALSE FALSE FALSE FALSE FALSE FALSE FALSE FALSE FALSE FALSE\n",
              "[7273] FALSE FALSE FALSE FALSE FALSE FALSE FALSE FALSE FALSE FALSE FALSE FALSE\n",
              "[7285] FALSE FALSE FALSE FALSE FALSE FALSE FALSE FALSE FALSE FALSE FALSE FALSE\n",
              "[7297] FALSE FALSE FALSE FALSE FALSE FALSE FALSE FALSE FALSE FALSE FALSE FALSE\n",
              "[7309] FALSE FALSE FALSE FALSE FALSE FALSE FALSE FALSE FALSE FALSE FALSE FALSE\n",
              "[7321] FALSE FALSE FALSE FALSE FALSE FALSE FALSE FALSE FALSE FALSE FALSE FALSE\n",
              "[7333] FALSE FALSE FALSE FALSE FALSE FALSE FALSE FALSE FALSE FALSE FALSE FALSE\n",
              "[7345] FALSE FALSE FALSE FALSE FALSE FALSE FALSE FALSE FALSE FALSE FALSE FALSE\n",
              "[7357] FALSE FALSE FALSE FALSE FALSE FALSE FALSE FALSE FALSE FALSE FALSE FALSE\n",
              "[7369] FALSE FALSE FALSE FALSE FALSE FALSE FALSE FALSE FALSE FALSE FALSE FALSE\n",
              "[7381] FALSE FALSE FALSE FALSE FALSE FALSE FALSE FALSE FALSE FALSE FALSE FALSE\n",
              "[7393] FALSE FALSE FALSE FALSE FALSE FALSE FALSE FALSE FALSE FALSE FALSE FALSE\n",
              "[7405] FALSE FALSE FALSE FALSE FALSE FALSE FALSE FALSE FALSE FALSE FALSE FALSE\n",
              "[7417] FALSE FALSE FALSE FALSE FALSE FALSE FALSE FALSE FALSE FALSE FALSE FALSE\n",
              "[7429] FALSE FALSE FALSE FALSE FALSE FALSE FALSE FALSE FALSE FALSE FALSE FALSE\n",
              "[7441] FALSE FALSE FALSE FALSE FALSE FALSE FALSE FALSE FALSE FALSE FALSE FALSE\n",
              "[7453] FALSE FALSE FALSE FALSE FALSE FALSE FALSE FALSE FALSE FALSE FALSE FALSE\n",
              "[7465] FALSE FALSE FALSE FALSE FALSE FALSE FALSE FALSE FALSE FALSE FALSE FALSE\n",
              "[7477] FALSE FALSE FALSE FALSE FALSE FALSE FALSE FALSE FALSE FALSE FALSE FALSE\n",
              "[7489] FALSE FALSE FALSE FALSE FALSE FALSE FALSE FALSE FALSE FALSE FALSE FALSE\n",
              "[7501] FALSE FALSE FALSE FALSE FALSE FALSE FALSE FALSE FALSE FALSE FALSE FALSE\n",
              "[7513] FALSE FALSE FALSE FALSE FALSE FALSE FALSE FALSE FALSE FALSE FALSE FALSE\n",
              "[7525] FALSE FALSE FALSE FALSE FALSE FALSE FALSE FALSE FALSE FALSE FALSE FALSE\n",
              "[7537] FALSE FALSE FALSE FALSE FALSE FALSE FALSE FALSE FALSE FALSE FALSE FALSE\n",
              "[7549] FALSE FALSE FALSE FALSE FALSE FALSE FALSE FALSE FALSE FALSE FALSE FALSE\n",
              "[7561] FALSE FALSE FALSE FALSE FALSE FALSE FALSE FALSE FALSE FALSE FALSE FALSE\n",
              "[7573] FALSE FALSE FALSE FALSE FALSE FALSE FALSE FALSE FALSE FALSE FALSE FALSE\n",
              "[7585] FALSE FALSE FALSE FALSE FALSE FALSE FALSE FALSE FALSE FALSE FALSE FALSE\n",
              "[7597] FALSE FALSE FALSE FALSE FALSE FALSE FALSE FALSE FALSE FALSE FALSE FALSE\n",
              "[7609] FALSE FALSE FALSE FALSE FALSE FALSE FALSE FALSE FALSE FALSE FALSE FALSE\n",
              "[7621] FALSE FALSE FALSE FALSE FALSE FALSE FALSE FALSE FALSE FALSE FALSE FALSE\n",
              "[7633] FALSE FALSE FALSE FALSE FALSE FALSE FALSE FALSE FALSE FALSE FALSE FALSE\n",
              "[7645] FALSE FALSE FALSE FALSE FALSE FALSE FALSE FALSE FALSE FALSE FALSE FALSE\n",
              "[7657] FALSE FALSE FALSE FALSE FALSE FALSE FALSE FALSE FALSE FALSE FALSE FALSE\n",
              "[7669] FALSE FALSE FALSE FALSE FALSE FALSE FALSE FALSE FALSE FALSE FALSE FALSE\n",
              "[7681] FALSE FALSE FALSE FALSE FALSE FALSE FALSE FALSE FALSE FALSE FALSE FALSE\n",
              "[7693] FALSE FALSE FALSE FALSE FALSE FALSE FALSE FALSE FALSE FALSE FALSE FALSE\n",
              "[7705] FALSE FALSE FALSE FALSE FALSE FALSE FALSE FALSE FALSE FALSE FALSE FALSE\n",
              "[7717] FALSE FALSE FALSE FALSE FALSE FALSE FALSE FALSE FALSE FALSE FALSE FALSE\n",
              "[7729] FALSE FALSE FALSE FALSE FALSE FALSE FALSE FALSE FALSE FALSE FALSE FALSE\n",
              "[7741] FALSE FALSE FALSE FALSE FALSE FALSE FALSE FALSE FALSE FALSE FALSE FALSE\n",
              "[7753] FALSE FALSE FALSE FALSE FALSE FALSE FALSE FALSE FALSE FALSE FALSE FALSE\n",
              "[7765] FALSE FALSE FALSE FALSE FALSE FALSE FALSE FALSE FALSE FALSE FALSE FALSE\n",
              "[7777] FALSE FALSE FALSE FALSE FALSE FALSE FALSE FALSE FALSE FALSE FALSE FALSE\n",
              "[7789] FALSE FALSE FALSE FALSE FALSE FALSE FALSE FALSE FALSE FALSE FALSE FALSE\n",
              "[7801] FALSE FALSE FALSE FALSE FALSE FALSE FALSE FALSE FALSE FALSE FALSE FALSE\n",
              "[7813] FALSE FALSE FALSE FALSE FALSE FALSE FALSE FALSE FALSE FALSE FALSE FALSE\n",
              "[7825] FALSE FALSE FALSE FALSE FALSE FALSE FALSE FALSE FALSE FALSE FALSE FALSE\n",
              "[7837] FALSE FALSE FALSE FALSE FALSE FALSE FALSE FALSE FALSE FALSE FALSE FALSE\n",
              "[7849] FALSE FALSE FALSE FALSE FALSE FALSE FALSE FALSE FALSE FALSE FALSE FALSE\n",
              "[7861] FALSE FALSE FALSE FALSE FALSE FALSE FALSE FALSE FALSE FALSE FALSE FALSE\n",
              "[7873] FALSE FALSE FALSE FALSE FALSE FALSE FALSE FALSE FALSE FALSE FALSE FALSE\n",
              "[7885] FALSE FALSE FALSE FALSE FALSE FALSE FALSE FALSE FALSE FALSE FALSE FALSE\n",
              "[7897] FALSE FALSE FALSE FALSE FALSE FALSE FALSE FALSE FALSE FALSE FALSE FALSE\n",
              "[7909] FALSE FALSE FALSE FALSE FALSE FALSE FALSE FALSE FALSE FALSE FALSE FALSE\n",
              "[7921] FALSE FALSE FALSE FALSE FALSE FALSE FALSE FALSE FALSE FALSE FALSE FALSE\n",
              "[7933] FALSE FALSE FALSE FALSE FALSE FALSE FALSE FALSE FALSE FALSE FALSE FALSE\n",
              "[7945] FALSE FALSE FALSE FALSE FALSE FALSE FALSE FALSE FALSE FALSE FALSE FALSE\n",
              "[7957] FALSE FALSE FALSE FALSE FALSE FALSE FALSE FALSE FALSE FALSE FALSE FALSE\n",
              "[7969] FALSE FALSE FALSE FALSE FALSE FALSE FALSE FALSE FALSE FALSE FALSE FALSE\n",
              "[7981] FALSE FALSE FALSE FALSE FALSE FALSE FALSE FALSE FALSE FALSE FALSE FALSE\n",
              "[7993] FALSE FALSE FALSE FALSE FALSE FALSE FALSE FALSE FALSE FALSE FALSE FALSE\n",
              "[8005] FALSE FALSE FALSE FALSE FALSE FALSE FALSE FALSE FALSE FALSE FALSE FALSE\n",
              "[8017] FALSE FALSE FALSE FALSE FALSE FALSE FALSE FALSE FALSE FALSE FALSE FALSE\n",
              "[8029] FALSE FALSE FALSE FALSE FALSE FALSE FALSE FALSE FALSE FALSE FALSE FALSE\n",
              "[8041] FALSE FALSE FALSE FALSE FALSE FALSE FALSE FALSE FALSE FALSE FALSE FALSE\n",
              "[8053] FALSE FALSE FALSE FALSE FALSE FALSE FALSE FALSE FALSE FALSE FALSE FALSE\n",
              "[8065] FALSE FALSE FALSE FALSE FALSE FALSE FALSE FALSE FALSE FALSE FALSE FALSE\n",
              "[8077] FALSE FALSE FALSE FALSE FALSE FALSE FALSE FALSE FALSE FALSE FALSE FALSE\n",
              "[8089] FALSE FALSE FALSE FALSE FALSE FALSE FALSE FALSE FALSE FALSE FALSE FALSE\n",
              "[8101] FALSE FALSE FALSE FALSE FALSE FALSE FALSE FALSE FALSE FALSE FALSE FALSE\n",
              "[8113] FALSE FALSE FALSE FALSE FALSE FALSE FALSE FALSE FALSE FALSE FALSE FALSE\n",
              "[8125] FALSE FALSE FALSE FALSE FALSE FALSE FALSE FALSE FALSE FALSE FALSE FALSE\n",
              "[8137] FALSE FALSE FALSE FALSE FALSE FALSE FALSE FALSE FALSE FALSE FALSE FALSE\n",
              "[8149] FALSE FALSE FALSE FALSE FALSE FALSE FALSE FALSE FALSE FALSE FALSE FALSE\n",
              "[8161] FALSE FALSE FALSE FALSE FALSE FALSE FALSE FALSE FALSE FALSE FALSE FALSE\n",
              "[8173] FALSE FALSE FALSE FALSE FALSE FALSE FALSE FALSE FALSE FALSE FALSE FALSE\n",
              "[8185] FALSE FALSE FALSE FALSE FALSE FALSE FALSE FALSE FALSE FALSE FALSE FALSE\n",
              "[8197] FALSE FALSE FALSE FALSE FALSE FALSE FALSE FALSE FALSE FALSE FALSE FALSE\n",
              "[8209] FALSE FALSE FALSE FALSE FALSE FALSE FALSE FALSE FALSE FALSE FALSE FALSE\n",
              "[8221] FALSE FALSE FALSE FALSE FALSE FALSE FALSE FALSE FALSE FALSE FALSE FALSE\n",
              "[8233] FALSE FALSE FALSE FALSE FALSE FALSE FALSE FALSE FALSE FALSE FALSE FALSE\n",
              "[8245] FALSE FALSE FALSE FALSE FALSE FALSE FALSE FALSE FALSE FALSE FALSE FALSE\n",
              "[8257] FALSE FALSE FALSE FALSE FALSE FALSE FALSE FALSE FALSE FALSE FALSE FALSE\n",
              "[8269] FALSE FALSE FALSE FALSE FALSE FALSE FALSE FALSE FALSE FALSE FALSE FALSE\n",
              "[8281] FALSE FALSE FALSE FALSE FALSE FALSE FALSE FALSE FALSE FALSE FALSE FALSE\n",
              "[8293] FALSE FALSE FALSE FALSE FALSE FALSE FALSE FALSE FALSE FALSE FALSE FALSE\n",
              "[8305] FALSE FALSE FALSE FALSE FALSE FALSE FALSE FALSE FALSE FALSE FALSE FALSE\n",
              "[8317] FALSE FALSE FALSE FALSE FALSE FALSE FALSE FALSE FALSE FALSE FALSE FALSE\n",
              "[8329] FALSE FALSE FALSE FALSE FALSE FALSE FALSE FALSE FALSE FALSE FALSE FALSE\n",
              "[8341] FALSE FALSE FALSE FALSE FALSE FALSE FALSE FALSE FALSE FALSE FALSE FALSE\n",
              "[8353] FALSE FALSE FALSE FALSE FALSE FALSE FALSE FALSE FALSE FALSE FALSE FALSE\n",
              "[8365] FALSE FALSE FALSE FALSE FALSE FALSE FALSE FALSE FALSE FALSE FALSE FALSE\n",
              "[8377] FALSE FALSE FALSE FALSE FALSE FALSE FALSE FALSE FALSE FALSE FALSE FALSE\n",
              "[8389] FALSE FALSE FALSE FALSE FALSE FALSE FALSE FALSE FALSE FALSE FALSE FALSE\n",
              "[8401] FALSE FALSE FALSE FALSE FALSE FALSE FALSE FALSE FALSE FALSE FALSE FALSE\n",
              "[8413] FALSE FALSE FALSE FALSE FALSE FALSE FALSE FALSE FALSE FALSE FALSE FALSE\n",
              "[8425] FALSE FALSE FALSE FALSE FALSE FALSE FALSE FALSE FALSE FALSE FALSE FALSE\n",
              "[8437] FALSE FALSE FALSE FALSE FALSE FALSE FALSE FALSE FALSE FALSE FALSE FALSE\n",
              "[8449] FALSE FALSE FALSE FALSE FALSE FALSE FALSE FALSE FALSE FALSE FALSE FALSE\n",
              "[8461] FALSE FALSE FALSE FALSE FALSE FALSE FALSE FALSE FALSE FALSE FALSE FALSE\n",
              "[8473] FALSE FALSE FALSE FALSE FALSE FALSE FALSE FALSE FALSE FALSE FALSE FALSE\n",
              "[8485] FALSE FALSE FALSE FALSE FALSE FALSE FALSE FALSE FALSE FALSE FALSE FALSE\n",
              "[8497] FALSE FALSE FALSE FALSE FALSE FALSE FALSE FALSE FALSE FALSE FALSE FALSE\n",
              "[8509] FALSE FALSE FALSE FALSE FALSE FALSE FALSE FALSE FALSE FALSE FALSE FALSE\n",
              "[8521] FALSE FALSE FALSE FALSE FALSE FALSE FALSE FALSE FALSE FALSE FALSE FALSE\n",
              "[8533] FALSE FALSE FALSE FALSE FALSE FALSE FALSE FALSE FALSE FALSE FALSE FALSE\n",
              "[8545] FALSE FALSE FALSE FALSE FALSE FALSE FALSE FALSE FALSE FALSE FALSE FALSE\n",
              "[8557] FALSE FALSE FALSE FALSE FALSE FALSE FALSE FALSE FALSE FALSE FALSE FALSE\n",
              "[8569] FALSE FALSE FALSE FALSE FALSE FALSE FALSE FALSE FALSE FALSE FALSE FALSE\n",
              "[8581] FALSE FALSE FALSE FALSE FALSE FALSE FALSE FALSE FALSE FALSE FALSE FALSE\n",
              "[8593] FALSE FALSE FALSE FALSE FALSE FALSE FALSE FALSE FALSE FALSE FALSE FALSE\n",
              "[8605] FALSE FALSE FALSE FALSE FALSE FALSE FALSE FALSE FALSE FALSE FALSE FALSE\n",
              "[8617] FALSE FALSE FALSE FALSE FALSE FALSE FALSE FALSE FALSE FALSE FALSE FALSE\n",
              "[8629] FALSE FALSE FALSE FALSE FALSE FALSE FALSE FALSE FALSE FALSE FALSE FALSE\n",
              "[8641] FALSE FALSE FALSE FALSE FALSE FALSE FALSE FALSE FALSE FALSE FALSE FALSE\n",
              "[8653] FALSE FALSE FALSE FALSE FALSE FALSE FALSE FALSE FALSE FALSE FALSE FALSE\n",
              "[8665] FALSE FALSE FALSE FALSE FALSE FALSE FALSE FALSE FALSE FALSE FALSE FALSE\n",
              "[8677] FALSE FALSE FALSE FALSE FALSE FALSE FALSE FALSE FALSE FALSE FALSE FALSE\n",
              "[8689] FALSE FALSE FALSE FALSE FALSE FALSE FALSE FALSE FALSE"
            ]
          },
          "metadata": {}
        }
      ],
      "source": [
        "is.na(COVID$state)\n",
        "### logical function that will give TRUE if there is missing data,\n",
        "# ###else it will give FALSE"
      ]
    },
    {
      "cell_type": "code",
      "execution_count": 40,
      "id": "3a89d87a",
      "metadata": {
        "id": "3a89d87a",
        "outputId": "14d592cd-8aef-4345-93e4-de2d89599d23",
        "colab": {
          "base_uri": "https://localhost:8080/",
          "height": 34
        }
      },
      "outputs": [
        {
          "output_type": "display_data",
          "data": {
            "text/html": [
              "0"
            ],
            "text/markdown": "0",
            "text/latex": "0",
            "text/plain": [
              "[1] 0"
            ]
          },
          "metadata": {}
        }
      ],
      "source": [
        "sum(is.na(COVID$state))"
      ]
    },
    {
      "cell_type": "markdown",
      "id": "7eb5d99c",
      "metadata": {
        "id": "7eb5d99c"
      },
      "source": [
        "#### Find which column has truly missing data?"
      ]
    },
    {
      "cell_type": "code",
      "execution_count": null,
      "id": "1b630bfc",
      "metadata": {
        "id": "1b630bfc"
      },
      "outputs": [],
      "source": [
        "?table"
      ]
    },
    {
      "cell_type": "markdown",
      "id": "acb83cc2",
      "metadata": {
        "id": "acb83cc2"
      },
      "source": [
        "### Exporting data /saving outputs"
      ]
    },
    {
      "cell_type": "code",
      "execution_count": 41,
      "id": "32d9825e",
      "metadata": {
        "id": "32d9825e",
        "outputId": "0f837e69-9d02-4b4f-c44d-b5062bda1708",
        "colab": {
          "base_uri": "https://localhost:8080/",
          "height": 139
        }
      },
      "outputs": [
        {
          "output_type": "display_data",
          "data": {
            "text/plain": [
              "\n",
              " AK  AL  AR  AS  AZ  CA  CO  CT  DC  DE  FL  GA  GU  HI  IA  ID  IL  IN  KS  KY \n",
              "155 154 155 145 157 157 156 154 156 155 157 157 145 154 155 154 157 155 155 155 \n",
              " LA  MA  MD  ME  MI  MN  MO  MP  MS  MT  NC  ND  NE  NH  NJ  NM  NV  NY  OH  OK \n",
              "154 149 156 154 160 155 154 145 154 154 157 154 156 157 156 155 156 157 156 154 \n",
              " OR  PA  PR  RI  SC  SD  TN  TX  UT  VA  VI  VT  WA  WI  WV  WY \n",
              "157 155 145 160 157 154 156 157 154 156 145 155 199 157 155 154 "
            ]
          },
          "metadata": {}
        }
      ],
      "source": [
        "table(COVID$state)"
      ]
    },
    {
      "cell_type": "code",
      "execution_count": 42,
      "id": "1d27875a",
      "metadata": {
        "scrolled": true,
        "id": "1d27875a",
        "outputId": "76337eea-0713-40b6-bd08-dc0bdfd22f9b",
        "colab": {
          "base_uri": "https://localhost:8080/",
          "height": 1000
        }
      },
      "outputs": [
        {
          "output_type": "display_data",
          "data": {
            "text/html": [
              "<table class=\"dataframe\">\n",
              "<caption>A data.frame: 56 × 2</caption>\n",
              "<thead>\n",
              "\t<tr><th scope=col>Var1</th><th scope=col>Freq</th></tr>\n",
              "\t<tr><th scope=col>&lt;fct&gt;</th><th scope=col>&lt;int&gt;</th></tr>\n",
              "</thead>\n",
              "<tbody>\n",
              "\t<tr><td>AK</td><td>155</td></tr>\n",
              "\t<tr><td>AL</td><td>154</td></tr>\n",
              "\t<tr><td>AR</td><td>155</td></tr>\n",
              "\t<tr><td>AS</td><td>145</td></tr>\n",
              "\t<tr><td>AZ</td><td>157</td></tr>\n",
              "\t<tr><td>CA</td><td>157</td></tr>\n",
              "\t<tr><td>CO</td><td>156</td></tr>\n",
              "\t<tr><td>CT</td><td>154</td></tr>\n",
              "\t<tr><td>DC</td><td>156</td></tr>\n",
              "\t<tr><td>DE</td><td>155</td></tr>\n",
              "\t<tr><td>FL</td><td>157</td></tr>\n",
              "\t<tr><td>GA</td><td>157</td></tr>\n",
              "\t<tr><td>GU</td><td>145</td></tr>\n",
              "\t<tr><td>HI</td><td>154</td></tr>\n",
              "\t<tr><td>IA</td><td>155</td></tr>\n",
              "\t<tr><td>ID</td><td>154</td></tr>\n",
              "\t<tr><td>IL</td><td>157</td></tr>\n",
              "\t<tr><td>IN</td><td>155</td></tr>\n",
              "\t<tr><td>KS</td><td>155</td></tr>\n",
              "\t<tr><td>KY</td><td>155</td></tr>\n",
              "\t<tr><td>LA</td><td>154</td></tr>\n",
              "\t<tr><td>MA</td><td>149</td></tr>\n",
              "\t<tr><td>MD</td><td>156</td></tr>\n",
              "\t<tr><td>ME</td><td>154</td></tr>\n",
              "\t<tr><td>MI</td><td>160</td></tr>\n",
              "\t<tr><td>MN</td><td>155</td></tr>\n",
              "\t<tr><td>MO</td><td>154</td></tr>\n",
              "\t<tr><td>MP</td><td>145</td></tr>\n",
              "\t<tr><td>MS</td><td>154</td></tr>\n",
              "\t<tr><td>MT</td><td>154</td></tr>\n",
              "\t<tr><td>NC</td><td>157</td></tr>\n",
              "\t<tr><td>ND</td><td>154</td></tr>\n",
              "\t<tr><td>NE</td><td>156</td></tr>\n",
              "\t<tr><td>NH</td><td>157</td></tr>\n",
              "\t<tr><td>NJ</td><td>156</td></tr>\n",
              "\t<tr><td>NM</td><td>155</td></tr>\n",
              "\t<tr><td>NV</td><td>156</td></tr>\n",
              "\t<tr><td>NY</td><td>157</td></tr>\n",
              "\t<tr><td>OH</td><td>156</td></tr>\n",
              "\t<tr><td>OK</td><td>154</td></tr>\n",
              "\t<tr><td>OR</td><td>157</td></tr>\n",
              "\t<tr><td>PA</td><td>155</td></tr>\n",
              "\t<tr><td>PR</td><td>145</td></tr>\n",
              "\t<tr><td>RI</td><td>160</td></tr>\n",
              "\t<tr><td>SC</td><td>157</td></tr>\n",
              "\t<tr><td>SD</td><td>154</td></tr>\n",
              "\t<tr><td>TN</td><td>156</td></tr>\n",
              "\t<tr><td>TX</td><td>157</td></tr>\n",
              "\t<tr><td>UT</td><td>154</td></tr>\n",
              "\t<tr><td>VA</td><td>156</td></tr>\n",
              "\t<tr><td>VI</td><td>145</td></tr>\n",
              "\t<tr><td>VT</td><td>155</td></tr>\n",
              "\t<tr><td>WA</td><td>199</td></tr>\n",
              "\t<tr><td>WI</td><td>157</td></tr>\n",
              "\t<tr><td>WV</td><td>155</td></tr>\n",
              "\t<tr><td>WY</td><td>154</td></tr>\n",
              "</tbody>\n",
              "</table>\n"
            ],
            "text/markdown": "\nA data.frame: 56 × 2\n\n| Var1 &lt;fct&gt; | Freq &lt;int&gt; |\n|---|---|\n| AK | 155 |\n| AL | 154 |\n| AR | 155 |\n| AS | 145 |\n| AZ | 157 |\n| CA | 157 |\n| CO | 156 |\n| CT | 154 |\n| DC | 156 |\n| DE | 155 |\n| FL | 157 |\n| GA | 157 |\n| GU | 145 |\n| HI | 154 |\n| IA | 155 |\n| ID | 154 |\n| IL | 157 |\n| IN | 155 |\n| KS | 155 |\n| KY | 155 |\n| LA | 154 |\n| MA | 149 |\n| MD | 156 |\n| ME | 154 |\n| MI | 160 |\n| MN | 155 |\n| MO | 154 |\n| MP | 145 |\n| MS | 154 |\n| MT | 154 |\n| NC | 157 |\n| ND | 154 |\n| NE | 156 |\n| NH | 157 |\n| NJ | 156 |\n| NM | 155 |\n| NV | 156 |\n| NY | 157 |\n| OH | 156 |\n| OK | 154 |\n| OR | 157 |\n| PA | 155 |\n| PR | 145 |\n| RI | 160 |\n| SC | 157 |\n| SD | 154 |\n| TN | 156 |\n| TX | 157 |\n| UT | 154 |\n| VA | 156 |\n| VI | 145 |\n| VT | 155 |\n| WA | 199 |\n| WI | 157 |\n| WV | 155 |\n| WY | 154 |\n\n",
            "text/latex": "A data.frame: 56 × 2\n\\begin{tabular}{ll}\n Var1 & Freq\\\\\n <fct> & <int>\\\\\n\\hline\n\t AK & 155\\\\\n\t AL & 154\\\\\n\t AR & 155\\\\\n\t AS & 145\\\\\n\t AZ & 157\\\\\n\t CA & 157\\\\\n\t CO & 156\\\\\n\t CT & 154\\\\\n\t DC & 156\\\\\n\t DE & 155\\\\\n\t FL & 157\\\\\n\t GA & 157\\\\\n\t GU & 145\\\\\n\t HI & 154\\\\\n\t IA & 155\\\\\n\t ID & 154\\\\\n\t IL & 157\\\\\n\t IN & 155\\\\\n\t KS & 155\\\\\n\t KY & 155\\\\\n\t LA & 154\\\\\n\t MA & 149\\\\\n\t MD & 156\\\\\n\t ME & 154\\\\\n\t MI & 160\\\\\n\t MN & 155\\\\\n\t MO & 154\\\\\n\t MP & 145\\\\\n\t MS & 154\\\\\n\t MT & 154\\\\\n\t NC & 157\\\\\n\t ND & 154\\\\\n\t NE & 156\\\\\n\t NH & 157\\\\\n\t NJ & 156\\\\\n\t NM & 155\\\\\n\t NV & 156\\\\\n\t NY & 157\\\\\n\t OH & 156\\\\\n\t OK & 154\\\\\n\t OR & 157\\\\\n\t PA & 155\\\\\n\t PR & 145\\\\\n\t RI & 160\\\\\n\t SC & 157\\\\\n\t SD & 154\\\\\n\t TN & 156\\\\\n\t TX & 157\\\\\n\t UT & 154\\\\\n\t VA & 156\\\\\n\t VI & 145\\\\\n\t VT & 155\\\\\n\t WA & 199\\\\\n\t WI & 157\\\\\n\t WV & 155\\\\\n\t WY & 154\\\\\n\\end{tabular}\n",
            "text/plain": [
              "   Var1 Freq\n",
              "1  AK   155 \n",
              "2  AL   154 \n",
              "3  AR   155 \n",
              "4  AS   145 \n",
              "5  AZ   157 \n",
              "6  CA   157 \n",
              "7  CO   156 \n",
              "8  CT   154 \n",
              "9  DC   156 \n",
              "10 DE   155 \n",
              "11 FL   157 \n",
              "12 GA   157 \n",
              "13 GU   145 \n",
              "14 HI   154 \n",
              "15 IA   155 \n",
              "16 ID   154 \n",
              "17 IL   157 \n",
              "18 IN   155 \n",
              "19 KS   155 \n",
              "20 KY   155 \n",
              "21 LA   154 \n",
              "22 MA   149 \n",
              "23 MD   156 \n",
              "24 ME   154 \n",
              "25 MI   160 \n",
              "26 MN   155 \n",
              "27 MO   154 \n",
              "28 MP   145 \n",
              "29 MS   154 \n",
              "30 MT   154 \n",
              "31 NC   157 \n",
              "32 ND   154 \n",
              "33 NE   156 \n",
              "34 NH   157 \n",
              "35 NJ   156 \n",
              "36 NM   155 \n",
              "37 NV   156 \n",
              "38 NY   157 \n",
              "39 OH   156 \n",
              "40 OK   154 \n",
              "41 OR   157 \n",
              "42 PA   155 \n",
              "43 PR   145 \n",
              "44 RI   160 \n",
              "45 SC   157 \n",
              "46 SD   154 \n",
              "47 TN   156 \n",
              "48 TX   157 \n",
              "49 UT   154 \n",
              "50 VA   156 \n",
              "51 VI   145 \n",
              "52 VT   155 \n",
              "53 WA   199 \n",
              "54 WI   157 \n",
              "55 WV   155 \n",
              "56 WY   154 "
            ]
          },
          "metadata": {}
        }
      ],
      "source": [
        "as.data.frame(table(COVID$state)) ## we are creating a table here"
      ]
    },
    {
      "cell_type": "code",
      "execution_count": 43,
      "id": "9e4d7138",
      "metadata": {
        "id": "9e4d7138"
      },
      "outputs": [],
      "source": [
        "State_table = as.data.frame(table(COVID$state)) ## we are creating a table here\n",
        "## Dataframe in the Variable Environment\n",
        "#View(State_table)"
      ]
    },
    {
      "cell_type": "code",
      "execution_count": 44,
      "id": "4538b432",
      "metadata": {
        "id": "4538b432",
        "outputId": "a4c6cada-3821-498a-90b2-fe11df11cdd8",
        "colab": {
          "base_uri": "https://localhost:8080/",
          "height": 34
        }
      },
      "outputs": [
        {
          "output_type": "display_data",
          "data": {
            "text/html": [
              "<style>\n",
              ".list-inline {list-style: none; margin:0; padding: 0}\n",
              ".list-inline>li {display: inline-block}\n",
              ".list-inline>li:not(:last-child)::after {content: \"\\00b7\"; padding: 0 .5ex}\n",
              "</style>\n",
              "<ol class=list-inline><li>'COVID'</li><li>'State_table'</li></ol>\n"
            ],
            "text/markdown": "1. 'COVID'\n2. 'State_table'\n\n\n",
            "text/latex": "\\begin{enumerate*}\n\\item 'COVID'\n\\item 'State\\_table'\n\\end{enumerate*}\n",
            "text/plain": [
              "[1] \"COVID\"       \"State_table\""
            ]
          },
          "metadata": {}
        }
      ],
      "source": [
        "ls()"
      ]
    },
    {
      "cell_type": "markdown",
      "id": "0888a278",
      "metadata": {
        "id": "0888a278"
      },
      "source": [
        "`write.csv` will help us save our dataframe as an excel table.  \n",
        "`write.csv(Name_of_Dataframe, 'file_location_on_your_computer/Name_of_file.csv')`  \n",
        "Here we want to save our TaxaGroupTable in \"outputs\" folder as `TaxaGroupTable.csv`.  \n",
        "**It will overwrite your previous file, and erase the old one and save the new one with the same name**  \n"
      ]
    },
    {
      "cell_type": "code",
      "execution_count": 45,
      "id": "957494c4",
      "metadata": {
        "id": "957494c4"
      },
      "outputs": [],
      "source": [
        "write.csv(State_table, \"/content/State_table.csv\")"
      ]
    },
    {
      "cell_type": "markdown",
      "id": "0ed5aba9",
      "metadata": {
        "id": "0ed5aba9"
      },
      "source": [
        "Where is it saved?"
      ]
    },
    {
      "cell_type": "code",
      "execution_count": 46,
      "id": "218fb6b7-e7a5-4fac-92fc-0541c3c35fa1",
      "metadata": {
        "id": "218fb6b7-e7a5-4fac-92fc-0541c3c35fa1",
        "outputId": "78829cf5-35ea-4fdb-e93e-b2a1fb9f0315",
        "colab": {
          "base_uri": "https://localhost:8080/",
          "height": 34
        }
      },
      "outputs": [
        {
          "output_type": "display_data",
          "data": {
            "text/html": [
              "'/content'"
            ],
            "text/markdown": "'/content'",
            "text/latex": "'/content'",
            "text/plain": [
              "[1] \"/content\""
            ]
          },
          "metadata": {}
        }
      ],
      "source": [
        "getwd()"
      ]
    },
    {
      "cell_type": "markdown",
      "id": "835e2181",
      "metadata": {
        "id": "835e2181"
      },
      "source": [
        "## Plotting GGplot"
      ]
    },
    {
      "cell_type": "code",
      "execution_count": 47,
      "id": "531cc20b",
      "metadata": {
        "id": "531cc20b"
      },
      "outputs": [],
      "source": [
        "library(repr)\n",
        "options(repr.plot.width=6, repr.plot.height=4)"
      ]
    },
    {
      "cell_type": "markdown",
      "id": "db10d580",
      "metadata": {
        "id": "db10d580"
      },
      "source": [
        "#### ggplot is package that stands for Grammer of Graphics\n",
        "One of the most popular packages for plotting in R."
      ]
    },
    {
      "cell_type": "code",
      "execution_count": 48,
      "id": "e07ac404",
      "metadata": {
        "id": "e07ac404"
      },
      "outputs": [],
      "source": [
        "library(ggplot2)"
      ]
    },
    {
      "cell_type": "markdown",
      "id": "d2c1b7aa",
      "metadata": {
        "id": "d2c1b7aa"
      },
      "source": [
        "#### lets see if we can plot the table that we generated"
      ]
    },
    {
      "cell_type": "code",
      "execution_count": 49,
      "id": "d6c7dedf",
      "metadata": {
        "id": "d6c7dedf",
        "outputId": "31e7dc69-e33f-4c66-c92c-cf6d85bb19b7",
        "colab": {
          "base_uri": "https://localhost:8080/",
          "height": 286
        }
      },
      "outputs": [
        {
          "output_type": "display_data",
          "data": {
            "text/html": [
              "<table class=\"dataframe\">\n",
              "<caption>A data.frame: 6 × 2</caption>\n",
              "<thead>\n",
              "\t<tr><th></th><th scope=col>Var1</th><th scope=col>Freq</th></tr>\n",
              "\t<tr><th></th><th scope=col>&lt;fct&gt;</th><th scope=col>&lt;int&gt;</th></tr>\n",
              "</thead>\n",
              "<tbody>\n",
              "\t<tr><th scope=row>1</th><td>AK</td><td>155</td></tr>\n",
              "\t<tr><th scope=row>2</th><td>AL</td><td>154</td></tr>\n",
              "\t<tr><th scope=row>3</th><td>AR</td><td>155</td></tr>\n",
              "\t<tr><th scope=row>4</th><td>AS</td><td>145</td></tr>\n",
              "\t<tr><th scope=row>5</th><td>AZ</td><td>157</td></tr>\n",
              "\t<tr><th scope=row>6</th><td>CA</td><td>157</td></tr>\n",
              "</tbody>\n",
              "</table>\n"
            ],
            "text/markdown": "\nA data.frame: 6 × 2\n\n| <!--/--> | Var1 &lt;fct&gt; | Freq &lt;int&gt; |\n|---|---|---|\n| 1 | AK | 155 |\n| 2 | AL | 154 |\n| 3 | AR | 155 |\n| 4 | AS | 145 |\n| 5 | AZ | 157 |\n| 6 | CA | 157 |\n\n",
            "text/latex": "A data.frame: 6 × 2\n\\begin{tabular}{r|ll}\n  & Var1 & Freq\\\\\n  & <fct> & <int>\\\\\n\\hline\n\t1 & AK & 155\\\\\n\t2 & AL & 154\\\\\n\t3 & AR & 155\\\\\n\t4 & AS & 145\\\\\n\t5 & AZ & 157\\\\\n\t6 & CA & 157\\\\\n\\end{tabular}\n",
            "text/plain": [
              "  Var1 Freq\n",
              "1 AK   155 \n",
              "2 AL   154 \n",
              "3 AR   155 \n",
              "4 AS   145 \n",
              "5 AZ   157 \n",
              "6 CA   157 "
            ]
          },
          "metadata": {}
        }
      ],
      "source": [
        "head(State_table)"
      ]
    },
    {
      "cell_type": "code",
      "execution_count": 50,
      "id": "bf7c0ad7",
      "metadata": {
        "id": "bf7c0ad7"
      },
      "outputs": [],
      "source": [
        "library(ggplot2)"
      ]
    },
    {
      "cell_type": "code",
      "execution_count": 51,
      "id": "1cd0170c",
      "metadata": {
        "id": "1cd0170c",
        "outputId": "55567829-7e0f-45a0-ca12-ed67d66d94e4",
        "colab": {
          "base_uri": "https://localhost:8080/",
          "height": 257
        }
      },
      "outputs": [
        {
          "output_type": "display_data",
          "data": {
            "text/plain": [
              "plot without title"
            ],
            "image/png": "[encoded data removed]"
          },
          "metadata": {
            "image/png": {
              "width": 360,
              "height": 240
            }
          }
        }
      ],
      "source": [
        "ggplot(State_table) ## we got our canvas to draw our plot"
      ]
    },
    {
      "cell_type": "code",
      "execution_count": 52,
      "id": "d9813cd8",
      "metadata": {
        "id": "d9813cd8",
        "outputId": "05058dbd-8071-4de3-8d2b-80a0f79bf541",
        "colab": {
          "base_uri": "https://localhost:8080/",
          "height": 257
        }
      },
      "outputs": [
        {
          "output_type": "display_data",
          "data": {
            "text/plain": [
              "plot without title"
            ],
            "image/png": "[encoded data removed]"
          },
          "metadata": {
            "image/png": {
              "width": 360,
              "height": 240
            }
          }
        }
      ],
      "source": [
        "ggplot(State_table) +\n",
        "aes(x = Var1)"
      ]
    },
    {
      "cell_type": "code",
      "execution_count": 53,
      "id": "64996c4b",
      "metadata": {
        "id": "64996c4b",
        "outputId": "0595cf6d-483b-438a-ba3e-e6cc0f33cf20",
        "colab": {
          "base_uri": "https://localhost:8080/",
          "height": 257
        }
      },
      "outputs": [
        {
          "output_type": "display_data",
          "data": {
            "text/plain": [
              "plot without title"
            ],
            "image/png": "[encoded data removed]"
          },
          "metadata": {
            "image/png": {
              "width": 360,
              "height": 240
            }
          }
        }
      ],
      "source": [
        "ggplot(State_table) +\n",
        "aes(x = Var1)+\n",
        "aes(y = Freq)"
      ]
    },
    {
      "cell_type": "code",
      "execution_count": 54,
      "id": "2a7639dd",
      "metadata": {
        "id": "2a7639dd",
        "outputId": "03a73ddd-789d-4640-be13-d6ed15b2973c",
        "colab": {
          "base_uri": "https://localhost:8080/",
          "height": 257
        }
      },
      "outputs": [
        {
          "output_type": "display_data",
          "data": {
            "text/plain": [
              "plot without title"
            ],
            "image/png": "[encoded data removed]"
          },
          "metadata": {
            "image/png": {
              "width": 360,
              "height": 240
            }
          }
        }
      ],
      "source": [
        "ggplot(State_table)+\n",
        "aes(x = Var1)+\n",
        "aes(y = Freq)+\n",
        "geom_bar(stat=\"identity\")"
      ]
    },
    {
      "cell_type": "code",
      "execution_count": 55,
      "id": "fcf7319a",
      "metadata": {
        "id": "fcf7319a",
        "outputId": "aa548576-c544-46a9-de34-7cc26d927f74",
        "colab": {
          "base_uri": "https://localhost:8080/",
          "height": 257
        }
      },
      "outputs": [
        {
          "output_type": "display_data",
          "data": {
            "text/plain": [
              "plot without title"
            ],
            "image/png": "[encoded data removed]"
          },
          "metadata": {
            "image/png": {
              "width": 360,
              "height": 240
            }
          }
        }
      ],
      "source": [
        "ggplot(State_table)+\n",
        "aes(x = Var1)+\n",
        "aes(y = Freq)+\n",
        "geom_bar(stat=\"identity\")+\n",
        "coord_flip()"
      ]
    },
    {
      "cell_type": "code",
      "execution_count": 56,
      "id": "d3e56d4e",
      "metadata": {
        "id": "d3e56d4e",
        "outputId": "14c73827-d781-4f12-937f-30399dbafa54",
        "colab": {
          "base_uri": "https://localhost:8080/",
          "height": 257
        }
      },
      "outputs": [
        {
          "output_type": "display_data",
          "data": {
            "text/plain": [
              "plot without title"
            ],
            "image/png": "[encoded data removed]"
          },
          "metadata": {
            "image/png": {
              "width": 360,
              "height": 240
            }
          }
        }
      ],
      "source": [
        "ggplot(State_table)+\n",
        "aes(x = Var1)+\n",
        "aes(y = Freq)+\n",
        "geom_bar(stat=\"identity\", width = 0.5,\n",
        "color = 'steelblue', fill = 'steelblue')+\n",
        "coord_flip()"
      ]
    },
    {
      "cell_type": "code",
      "execution_count": 57,
      "id": "676aa004",
      "metadata": {
        "id": "676aa004",
        "outputId": "8a203552-3d1f-4c11-a595-7b487c6a4dfe",
        "colab": {
          "base_uri": "https://localhost:8080/",
          "height": 257
        }
      },
      "outputs": [
        {
          "output_type": "display_data",
          "data": {
            "text/plain": [
              "plot without title"
            ],
            "image/png": "[encoded data removed]"
          },
          "metadata": {
            "image/png": {
              "width": 360,
              "height": 240
            }
          }
        }
      ],
      "source": [
        "ggplot(State_table)+\n",
        "aes(x = Var1)+\n",
        "aes(y = Freq)+\n",
        "geom_bar(stat=\"identity\", width = 0.5,\n",
        "color = 'steelblue', fill = 'steelblue')+\n",
        "xlab('State')+ ylab('Number of rows in the dataset')+\n",
        "labs(title = \"Covid data description\")+\n",
        "coord_flip()"
      ]
    },
    {
      "cell_type": "markdown",
      "id": "47693ea8",
      "metadata": {
        "id": "47693ea8"
      },
      "source": [
        "I would like to create point plot instead?"
      ]
    },
    {
      "cell_type": "code",
      "execution_count": 58,
      "id": "b784a222",
      "metadata": {
        "id": "b784a222",
        "outputId": "d925c55d-84b8-41c7-b54d-048bd5451673",
        "colab": {
          "base_uri": "https://localhost:8080/",
          "height": 257
        }
      },
      "outputs": [
        {
          "output_type": "display_data",
          "data": {
            "text/plain": [
              "plot without title"
            ],
            "image/png": "[encoded data removed]"
          },
          "metadata": {
            "image/png": {
              "width": 360,
              "height": 240
            }
          }
        }
      ],
      "source": [
        "ggplot(State_table)+\n",
        "aes(x = Var1)+\n",
        "aes(y = Freq)+\n",
        "geom_point(stat=\"identity\", color = 'steelblue', fill = 'steelblue')+\n",
        "xlab('State')+ ylab('Number of rows in the dataset')+\n",
        "labs(title = \"Covid data description\")+\n",
        "coord_flip()"
      ]
    },
    {
      "cell_type": "code",
      "execution_count": 60,
      "id": "34ff8b45",
      "metadata": {
        "id": "34ff8b45",
        "outputId": "38bd7dae-2963-44ca-8bb4-1b9f82ae54ad",
        "colab": {
          "base_uri": "https://localhost:8080/",
          "height": 257
        }
      },
      "outputs": [
        {
          "output_type": "display_data",
          "data": {
            "text/plain": [
              "plot without title"
            ],
            "image/png": "[encoded data removed]"
          },
          "metadata": {
            "image/png": {
              "width": 360,
              "height": 240
            }
          }
        }
      ],
      "source": [
        "ggplot(State_table)+\n",
        "aes(x = Var1)+\n",
        "aes(y = Freq)+\n",
        "geom_point(stat=\"identity\", color = 'steelblue', fill = 'steelblue')+\n",
        "xlab('State')+ ylab('Number of rows in the dataset')+\n",
        "labs(title = \"Covid data description\")+\n",
        "coord_flip()\n",
        "ggsave(\"/content/state_points.pdf\", width = 4, height = 4)"
      ]
    },
    {
      "cell_type": "code",
      "execution_count": null,
      "id": "bccb3452",
      "metadata": {
        "id": "bccb3452"
      },
      "outputs": [],
      "source": [
        "getwd()"
      ]
    },
    {
      "cell_type": "markdown",
      "id": "8d7f026b",
      "metadata": {
        "id": "8d7f026b"
      },
      "source": [
        "## Summarizing data"
      ]
    },
    {
      "cell_type": "markdown",
      "id": "76abef48",
      "metadata": {
        "id": "76abef48"
      },
      "source": [
        "#### Subsetting data\n",
        "Lets say we have to explore data only for the state of California"
      ]
    },
    {
      "cell_type": "code",
      "execution_count": 61,
      "id": "a0f2c946",
      "metadata": {
        "id": "a0f2c946",
        "colab": {
          "base_uri": "https://localhost:8080/",
          "height": 52
        },
        "outputId": "375807be-20fc-416f-a225-63cc83f8711d"
      },
      "outputs": [
        {
          "output_type": "display_data",
          "data": {
            "text/html": [
              "<style>\n",
              ".list-inline {list-style: none; margin:0; padding: 0}\n",
              ".list-inline>li {display: inline-block}\n",
              ".list-inline>li:not(:last-child)::after {content: \"\\00b7\"; padding: 0 .5ex}\n",
              "</style>\n",
              "<ol class=list-inline><li>AK</li><li>AL</li><li>AR</li><li>AS</li><li>AZ</li><li>CA</li><li>CO</li><li>CT</li><li>DC</li><li>DE</li><li>FL</li><li>GA</li><li>GU</li><li>HI</li><li>IA</li><li>ID</li><li>IL</li><li>IN</li><li>KS</li><li>KY</li><li>LA</li><li>MA</li><li>MD</li><li>ME</li><li>MI</li><li>MN</li><li>MO</li><li>MP</li><li>MS</li><li>MT</li><li>NC</li><li>ND</li><li>NE</li><li>NH</li><li>NJ</li><li>NM</li><li>NV</li><li>NY</li><li>OH</li><li>OK</li><li>OR</li><li>PA</li><li>PR</li><li>RI</li><li>SC</li><li>SD</li><li>TN</li><li>TX</li><li>UT</li><li>VA</li><li>VI</li><li>VT</li><li>WA</li><li>WI</li><li>WV</li><li>WY</li></ol>\n",
              "\n",
              "<details>\n",
              "\t<summary style=display:list-item;cursor:pointer>\n",
              "\t\t<strong>Levels</strong>:\n",
              "\t</summary>\n",
              "\t<style>\n",
              "\t.list-inline {list-style: none; margin:0; padding: 0}\n",
              "\t.list-inline>li {display: inline-block}\n",
              "\t.list-inline>li:not(:last-child)::after {content: \"\\00b7\"; padding: 0 .5ex}\n",
              "\t</style>\n",
              "\t<ol class=list-inline><li>'AK'</li><li>'AL'</li><li>'AR'</li><li>'AS'</li><li>'AZ'</li><li>'CA'</li><li>'CO'</li><li>'CT'</li><li>'DC'</li><li>'DE'</li><li>'FL'</li><li>'GA'</li><li>'GU'</li><li>'HI'</li><li>'IA'</li><li>'ID'</li><li>'IL'</li><li>'IN'</li><li>'KS'</li><li>'KY'</li><li>'LA'</li><li>'MA'</li><li>'MD'</li><li>'ME'</li><li>'MI'</li><li>'MN'</li><li>'MO'</li><li>'MP'</li><li>'MS'</li><li>'MT'</li><li>'NC'</li><li>'ND'</li><li>'NE'</li><li>'NH'</li><li>'NJ'</li><li>'NM'</li><li>'NV'</li><li>'NY'</li><li>'OH'</li><li>'OK'</li><li>'OR'</li><li>'PA'</li><li>'PR'</li><li>'RI'</li><li>'SC'</li><li>'SD'</li><li>'TN'</li><li>'TX'</li><li>'UT'</li><li>'VA'</li><li>'VI'</li><li>'VT'</li><li>'WA'</li><li>'WI'</li><li>'WV'</li><li>'WY'</li></ol>\n",
              "</details>"
            ],
            "text/markdown": "1. AK\n2. AL\n3. AR\n4. AS\n5. AZ\n6. CA\n7. CO\n8. CT\n9. DC\n10. DE\n11. FL\n12. GA\n13. GU\n14. HI\n15. IA\n16. ID\n17. IL\n18. IN\n19. KS\n20. KY\n21. LA\n22. MA\n23. MD\n24. ME\n25. MI\n26. MN\n27. MO\n28. MP\n29. MS\n30. MT\n31. NC\n32. ND\n33. NE\n34. NH\n35. NJ\n36. NM\n37. NV\n38. NY\n39. OH\n40. OK\n41. OR\n42. PA\n43. PR\n44. RI\n45. SC\n46. SD\n47. TN\n48. TX\n49. UT\n50. VA\n51. VI\n52. VT\n53. WA\n54. WI\n55. WV\n56. WY\n\n\n\n**Levels**: 1. 'AK'\n2. 'AL'\n3. 'AR'\n4. 'AS'\n5. 'AZ'\n6. 'CA'\n7. 'CO'\n8. 'CT'\n9. 'DC'\n10. 'DE'\n11. 'FL'\n12. 'GA'\n13. 'GU'\n14. 'HI'\n15. 'IA'\n16. 'ID'\n17. 'IL'\n18. 'IN'\n19. 'KS'\n20. 'KY'\n21. 'LA'\n22. 'MA'\n23. 'MD'\n24. 'ME'\n25. 'MI'\n26. 'MN'\n27. 'MO'\n28. 'MP'\n29. 'MS'\n30. 'MT'\n31. 'NC'\n32. 'ND'\n33. 'NE'\n34. 'NH'\n35. 'NJ'\n36. 'NM'\n37. 'NV'\n38. 'NY'\n39. 'OH'\n40. 'OK'\n41. 'OR'\n42. 'PA'\n43. 'PR'\n44. 'RI'\n45. 'SC'\n46. 'SD'\n47. 'TN'\n48. 'TX'\n49. 'UT'\n50. 'VA'\n51. 'VI'\n52. 'VT'\n53. 'WA'\n54. 'WI'\n55. 'WV'\n56. 'WY'\n\n\n",
            "text/latex": "\\begin{enumerate*}\n\\item AK\n\\item AL\n\\item AR\n\\item AS\n\\item AZ\n\\item CA\n\\item CO\n\\item CT\n\\item DC\n\\item DE\n\\item FL\n\\item GA\n\\item GU\n\\item HI\n\\item IA\n\\item ID\n\\item IL\n\\item IN\n\\item KS\n\\item KY\n\\item LA\n\\item MA\n\\item MD\n\\item ME\n\\item MI\n\\item MN\n\\item MO\n\\item MP\n\\item MS\n\\item MT\n\\item NC\n\\item ND\n\\item NE\n\\item NH\n\\item NJ\n\\item NM\n\\item NV\n\\item NY\n\\item OH\n\\item OK\n\\item OR\n\\item PA\n\\item PR\n\\item RI\n\\item SC\n\\item SD\n\\item TN\n\\item TX\n\\item UT\n\\item VA\n\\item VI\n\\item VT\n\\item WA\n\\item WI\n\\item WV\n\\item WY\n\\end{enumerate*}\n\n\\emph{Levels}: \\begin{enumerate*}\n\\item 'AK'\n\\item 'AL'\n\\item 'AR'\n\\item 'AS'\n\\item 'AZ'\n\\item 'CA'\n\\item 'CO'\n\\item 'CT'\n\\item 'DC'\n\\item 'DE'\n\\item 'FL'\n\\item 'GA'\n\\item 'GU'\n\\item 'HI'\n\\item 'IA'\n\\item 'ID'\n\\item 'IL'\n\\item 'IN'\n\\item 'KS'\n\\item 'KY'\n\\item 'LA'\n\\item 'MA'\n\\item 'MD'\n\\item 'ME'\n\\item 'MI'\n\\item 'MN'\n\\item 'MO'\n\\item 'MP'\n\\item 'MS'\n\\item 'MT'\n\\item 'NC'\n\\item 'ND'\n\\item 'NE'\n\\item 'NH'\n\\item 'NJ'\n\\item 'NM'\n\\item 'NV'\n\\item 'NY'\n\\item 'OH'\n\\item 'OK'\n\\item 'OR'\n\\item 'PA'\n\\item 'PR'\n\\item 'RI'\n\\item 'SC'\n\\item 'SD'\n\\item 'TN'\n\\item 'TX'\n\\item 'UT'\n\\item 'VA'\n\\item 'VI'\n\\item 'VT'\n\\item 'WA'\n\\item 'WI'\n\\item 'WV'\n\\item 'WY'\n\\end{enumerate*}\n",
            "text/plain": [
              " [1] AK AL AR AS AZ CA CO CT DC DE FL GA GU HI IA ID IL IN KS KY LA MA MD ME MI\n",
              "[26] MN MO MP MS MT NC ND NE NH NJ NM NV NY OH OK OR PA PR RI SC SD TN TX UT VA\n",
              "[51] VI VT WA WI WV WY\n",
              "56 Levels: AK AL AR AS AZ CA CO CT DC DE FL GA GU HI IA ID IL IN KS KY ... WY"
            ]
          },
          "metadata": {}
        }
      ],
      "source": [
        "unique(COVID$state)"
      ]
    },
    {
      "cell_type": "code",
      "execution_count": 62,
      "id": "877da6db",
      "metadata": {
        "id": "877da6db"
      },
      "outputs": [],
      "source": [
        "CA = COVID[COVID$state == 'CA',   ]"
      ]
    },
    {
      "cell_type": "code",
      "execution_count": 63,
      "id": "acff08f9-b681-4cea-a012-5dc09cd27ec8",
      "metadata": {
        "id": "acff08f9-b681-4cea-a012-5dc09cd27ec8",
        "colab": {
          "base_uri": "https://localhost:8080/",
          "height": 1000
        },
        "outputId": "6a0ed559-1148-4585-cb4b-d96f2df5c39d"
      },
      "outputs": [
        {
          "output_type": "display_data",
          "data": {
            "text/html": [
              "<table class=\"dataframe\">\n",
              "<caption>A data.frame: 157 × 41</caption>\n",
              "<thead>\n",
              "\t<tr><th></th><th scope=col>date</th><th scope=col>state</th><th scope=col>positive</th><th scope=col>negative</th><th scope=col>pending</th><th scope=col>hospitalizedCurrently</th><th scope=col>hospitalizedCumulative</th><th scope=col>inIcuCurrently</th><th scope=col>inIcuCumulative</th><th scope=col>onVentilatorCurrently</th><th scope=col>⋯</th><th scope=col>posNeg</th><th scope=col>deathIncrease</th><th scope=col>hospitalizedIncrease</th><th scope=col>hash</th><th scope=col>commercialScore</th><th scope=col>negativeRegularScore</th><th scope=col>negativeScore</th><th scope=col>positiveScore</th><th scope=col>score</th><th scope=col>grade</th></tr>\n",
              "\t<tr><th></th><th scope=col>&lt;int&gt;</th><th scope=col>&lt;fct&gt;</th><th scope=col>&lt;int&gt;</th><th scope=col>&lt;int&gt;</th><th scope=col>&lt;int&gt;</th><th scope=col>&lt;int&gt;</th><th scope=col>&lt;int&gt;</th><th scope=col>&lt;int&gt;</th><th scope=col>&lt;int&gt;</th><th scope=col>&lt;int&gt;</th><th scope=col>⋯</th><th scope=col>&lt;int&gt;</th><th scope=col>&lt;int&gt;</th><th scope=col>&lt;int&gt;</th><th scope=col>&lt;chr&gt;</th><th scope=col>&lt;int&gt;</th><th scope=col>&lt;int&gt;</th><th scope=col>&lt;int&gt;</th><th scope=col>&lt;int&gt;</th><th scope=col>&lt;int&gt;</th><th scope=col>&lt;lgl&gt;</th></tr>\n",
              "</thead>\n",
              "<tbody>\n",
              "\t<tr><th scope=row>6</th><td>20200807</td><td>CA</td><td>538416</td><td>8058466</td><td>NA</td><td>7277</td><td>NA</td><td>1978</td><td>NA</td><td>NA</td><td>⋯</td><td>8596882</td><td>142</td><td>0</td><td>de76be81f6dc15ca6c65b81d94e2c5e34e4489df</td><td>0</td><td>0</td><td>0</td><td>0</td><td>0</td><td>NA</td></tr>\n",
              "\t<tr><th scope=row>62</th><td>20200806</td><td>CA</td><td>529980</td><td>7970483</td><td>NA</td><td>7485</td><td>NA</td><td>2026</td><td>NA</td><td>NA</td><td>⋯</td><td>8500463</td><td>166</td><td>0</td><td>04d0f37534059d04347fd2c84c1183d80fe86371</td><td>0</td><td>0</td><td>0</td><td>0</td><td>0</td><td>NA</td></tr>\n",
              "\t<tr><th scope=row>118</th><td>20200805</td><td>CA</td><td>524722</td><td>7884678</td><td>NA</td><td>7552</td><td>NA</td><td>2005</td><td>NA</td><td>NA</td><td>⋯</td><td>8409400</td><td>202</td><td>0</td><td>c877f9c8b267330bc105adeffdf3dce664b3ba94</td><td>0</td><td>0</td><td>0</td><td>0</td><td>0</td><td>NA</td></tr>\n",
              "\t<tr><th scope=row>174</th><td>20200804</td><td>CA</td><td>519427</td><td>7786286</td><td>NA</td><td>7630</td><td>NA</td><td>2082</td><td>NA</td><td>NA</td><td>⋯</td><td>8305713</td><td>113</td><td>0</td><td>90e3e08ccbd077a1dd09f6322366feedef7d2356</td><td>0</td><td>0</td><td>0</td><td>0</td><td>0</td><td>NA</td></tr>\n",
              "\t<tr><th scope=row>230</th><td>20200803</td><td>CA</td><td>514901</td><td>7669795</td><td>NA</td><td>7629</td><td>NA</td><td>2069</td><td>NA</td><td>NA</td><td>⋯</td><td>8184696</td><td> 32</td><td>0</td><td>3e13c19ce424ee3a196c2af8c24fa9df6cedf226</td><td>0</td><td>0</td><td>0</td><td>0</td><td>0</td><td>NA</td></tr>\n",
              "\t<tr><th scope=row>286</th><td>20200802</td><td>CA</td><td>509162</td><td>7526813</td><td>NA</td><td>7761</td><td>NA</td><td>2119</td><td>NA</td><td>NA</td><td>⋯</td><td>8035975</td><td>132</td><td>0</td><td>acaee9f7ca22b9c2c31866d7b2477e601fef5c3a</td><td>0</td><td>0</td><td>0</td><td>0</td><td>0</td><td>NA</td></tr>\n",
              "\t<tr><th scope=row>342</th><td>20200801</td><td>CA</td><td>500130</td><td>7386457</td><td>NA</td><td>7754</td><td>NA</td><td>2120</td><td>NA</td><td>NA</td><td>⋯</td><td>7886587</td><td>219</td><td>0</td><td>7d0897f15a2eea9c1f439002d4e9cb86eaba030f</td><td>0</td><td>0</td><td>0</td><td>0</td><td>0</td><td>NA</td></tr>\n",
              "\t<tr><th scope=row>398</th><td>20200731</td><td>CA</td><td>493588</td><td>7317453</td><td>NA</td><td>7999</td><td>NA</td><td>2163</td><td>NA</td><td>NA</td><td>⋯</td><td>7811041</td><td> 96</td><td>0</td><td>01334802bc96449522bb9a789767abc759b9c877</td><td>0</td><td>0</td><td>0</td><td>0</td><td>0</td><td>NA</td></tr>\n",
              "\t<tr><th scope=row>454</th><td>20200730</td><td>CA</td><td>485502</td><td>7148338</td><td>NA</td><td>8198</td><td>NA</td><td>2220</td><td>NA</td><td>NA</td><td>⋯</td><td>7633840</td><td>194</td><td>0</td><td>2390e7743f2eb82e34881a08d0806a179febc29f</td><td>0</td><td>0</td><td>0</td><td>0</td><td>0</td><td>NA</td></tr>\n",
              "\t<tr><th scope=row>510</th><td>20200729</td><td>CA</td><td>475305</td><td>7042161</td><td>NA</td><td>8439</td><td>NA</td><td>2209</td><td>NA</td><td>NA</td><td>⋯</td><td>7517466</td><td>197</td><td>0</td><td>7f4678b42a7b927423b1a4e5fb8f2c5db240c043</td><td>0</td><td>0</td><td>0</td><td>0</td><td>0</td><td>NA</td></tr>\n",
              "\t<tr><th scope=row>566</th><td>20200728</td><td>CA</td><td>466550</td><td>6951316</td><td>NA</td><td>8317</td><td>NA</td><td>2198</td><td>NA</td><td>NA</td><td>⋯</td><td>7417866</td><td> 73</td><td>0</td><td>e9a53bd0b34d58e584d33393a1acc8673d8e9b05</td><td>0</td><td>0</td><td>0</td><td>0</td><td>0</td><td>NA</td></tr>\n",
              "\t<tr><th scope=row>622</th><td>20200727</td><td>CA</td><td>460550</td><td>6836028</td><td>NA</td><td>8820</td><td>NA</td><td>2284</td><td>NA</td><td>NA</td><td>⋯</td><td>7296578</td><td> 29</td><td>0</td><td>b8931466ea5a52fb64e1683aec4d3e4c412f1f7e</td><td>0</td><td>0</td><td>0</td><td>0</td><td>0</td><td>NA</td></tr>\n",
              "\t<tr><th scope=row>678</th><td>20200726</td><td>CA</td><td>453659</td><td>6714480</td><td>NA</td><td>8820</td><td>NA</td><td>2284</td><td>NA</td><td>NA</td><td>⋯</td><td>7168139</td><td> 79</td><td>0</td><td>2de2a3bb3e4a36be3abf85f9636ed9b58cbf4df4</td><td>0</td><td>0</td><td>0</td><td>0</td><td>0</td><td>NA</td></tr>\n",
              "\t<tr><th scope=row>734</th><td>20200725</td><td>CA</td><td>445400</td><td>6601955</td><td>NA</td><td>8820</td><td>NA</td><td>2284</td><td>NA</td><td>NA</td><td>⋯</td><td>7047355</td><td>151</td><td>0</td><td>1c3c5e5d7d8a78e1027e606bc3fe62b193ea414e</td><td>0</td><td>0</td><td>0</td><td>0</td><td>0</td><td>NA</td></tr>\n",
              "\t<tr><th scope=row>790</th><td>20200724</td><td>CA</td><td>435334</td><td>6480542</td><td>NA</td><td>8820</td><td>NA</td><td>2284</td><td>NA</td><td>NA</td><td>⋯</td><td>6915876</td><td>159</td><td>0</td><td>00c84b97e9b372b477ce7feeb37b6a9b5f3f1be4</td><td>0</td><td>0</td><td>0</td><td>0</td><td>0</td><td>NA</td></tr>\n",
              "\t<tr><th scope=row>846</th><td>20200723</td><td>CA</td><td>425616</td><td>6352688</td><td>NA</td><td>8820</td><td>NA</td><td>2284</td><td>NA</td><td>NA</td><td>⋯</td><td>6778304</td><td>157</td><td>0</td><td>682fff550ee553f1a82d03c82deaf07c520373df</td><td>0</td><td>0</td><td>0</td><td>0</td><td>0</td><td>NA</td></tr>\n",
              "\t<tr><th scope=row>902</th><td>20200722</td><td>CA</td><td>413576</td><td>6250843</td><td>NA</td><td>8820</td><td>NA</td><td>2284</td><td>NA</td><td>NA</td><td>⋯</td><td>6664419</td><td>115</td><td>0</td><td>9e07fb0a4bb5e4616284aebc1d201ad7133c049a</td><td>0</td><td>0</td><td>0</td><td>0</td><td>0</td><td>NA</td></tr>\n",
              "\t<tr><th scope=row>958</th><td>20200721</td><td>CA</td><td>400769</td><td>6136163</td><td>NA</td><td>8681</td><td>NA</td><td>2226</td><td>NA</td><td>NA</td><td>⋯</td><td>6536932</td><td> 61</td><td>0</td><td>c5f9f05c2b366e3f77d195585f936816c1359e2f</td><td>0</td><td>0</td><td>0</td><td>0</td><td>0</td><td>NA</td></tr>\n",
              "\t<tr><th scope=row>1014</th><td>20200720</td><td>CA</td><td>391538</td><td>6022783</td><td>NA</td><td>8419</td><td>NA</td><td>2157</td><td>NA</td><td>NA</td><td>⋯</td><td>6414321</td><td>  9</td><td>0</td><td>cd6be133298352ecb8fde204fba59b39e15b0f80</td><td>0</td><td>0</td><td>0</td><td>0</td><td>0</td><td>NA</td></tr>\n",
              "\t<tr><th scope=row>1070</th><td>20200719</td><td>CA</td><td>384692</td><td>5902160</td><td>NA</td><td>8398</td><td>NA</td><td>2107</td><td>NA</td><td>NA</td><td>⋯</td><td>6286852</td><td> 90</td><td>0</td><td>679f115e835cebf3d0107f1d0394d362db540399</td><td>0</td><td>0</td><td>0</td><td>0</td><td>0</td><td>NA</td></tr>\n",
              "\t<tr><th scope=row>1126</th><td>20200718</td><td>CA</td><td>375363</td><td>5791855</td><td>NA</td><td>8502</td><td>NA</td><td>2125</td><td>NA</td><td>NA</td><td>⋯</td><td>6167218</td><td>120</td><td>0</td><td>c7ccfc309a1cc4b49de9e979a64e516a5ae76e3e</td><td>0</td><td>0</td><td>0</td><td>0</td><td>0</td><td>NA</td></tr>\n",
              "\t<tr><th scope=row>1182</th><td>20200717</td><td>CA</td><td>366164</td><td>5677935</td><td>NA</td><td>8450</td><td>NA</td><td>2153</td><td>NA</td><td>NA</td><td>⋯</td><td>6044099</td><td>130</td><td>0</td><td>fc67eb477c9c738f23fb314ab228a3e376877d8a</td><td>0</td><td>0</td><td>0</td><td>0</td><td>0</td><td>NA</td></tr>\n",
              "\t<tr><th scope=row>1238</th><td>20200716</td><td>CA</td><td>356178</td><td>5559330</td><td>NA</td><td>8363</td><td>NA</td><td>2120</td><td>NA</td><td>NA</td><td>⋯</td><td>5915508</td><td>118</td><td>0</td><td>5036fe722b685c1518e7feb4bce0c3f170c8d10e</td><td>0</td><td>0</td><td>0</td><td>0</td><td>0</td><td>NA</td></tr>\n",
              "\t<tr><th scope=row>1294</th><td>20200715</td><td>CA</td><td>347634</td><td>5445642</td><td>NA</td><td>8353</td><td>NA</td><td>2110</td><td>NA</td><td>NA</td><td>⋯</td><td>5793276</td><td>140</td><td>0</td><td>3284751051687e53d0dfa857b8524346100ec888</td><td>0</td><td>0</td><td>0</td><td>0</td><td>0</td><td>NA</td></tr>\n",
              "\t<tr><th scope=row>1350</th><td>20200714</td><td>CA</td><td>336508</td><td>5338447</td><td>NA</td><td>8145</td><td>NA</td><td>2083</td><td>NA</td><td>NA</td><td>⋯</td><td>5674955</td><td> 47</td><td>0</td><td>d823ee4c4b51f7f10f134b0f71e7fdb61ec5b3fa</td><td>0</td><td>0</td><td>0</td><td>0</td><td>0</td><td>NA</td></tr>\n",
              "\t<tr><th scope=row>1406</th><td>20200713</td><td>CA</td><td>329162</td><td>5215203</td><td>NA</td><td>7895</td><td>NA</td><td>2021</td><td>NA</td><td>NA</td><td>⋯</td><td>5544365</td><td> 23</td><td>0</td><td>c0dfd793447c8645bea4f9658759aa42a854b63a</td><td>0</td><td>0</td><td>0</td><td>0</td><td>0</td><td>NA</td></tr>\n",
              "\t<tr><th scope=row>1462</th><td>20200712</td><td>CA</td><td>320804</td><td>5085795</td><td>NA</td><td>7854</td><td>NA</td><td>2020</td><td>NA</td><td>NA</td><td>⋯</td><td>5406599</td><td> 72</td><td>0</td><td>7f0a7ef4ab2864dfe91670dbd8db994e291b0d65</td><td>0</td><td>0</td><td>0</td><td>0</td><td>0</td><td>NA</td></tr>\n",
              "\t<tr><th scope=row>1518</th><td>20200711</td><td>CA</td><td>312344</td><td>4963351</td><td>NA</td><td>7904</td><td>NA</td><td>2021</td><td>NA</td><td>NA</td><td>⋯</td><td>5275695</td><td> 94</td><td>0</td><td>be5241e551c19c99f87be6429800baa947d24cf6</td><td>0</td><td>0</td><td>0</td><td>0</td><td>0</td><td>NA</td></tr>\n",
              "\t<tr><th scope=row>1574</th><td>20200710</td><td>CA</td><td>304297</td><td>4871440</td><td>NA</td><td>7896</td><td>NA</td><td>2005</td><td>NA</td><td>NA</td><td>⋯</td><td>5175737</td><td>140</td><td>0</td><td>7ed43229bfbe0897133758f20cc575329e2daa9e</td><td>0</td><td>0</td><td>0</td><td>0</td><td>0</td><td>NA</td></tr>\n",
              "\t<tr><th scope=row>1630</th><td>20200709</td><td>CA</td><td>296499</td><td>4781935</td><td>NA</td><td>7821</td><td>NA</td><td>1957</td><td>NA</td><td>NA</td><td>⋯</td><td>5078434</td><td>149</td><td>0</td><td>2f769b0e0429da6b96c7d0480d6d59b1b1e0781b</td><td>0</td><td>0</td><td>0</td><td>0</td><td>0</td><td>NA</td></tr>\n",
              "\t<tr><th scope=row>⋮</th><td>⋮</td><td>⋮</td><td>⋮</td><td>⋮</td><td>⋮</td><td>⋮</td><td>⋮</td><td>⋮</td><td>⋮</td><td>⋮</td><td>⋱</td><td>⋮</td><td>⋮</td><td>⋮</td><td>⋮</td><td>⋮</td><td>⋮</td><td>⋮</td><td>⋮</td><td>⋮</td><td>⋮</td></tr>\n",
              "\t<tr><th scope=row>7118</th><td>20200402</td><td>CA</td><td>9191</td><td>23809</td><td>59500</td><td>1922</td><td>NA</td><td>816</td><td>NA</td><td>NA</td><td>⋯</td><td>33000</td><td>32</td><td>0</td><td>743b52fbda0938c8bfd4475b1b0b7e94ff632a69</td><td>0</td><td>0</td><td>0</td><td>0</td><td>0</td><td>NA</td></tr>\n",
              "\t<tr><th scope=row>7174</th><td>20200401</td><td>CA</td><td>8155</td><td>21772</td><td>57400</td><td>1855</td><td>NA</td><td>774</td><td>NA</td><td>NA</td><td>⋯</td><td>29927</td><td>18</td><td>0</td><td>5ac3efa10f5a8da6f12ef9eb67afe7227d0b2544</td><td>0</td><td>0</td><td>0</td><td>0</td><td>0</td><td>NA</td></tr>\n",
              "\t<tr><th scope=row>7230</th><td>20200331</td><td>CA</td><td>7482</td><td>21772</td><td>57400</td><td>1617</td><td>NA</td><td>657</td><td>NA</td><td>NA</td><td>⋯</td><td>29254</td><td>20</td><td>0</td><td>529fd2d220c023df34cddd14a08a362b16e38593</td><td>0</td><td>0</td><td>0</td><td>0</td><td>0</td><td>NA</td></tr>\n",
              "\t<tr><th scope=row>7286</th><td>20200330</td><td>CA</td><td>6447</td><td>20549</td><td>64400</td><td>1432</td><td>NA</td><td>597</td><td>NA</td><td>NA</td><td>⋯</td><td>26996</td><td>10</td><td>0</td><td>d64974faadb75398adbacfaeeaeea58394c59e16</td><td>0</td><td>0</td><td>0</td><td>0</td><td>0</td><td>NA</td></tr>\n",
              "\t<tr><th scope=row>7342</th><td>20200329</td><td>CA</td><td>5708</td><td>20549</td><td>64400</td><td>1034</td><td>NA</td><td>410</td><td>NA</td><td>NA</td><td>⋯</td><td>26257</td><td>22</td><td>0</td><td>a60f6149d3babe801ee4910174d24b7c228c62af</td><td>0</td><td>0</td><td>0</td><td>0</td><td>0</td><td>NA</td></tr>\n",
              "\t<tr><th scope=row>7398</th><td>20200328</td><td>CA</td><td>4643</td><td>20549</td><td>64400</td><td>1034</td><td>NA</td><td>410</td><td>NA</td><td>NA</td><td>⋯</td><td>25192</td><td>23</td><td>0</td><td>ff18080c1e9c3b59a8b6585bcccf0b0e38ade350</td><td>0</td><td>0</td><td>0</td><td>0</td><td>0</td><td>NA</td></tr>\n",
              "\t<tr><th scope=row>7454</th><td>20200327</td><td>CA</td><td>3879</td><td>17380</td><td>57400</td><td> 746</td><td>NA</td><td>200</td><td>NA</td><td>NA</td><td>⋯</td><td>21259</td><td>13</td><td>0</td><td>7a3946e57f5ffc51ce5c902d36ab4c253aa28d2c</td><td>0</td><td>0</td><td>0</td><td>0</td><td>0</td><td>NA</td></tr>\n",
              "\t<tr><th scope=row>7510</th><td>20200326</td><td>CA</td><td>3006</td><td>17380</td><td>57400</td><td>  NA</td><td>NA</td><td> NA</td><td>NA</td><td>NA</td><td>⋯</td><td>20386</td><td>12</td><td>0</td><td>78270b809b930fb831cc18a34b8c039463b0581b</td><td>0</td><td>0</td><td>0</td><td>0</td><td>0</td><td>NA</td></tr>\n",
              "\t<tr><th scope=row>7566</th><td>20200325</td><td>CA</td><td>2355</td><td>15921</td><td>48600</td><td>  NA</td><td>NA</td><td> NA</td><td>NA</td><td>NA</td><td>⋯</td><td>18276</td><td>13</td><td>0</td><td>355056c11e674ef48d381145ed54e30e2db4a382</td><td>0</td><td>0</td><td>0</td><td>0</td><td>0</td><td>NA</td></tr>\n",
              "\t<tr><th scope=row>7622</th><td>20200324</td><td>CA</td><td>2102</td><td>13452</td><td>12100</td><td>  NA</td><td>NA</td><td> NA</td><td>NA</td><td>NA</td><td>⋯</td><td>15554</td><td>13</td><td>0</td><td>e11c7f717e55fa34697e5d7859ccabb1e5806506</td><td>0</td><td>0</td><td>0</td><td>0</td><td>0</td><td>NA</td></tr>\n",
              "\t<tr><th scope=row>7678</th><td>20200323</td><td>CA</td><td>1733</td><td>12567</td><td>12100</td><td>  NA</td><td>NA</td><td> NA</td><td>NA</td><td>NA</td><td>⋯</td><td>14300</td><td> 0</td><td>0</td><td>efb5a6b54db31ac8f6225172283b9e467eb20b1f</td><td>0</td><td>0</td><td>0</td><td>0</td><td>0</td><td>NA</td></tr>\n",
              "\t<tr><th scope=row>7734</th><td>20200322</td><td>CA</td><td>1536</td><td>11304</td><td>   NA</td><td>  NA</td><td>NA</td><td> NA</td><td>NA</td><td>NA</td><td>⋯</td><td>12840</td><td> 3</td><td>0</td><td>1a36113c016f566fdf87ad37eb0282b218de23de</td><td>0</td><td>0</td><td>0</td><td>0</td><td>0</td><td>NA</td></tr>\n",
              "\t<tr><th scope=row>7790</th><td>20200321</td><td>CA</td><td>1279</td><td>11249</td><td>   NA</td><td>  NA</td><td>NA</td><td> NA</td><td>NA</td><td>NA</td><td>⋯</td><td>12528</td><td> 4</td><td>0</td><td>a1a878b58378c35b9685f30a26c8bd72cb4148c9</td><td>0</td><td>0</td><td>0</td><td>0</td><td>0</td><td>NA</td></tr>\n",
              "\t<tr><th scope=row>7846</th><td>20200320</td><td>CA</td><td>1063</td><td>10424</td><td>   NA</td><td>  NA</td><td>NA</td><td> NA</td><td>NA</td><td>NA</td><td>⋯</td><td>11487</td><td> 2</td><td>0</td><td>a199aa523aadedc5423d5bb7f85f9f98d11d7ad4</td><td>0</td><td>0</td><td>0</td><td>0</td><td>0</td><td>NA</td></tr>\n",
              "\t<tr><th scope=row>7902</th><td>20200319</td><td>CA</td><td> 924</td><td> 8787</td><td>   NA</td><td>  NA</td><td>NA</td><td> NA</td><td>NA</td><td>NA</td><td>⋯</td><td> 9711</td><td> 5</td><td>0</td><td>105de580eb75e5ab36f9754ca14ee13ac5980a0e</td><td>0</td><td>0</td><td>0</td><td>0</td><td>0</td><td>NA</td></tr>\n",
              "\t<tr><th scope=row>7958</th><td>20200318</td><td>CA</td><td> 611</td><td> 7981</td><td>   NA</td><td>  NA</td><td>NA</td><td> NA</td><td>NA</td><td>NA</td><td>⋯</td><td> 8592</td><td> 2</td><td>0</td><td>56e6081afce666bd9e73a1e326c772b63fef1bbc</td><td>0</td><td>0</td><td>0</td><td>0</td><td>0</td><td>NA</td></tr>\n",
              "\t<tr><th scope=row>8014</th><td>20200317</td><td>CA</td><td> 483</td><td> 7981</td><td>   NA</td><td>  NA</td><td>NA</td><td> NA</td><td>NA</td><td>NA</td><td>⋯</td><td> 8464</td><td> 5</td><td>0</td><td>9870829946c14fa6e551674bd165c3cf2eeb2982</td><td>0</td><td>0</td><td>0</td><td>0</td><td>0</td><td>NA</td></tr>\n",
              "\t<tr><th scope=row>8070</th><td>20200316</td><td>CA</td><td> 335</td><td> 7981</td><td>   NA</td><td>  NA</td><td>NA</td><td> NA</td><td>NA</td><td>NA</td><td>⋯</td><td> 8316</td><td> 1</td><td>0</td><td>ab3cdadd5394f06ee64a11df18140fb52c617d01</td><td>0</td><td>0</td><td>0</td><td>0</td><td>0</td><td>NA</td></tr>\n",
              "\t<tr><th scope=row>8125</th><td>20200315</td><td>CA</td><td> 293</td><td>  916</td><td>   NA</td><td>  NA</td><td>NA</td><td> NA</td><td>NA</td><td>NA</td><td>⋯</td><td> 1209</td><td> 0</td><td>0</td><td>a54cee0d542381fcda1433ed39fc5c57d59ee684</td><td>0</td><td>0</td><td>0</td><td>0</td><td>0</td><td>NA</td></tr>\n",
              "\t<tr><th scope=row>8176</th><td>20200314</td><td>CA</td><td> 252</td><td>  916</td><td>   NA</td><td>  NA</td><td>NA</td><td> NA</td><td>NA</td><td>NA</td><td>⋯</td><td> 1168</td><td> 1</td><td>0</td><td>08910b8eb722c96a1bb6b43426090036aa0978e3</td><td>0</td><td>0</td><td>0</td><td>0</td><td>0</td><td>NA</td></tr>\n",
              "\t<tr><th scope=row>8227</th><td>20200313</td><td>CA</td><td> 202</td><td>  916</td><td>   NA</td><td>  NA</td><td>NA</td><td> NA</td><td>NA</td><td>NA</td><td>⋯</td><td> 1118</td><td> 0</td><td>0</td><td>fbb077ec6beea9ed6ae0abc83e48c0b07af55d6c</td><td>0</td><td>0</td><td>0</td><td>0</td><td>0</td><td>NA</td></tr>\n",
              "\t<tr><th scope=row>8278</th><td>20200312</td><td>CA</td><td> 202</td><td>  916</td><td>   NA</td><td>  NA</td><td>NA</td><td> NA</td><td>NA</td><td>NA</td><td>⋯</td><td> 1118</td><td> 4</td><td>0</td><td>fb3200f4da1960dab3595c72707736126b454ca7</td><td>0</td><td>0</td><td>0</td><td>0</td><td>0</td><td>NA</td></tr>\n",
              "\t<tr><th scope=row>8329</th><td>20200311</td><td>CA</td><td> 157</td><td>  916</td><td>   NA</td><td>  NA</td><td>NA</td><td> NA</td><td>NA</td><td>NA</td><td>⋯</td><td> 1073</td><td> 0</td><td>0</td><td>f69529d7af78b044de01e11d0dcd64609fe6ffd1</td><td>0</td><td>0</td><td>0</td><td>0</td><td>0</td><td>NA</td></tr>\n",
              "\t<tr><th scope=row>8379</th><td>20200310</td><td>CA</td><td> 133</td><td>  690</td><td>   NA</td><td>  NA</td><td>NA</td><td> NA</td><td>NA</td><td>NA</td><td>⋯</td><td>  823</td><td> 0</td><td>0</td><td>da904a74d1db240d3a1f9fac98823f4064654065</td><td>0</td><td>0</td><td>0</td><td>0</td><td>0</td><td>NA</td></tr>\n",
              "\t<tr><th scope=row>8429</th><td>20200309</td><td>CA</td><td> 114</td><td>  690</td><td>   NA</td><td>  NA</td><td>NA</td><td> NA</td><td>NA</td><td>NA</td><td>⋯</td><td>  804</td><td> 0</td><td>0</td><td>492483138c998beb9a324c26f152f8daa6fa891f</td><td>0</td><td>0</td><td>0</td><td>0</td><td>0</td><td>NA</td></tr>\n",
              "\t<tr><th scope=row>8479</th><td>20200308</td><td>CA</td><td>  88</td><td>  462</td><td>   NA</td><td>  NA</td><td>NA</td><td> NA</td><td>NA</td><td>NA</td><td>⋯</td><td>  550</td><td> 0</td><td>0</td><td>841788a5ae11d1cb868b7d1a0b5dafbc665ba169</td><td>0</td><td>0</td><td>0</td><td>0</td><td>0</td><td>NA</td></tr>\n",
              "\t<tr><th scope=row>8529</th><td>20200307</td><td>CA</td><td>  69</td><td>  462</td><td>   NA</td><td>  NA</td><td>NA</td><td> NA</td><td>NA</td><td>NA</td><td>⋯</td><td>  531</td><td> 0</td><td>0</td><td>97d60a21e9065f4c8044c990091051b3f0c5a49c</td><td>0</td><td>0</td><td>0</td><td>0</td><td>0</td><td>NA</td></tr>\n",
              "\t<tr><th scope=row>8578</th><td>20200306</td><td>CA</td><td>  60</td><td>  462</td><td>   NA</td><td>  NA</td><td>NA</td><td> NA</td><td>NA</td><td>NA</td><td>⋯</td><td>  522</td><td> 0</td><td>0</td><td>662f66bd8d1c194ce87d7404753a9b83515d2695</td><td>0</td><td>0</td><td>0</td><td>0</td><td>0</td><td>NA</td></tr>\n",
              "\t<tr><th scope=row>8612</th><td>20200305</td><td>CA</td><td>  53</td><td>  462</td><td>   NA</td><td>  NA</td><td>NA</td><td> NA</td><td>NA</td><td>NA</td><td>⋯</td><td>  515</td><td> 0</td><td>0</td><td>8ee918675d3f2f0f6b94dee19267e2be366999ff</td><td>0</td><td>0</td><td>0</td><td>0</td><td>0</td><td>NA</td></tr>\n",
              "\t<tr><th scope=row>8636</th><td>20200304</td><td>CA</td><td>  53</td><td>  462</td><td>   NA</td><td>  NA</td><td>NA</td><td> NA</td><td>NA</td><td>NA</td><td>⋯</td><td>  515</td><td> 0</td><td>0</td><td>5a4090a5d0f48c63008d34430a1845a383bebc1f</td><td>0</td><td>0</td><td>0</td><td>0</td><td>0</td><td>NA</td></tr>\n",
              "</tbody>\n",
              "</table>\n"
            ],
            "text/markdown": "\nA data.frame: 157 × 41\n\n| <!--/--> | date &lt;int&gt; | state &lt;fct&gt; | positive &lt;int&gt; | negative &lt;int&gt; | pending &lt;int&gt; | hospitalizedCurrently &lt;int&gt; | hospitalizedCumulative &lt;int&gt; | inIcuCurrently &lt;int&gt; | inIcuCumulative &lt;int&gt; | onVentilatorCurrently &lt;int&gt; | ⋯ ⋯ | posNeg &lt;int&gt; | deathIncrease &lt;int&gt; | hospitalizedIncrease &lt;int&gt; | hash &lt;chr&gt; | commercialScore &lt;int&gt; | negativeRegularScore &lt;int&gt; | negativeScore &lt;int&gt; | positiveScore &lt;int&gt; | score &lt;int&gt; | grade &lt;lgl&gt; |\n|---|---|---|---|---|---|---|---|---|---|---|---|---|---|---|---|---|---|---|---|---|---|\n| 6 | 20200807 | CA | 538416 | 8058466 | NA | 7277 | NA | 1978 | NA | NA | ⋯ | 8596882 | 142 | 0 | de76be81f6dc15ca6c65b81d94e2c5e34e4489df | 0 | 0 | 0 | 0 | 0 | NA |\n| 62 | 20200806 | CA | 529980 | 7970483 | NA | 7485 | NA | 2026 | NA | NA | ⋯ | 8500463 | 166 | 0 | 04d0f37534059d04347fd2c84c1183d80fe86371 | 0 | 0 | 0 | 0 | 0 | NA |\n| 118 | 20200805 | CA | 524722 | 7884678 | NA | 7552 | NA | 2005 | NA | NA | ⋯ | 8409400 | 202 | 0 | c877f9c8b267330bc105adeffdf3dce664b3ba94 | 0 | 0 | 0 | 0 | 0 | NA |\n| 174 | 20200804 | CA | 519427 | 7786286 | NA | 7630 | NA | 2082 | NA | NA | ⋯ | 8305713 | 113 | 0 | 90e3e08ccbd077a1dd09f6322366feedef7d2356 | 0 | 0 | 0 | 0 | 0 | NA |\n| 230 | 20200803 | CA | 514901 | 7669795 | NA | 7629 | NA | 2069 | NA | NA | ⋯ | 8184696 |  32 | 0 | 3e13c19ce424ee3a196c2af8c24fa9df6cedf226 | 0 | 0 | 0 | 0 | 0 | NA |\n| 286 | 20200802 | CA | 509162 | 7526813 | NA | 7761 | NA | 2119 | NA | NA | ⋯ | 8035975 | 132 | 0 | acaee9f7ca22b9c2c31866d7b2477e601fef5c3a | 0 | 0 | 0 | 0 | 0 | NA |\n| 342 | 20200801 | CA | 500130 | 7386457 | NA | 7754 | NA | 2120 | NA | NA | ⋯ | 7886587 | 219 | 0 | 7d0897f15a2eea9c1f439002d4e9cb86eaba030f | 0 | 0 | 0 | 0 | 0 | NA |\n| 398 | 20200731 | CA | 493588 | 7317453 | NA | 7999 | NA | 2163 | NA | NA | ⋯ | 7811041 |  96 | 0 | 01334802bc96449522bb9a789767abc759b9c877 | 0 | 0 | 0 | 0 | 0 | NA |\n| 454 | 20200730 | CA | 485502 | 7148338 | NA | 8198 | NA | 2220 | NA | NA | ⋯ | 7633840 | 194 | 0 | 2390e7743f2eb82e34881a08d0806a179febc29f | 0 | 0 | 0 | 0 | 0 | NA |\n| 510 | 20200729 | CA | 475305 | 7042161 | NA | 8439 | NA | 2209 | NA | NA | ⋯ | 7517466 | 197 | 0 | 7f4678b42a7b927423b1a4e5fb8f2c5db240c043 | 0 | 0 | 0 | 0 | 0 | NA |\n| 566 | 20200728 | CA | 466550 | 6951316 | NA | 8317 | NA | 2198 | NA | NA | ⋯ | 7417866 |  73 | 0 | e9a53bd0b34d58e584d33393a1acc8673d8e9b05 | 0 | 0 | 0 | 0 | 0 | NA |\n| 622 | 20200727 | CA | 460550 | 6836028 | NA | 8820 | NA | 2284 | NA | NA | ⋯ | 7296578 |  29 | 0 | b8931466ea5a52fb64e1683aec4d3e4c412f1f7e | 0 | 0 | 0 | 0 | 0 | NA |\n| 678 | 20200726 | CA | 453659 | 6714480 | NA | 8820 | NA | 2284 | NA | NA | ⋯ | 7168139 |  79 | 0 | 2de2a3bb3e4a36be3abf85f9636ed9b58cbf4df4 | 0 | 0 | 0 | 0 | 0 | NA |\n| 734 | 20200725 | CA | 445400 | 6601955 | NA | 8820 | NA | 2284 | NA | NA | ⋯ | 7047355 | 151 | 0 | 1c3c5e5d7d8a78e1027e606bc3fe62b193ea414e | 0 | 0 | 0 | 0 | 0 | NA |\n| 790 | 20200724 | CA | 435334 | 6480542 | NA | 8820 | NA | 2284 | NA | NA | ⋯ | 6915876 | 159 | 0 | 00c84b97e9b372b477ce7feeb37b6a9b5f3f1be4 | 0 | 0 | 0 | 0 | 0 | NA |\n| 846 | 20200723 | CA | 425616 | 6352688 | NA | 8820 | NA | 2284 | NA | NA | ⋯ | 6778304 | 157 | 0 | 682fff550ee553f1a82d03c82deaf07c520373df | 0 | 0 | 0 | 0 | 0 | NA |\n| 902 | 20200722 | CA | 413576 | 6250843 | NA | 8820 | NA | 2284 | NA | NA | ⋯ | 6664419 | 115 | 0 | 9e07fb0a4bb5e4616284aebc1d201ad7133c049a | 0 | 0 | 0 | 0 | 0 | NA |\n| 958 | 20200721 | CA | 400769 | 6136163 | NA | 8681 | NA | 2226 | NA | NA | ⋯ | 6536932 |  61 | 0 | c5f9f05c2b366e3f77d195585f936816c1359e2f | 0 | 0 | 0 | 0 | 0 | NA |\n| 1014 | 20200720 | CA | 391538 | 6022783 | NA | 8419 | NA | 2157 | NA | NA | ⋯ | 6414321 |   9 | 0 | cd6be133298352ecb8fde204fba59b39e15b0f80 | 0 | 0 | 0 | 0 | 0 | NA |\n| 1070 | 20200719 | CA | 384692 | 5902160 | NA | 8398 | NA | 2107 | NA | NA | ⋯ | 6286852 |  90 | 0 | 679f115e835cebf3d0107f1d0394d362db540399 | 0 | 0 | 0 | 0 | 0 | NA |\n| 1126 | 20200718 | CA | 375363 | 5791855 | NA | 8502 | NA | 2125 | NA | NA | ⋯ | 6167218 | 120 | 0 | c7ccfc309a1cc4b49de9e979a64e516a5ae76e3e | 0 | 0 | 0 | 0 | 0 | NA |\n| 1182 | 20200717 | CA | 366164 | 5677935 | NA | 8450 | NA | 2153 | NA | NA | ⋯ | 6044099 | 130 | 0 | fc67eb477c9c738f23fb314ab228a3e376877d8a | 0 | 0 | 0 | 0 | 0 | NA |\n| 1238 | 20200716 | CA | 356178 | 5559330 | NA | 8363 | NA | 2120 | NA | NA | ⋯ | 5915508 | 118 | 0 | 5036fe722b685c1518e7feb4bce0c3f170c8d10e | 0 | 0 | 0 | 0 | 0 | NA |\n| 1294 | 20200715 | CA | 347634 | 5445642 | NA | 8353 | NA | 2110 | NA | NA | ⋯ | 5793276 | 140 | 0 | 3284751051687e53d0dfa857b8524346100ec888 | 0 | 0 | 0 | 0 | 0 | NA |\n| 1350 | 20200714 | CA | 336508 | 5338447 | NA | 8145 | NA | 2083 | NA | NA | ⋯ | 5674955 |  47 | 0 | d823ee4c4b51f7f10f134b0f71e7fdb61ec5b3fa | 0 | 0 | 0 | 0 | 0 | NA |\n| 1406 | 20200713 | CA | 329162 | 5215203 | NA | 7895 | NA | 2021 | NA | NA | ⋯ | 5544365 |  23 | 0 | c0dfd793447c8645bea4f9658759aa42a854b63a | 0 | 0 | 0 | 0 | 0 | NA |\n| 1462 | 20200712 | CA | 320804 | 5085795 | NA | 7854 | NA | 2020 | NA | NA | ⋯ | 5406599 |  72 | 0 | 7f0a7ef4ab2864dfe91670dbd8db994e291b0d65 | 0 | 0 | 0 | 0 | 0 | NA |\n| 1518 | 20200711 | CA | 312344 | 4963351 | NA | 7904 | NA | 2021 | NA | NA | ⋯ | 5275695 |  94 | 0 | be5241e551c19c99f87be6429800baa947d24cf6 | 0 | 0 | 0 | 0 | 0 | NA |\n| 1574 | 20200710 | CA | 304297 | 4871440 | NA | 7896 | NA | 2005 | NA | NA | ⋯ | 5175737 | 140 | 0 | 7ed43229bfbe0897133758f20cc575329e2daa9e | 0 | 0 | 0 | 0 | 0 | NA |\n| 1630 | 20200709 | CA | 296499 | 4781935 | NA | 7821 | NA | 1957 | NA | NA | ⋯ | 5078434 | 149 | 0 | 2f769b0e0429da6b96c7d0480d6d59b1b1e0781b | 0 | 0 | 0 | 0 | 0 | NA |\n| ⋮ | ⋮ | ⋮ | ⋮ | ⋮ | ⋮ | ⋮ | ⋮ | ⋮ | ⋮ | ⋮ | ⋱ | ⋮ | ⋮ | ⋮ | ⋮ | ⋮ | ⋮ | ⋮ | ⋮ | ⋮ | ⋮ |\n| 7118 | 20200402 | CA | 9191 | 23809 | 59500 | 1922 | NA | 816 | NA | NA | ⋯ | 33000 | 32 | 0 | 743b52fbda0938c8bfd4475b1b0b7e94ff632a69 | 0 | 0 | 0 | 0 | 0 | NA |\n| 7174 | 20200401 | CA | 8155 | 21772 | 57400 | 1855 | NA | 774 | NA | NA | ⋯ | 29927 | 18 | 0 | 5ac3efa10f5a8da6f12ef9eb67afe7227d0b2544 | 0 | 0 | 0 | 0 | 0 | NA |\n| 7230 | 20200331 | CA | 7482 | 21772 | 57400 | 1617 | NA | 657 | NA | NA | ⋯ | 29254 | 20 | 0 | 529fd2d220c023df34cddd14a08a362b16e38593 | 0 | 0 | 0 | 0 | 0 | NA |\n| 7286 | 20200330 | CA | 6447 | 20549 | 64400 | 1432 | NA | 597 | NA | NA | ⋯ | 26996 | 10 | 0 | d64974faadb75398adbacfaeeaeea58394c59e16 | 0 | 0 | 0 | 0 | 0 | NA |\n| 7342 | 20200329 | CA | 5708 | 20549 | 64400 | 1034 | NA | 410 | NA | NA | ⋯ | 26257 | 22 | 0 | a60f6149d3babe801ee4910174d24b7c228c62af | 0 | 0 | 0 | 0 | 0 | NA |\n| 7398 | 20200328 | CA | 4643 | 20549 | 64400 | 1034 | NA | 410 | NA | NA | ⋯ | 25192 | 23 | 0 | ff18080c1e9c3b59a8b6585bcccf0b0e38ade350 | 0 | 0 | 0 | 0 | 0 | NA |\n| 7454 | 20200327 | CA | 3879 | 17380 | 57400 |  746 | NA | 200 | NA | NA | ⋯ | 21259 | 13 | 0 | 7a3946e57f5ffc51ce5c902d36ab4c253aa28d2c | 0 | 0 | 0 | 0 | 0 | NA |\n| 7510 | 20200326 | CA | 3006 | 17380 | 57400 |   NA | NA |  NA | NA | NA | ⋯ | 20386 | 12 | 0 | 78270b809b930fb831cc18a34b8c039463b0581b | 0 | 0 | 0 | 0 | 0 | NA |\n| 7566 | 20200325 | CA | 2355 | 15921 | 48600 |   NA | NA |  NA | NA | NA | ⋯ | 18276 | 13 | 0 | 355056c11e674ef48d381145ed54e30e2db4a382 | 0 | 0 | 0 | 0 | 0 | NA |\n| 7622 | 20200324 | CA | 2102 | 13452 | 12100 |   NA | NA |  NA | NA | NA | ⋯ | 15554 | 13 | 0 | e11c7f717e55fa34697e5d7859ccabb1e5806506 | 0 | 0 | 0 | 0 | 0 | NA |\n| 7678 | 20200323 | CA | 1733 | 12567 | 12100 |   NA | NA |  NA | NA | NA | ⋯ | 14300 |  0 | 0 | efb5a6b54db31ac8f6225172283b9e467eb20b1f | 0 | 0 | 0 | 0 | 0 | NA |\n| 7734 | 20200322 | CA | 1536 | 11304 |    NA |   NA | NA |  NA | NA | NA | ⋯ | 12840 |  3 | 0 | 1a36113c016f566fdf87ad37eb0282b218de23de | 0 | 0 | 0 | 0 | 0 | NA |\n| 7790 | 20200321 | CA | 1279 | 11249 |    NA |   NA | NA |  NA | NA | NA | ⋯ | 12528 |  4 | 0 | a1a878b58378c35b9685f30a26c8bd72cb4148c9 | 0 | 0 | 0 | 0 | 0 | NA |\n| 7846 | 20200320 | CA | 1063 | 10424 |    NA |   NA | NA |  NA | NA | NA | ⋯ | 11487 |  2 | 0 | a199aa523aadedc5423d5bb7f85f9f98d11d7ad4 | 0 | 0 | 0 | 0 | 0 | NA |\n| 7902 | 20200319 | CA |  924 |  8787 |    NA |   NA | NA |  NA | NA | NA | ⋯ |  9711 |  5 | 0 | 105de580eb75e5ab36f9754ca14ee13ac5980a0e | 0 | 0 | 0 | 0 | 0 | NA |\n| 7958 | 20200318 | CA |  611 |  7981 |    NA |   NA | NA |  NA | NA | NA | ⋯ |  8592 |  2 | 0 | 56e6081afce666bd9e73a1e326c772b63fef1bbc | 0 | 0 | 0 | 0 | 0 | NA |\n| 8014 | 20200317 | CA |  483 |  7981 |    NA |   NA | NA |  NA | NA | NA | ⋯ |  8464 |  5 | 0 | 9870829946c14fa6e551674bd165c3cf2eeb2982 | 0 | 0 | 0 | 0 | 0 | NA |\n| 8070 | 20200316 | CA |  335 |  7981 |    NA |   NA | NA |  NA | NA | NA | ⋯ |  8316 |  1 | 0 | ab3cdadd5394f06ee64a11df18140fb52c617d01 | 0 | 0 | 0 | 0 | 0 | NA |\n| 8125 | 20200315 | CA |  293 |   916 |    NA |   NA | NA |  NA | NA | NA | ⋯ |  1209 |  0 | 0 | a54cee0d542381fcda1433ed39fc5c57d59ee684 | 0 | 0 | 0 | 0 | 0 | NA |\n| 8176 | 20200314 | CA |  252 |   916 |    NA |   NA | NA |  NA | NA | NA | ⋯ |  1168 |  1 | 0 | 08910b8eb722c96a1bb6b43426090036aa0978e3 | 0 | 0 | 0 | 0 | 0 | NA |\n| 8227 | 20200313 | CA |  202 |   916 |    NA |   NA | NA |  NA | NA | NA | ⋯ |  1118 |  0 | 0 | fbb077ec6beea9ed6ae0abc83e48c0b07af55d6c | 0 | 0 | 0 | 0 | 0 | NA |\n| 8278 | 20200312 | CA |  202 |   916 |    NA |   NA | NA |  NA | NA | NA | ⋯ |  1118 |  4 | 0 | fb3200f4da1960dab3595c72707736126b454ca7 | 0 | 0 | 0 | 0 | 0 | NA |\n| 8329 | 20200311 | CA |  157 |   916 |    NA |   NA | NA |  NA | NA | NA | ⋯ |  1073 |  0 | 0 | f69529d7af78b044de01e11d0dcd64609fe6ffd1 | 0 | 0 | 0 | 0 | 0 | NA |\n| 8379 | 20200310 | CA |  133 |   690 |    NA |   NA | NA |  NA | NA | NA | ⋯ |   823 |  0 | 0 | da904a74d1db240d3a1f9fac98823f4064654065 | 0 | 0 | 0 | 0 | 0 | NA |\n| 8429 | 20200309 | CA |  114 |   690 |    NA |   NA | NA |  NA | NA | NA | ⋯ |   804 |  0 | 0 | 492483138c998beb9a324c26f152f8daa6fa891f | 0 | 0 | 0 | 0 | 0 | NA |\n| 8479 | 20200308 | CA |   88 |   462 |    NA |   NA | NA |  NA | NA | NA | ⋯ |   550 |  0 | 0 | 841788a5ae11d1cb868b7d1a0b5dafbc665ba169 | 0 | 0 | 0 | 0 | 0 | NA |\n| 8529 | 20200307 | CA |   69 |   462 |    NA |   NA | NA |  NA | NA | NA | ⋯ |   531 |  0 | 0 | 97d60a21e9065f4c8044c990091051b3f0c5a49c | 0 | 0 | 0 | 0 | 0 | NA |\n| 8578 | 20200306 | CA |   60 |   462 |    NA |   NA | NA |  NA | NA | NA | ⋯ |   522 |  0 | 0 | 662f66bd8d1c194ce87d7404753a9b83515d2695 | 0 | 0 | 0 | 0 | 0 | NA |\n| 8612 | 20200305 | CA |   53 |   462 |    NA |   NA | NA |  NA | NA | NA | ⋯ |   515 |  0 | 0 | 8ee918675d3f2f0f6b94dee19267e2be366999ff | 0 | 0 | 0 | 0 | 0 | NA |\n| 8636 | 20200304 | CA |   53 |   462 |    NA |   NA | NA |  NA | NA | NA | ⋯ |   515 |  0 | 0 | 5a4090a5d0f48c63008d34430a1845a383bebc1f | 0 | 0 | 0 | 0 | 0 | NA |\n\n",
            "text/latex": "A data.frame: 157 × 41\n\\begin{tabular}{r|lllllllllllllllllllll}\n  & date & state & positive & negative & pending & hospitalizedCurrently & hospitalizedCumulative & inIcuCurrently & inIcuCumulative & onVentilatorCurrently & ⋯ & posNeg & deathIncrease & hospitalizedIncrease & hash & commercialScore & negativeRegularScore & negativeScore & positiveScore & score & grade\\\\\n  & <int> & <fct> & <int> & <int> & <int> & <int> & <int> & <int> & <int> & <int> & ⋯ & <int> & <int> & <int> & <chr> & <int> & <int> & <int> & <int> & <int> & <lgl>\\\\\n\\hline\n\t6 & 20200807 & CA & 538416 & 8058466 & NA & 7277 & NA & 1978 & NA & NA & ⋯ & 8596882 & 142 & 0 & de76be81f6dc15ca6c65b81d94e2c5e34e4489df & 0 & 0 & 0 & 0 & 0 & NA\\\\\n\t62 & 20200806 & CA & 529980 & 7970483 & NA & 7485 & NA & 2026 & NA & NA & ⋯ & 8500463 & 166 & 0 & 04d0f37534059d04347fd2c84c1183d80fe86371 & 0 & 0 & 0 & 0 & 0 & NA\\\\\n\t118 & 20200805 & CA & 524722 & 7884678 & NA & 7552 & NA & 2005 & NA & NA & ⋯ & 8409400 & 202 & 0 & c877f9c8b267330bc105adeffdf3dce664b3ba94 & 0 & 0 & 0 & 0 & 0 & NA\\\\\n\t174 & 20200804 & CA & 519427 & 7786286 & NA & 7630 & NA & 2082 & NA & NA & ⋯ & 8305713 & 113 & 0 & 90e3e08ccbd077a1dd09f6322366feedef7d2356 & 0 & 0 & 0 & 0 & 0 & NA\\\\\n\t230 & 20200803 & CA & 514901 & 7669795 & NA & 7629 & NA & 2069 & NA & NA & ⋯ & 8184696 &  32 & 0 & 3e13c19ce424ee3a196c2af8c24fa9df6cedf226 & 0 & 0 & 0 & 0 & 0 & NA\\\\\n\t286 & 20200802 & CA & 509162 & 7526813 & NA & 7761 & NA & 2119 & NA & NA & ⋯ & 8035975 & 132 & 0 & acaee9f7ca22b9c2c31866d7b2477e601fef5c3a & 0 & 0 & 0 & 0 & 0 & NA\\\\\n\t342 & 20200801 & CA & 500130 & 7386457 & NA & 7754 & NA & 2120 & NA & NA & ⋯ & 7886587 & 219 & 0 & 7d0897f15a2eea9c1f439002d4e9cb86eaba030f & 0 & 0 & 0 & 0 & 0 & NA\\\\\n\t398 & 20200731 & CA & 493588 & 7317453 & NA & 7999 & NA & 2163 & NA & NA & ⋯ & 7811041 &  96 & 0 & 01334802bc96449522bb9a789767abc759b9c877 & 0 & 0 & 0 & 0 & 0 & NA\\\\\n\t454 & 20200730 & CA & 485502 & 7148338 & NA & 8198 & NA & 2220 & NA & NA & ⋯ & 7633840 & 194 & 0 & 2390e7743f2eb82e34881a08d0806a179febc29f & 0 & 0 & 0 & 0 & 0 & NA\\\\\n\t510 & 20200729 & CA & 475305 & 7042161 & NA & 8439 & NA & 2209 & NA & NA & ⋯ & 7517466 & 197 & 0 & 7f4678b42a7b927423b1a4e5fb8f2c5db240c043 & 0 & 0 & 0 & 0 & 0 & NA\\\\\n\t566 & 20200728 & CA & 466550 & 6951316 & NA & 8317 & NA & 2198 & NA & NA & ⋯ & 7417866 &  73 & 0 & e9a53bd0b34d58e584d33393a1acc8673d8e9b05 & 0 & 0 & 0 & 0 & 0 & NA\\\\\n\t622 & 20200727 & CA & 460550 & 6836028 & NA & 8820 & NA & 2284 & NA & NA & ⋯ & 7296578 &  29 & 0 & b8931466ea5a52fb64e1683aec4d3e4c412f1f7e & 0 & 0 & 0 & 0 & 0 & NA\\\\\n\t678 & 20200726 & CA & 453659 & 6714480 & NA & 8820 & NA & 2284 & NA & NA & ⋯ & 7168139 &  79 & 0 & 2de2a3bb3e4a36be3abf85f9636ed9b58cbf4df4 & 0 & 0 & 0 & 0 & 0 & NA\\\\\n\t734 & 20200725 & CA & 445400 & 6601955 & NA & 8820 & NA & 2284 & NA & NA & ⋯ & 7047355 & 151 & 0 & 1c3c5e5d7d8a78e1027e606bc3fe62b193ea414e & 0 & 0 & 0 & 0 & 0 & NA\\\\\n\t790 & 20200724 & CA & 435334 & 6480542 & NA & 8820 & NA & 2284 & NA & NA & ⋯ & 6915876 & 159 & 0 & 00c84b97e9b372b477ce7feeb37b6a9b5f3f1be4 & 0 & 0 & 0 & 0 & 0 & NA\\\\\n\t846 & 20200723 & CA & 425616 & 6352688 & NA & 8820 & NA & 2284 & NA & NA & ⋯ & 6778304 & 157 & 0 & 682fff550ee553f1a82d03c82deaf07c520373df & 0 & 0 & 0 & 0 & 0 & NA\\\\\n\t902 & 20200722 & CA & 413576 & 6250843 & NA & 8820 & NA & 2284 & NA & NA & ⋯ & 6664419 & 115 & 0 & 9e07fb0a4bb5e4616284aebc1d201ad7133c049a & 0 & 0 & 0 & 0 & 0 & NA\\\\\n\t958 & 20200721 & CA & 400769 & 6136163 & NA & 8681 & NA & 2226 & NA & NA & ⋯ & 6536932 &  61 & 0 & c5f9f05c2b366e3f77d195585f936816c1359e2f & 0 & 0 & 0 & 0 & 0 & NA\\\\\n\t1014 & 20200720 & CA & 391538 & 6022783 & NA & 8419 & NA & 2157 & NA & NA & ⋯ & 6414321 &   9 & 0 & cd6be133298352ecb8fde204fba59b39e15b0f80 & 0 & 0 & 0 & 0 & 0 & NA\\\\\n\t1070 & 20200719 & CA & 384692 & 5902160 & NA & 8398 & NA & 2107 & NA & NA & ⋯ & 6286852 &  90 & 0 & 679f115e835cebf3d0107f1d0394d362db540399 & 0 & 0 & 0 & 0 & 0 & NA\\\\\n\t1126 & 20200718 & CA & 375363 & 5791855 & NA & 8502 & NA & 2125 & NA & NA & ⋯ & 6167218 & 120 & 0 & c7ccfc309a1cc4b49de9e979a64e516a5ae76e3e & 0 & 0 & 0 & 0 & 0 & NA\\\\\n\t1182 & 20200717 & CA & 366164 & 5677935 & NA & 8450 & NA & 2153 & NA & NA & ⋯ & 6044099 & 130 & 0 & fc67eb477c9c738f23fb314ab228a3e376877d8a & 0 & 0 & 0 & 0 & 0 & NA\\\\\n\t1238 & 20200716 & CA & 356178 & 5559330 & NA & 8363 & NA & 2120 & NA & NA & ⋯ & 5915508 & 118 & 0 & 5036fe722b685c1518e7feb4bce0c3f170c8d10e & 0 & 0 & 0 & 0 & 0 & NA\\\\\n\t1294 & 20200715 & CA & 347634 & 5445642 & NA & 8353 & NA & 2110 & NA & NA & ⋯ & 5793276 & 140 & 0 & 3284751051687e53d0dfa857b8524346100ec888 & 0 & 0 & 0 & 0 & 0 & NA\\\\\n\t1350 & 20200714 & CA & 336508 & 5338447 & NA & 8145 & NA & 2083 & NA & NA & ⋯ & 5674955 &  47 & 0 & d823ee4c4b51f7f10f134b0f71e7fdb61ec5b3fa & 0 & 0 & 0 & 0 & 0 & NA\\\\\n\t1406 & 20200713 & CA & 329162 & 5215203 & NA & 7895 & NA & 2021 & NA & NA & ⋯ & 5544365 &  23 & 0 & c0dfd793447c8645bea4f9658759aa42a854b63a & 0 & 0 & 0 & 0 & 0 & NA\\\\\n\t1462 & 20200712 & CA & 320804 & 5085795 & NA & 7854 & NA & 2020 & NA & NA & ⋯ & 5406599 &  72 & 0 & 7f0a7ef4ab2864dfe91670dbd8db994e291b0d65 & 0 & 0 & 0 & 0 & 0 & NA\\\\\n\t1518 & 20200711 & CA & 312344 & 4963351 & NA & 7904 & NA & 2021 & NA & NA & ⋯ & 5275695 &  94 & 0 & be5241e551c19c99f87be6429800baa947d24cf6 & 0 & 0 & 0 & 0 & 0 & NA\\\\\n\t1574 & 20200710 & CA & 304297 & 4871440 & NA & 7896 & NA & 2005 & NA & NA & ⋯ & 5175737 & 140 & 0 & 7ed43229bfbe0897133758f20cc575329e2daa9e & 0 & 0 & 0 & 0 & 0 & NA\\\\\n\t1630 & 20200709 & CA & 296499 & 4781935 & NA & 7821 & NA & 1957 & NA & NA & ⋯ & 5078434 & 149 & 0 & 2f769b0e0429da6b96c7d0480d6d59b1b1e0781b & 0 & 0 & 0 & 0 & 0 & NA\\\\\n\t⋮ & ⋮ & ⋮ & ⋮ & ⋮ & ⋮ & ⋮ & ⋮ & ⋮ & ⋮ & ⋮ & ⋱ & ⋮ & ⋮ & ⋮ & ⋮ & ⋮ & ⋮ & ⋮ & ⋮ & ⋮ & ⋮\\\\\n\t7118 & 20200402 & CA & 9191 & 23809 & 59500 & 1922 & NA & 816 & NA & NA & ⋯ & 33000 & 32 & 0 & 743b52fbda0938c8bfd4475b1b0b7e94ff632a69 & 0 & 0 & 0 & 0 & 0 & NA\\\\\n\t7174 & 20200401 & CA & 8155 & 21772 & 57400 & 1855 & NA & 774 & NA & NA & ⋯ & 29927 & 18 & 0 & 5ac3efa10f5a8da6f12ef9eb67afe7227d0b2544 & 0 & 0 & 0 & 0 & 0 & NA\\\\\n\t7230 & 20200331 & CA & 7482 & 21772 & 57400 & 1617 & NA & 657 & NA & NA & ⋯ & 29254 & 20 & 0 & 529fd2d220c023df34cddd14a08a362b16e38593 & 0 & 0 & 0 & 0 & 0 & NA\\\\\n\t7286 & 20200330 & CA & 6447 & 20549 & 64400 & 1432 & NA & 597 & NA & NA & ⋯ & 26996 & 10 & 0 & d64974faadb75398adbacfaeeaeea58394c59e16 & 0 & 0 & 0 & 0 & 0 & NA\\\\\n\t7342 & 20200329 & CA & 5708 & 20549 & 64400 & 1034 & NA & 410 & NA & NA & ⋯ & 26257 & 22 & 0 & a60f6149d3babe801ee4910174d24b7c228c62af & 0 & 0 & 0 & 0 & 0 & NA\\\\\n\t7398 & 20200328 & CA & 4643 & 20549 & 64400 & 1034 & NA & 410 & NA & NA & ⋯ & 25192 & 23 & 0 & ff18080c1e9c3b59a8b6585bcccf0b0e38ade350 & 0 & 0 & 0 & 0 & 0 & NA\\\\\n\t7454 & 20200327 & CA & 3879 & 17380 & 57400 &  746 & NA & 200 & NA & NA & ⋯ & 21259 & 13 & 0 & 7a3946e57f5ffc51ce5c902d36ab4c253aa28d2c & 0 & 0 & 0 & 0 & 0 & NA\\\\\n\t7510 & 20200326 & CA & 3006 & 17380 & 57400 &   NA & NA &  NA & NA & NA & ⋯ & 20386 & 12 & 0 & 78270b809b930fb831cc18a34b8c039463b0581b & 0 & 0 & 0 & 0 & 0 & NA\\\\\n\t7566 & 20200325 & CA & 2355 & 15921 & 48600 &   NA & NA &  NA & NA & NA & ⋯ & 18276 & 13 & 0 & 355056c11e674ef48d381145ed54e30e2db4a382 & 0 & 0 & 0 & 0 & 0 & NA\\\\\n\t7622 & 20200324 & CA & 2102 & 13452 & 12100 &   NA & NA &  NA & NA & NA & ⋯ & 15554 & 13 & 0 & e11c7f717e55fa34697e5d7859ccabb1e5806506 & 0 & 0 & 0 & 0 & 0 & NA\\\\\n\t7678 & 20200323 & CA & 1733 & 12567 & 12100 &   NA & NA &  NA & NA & NA & ⋯ & 14300 &  0 & 0 & efb5a6b54db31ac8f6225172283b9e467eb20b1f & 0 & 0 & 0 & 0 & 0 & NA\\\\\n\t7734 & 20200322 & CA & 1536 & 11304 &    NA &   NA & NA &  NA & NA & NA & ⋯ & 12840 &  3 & 0 & 1a36113c016f566fdf87ad37eb0282b218de23de & 0 & 0 & 0 & 0 & 0 & NA\\\\\n\t7790 & 20200321 & CA & 1279 & 11249 &    NA &   NA & NA &  NA & NA & NA & ⋯ & 12528 &  4 & 0 & a1a878b58378c35b9685f30a26c8bd72cb4148c9 & 0 & 0 & 0 & 0 & 0 & NA\\\\\n\t7846 & 20200320 & CA & 1063 & 10424 &    NA &   NA & NA &  NA & NA & NA & ⋯ & 11487 &  2 & 0 & a199aa523aadedc5423d5bb7f85f9f98d11d7ad4 & 0 & 0 & 0 & 0 & 0 & NA\\\\\n\t7902 & 20200319 & CA &  924 &  8787 &    NA &   NA & NA &  NA & NA & NA & ⋯ &  9711 &  5 & 0 & 105de580eb75e5ab36f9754ca14ee13ac5980a0e & 0 & 0 & 0 & 0 & 0 & NA\\\\\n\t7958 & 20200318 & CA &  611 &  7981 &    NA &   NA & NA &  NA & NA & NA & ⋯ &  8592 &  2 & 0 & 56e6081afce666bd9e73a1e326c772b63fef1bbc & 0 & 0 & 0 & 0 & 0 & NA\\\\\n\t8014 & 20200317 & CA &  483 &  7981 &    NA &   NA & NA &  NA & NA & NA & ⋯ &  8464 &  5 & 0 & 9870829946c14fa6e551674bd165c3cf2eeb2982 & 0 & 0 & 0 & 0 & 0 & NA\\\\\n\t8070 & 20200316 & CA &  335 &  7981 &    NA &   NA & NA &  NA & NA & NA & ⋯ &  8316 &  1 & 0 & ab3cdadd5394f06ee64a11df18140fb52c617d01 & 0 & 0 & 0 & 0 & 0 & NA\\\\\n\t8125 & 20200315 & CA &  293 &   916 &    NA &   NA & NA &  NA & NA & NA & ⋯ &  1209 &  0 & 0 & a54cee0d542381fcda1433ed39fc5c57d59ee684 & 0 & 0 & 0 & 0 & 0 & NA\\\\\n\t8176 & 20200314 & CA &  252 &   916 &    NA &   NA & NA &  NA & NA & NA & ⋯ &  1168 &  1 & 0 & 08910b8eb722c96a1bb6b43426090036aa0978e3 & 0 & 0 & 0 & 0 & 0 & NA\\\\\n\t8227 & 20200313 & CA &  202 &   916 &    NA &   NA & NA &  NA & NA & NA & ⋯ &  1118 &  0 & 0 & fbb077ec6beea9ed6ae0abc83e48c0b07af55d6c & 0 & 0 & 0 & 0 & 0 & NA\\\\\n\t8278 & 20200312 & CA &  202 &   916 &    NA &   NA & NA &  NA & NA & NA & ⋯ &  1118 &  4 & 0 & fb3200f4da1960dab3595c72707736126b454ca7 & 0 & 0 & 0 & 0 & 0 & NA\\\\\n\t8329 & 20200311 & CA &  157 &   916 &    NA &   NA & NA &  NA & NA & NA & ⋯ &  1073 &  0 & 0 & f69529d7af78b044de01e11d0dcd64609fe6ffd1 & 0 & 0 & 0 & 0 & 0 & NA\\\\\n\t8379 & 20200310 & CA &  133 &   690 &    NA &   NA & NA &  NA & NA & NA & ⋯ &   823 &  0 & 0 & da904a74d1db240d3a1f9fac98823f4064654065 & 0 & 0 & 0 & 0 & 0 & NA\\\\\n\t8429 & 20200309 & CA &  114 &   690 &    NA &   NA & NA &  NA & NA & NA & ⋯ &   804 &  0 & 0 & 492483138c998beb9a324c26f152f8daa6fa891f & 0 & 0 & 0 & 0 & 0 & NA\\\\\n\t8479 & 20200308 & CA &   88 &   462 &    NA &   NA & NA &  NA & NA & NA & ⋯ &   550 &  0 & 0 & 841788a5ae11d1cb868b7d1a0b5dafbc665ba169 & 0 & 0 & 0 & 0 & 0 & NA\\\\\n\t8529 & 20200307 & CA &   69 &   462 &    NA &   NA & NA &  NA & NA & NA & ⋯ &   531 &  0 & 0 & 97d60a21e9065f4c8044c990091051b3f0c5a49c & 0 & 0 & 0 & 0 & 0 & NA\\\\\n\t8578 & 20200306 & CA &   60 &   462 &    NA &   NA & NA &  NA & NA & NA & ⋯ &   522 &  0 & 0 & 662f66bd8d1c194ce87d7404753a9b83515d2695 & 0 & 0 & 0 & 0 & 0 & NA\\\\\n\t8612 & 20200305 & CA &   53 &   462 &    NA &   NA & NA &  NA & NA & NA & ⋯ &   515 &  0 & 0 & 8ee918675d3f2f0f6b94dee19267e2be366999ff & 0 & 0 & 0 & 0 & 0 & NA\\\\\n\t8636 & 20200304 & CA &   53 &   462 &    NA &   NA & NA &  NA & NA & NA & ⋯ &   515 &  0 & 0 & 5a4090a5d0f48c63008d34430a1845a383bebc1f & 0 & 0 & 0 & 0 & 0 & NA\\\\\n\\end{tabular}\n",
            "text/plain": [
              "     date     state positive negative pending hospitalizedCurrently\n",
              "6    20200807 CA    538416   8058466  NA      7277                 \n",
              "62   20200806 CA    529980   7970483  NA      7485                 \n",
              "118  20200805 CA    524722   7884678  NA      7552                 \n",
              "174  20200804 CA    519427   7786286  NA      7630                 \n",
              "230  20200803 CA    514901   7669795  NA      7629                 \n",
              "286  20200802 CA    509162   7526813  NA      7761                 \n",
              "342  20200801 CA    500130   7386457  NA      7754                 \n",
              "398  20200731 CA    493588   7317453  NA      7999                 \n",
              "454  20200730 CA    485502   7148338  NA      8198                 \n",
              "510  20200729 CA    475305   7042161  NA      8439                 \n",
              "566  20200728 CA    466550   6951316  NA      8317                 \n",
              "622  20200727 CA    460550   6836028  NA      8820                 \n",
              "678  20200726 CA    453659   6714480  NA      8820                 \n",
              "734  20200725 CA    445400   6601955  NA      8820                 \n",
              "790  20200724 CA    435334   6480542  NA      8820                 \n",
              "846  20200723 CA    425616   6352688  NA      8820                 \n",
              "902  20200722 CA    413576   6250843  NA      8820                 \n",
              "958  20200721 CA    400769   6136163  NA      8681                 \n",
              "1014 20200720 CA    391538   6022783  NA      8419                 \n",
              "1070 20200719 CA    384692   5902160  NA      8398                 \n",
              "1126 20200718 CA    375363   5791855  NA      8502                 \n",
              "1182 20200717 CA    366164   5677935  NA      8450                 \n",
              "1238 20200716 CA    356178   5559330  NA      8363                 \n",
              "1294 20200715 CA    347634   5445642  NA      8353                 \n",
              "1350 20200714 CA    336508   5338447  NA      8145                 \n",
              "1406 20200713 CA    329162   5215203  NA      7895                 \n",
              "1462 20200712 CA    320804   5085795  NA      7854                 \n",
              "1518 20200711 CA    312344   4963351  NA      7904                 \n",
              "1574 20200710 CA    304297   4871440  NA      7896                 \n",
              "1630 20200709 CA    296499   4781935  NA      7821                 \n",
              "⋮    ⋮        ⋮     ⋮        ⋮        ⋮       ⋮                    \n",
              "7118 20200402 CA    9191     23809    59500   1922                 \n",
              "7174 20200401 CA    8155     21772    57400   1855                 \n",
              "7230 20200331 CA    7482     21772    57400   1617                 \n",
              "7286 20200330 CA    6447     20549    64400   1432                 \n",
              "7342 20200329 CA    5708     20549    64400   1034                 \n",
              "7398 20200328 CA    4643     20549    64400   1034                 \n",
              "7454 20200327 CA    3879     17380    57400    746                 \n",
              "7510 20200326 CA    3006     17380    57400     NA                 \n",
              "7566 20200325 CA    2355     15921    48600     NA                 \n",
              "7622 20200324 CA    2102     13452    12100     NA                 \n",
              "7678 20200323 CA    1733     12567    12100     NA                 \n",
              "7734 20200322 CA    1536     11304       NA     NA                 \n",
              "7790 20200321 CA    1279     11249       NA     NA                 \n",
              "7846 20200320 CA    1063     10424       NA     NA                 \n",
              "7902 20200319 CA     924      8787       NA     NA                 \n",
              "7958 20200318 CA     611      7981       NA     NA                 \n",
              "8014 20200317 CA     483      7981       NA     NA                 \n",
              "8070 20200316 CA     335      7981       NA     NA                 \n",
              "8125 20200315 CA     293       916       NA     NA                 \n",
              "8176 20200314 CA     252       916       NA     NA                 \n",
              "8227 20200313 CA     202       916       NA     NA                 \n",
              "8278 20200312 CA     202       916       NA     NA                 \n",
              "8329 20200311 CA     157       916       NA     NA                 \n",
              "8379 20200310 CA     133       690       NA     NA                 \n",
              "8429 20200309 CA     114       690       NA     NA                 \n",
              "8479 20200308 CA      88       462       NA     NA                 \n",
              "8529 20200307 CA      69       462       NA     NA                 \n",
              "8578 20200306 CA      60       462       NA     NA                 \n",
              "8612 20200305 CA      53       462       NA     NA                 \n",
              "8636 20200304 CA      53       462       NA     NA                 \n",
              "     hospitalizedCumulative inIcuCurrently inIcuCumulative\n",
              "6    NA                     1978           NA             \n",
              "62   NA                     2026           NA             \n",
              "118  NA                     2005           NA             \n",
              "174  NA                     2082           NA             \n",
              "230  NA                     2069           NA             \n",
              "286  NA                     2119           NA             \n",
              "342  NA                     2120           NA             \n",
              "398  NA                     2163           NA             \n",
              "454  NA                     2220           NA             \n",
              "510  NA                     2209           NA             \n",
              "566  NA                     2198           NA             \n",
              "622  NA                     2284           NA             \n",
              "678  NA                     2284           NA             \n",
              "734  NA                     2284           NA             \n",
              "790  NA                     2284           NA             \n",
              "846  NA                     2284           NA             \n",
              "902  NA                     2284           NA             \n",
              "958  NA                     2226           NA             \n",
              "1014 NA                     2157           NA             \n",
              "1070 NA                     2107           NA             \n",
              "1126 NA                     2125           NA             \n",
              "1182 NA                     2153           NA             \n",
              "1238 NA                     2120           NA             \n",
              "1294 NA                     2110           NA             \n",
              "1350 NA                     2083           NA             \n",
              "1406 NA                     2021           NA             \n",
              "1462 NA                     2020           NA             \n",
              "1518 NA                     2021           NA             \n",
              "1574 NA                     2005           NA             \n",
              "1630 NA                     1957           NA             \n",
              "⋮    ⋮                      ⋮              ⋮              \n",
              "7118 NA                     816            NA             \n",
              "7174 NA                     774            NA             \n",
              "7230 NA                     657            NA             \n",
              "7286 NA                     597            NA             \n",
              "7342 NA                     410            NA             \n",
              "7398 NA                     410            NA             \n",
              "7454 NA                     200            NA             \n",
              "7510 NA                      NA            NA             \n",
              "7566 NA                      NA            NA             \n",
              "7622 NA                      NA            NA             \n",
              "7678 NA                      NA            NA             \n",
              "7734 NA                      NA            NA             \n",
              "7790 NA                      NA            NA             \n",
              "7846 NA                      NA            NA             \n",
              "7902 NA                      NA            NA             \n",
              "7958 NA                      NA            NA             \n",
              "8014 NA                      NA            NA             \n",
              "8070 NA                      NA            NA             \n",
              "8125 NA                      NA            NA             \n",
              "8176 NA                      NA            NA             \n",
              "8227 NA                      NA            NA             \n",
              "8278 NA                      NA            NA             \n",
              "8329 NA                      NA            NA             \n",
              "8379 NA                      NA            NA             \n",
              "8429 NA                      NA            NA             \n",
              "8479 NA                      NA            NA             \n",
              "8529 NA                      NA            NA             \n",
              "8578 NA                      NA            NA             \n",
              "8612 NA                      NA            NA             \n",
              "8636 NA                      NA            NA             \n",
              "     onVentilatorCurrently ⋯ posNeg  deathIncrease hospitalizedIncrease\n",
              "6    NA                    ⋯ 8596882 142           0                   \n",
              "62   NA                    ⋯ 8500463 166           0                   \n",
              "118  NA                    ⋯ 8409400 202           0                   \n",
              "174  NA                    ⋯ 8305713 113           0                   \n",
              "230  NA                    ⋯ 8184696  32           0                   \n",
              "286  NA                    ⋯ 8035975 132           0                   \n",
              "342  NA                    ⋯ 7886587 219           0                   \n",
              "398  NA                    ⋯ 7811041  96           0                   \n",
              "454  NA                    ⋯ 7633840 194           0                   \n",
              "510  NA                    ⋯ 7517466 197           0                   \n",
              "566  NA                    ⋯ 7417866  73           0                   \n",
              "622  NA                    ⋯ 7296578  29           0                   \n",
              "678  NA                    ⋯ 7168139  79           0                   \n",
              "734  NA                    ⋯ 7047355 151           0                   \n",
              "790  NA                    ⋯ 6915876 159           0                   \n",
              "846  NA                    ⋯ 6778304 157           0                   \n",
              "902  NA                    ⋯ 6664419 115           0                   \n",
              "958  NA                    ⋯ 6536932  61           0                   \n",
              "1014 NA                    ⋯ 6414321   9           0                   \n",
              "1070 NA                    ⋯ 6286852  90           0                   \n",
              "1126 NA                    ⋯ 6167218 120           0                   \n",
              "1182 NA                    ⋯ 6044099 130           0                   \n",
              "1238 NA                    ⋯ 5915508 118           0                   \n",
              "1294 NA                    ⋯ 5793276 140           0                   \n",
              "1350 NA                    ⋯ 5674955  47           0                   \n",
              "1406 NA                    ⋯ 5544365  23           0                   \n",
              "1462 NA                    ⋯ 5406599  72           0                   \n",
              "1518 NA                    ⋯ 5275695  94           0                   \n",
              "1574 NA                    ⋯ 5175737 140           0                   \n",
              "1630 NA                    ⋯ 5078434 149           0                   \n",
              "⋮    ⋮                     ⋱ ⋮       ⋮             ⋮                   \n",
              "7118 NA                    ⋯ 33000   32            0                   \n",
              "7174 NA                    ⋯ 29927   18            0                   \n",
              "7230 NA                    ⋯ 29254   20            0                   \n",
              "7286 NA                    ⋯ 26996   10            0                   \n",
              "7342 NA                    ⋯ 26257   22            0                   \n",
              "7398 NA                    ⋯ 25192   23            0                   \n",
              "7454 NA                    ⋯ 21259   13            0                   \n",
              "7510 NA                    ⋯ 20386   12            0                   \n",
              "7566 NA                    ⋯ 18276   13            0                   \n",
              "7622 NA                    ⋯ 15554   13            0                   \n",
              "7678 NA                    ⋯ 14300    0            0                   \n",
              "7734 NA                    ⋯ 12840    3            0                   \n",
              "7790 NA                    ⋯ 12528    4            0                   \n",
              "7846 NA                    ⋯ 11487    2            0                   \n",
              "7902 NA                    ⋯  9711    5            0                   \n",
              "7958 NA                    ⋯  8592    2            0                   \n",
              "8014 NA                    ⋯  8464    5            0                   \n",
              "8070 NA                    ⋯  8316    1            0                   \n",
              "8125 NA                    ⋯  1209    0            0                   \n",
              "8176 NA                    ⋯  1168    1            0                   \n",
              "8227 NA                    ⋯  1118    0            0                   \n",
              "8278 NA                    ⋯  1118    4            0                   \n",
              "8329 NA                    ⋯  1073    0            0                   \n",
              "8379 NA                    ⋯   823    0            0                   \n",
              "8429 NA                    ⋯   804    0            0                   \n",
              "8479 NA                    ⋯   550    0            0                   \n",
              "8529 NA                    ⋯   531    0            0                   \n",
              "8578 NA                    ⋯   522    0            0                   \n",
              "8612 NA                    ⋯   515    0            0                   \n",
              "8636 NA                    ⋯   515    0            0                   \n",
              "     hash                                     commercialScore\n",
              "6    de76be81f6dc15ca6c65b81d94e2c5e34e4489df 0              \n",
              "62   04d0f37534059d04347fd2c84c1183d80fe86371 0              \n",
              "118  c877f9c8b267330bc105adeffdf3dce664b3ba94 0              \n",
              "174  90e3e08ccbd077a1dd09f6322366feedef7d2356 0              \n",
              "230  3e13c19ce424ee3a196c2af8c24fa9df6cedf226 0              \n",
              "286  acaee9f7ca22b9c2c31866d7b2477e601fef5c3a 0              \n",
              "342  7d0897f15a2eea9c1f439002d4e9cb86eaba030f 0              \n",
              "398  01334802bc96449522bb9a789767abc759b9c877 0              \n",
              "454  2390e7743f2eb82e34881a08d0806a179febc29f 0              \n",
              "510  7f4678b42a7b927423b1a4e5fb8f2c5db240c043 0              \n",
              "566  e9a53bd0b34d58e584d33393a1acc8673d8e9b05 0              \n",
              "622  b8931466ea5a52fb64e1683aec4d3e4c412f1f7e 0              \n",
              "678  2de2a3bb3e4a36be3abf85f9636ed9b58cbf4df4 0              \n",
              "734  1c3c5e5d7d8a78e1027e606bc3fe62b193ea414e 0              \n",
              "790  00c84b97e9b372b477ce7feeb37b6a9b5f3f1be4 0              \n",
              "846  682fff550ee553f1a82d03c82deaf07c520373df 0              \n",
              "902  9e07fb0a4bb5e4616284aebc1d201ad7133c049a 0              \n",
              "958  c5f9f05c2b366e3f77d195585f936816c1359e2f 0              \n",
              "1014 cd6be133298352ecb8fde204fba59b39e15b0f80 0              \n",
              "1070 679f115e835cebf3d0107f1d0394d362db540399 0              \n",
              "1126 c7ccfc309a1cc4b49de9e979a64e516a5ae76e3e 0              \n",
              "1182 fc67eb477c9c738f23fb314ab228a3e376877d8a 0              \n",
              "1238 5036fe722b685c1518e7feb4bce0c3f170c8d10e 0              \n",
              "1294 3284751051687e53d0dfa857b8524346100ec888 0              \n",
              "1350 d823ee4c4b51f7f10f134b0f71e7fdb61ec5b3fa 0              \n",
              "1406 c0dfd793447c8645bea4f9658759aa42a854b63a 0              \n",
              "1462 7f0a7ef4ab2864dfe91670dbd8db994e291b0d65 0              \n",
              "1518 be5241e551c19c99f87be6429800baa947d24cf6 0              \n",
              "1574 7ed43229bfbe0897133758f20cc575329e2daa9e 0              \n",
              "1630 2f769b0e0429da6b96c7d0480d6d59b1b1e0781b 0              \n",
              "⋮    ⋮                                        ⋮              \n",
              "7118 743b52fbda0938c8bfd4475b1b0b7e94ff632a69 0              \n",
              "7174 5ac3efa10f5a8da6f12ef9eb67afe7227d0b2544 0              \n",
              "7230 529fd2d220c023df34cddd14a08a362b16e38593 0              \n",
              "7286 d64974faadb75398adbacfaeeaeea58394c59e16 0              \n",
              "7342 a60f6149d3babe801ee4910174d24b7c228c62af 0              \n",
              "7398 ff18080c1e9c3b59a8b6585bcccf0b0e38ade350 0              \n",
              "7454 7a3946e57f5ffc51ce5c902d36ab4c253aa28d2c 0              \n",
              "7510 78270b809b930fb831cc18a34b8c039463b0581b 0              \n",
              "7566 355056c11e674ef48d381145ed54e30e2db4a382 0              \n",
              "7622 e11c7f717e55fa34697e5d7859ccabb1e5806506 0              \n",
              "7678 efb5a6b54db31ac8f6225172283b9e467eb20b1f 0              \n",
              "7734 1a36113c016f566fdf87ad37eb0282b218de23de 0              \n",
              "7790 a1a878b58378c35b9685f30a26c8bd72cb4148c9 0              \n",
              "7846 a199aa523aadedc5423d5bb7f85f9f98d11d7ad4 0              \n",
              "7902 105de580eb75e5ab36f9754ca14ee13ac5980a0e 0              \n",
              "7958 56e6081afce666bd9e73a1e326c772b63fef1bbc 0              \n",
              "8014 9870829946c14fa6e551674bd165c3cf2eeb2982 0              \n",
              "8070 ab3cdadd5394f06ee64a11df18140fb52c617d01 0              \n",
              "8125 a54cee0d542381fcda1433ed39fc5c57d59ee684 0              \n",
              "8176 08910b8eb722c96a1bb6b43426090036aa0978e3 0              \n",
              "8227 fbb077ec6beea9ed6ae0abc83e48c0b07af55d6c 0              \n",
              "8278 fb3200f4da1960dab3595c72707736126b454ca7 0              \n",
              "8329 f69529d7af78b044de01e11d0dcd64609fe6ffd1 0              \n",
              "8379 da904a74d1db240d3a1f9fac98823f4064654065 0              \n",
              "8429 492483138c998beb9a324c26f152f8daa6fa891f 0              \n",
              "8479 841788a5ae11d1cb868b7d1a0b5dafbc665ba169 0              \n",
              "8529 97d60a21e9065f4c8044c990091051b3f0c5a49c 0              \n",
              "8578 662f66bd8d1c194ce87d7404753a9b83515d2695 0              \n",
              "8612 8ee918675d3f2f0f6b94dee19267e2be366999ff 0              \n",
              "8636 5a4090a5d0f48c63008d34430a1845a383bebc1f 0              \n",
              "     negativeRegularScore negativeScore positiveScore score grade\n",
              "6    0                    0             0             0     NA   \n",
              "62   0                    0             0             0     NA   \n",
              "118  0                    0             0             0     NA   \n",
              "174  0                    0             0             0     NA   \n",
              "230  0                    0             0             0     NA   \n",
              "286  0                    0             0             0     NA   \n",
              "342  0                    0             0             0     NA   \n",
              "398  0                    0             0             0     NA   \n",
              "454  0                    0             0             0     NA   \n",
              "510  0                    0             0             0     NA   \n",
              "566  0                    0             0             0     NA   \n",
              "622  0                    0             0             0     NA   \n",
              "678  0                    0             0             0     NA   \n",
              "734  0                    0             0             0     NA   \n",
              "790  0                    0             0             0     NA   \n",
              "846  0                    0             0             0     NA   \n",
              "902  0                    0             0             0     NA   \n",
              "958  0                    0             0             0     NA   \n",
              "1014 0                    0             0             0     NA   \n",
              "1070 0                    0             0             0     NA   \n",
              "1126 0                    0             0             0     NA   \n",
              "1182 0                    0             0             0     NA   \n",
              "1238 0                    0             0             0     NA   \n",
              "1294 0                    0             0             0     NA   \n",
              "1350 0                    0             0             0     NA   \n",
              "1406 0                    0             0             0     NA   \n",
              "1462 0                    0             0             0     NA   \n",
              "1518 0                    0             0             0     NA   \n",
              "1574 0                    0             0             0     NA   \n",
              "1630 0                    0             0             0     NA   \n",
              "⋮    ⋮                    ⋮             ⋮             ⋮     ⋮    \n",
              "7118 0                    0             0             0     NA   \n",
              "7174 0                    0             0             0     NA   \n",
              "7230 0                    0             0             0     NA   \n",
              "7286 0                    0             0             0     NA   \n",
              "7342 0                    0             0             0     NA   \n",
              "7398 0                    0             0             0     NA   \n",
              "7454 0                    0             0             0     NA   \n",
              "7510 0                    0             0             0     NA   \n",
              "7566 0                    0             0             0     NA   \n",
              "7622 0                    0             0             0     NA   \n",
              "7678 0                    0             0             0     NA   \n",
              "7734 0                    0             0             0     NA   \n",
              "7790 0                    0             0             0     NA   \n",
              "7846 0                    0             0             0     NA   \n",
              "7902 0                    0             0             0     NA   \n",
              "7958 0                    0             0             0     NA   \n",
              "8014 0                    0             0             0     NA   \n",
              "8070 0                    0             0             0     NA   \n",
              "8125 0                    0             0             0     NA   \n",
              "8176 0                    0             0             0     NA   \n",
              "8227 0                    0             0             0     NA   \n",
              "8278 0                    0             0             0     NA   \n",
              "8329 0                    0             0             0     NA   \n",
              "8379 0                    0             0             0     NA   \n",
              "8429 0                    0             0             0     NA   \n",
              "8479 0                    0             0             0     NA   \n",
              "8529 0                    0             0             0     NA   \n",
              "8578 0                    0             0             0     NA   \n",
              "8612 0                    0             0             0     NA   \n",
              "8636 0                    0             0             0     NA   "
            ]
          },
          "metadata": {}
        }
      ],
      "source": [
        "CA"
      ]
    },
    {
      "cell_type": "code",
      "execution_count": 64,
      "id": "d35c94a2",
      "metadata": {
        "id": "d35c94a2",
        "colab": {
          "base_uri": "https://localhost:8080/",
          "height": 34
        },
        "outputId": "9ba3263d-f7e1-4a2a-b40b-74c495fd21d3"
      },
      "outputs": [
        {
          "output_type": "display_data",
          "data": {
            "text/html": [
              "20200807"
            ],
            "text/markdown": "20200807",
            "text/latex": "20200807",
            "text/plain": [
              "[1] 20200807"
            ]
          },
          "metadata": {}
        }
      ],
      "source": [
        "COVID[2,1]"
      ]
    },
    {
      "cell_type": "code",
      "execution_count": 65,
      "id": "def70008",
      "metadata": {
        "scrolled": true,
        "id": "def70008",
        "colab": {
          "base_uri": "https://localhost:8080/",
          "height": 72
        },
        "outputId": "8d687902-71ad-45ff-86d5-4fef4ed8afa6"
      },
      "outputs": [
        {
          "output_type": "error",
          "ename": "ERROR",
          "evalue": "Error in COVID(1, 1): could not find function \"COVID\"\n",
          "traceback": [
            "Error in COVID(1, 1): could not find function \"COVID\"\nTraceback:\n"
          ]
        }
      ],
      "source": [
        "COVID(1,1)"
      ]
    },
    {
      "cell_type": "code",
      "execution_count": 66,
      "id": "4061410d",
      "metadata": {
        "scrolled": true,
        "id": "4061410d",
        "colab": {
          "base_uri": "https://localhost:8080/",
          "height": 243
        },
        "outputId": "77450972-79d4-4e94-88fa-d4e39cb412e0"
      },
      "outputs": [
        {
          "output_type": "display_data",
          "data": {
            "text/html": [
              "<style>\n",
              ".list-inline {list-style: none; margin:0; padding: 0}\n",
              ".list-inline>li {display: inline-block}\n",
              ".list-inline>li:not(:last-child)::after {content: \"\\00b7\"; padding: 0 .5ex}\n",
              "</style>\n",
              "<ol class=list-inline><li>FALSE</li><li>FALSE</li><li>FALSE</li><li>FALSE</li><li>FALSE</li><li>TRUE</li><li>FALSE</li><li>FALSE</li><li>FALSE</li><li>FALSE</li><li>FALSE</li><li>FALSE</li><li>FALSE</li><li>FALSE</li><li>FALSE</li><li>FALSE</li><li>FALSE</li><li>FALSE</li><li>FALSE</li><li>FALSE</li><li>FALSE</li><li>FALSE</li><li>FALSE</li><li>FALSE</li><li>FALSE</li><li>FALSE</li><li>FALSE</li><li>FALSE</li><li>FALSE</li><li>FALSE</li><li>FALSE</li><li>FALSE</li><li>FALSE</li><li>FALSE</li><li>FALSE</li><li>FALSE</li><li>FALSE</li><li>FALSE</li><li>FALSE</li><li>FALSE</li><li>FALSE</li><li>FALSE</li><li>FALSE</li><li>FALSE</li><li>FALSE</li><li>FALSE</li><li>FALSE</li><li>FALSE</li><li>FALSE</li><li>FALSE</li><li>FALSE</li><li>FALSE</li><li>FALSE</li><li>FALSE</li><li>FALSE</li><li>FALSE</li><li>FALSE</li><li>FALSE</li><li>FALSE</li><li>FALSE</li><li>FALSE</li><li>TRUE</li><li>FALSE</li><li>FALSE</li><li>FALSE</li><li>FALSE</li><li>FALSE</li><li>FALSE</li><li>FALSE</li><li>FALSE</li><li>FALSE</li><li>FALSE</li><li>FALSE</li><li>FALSE</li><li>FALSE</li><li>FALSE</li><li>FALSE</li><li>FALSE</li><li>FALSE</li><li>FALSE</li><li>FALSE</li><li>FALSE</li><li>FALSE</li><li>FALSE</li><li>FALSE</li><li>FALSE</li><li>FALSE</li><li>FALSE</li><li>FALSE</li><li>FALSE</li><li>FALSE</li><li>FALSE</li><li>FALSE</li><li>FALSE</li><li>FALSE</li><li>FALSE</li><li>FALSE</li><li>FALSE</li><li>FALSE</li><li>FALSE</li><li>FALSE</li><li>FALSE</li><li>FALSE</li><li>FALSE</li><li>FALSE</li><li>FALSE</li><li>FALSE</li><li>FALSE</li><li>FALSE</li><li>FALSE</li><li>FALSE</li><li>FALSE</li><li>FALSE</li><li>FALSE</li><li>FALSE</li><li>FALSE</li><li>FALSE</li><li>TRUE</li><li>FALSE</li><li>FALSE</li><li>FALSE</li><li>FALSE</li><li>FALSE</li><li>FALSE</li><li>FALSE</li><li>FALSE</li><li>FALSE</li><li>FALSE</li><li>FALSE</li><li>FALSE</li><li>FALSE</li><li>FALSE</li><li>FALSE</li><li>FALSE</li><li>FALSE</li><li>FALSE</li><li>FALSE</li><li>FALSE</li><li>FALSE</li><li>FALSE</li><li>FALSE</li><li>FALSE</li><li>FALSE</li><li>FALSE</li><li>FALSE</li><li>FALSE</li><li>FALSE</li><li>FALSE</li><li>FALSE</li><li>FALSE</li><li>FALSE</li><li>FALSE</li><li>FALSE</li><li>FALSE</li><li>FALSE</li><li>FALSE</li><li>FALSE</li><li>FALSE</li><li>FALSE</li><li>FALSE</li><li>FALSE</li><li>FALSE</li><li>FALSE</li><li>FALSE</li><li>FALSE</li><li>FALSE</li><li>FALSE</li><li>FALSE</li><li>FALSE</li><li>FALSE</li><li>FALSE</li><li>FALSE</li><li>FALSE</li><li>TRUE</li><li>FALSE</li><li>FALSE</li><li>FALSE</li><li>FALSE</li><li>FALSE</li><li>FALSE</li><li>FALSE</li><li>FALSE</li><li>FALSE</li><li>FALSE</li><li>FALSE</li><li>FALSE</li><li>FALSE</li><li>FALSE</li><li>FALSE</li><li>FALSE</li><li>FALSE</li><li>FALSE</li><li>FALSE</li><li>FALSE</li><li>FALSE</li><li>FALSE</li><li>FALSE</li><li>FALSE</li><li>FALSE</li><li>FALSE</li><li>⋯</li><li>FALSE</li><li>FALSE</li><li>FALSE</li><li>FALSE</li><li>FALSE</li><li>FALSE</li><li>FALSE</li><li>FALSE</li><li>FALSE</li><li>FALSE</li><li>FALSE</li><li>FALSE</li><li>FALSE</li><li>FALSE</li><li>FALSE</li><li>FALSE</li><li>FALSE</li><li>FALSE</li><li>FALSE</li><li>FALSE</li><li>FALSE</li><li>FALSE</li><li>FALSE</li><li>FALSE</li><li>FALSE</li><li>FALSE</li><li>FALSE</li><li>FALSE</li><li>FALSE</li><li>FALSE</li><li>FALSE</li><li>TRUE</li><li>FALSE</li><li>FALSE</li><li>FALSE</li><li>FALSE</li><li>FALSE</li><li>FALSE</li><li>FALSE</li><li>FALSE</li><li>FALSE</li><li>FALSE</li><li>FALSE</li><li>FALSE</li><li>FALSE</li><li>FALSE</li><li>FALSE</li><li>FALSE</li><li>FALSE</li><li>FALSE</li><li>FALSE</li><li>FALSE</li><li>FALSE</li><li>FALSE</li><li>FALSE</li><li>FALSE</li><li>FALSE</li><li>FALSE</li><li>FALSE</li><li>FALSE</li><li>FALSE</li><li>FALSE</li><li>FALSE</li><li>FALSE</li><li>FALSE</li><li>FALSE</li><li>FALSE</li><li>FALSE</li><li>FALSE</li><li>FALSE</li><li>FALSE</li><li>FALSE</li><li>FALSE</li><li>FALSE</li><li>FALSE</li><li>FALSE</li><li>FALSE</li><li>FALSE</li><li>FALSE</li><li>FALSE</li><li>TRUE</li><li>FALSE</li><li>FALSE</li><li>FALSE</li><li>FALSE</li><li>FALSE</li><li>FALSE</li><li>FALSE</li><li>FALSE</li><li>FALSE</li><li>FALSE</li><li>FALSE</li><li>FALSE</li><li>FALSE</li><li>FALSE</li><li>FALSE</li><li>FALSE</li><li>FALSE</li><li>FALSE</li><li>FALSE</li><li>FALSE</li><li>FALSE</li><li>FALSE</li><li>FALSE</li><li>FALSE</li><li>FALSE</li><li>FALSE</li><li>FALSE</li><li>FALSE</li><li>FALSE</li><li>FALSE</li><li>FALSE</li><li>FALSE</li><li>FALSE</li><li>TRUE</li><li>FALSE</li><li>FALSE</li><li>FALSE</li><li>FALSE</li><li>FALSE</li><li>FALSE</li><li>FALSE</li><li>FALSE</li><li>FALSE</li><li>FALSE</li><li>FALSE</li><li>FALSE</li><li>FALSE</li><li>FALSE</li><li>FALSE</li><li>FALSE</li><li>FALSE</li><li>FALSE</li><li>FALSE</li><li>FALSE</li><li>FALSE</li><li>FALSE</li><li>FALSE</li><li>TRUE</li><li>FALSE</li><li>FALSE</li><li>FALSE</li><li>FALSE</li><li>FALSE</li><li>FALSE</li><li>FALSE</li><li>FALSE</li><li>FALSE</li><li>FALSE</li><li>FALSE</li><li>FALSE</li><li>FALSE</li><li>FALSE</li><li>FALSE</li><li>FALSE</li><li>FALSE</li><li>FALSE</li><li>FALSE</li><li>FALSE</li><li>FALSE</li><li>FALSE</li><li>FALSE</li><li>FALSE</li><li>FALSE</li><li>FALSE</li><li>FALSE</li><li>FALSE</li><li>FALSE</li><li>FALSE</li><li>FALSE</li><li>FALSE</li><li>FALSE</li><li>FALSE</li><li>FALSE</li><li>FALSE</li><li>FALSE</li><li>FALSE</li><li>FALSE</li><li>FALSE</li><li>FALSE</li><li>FALSE</li><li>FALSE</li><li>FALSE</li><li>FALSE</li><li>FALSE</li><li>FALSE</li><li>FALSE</li><li>FALSE</li><li>FALSE</li><li>FALSE</li><li>FALSE</li><li>FALSE</li><li>FALSE</li><li>FALSE</li><li>FALSE</li><li>FALSE</li><li>FALSE</li><li>FALSE</li><li>FALSE</li><li>FALSE</li></ol>\n"
            ],
            "text/markdown": "1. FALSE\n2. FALSE\n3. FALSE\n4. FALSE\n5. FALSE\n6. TRUE\n7. FALSE\n8. FALSE\n9. FALSE\n10. FALSE\n11. FALSE\n12. FALSE\n13. FALSE\n14. FALSE\n15. FALSE\n16. FALSE\n17. FALSE\n18. FALSE\n19. FALSE\n20. FALSE\n21. FALSE\n22. FALSE\n23. FALSE\n24. FALSE\n25. FALSE\n26. FALSE\n27. FALSE\n28. FALSE\n29. FALSE\n30. FALSE\n31. FALSE\n32. FALSE\n33. FALSE\n34. FALSE\n35. FALSE\n36. FALSE\n37. FALSE\n38. FALSE\n39. FALSE\n40. FALSE\n41. FALSE\n42. FALSE\n43. FALSE\n44. FALSE\n45. FALSE\n46. FALSE\n47. FALSE\n48. FALSE\n49. FALSE\n50. FALSE\n51. FALSE\n52. FALSE\n53. FALSE\n54. FALSE\n55. FALSE\n56. FALSE\n57. FALSE\n58. FALSE\n59. FALSE\n60. FALSE\n61. FALSE\n62. TRUE\n63. FALSE\n64. FALSE\n65. FALSE\n66. FALSE\n67. FALSE\n68. FALSE\n69. FALSE\n70. FALSE\n71. FALSE\n72. FALSE\n73. FALSE\n74. FALSE\n75. FALSE\n76. FALSE\n77. FALSE\n78. FALSE\n79. FALSE\n80. FALSE\n81. FALSE\n82. FALSE\n83. FALSE\n84. FALSE\n85. FALSE\n86. FALSE\n87. FALSE\n88. FALSE\n89. FALSE\n90. FALSE\n91. FALSE\n92. FALSE\n93. FALSE\n94. FALSE\n95. FALSE\n96. FALSE\n97. FALSE\n98. FALSE\n99. FALSE\n100. FALSE\n101. FALSE\n102. FALSE\n103. FALSE\n104. FALSE\n105. FALSE\n106. FALSE\n107. FALSE\n108. FALSE\n109. FALSE\n110. FALSE\n111. FALSE\n112. FALSE\n113. FALSE\n114. FALSE\n115. FALSE\n116. FALSE\n117. FALSE\n118. TRUE\n119. FALSE\n120. FALSE\n121. FALSE\n122. FALSE\n123. FALSE\n124. FALSE\n125. FALSE\n126. FALSE\n127. FALSE\n128. FALSE\n129. FALSE\n130. FALSE\n131. FALSE\n132. FALSE\n133. FALSE\n134. FALSE\n135. FALSE\n136. FALSE\n137. FALSE\n138. FALSE\n139. FALSE\n140. FALSE\n141. FALSE\n142. FALSE\n143. FALSE\n144. FALSE\n145. FALSE\n146. FALSE\n147. FALSE\n148. FALSE\n149. FALSE\n150. FALSE\n151. FALSE\n152. FALSE\n153. FALSE\n154. FALSE\n155. FALSE\n156. FALSE\n157. FALSE\n158. FALSE\n159. FALSE\n160. FALSE\n161. FALSE\n162. FALSE\n163. FALSE\n164. FALSE\n165. FALSE\n166. FALSE\n167. FALSE\n168. FALSE\n169. FALSE\n170. FALSE\n171. FALSE\n172. FALSE\n173. FALSE\n174. TRUE\n175. FALSE\n176. FALSE\n177. FALSE\n178. FALSE\n179. FALSE\n180. FALSE\n181. FALSE\n182. FALSE\n183. FALSE\n184. FALSE\n185. FALSE\n186. FALSE\n187. FALSE\n188. FALSE\n189. FALSE\n190. FALSE\n191. FALSE\n192. FALSE\n193. FALSE\n194. FALSE\n195. FALSE\n196. FALSE\n197. FALSE\n198. FALSE\n199. FALSE\n200. FALSE\n201. ⋯\n202. FALSE\n203. FALSE\n204. FALSE\n205. FALSE\n206. FALSE\n207. FALSE\n208. FALSE\n209. FALSE\n210. FALSE\n211. FALSE\n212. FALSE\n213. FALSE\n214. FALSE\n215. FALSE\n216. FALSE\n217. FALSE\n218. FALSE\n219. FALSE\n220. FALSE\n221. FALSE\n222. FALSE\n223. FALSE\n224. FALSE\n225. FALSE\n226. FALSE\n227. FALSE\n228. FALSE\n229. FALSE\n230. FALSE\n231. FALSE\n232. FALSE\n233. TRUE\n234. FALSE\n235. FALSE\n236. FALSE\n237. FALSE\n238. FALSE\n239. FALSE\n240. FALSE\n241. FALSE\n242. FALSE\n243. FALSE\n244. FALSE\n245. FALSE\n246. FALSE\n247. FALSE\n248. FALSE\n249. FALSE\n250. FALSE\n251. FALSE\n252. FALSE\n253. FALSE\n254. FALSE\n255. FALSE\n256. FALSE\n257. FALSE\n258. FALSE\n259. FALSE\n260. FALSE\n261. FALSE\n262. FALSE\n263. FALSE\n264. FALSE\n265. FALSE\n266. FALSE\n267. FALSE\n268. FALSE\n269. FALSE\n270. FALSE\n271. FALSE\n272. FALSE\n273. FALSE\n274. FALSE\n275. FALSE\n276. FALSE\n277. FALSE\n278. FALSE\n279. FALSE\n280. FALSE\n281. FALSE\n282. TRUE\n283. FALSE\n284. FALSE\n285. FALSE\n286. FALSE\n287. FALSE\n288. FALSE\n289. FALSE\n290. FALSE\n291. FALSE\n292. FALSE\n293. FALSE\n294. FALSE\n295. FALSE\n296. FALSE\n297. FALSE\n298. FALSE\n299. FALSE\n300. FALSE\n301. FALSE\n302. FALSE\n303. FALSE\n304. FALSE\n305. FALSE\n306. FALSE\n307. FALSE\n308. FALSE\n309. FALSE\n310. FALSE\n311. FALSE\n312. FALSE\n313. FALSE\n314. FALSE\n315. FALSE\n316. TRUE\n317. FALSE\n318. FALSE\n319. FALSE\n320. FALSE\n321. FALSE\n322. FALSE\n323. FALSE\n324. FALSE\n325. FALSE\n326. FALSE\n327. FALSE\n328. FALSE\n329. FALSE\n330. FALSE\n331. FALSE\n332. FALSE\n333. FALSE\n334. FALSE\n335. FALSE\n336. FALSE\n337. FALSE\n338. FALSE\n339. FALSE\n340. TRUE\n341. FALSE\n342. FALSE\n343. FALSE\n344. FALSE\n345. FALSE\n346. FALSE\n347. FALSE\n348. FALSE\n349. FALSE\n350. FALSE\n351. FALSE\n352. FALSE\n353. FALSE\n354. FALSE\n355. FALSE\n356. FALSE\n357. FALSE\n358. FALSE\n359. FALSE\n360. FALSE\n361. FALSE\n362. FALSE\n363. FALSE\n364. FALSE\n365. FALSE\n366. FALSE\n367. FALSE\n368. FALSE\n369. FALSE\n370. FALSE\n371. FALSE\n372. FALSE\n373. FALSE\n374. FALSE\n375. FALSE\n376. FALSE\n377. FALSE\n378. FALSE\n379. FALSE\n380. FALSE\n381. FALSE\n382. FALSE\n383. FALSE\n384. FALSE\n385. FALSE\n386. FALSE\n387. FALSE\n388. FALSE\n389. FALSE\n390. FALSE\n391. FALSE\n392. FALSE\n393. FALSE\n394. FALSE\n395. FALSE\n396. FALSE\n397. FALSE\n398. FALSE\n399. FALSE\n400. FALSE\n401. FALSE\n\n\n",
            "text/latex": "\\begin{enumerate*}\n\\item FALSE\n\\item FALSE\n\\item FALSE\n\\item FALSE\n\\item FALSE\n\\item TRUE\n\\item FALSE\n\\item FALSE\n\\item FALSE\n\\item FALSE\n\\item FALSE\n\\item FALSE\n\\item FALSE\n\\item FALSE\n\\item FALSE\n\\item FALSE\n\\item FALSE\n\\item FALSE\n\\item FALSE\n\\item FALSE\n\\item FALSE\n\\item FALSE\n\\item FALSE\n\\item FALSE\n\\item FALSE\n\\item FALSE\n\\item FALSE\n\\item FALSE\n\\item FALSE\n\\item FALSE\n\\item FALSE\n\\item FALSE\n\\item FALSE\n\\item FALSE\n\\item FALSE\n\\item FALSE\n\\item FALSE\n\\item FALSE\n\\item FALSE\n\\item FALSE\n\\item FALSE\n\\item FALSE\n\\item FALSE\n\\item FALSE\n\\item FALSE\n\\item FALSE\n\\item FALSE\n\\item FALSE\n\\item FALSE\n\\item FALSE\n\\item FALSE\n\\item FALSE\n\\item FALSE\n\\item FALSE\n\\item FALSE\n\\item FALSE\n\\item FALSE\n\\item FALSE\n\\item FALSE\n\\item FALSE\n\\item FALSE\n\\item TRUE\n\\item FALSE\n\\item FALSE\n\\item FALSE\n\\item FALSE\n\\item FALSE\n\\item FALSE\n\\item FALSE\n\\item FALSE\n\\item FALSE\n\\item FALSE\n\\item FALSE\n\\item FALSE\n\\item FALSE\n\\item FALSE\n\\item FALSE\n\\item FALSE\n\\item FALSE\n\\item FALSE\n\\item FALSE\n\\item FALSE\n\\item FALSE\n\\item FALSE\n\\item FALSE\n\\item FALSE\n\\item FALSE\n\\item FALSE\n\\item FALSE\n\\item FALSE\n\\item FALSE\n\\item FALSE\n\\item FALSE\n\\item FALSE\n\\item FALSE\n\\item FALSE\n\\item FALSE\n\\item FALSE\n\\item FALSE\n\\item FALSE\n\\item FALSE\n\\item FALSE\n\\item FALSE\n\\item FALSE\n\\item FALSE\n\\item FALSE\n\\item FALSE\n\\item FALSE\n\\item FALSE\n\\item FALSE\n\\item FALSE\n\\item FALSE\n\\item FALSE\n\\item FALSE\n\\item FALSE\n\\item FALSE\n\\item FALSE\n\\item TRUE\n\\item FALSE\n\\item FALSE\n\\item FALSE\n\\item FALSE\n\\item FALSE\n\\item FALSE\n\\item FALSE\n\\item FALSE\n\\item FALSE\n\\item FALSE\n\\item FALSE\n\\item FALSE\n\\item FALSE\n\\item FALSE\n\\item FALSE\n\\item FALSE\n\\item FALSE\n\\item FALSE\n\\item FALSE\n\\item FALSE\n\\item FALSE\n\\item FALSE\n\\item FALSE\n\\item FALSE\n\\item FALSE\n\\item FALSE\n\\item FALSE\n\\item FALSE\n\\item FALSE\n\\item FALSE\n\\item FALSE\n\\item FALSE\n\\item FALSE\n\\item FALSE\n\\item FALSE\n\\item FALSE\n\\item FALSE\n\\item FALSE\n\\item FALSE\n\\item FALSE\n\\item FALSE\n\\item FALSE\n\\item FALSE\n\\item FALSE\n\\item FALSE\n\\item FALSE\n\\item FALSE\n\\item FALSE\n\\item FALSE\n\\item FALSE\n\\item FALSE\n\\item FALSE\n\\item FALSE\n\\item FALSE\n\\item FALSE\n\\item TRUE\n\\item FALSE\n\\item FALSE\n\\item FALSE\n\\item FALSE\n\\item FALSE\n\\item FALSE\n\\item FALSE\n\\item FALSE\n\\item FALSE\n\\item FALSE\n\\item FALSE\n\\item FALSE\n\\item FALSE\n\\item FALSE\n\\item FALSE\n\\item FALSE\n\\item FALSE\n\\item FALSE\n\\item FALSE\n\\item FALSE\n\\item FALSE\n\\item FALSE\n\\item FALSE\n\\item FALSE\n\\item FALSE\n\\item FALSE\n\\item ⋯\n\\item FALSE\n\\item FALSE\n\\item FALSE\n\\item FALSE\n\\item FALSE\n\\item FALSE\n\\item FALSE\n\\item FALSE\n\\item FALSE\n\\item FALSE\n\\item FALSE\n\\item FALSE\n\\item FALSE\n\\item FALSE\n\\item FALSE\n\\item FALSE\n\\item FALSE\n\\item FALSE\n\\item FALSE\n\\item FALSE\n\\item FALSE\n\\item FALSE\n\\item FALSE\n\\item FALSE\n\\item FALSE\n\\item FALSE\n\\item FALSE\n\\item FALSE\n\\item FALSE\n\\item FALSE\n\\item FALSE\n\\item TRUE\n\\item FALSE\n\\item FALSE\n\\item FALSE\n\\item FALSE\n\\item FALSE\n\\item FALSE\n\\item FALSE\n\\item FALSE\n\\item FALSE\n\\item FALSE\n\\item FALSE\n\\item FALSE\n\\item FALSE\n\\item FALSE\n\\item FALSE\n\\item FALSE\n\\item FALSE\n\\item FALSE\n\\item FALSE\n\\item FALSE\n\\item FALSE\n\\item FALSE\n\\item FALSE\n\\item FALSE\n\\item FALSE\n\\item FALSE\n\\item FALSE\n\\item FALSE\n\\item FALSE\n\\item FALSE\n\\item FALSE\n\\item FALSE\n\\item FALSE\n\\item FALSE\n\\item FALSE\n\\item FALSE\n\\item FALSE\n\\item FALSE\n\\item FALSE\n\\item FALSE\n\\item FALSE\n\\item FALSE\n\\item FALSE\n\\item FALSE\n\\item FALSE\n\\item FALSE\n\\item FALSE\n\\item FALSE\n\\item TRUE\n\\item FALSE\n\\item FALSE\n\\item FALSE\n\\item FALSE\n\\item FALSE\n\\item FALSE\n\\item FALSE\n\\item FALSE\n\\item FALSE\n\\item FALSE\n\\item FALSE\n\\item FALSE\n\\item FALSE\n\\item FALSE\n\\item FALSE\n\\item FALSE\n\\item FALSE\n\\item FALSE\n\\item FALSE\n\\item FALSE\n\\item FALSE\n\\item FALSE\n\\item FALSE\n\\item FALSE\n\\item FALSE\n\\item FALSE\n\\item FALSE\n\\item FALSE\n\\item FALSE\n\\item FALSE\n\\item FALSE\n\\item FALSE\n\\item FALSE\n\\item TRUE\n\\item FALSE\n\\item FALSE\n\\item FALSE\n\\item FALSE\n\\item FALSE\n\\item FALSE\n\\item FALSE\n\\item FALSE\n\\item FALSE\n\\item FALSE\n\\item FALSE\n\\item FALSE\n\\item FALSE\n\\item FALSE\n\\item FALSE\n\\item FALSE\n\\item FALSE\n\\item FALSE\n\\item FALSE\n\\item FALSE\n\\item FALSE\n\\item FALSE\n\\item FALSE\n\\item TRUE\n\\item FALSE\n\\item FALSE\n\\item FALSE\n\\item FALSE\n\\item FALSE\n\\item FALSE\n\\item FALSE\n\\item FALSE\n\\item FALSE\n\\item FALSE\n\\item FALSE\n\\item FALSE\n\\item FALSE\n\\item FALSE\n\\item FALSE\n\\item FALSE\n\\item FALSE\n\\item FALSE\n\\item FALSE\n\\item FALSE\n\\item FALSE\n\\item FALSE\n\\item FALSE\n\\item FALSE\n\\item FALSE\n\\item FALSE\n\\item FALSE\n\\item FALSE\n\\item FALSE\n\\item FALSE\n\\item FALSE\n\\item FALSE\n\\item FALSE\n\\item FALSE\n\\item FALSE\n\\item FALSE\n\\item FALSE\n\\item FALSE\n\\item FALSE\n\\item FALSE\n\\item FALSE\n\\item FALSE\n\\item FALSE\n\\item FALSE\n\\item FALSE\n\\item FALSE\n\\item FALSE\n\\item FALSE\n\\item FALSE\n\\item FALSE\n\\item FALSE\n\\item FALSE\n\\item FALSE\n\\item FALSE\n\\item FALSE\n\\item FALSE\n\\item FALSE\n\\item FALSE\n\\item FALSE\n\\item FALSE\n\\item FALSE\n\\end{enumerate*}\n",
            "text/plain": [
              "   [1] FALSE FALSE FALSE FALSE FALSE  TRUE FALSE FALSE FALSE FALSE FALSE FALSE\n",
              "  [13] FALSE FALSE FALSE FALSE FALSE FALSE FALSE FALSE FALSE FALSE FALSE FALSE\n",
              "  [25] FALSE FALSE FALSE FALSE FALSE FALSE FALSE FALSE FALSE FALSE FALSE FALSE\n",
              "  [37] FALSE FALSE FALSE FALSE FALSE FALSE FALSE FALSE FALSE FALSE FALSE FALSE\n",
              "  [49] FALSE FALSE FALSE FALSE FALSE FALSE FALSE FALSE FALSE FALSE FALSE FALSE\n",
              "  [61] FALSE  TRUE FALSE FALSE FALSE FALSE FALSE FALSE FALSE FALSE FALSE FALSE\n",
              "  [73] FALSE FALSE FALSE FALSE FALSE FALSE FALSE FALSE FALSE FALSE FALSE FALSE\n",
              "  [85] FALSE FALSE FALSE FALSE FALSE FALSE FALSE FALSE FALSE FALSE FALSE FALSE\n",
              "  [97] FALSE FALSE FALSE FALSE FALSE FALSE FALSE FALSE FALSE FALSE FALSE FALSE\n",
              " [109] FALSE FALSE FALSE FALSE FALSE FALSE FALSE FALSE FALSE  TRUE FALSE FALSE\n",
              " [121] FALSE FALSE FALSE FALSE FALSE FALSE FALSE FALSE FALSE FALSE FALSE FALSE\n",
              " [133] FALSE FALSE FALSE FALSE FALSE FALSE FALSE FALSE FALSE FALSE FALSE FALSE\n",
              " [145] FALSE FALSE FALSE FALSE FALSE FALSE FALSE FALSE FALSE FALSE FALSE FALSE\n",
              " [157] FALSE FALSE FALSE FALSE FALSE FALSE FALSE FALSE FALSE FALSE FALSE FALSE\n",
              " [169] FALSE FALSE FALSE FALSE FALSE  TRUE FALSE FALSE FALSE FALSE FALSE FALSE\n",
              " [181] FALSE FALSE FALSE FALSE FALSE FALSE FALSE FALSE FALSE FALSE FALSE FALSE\n",
              " [193] FALSE FALSE FALSE FALSE FALSE FALSE FALSE FALSE FALSE FALSE FALSE FALSE\n",
              " [205] FALSE FALSE FALSE FALSE FALSE FALSE FALSE FALSE FALSE FALSE FALSE FALSE\n",
              " [217] FALSE FALSE FALSE FALSE FALSE FALSE FALSE FALSE FALSE FALSE FALSE FALSE\n",
              " [229] FALSE  TRUE FALSE FALSE FALSE FALSE FALSE FALSE FALSE FALSE FALSE FALSE\n",
              " [241] FALSE FALSE FALSE FALSE FALSE FALSE FALSE FALSE FALSE FALSE FALSE FALSE\n",
              " [253] FALSE FALSE FALSE FALSE FALSE FALSE FALSE FALSE FALSE FALSE FALSE FALSE\n",
              " [265] FALSE FALSE FALSE FALSE FALSE FALSE FALSE FALSE FALSE FALSE FALSE FALSE\n",
              " [277] FALSE FALSE FALSE FALSE FALSE FALSE FALSE FALSE FALSE  TRUE FALSE FALSE\n",
              " [289] FALSE FALSE FALSE FALSE FALSE FALSE FALSE FALSE FALSE FALSE FALSE FALSE\n",
              " [301] FALSE FALSE FALSE FALSE FALSE FALSE FALSE FALSE FALSE FALSE FALSE FALSE\n",
              " [313] FALSE FALSE FALSE FALSE FALSE FALSE FALSE FALSE FALSE FALSE FALSE FALSE\n",
              " [325] FALSE FALSE FALSE FALSE FALSE FALSE FALSE FALSE FALSE FALSE FALSE FALSE\n",
              " [337] FALSE FALSE FALSE FALSE FALSE  TRUE FALSE FALSE FALSE FALSE FALSE FALSE\n",
              " [349] FALSE FALSE FALSE FALSE FALSE FALSE FALSE FALSE FALSE FALSE FALSE FALSE\n",
              " [361] FALSE FALSE FALSE FALSE FALSE FALSE FALSE FALSE FALSE FALSE FALSE FALSE\n",
              " [373] FALSE FALSE FALSE FALSE FALSE FALSE FALSE FALSE FALSE FALSE FALSE FALSE\n",
              " [385] FALSE FALSE FALSE FALSE FALSE FALSE FALSE FALSE FALSE FALSE FALSE FALSE\n",
              " [397] FALSE  TRUE FALSE FALSE FALSE FALSE FALSE FALSE FALSE FALSE FALSE FALSE\n",
              " [409] FALSE FALSE FALSE FALSE FALSE FALSE FALSE FALSE FALSE FALSE FALSE FALSE\n",
              " [421] FALSE FALSE FALSE FALSE FALSE FALSE FALSE FALSE FALSE FALSE FALSE FALSE\n",
              " [433] FALSE FALSE FALSE FALSE FALSE FALSE FALSE FALSE FALSE FALSE FALSE FALSE\n",
              " [445] FALSE FALSE FALSE FALSE FALSE FALSE FALSE FALSE FALSE  TRUE FALSE FALSE\n",
              " [457] FALSE FALSE FALSE FALSE FALSE FALSE FALSE FALSE FALSE FALSE FALSE FALSE\n",
              " [469] FALSE FALSE FALSE FALSE FALSE FALSE FALSE FALSE FALSE FALSE FALSE FALSE\n",
              " [481] FALSE FALSE FALSE FALSE FALSE FALSE FALSE FALSE FALSE FALSE FALSE FALSE\n",
              " [493] FALSE FALSE FALSE FALSE FALSE FALSE FALSE FALSE FALSE FALSE FALSE FALSE\n",
              " [505] FALSE FALSE FALSE FALSE FALSE  TRUE FALSE FALSE FALSE FALSE FALSE FALSE\n",
              " [517] FALSE FALSE FALSE FALSE FALSE FALSE FALSE FALSE FALSE FALSE FALSE FALSE\n",
              " [529] FALSE FALSE FALSE FALSE FALSE FALSE FALSE FALSE FALSE FALSE FALSE FALSE\n",
              " [541] FALSE FALSE FALSE FALSE FALSE FALSE FALSE FALSE FALSE FALSE FALSE FALSE\n",
              " [553] FALSE FALSE FALSE FALSE FALSE FALSE FALSE FALSE FALSE FALSE FALSE FALSE\n",
              " [565] FALSE  TRUE FALSE FALSE FALSE FALSE FALSE FALSE FALSE FALSE FALSE FALSE\n",
              " [577] FALSE FALSE FALSE FALSE FALSE FALSE FALSE FALSE FALSE FALSE FALSE FALSE\n",
              " [589] FALSE FALSE FALSE FALSE FALSE FALSE FALSE FALSE FALSE FALSE FALSE FALSE\n",
              " [601] FALSE FALSE FALSE FALSE FALSE FALSE FALSE FALSE FALSE FALSE FALSE FALSE\n",
              " [613] FALSE FALSE FALSE FALSE FALSE FALSE FALSE FALSE FALSE  TRUE FALSE FALSE\n",
              " [625] FALSE FALSE FALSE FALSE FALSE FALSE FALSE FALSE FALSE FALSE FALSE FALSE\n",
              " [637] FALSE FALSE FALSE FALSE FALSE FALSE FALSE FALSE FALSE FALSE FALSE FALSE\n",
              " [649] FALSE FALSE FALSE FALSE FALSE FALSE FALSE FALSE FALSE FALSE FALSE FALSE\n",
              " [661] FALSE FALSE FALSE FALSE FALSE FALSE FALSE FALSE FALSE FALSE FALSE FALSE\n",
              " [673] FALSE FALSE FALSE FALSE FALSE  TRUE FALSE FALSE FALSE FALSE FALSE FALSE\n",
              " [685] FALSE FALSE FALSE FALSE FALSE FALSE FALSE FALSE FALSE FALSE FALSE FALSE\n",
              " [697] FALSE FALSE FALSE FALSE FALSE FALSE FALSE FALSE FALSE FALSE FALSE FALSE\n",
              " [709] FALSE FALSE FALSE FALSE FALSE FALSE FALSE FALSE FALSE FALSE FALSE FALSE\n",
              " [721] FALSE FALSE FALSE FALSE FALSE FALSE FALSE FALSE FALSE FALSE FALSE FALSE\n",
              " [733] FALSE  TRUE FALSE FALSE FALSE FALSE FALSE FALSE FALSE FALSE FALSE FALSE\n",
              " [745] FALSE FALSE FALSE FALSE FALSE FALSE FALSE FALSE FALSE FALSE FALSE FALSE\n",
              " [757] FALSE FALSE FALSE FALSE FALSE FALSE FALSE FALSE FALSE FALSE FALSE FALSE\n",
              " [769] FALSE FALSE FALSE FALSE FALSE FALSE FALSE FALSE FALSE FALSE FALSE FALSE\n",
              " [781] FALSE FALSE FALSE FALSE FALSE FALSE FALSE FALSE FALSE  TRUE FALSE FALSE\n",
              " [793] FALSE FALSE FALSE FALSE FALSE FALSE FALSE FALSE FALSE FALSE FALSE FALSE\n",
              " [805] FALSE FALSE FALSE FALSE FALSE FALSE FALSE FALSE FALSE FALSE FALSE FALSE\n",
              " [817] FALSE FALSE FALSE FALSE FALSE FALSE FALSE FALSE FALSE FALSE FALSE FALSE\n",
              " [829] FALSE FALSE FALSE FALSE FALSE FALSE FALSE FALSE FALSE FALSE FALSE FALSE\n",
              " [841] FALSE FALSE FALSE FALSE FALSE  TRUE FALSE FALSE FALSE FALSE FALSE FALSE\n",
              " [853] FALSE FALSE FALSE FALSE FALSE FALSE FALSE FALSE FALSE FALSE FALSE FALSE\n",
              " [865] FALSE FALSE FALSE FALSE FALSE FALSE FALSE FALSE FALSE FALSE FALSE FALSE\n",
              " [877] FALSE FALSE FALSE FALSE FALSE FALSE FALSE FALSE FALSE FALSE FALSE FALSE\n",
              " [889] FALSE FALSE FALSE FALSE FALSE FALSE FALSE FALSE FALSE FALSE FALSE FALSE\n",
              " [901] FALSE  TRUE FALSE FALSE FALSE FALSE FALSE FALSE FALSE FALSE FALSE FALSE\n",
              " [913] FALSE FALSE FALSE FALSE FALSE FALSE FALSE FALSE FALSE FALSE FALSE FALSE\n",
              " [925] FALSE FALSE FALSE FALSE FALSE FALSE FALSE FALSE FALSE FALSE FALSE FALSE\n",
              " [937] FALSE FALSE FALSE FALSE FALSE FALSE FALSE FALSE FALSE FALSE FALSE FALSE\n",
              " [949] FALSE FALSE FALSE FALSE FALSE FALSE FALSE FALSE FALSE  TRUE FALSE FALSE\n",
              " [961] FALSE FALSE FALSE FALSE FALSE FALSE FALSE FALSE FALSE FALSE FALSE FALSE\n",
              " [973] FALSE FALSE FALSE FALSE FALSE FALSE FALSE FALSE FALSE FALSE FALSE FALSE\n",
              " [985] FALSE FALSE FALSE FALSE FALSE FALSE FALSE FALSE FALSE FALSE FALSE FALSE\n",
              " [997] FALSE FALSE FALSE FALSE FALSE FALSE FALSE FALSE FALSE FALSE FALSE FALSE\n",
              "[1009] FALSE FALSE FALSE FALSE FALSE  TRUE FALSE FALSE FALSE FALSE FALSE FALSE\n",
              "[1021] FALSE FALSE FALSE FALSE FALSE FALSE FALSE FALSE FALSE FALSE FALSE FALSE\n",
              "[1033] FALSE FALSE FALSE FALSE FALSE FALSE FALSE FALSE FALSE FALSE FALSE FALSE\n",
              "[1045] FALSE FALSE FALSE FALSE FALSE FALSE FALSE FALSE FALSE FALSE FALSE FALSE\n",
              "[1057] FALSE FALSE FALSE FALSE FALSE FALSE FALSE FALSE FALSE FALSE FALSE FALSE\n",
              "[1069] FALSE  TRUE FALSE FALSE FALSE FALSE FALSE FALSE FALSE FALSE FALSE FALSE\n",
              "[1081] FALSE FALSE FALSE FALSE FALSE FALSE FALSE FALSE FALSE FALSE FALSE FALSE\n",
              "[1093] FALSE FALSE FALSE FALSE FALSE FALSE FALSE FALSE FALSE FALSE FALSE FALSE\n",
              "[1105] FALSE FALSE FALSE FALSE FALSE FALSE FALSE FALSE FALSE FALSE FALSE FALSE\n",
              "[1117] FALSE FALSE FALSE FALSE FALSE FALSE FALSE FALSE FALSE  TRUE FALSE FALSE\n",
              "[1129] FALSE FALSE FALSE FALSE FALSE FALSE FALSE FALSE FALSE FALSE FALSE FALSE\n",
              "[1141] FALSE FALSE FALSE FALSE FALSE FALSE FALSE FALSE FALSE FALSE FALSE FALSE\n",
              "[1153] FALSE FALSE FALSE FALSE FALSE FALSE FALSE FALSE FALSE FALSE FALSE FALSE\n",
              "[1165] FALSE FALSE FALSE FALSE FALSE FALSE FALSE FALSE FALSE FALSE FALSE FALSE\n",
              "[1177] FALSE FALSE FALSE FALSE FALSE  TRUE FALSE FALSE FALSE FALSE FALSE FALSE\n",
              "[1189] FALSE FALSE FALSE FALSE FALSE FALSE FALSE FALSE FALSE FALSE FALSE FALSE\n",
              "[1201] FALSE FALSE FALSE FALSE FALSE FALSE FALSE FALSE FALSE FALSE FALSE FALSE\n",
              "[1213] FALSE FALSE FALSE FALSE FALSE FALSE FALSE FALSE FALSE FALSE FALSE FALSE\n",
              "[1225] FALSE FALSE FALSE FALSE FALSE FALSE FALSE FALSE FALSE FALSE FALSE FALSE\n",
              "[1237] FALSE  TRUE FALSE FALSE FALSE FALSE FALSE FALSE FALSE FALSE FALSE FALSE\n",
              "[1249] FALSE FALSE FALSE FALSE FALSE FALSE FALSE FALSE FALSE FALSE FALSE FALSE\n",
              "[1261] FALSE FALSE FALSE FALSE FALSE FALSE FALSE FALSE FALSE FALSE FALSE FALSE\n",
              "[1273] FALSE FALSE FALSE FALSE FALSE FALSE FALSE FALSE FALSE FALSE FALSE FALSE\n",
              "[1285] FALSE FALSE FALSE FALSE FALSE FALSE FALSE FALSE FALSE  TRUE FALSE FALSE\n",
              "[1297] FALSE FALSE FALSE FALSE FALSE FALSE FALSE FALSE FALSE FALSE FALSE FALSE\n",
              "[1309] FALSE FALSE FALSE FALSE FALSE FALSE FALSE FALSE FALSE FALSE FALSE FALSE\n",
              "[1321] FALSE FALSE FALSE FALSE FALSE FALSE FALSE FALSE FALSE FALSE FALSE FALSE\n",
              "[1333] FALSE FALSE FALSE FALSE FALSE FALSE FALSE FALSE FALSE FALSE FALSE FALSE\n",
              "[1345] FALSE FALSE FALSE FALSE FALSE  TRUE FALSE FALSE FALSE FALSE FALSE FALSE\n",
              "[1357] FALSE FALSE FALSE FALSE FALSE FALSE FALSE FALSE FALSE FALSE FALSE FALSE\n",
              "[1369] FALSE FALSE FALSE FALSE FALSE FALSE FALSE FALSE FALSE FALSE FALSE FALSE\n",
              "[1381] FALSE FALSE FALSE FALSE FALSE FALSE FALSE FALSE FALSE FALSE FALSE FALSE\n",
              "[1393] FALSE FALSE FALSE FALSE FALSE FALSE FALSE FALSE FALSE FALSE FALSE FALSE\n",
              "[1405] FALSE  TRUE FALSE FALSE FALSE FALSE FALSE FALSE FALSE FALSE FALSE FALSE\n",
              "[1417] FALSE FALSE FALSE FALSE FALSE FALSE FALSE FALSE FALSE FALSE FALSE FALSE\n",
              "[1429] FALSE FALSE FALSE FALSE FALSE FALSE FALSE FALSE FALSE FALSE FALSE FALSE\n",
              "[1441] FALSE FALSE FALSE FALSE FALSE FALSE FALSE FALSE FALSE FALSE FALSE FALSE\n",
              "[1453] FALSE FALSE FALSE FALSE FALSE FALSE FALSE FALSE FALSE  TRUE FALSE FALSE\n",
              "[1465] FALSE FALSE FALSE FALSE FALSE FALSE FALSE FALSE FALSE FALSE FALSE FALSE\n",
              "[1477] FALSE FALSE FALSE FALSE FALSE FALSE FALSE FALSE FALSE FALSE FALSE FALSE\n",
              "[1489] FALSE FALSE FALSE FALSE FALSE FALSE FALSE FALSE FALSE FALSE FALSE FALSE\n",
              "[1501] FALSE FALSE FALSE FALSE FALSE FALSE FALSE FALSE FALSE FALSE FALSE FALSE\n",
              "[1513] FALSE FALSE FALSE FALSE FALSE  TRUE FALSE FALSE FALSE FALSE FALSE FALSE\n",
              "[1525] FALSE FALSE FALSE FALSE FALSE FALSE FALSE FALSE FALSE FALSE FALSE FALSE\n",
              "[1537] FALSE FALSE FALSE FALSE FALSE FALSE FALSE FALSE FALSE FALSE FALSE FALSE\n",
              "[1549] FALSE FALSE FALSE FALSE FALSE FALSE FALSE FALSE FALSE FALSE FALSE FALSE\n",
              "[1561] FALSE FALSE FALSE FALSE FALSE FALSE FALSE FALSE FALSE FALSE FALSE FALSE\n",
              "[1573] FALSE  TRUE FALSE FALSE FALSE FALSE FALSE FALSE FALSE FALSE FALSE FALSE\n",
              "[1585] FALSE FALSE FALSE FALSE FALSE FALSE FALSE FALSE FALSE FALSE FALSE FALSE\n",
              "[1597] FALSE FALSE FALSE FALSE FALSE FALSE FALSE FALSE FALSE FALSE FALSE FALSE\n",
              "[1609] FALSE FALSE FALSE FALSE FALSE FALSE FALSE FALSE FALSE FALSE FALSE FALSE\n",
              "[1621] FALSE FALSE FALSE FALSE FALSE FALSE FALSE FALSE FALSE  TRUE FALSE FALSE\n",
              "[1633] FALSE FALSE FALSE FALSE FALSE FALSE FALSE FALSE FALSE FALSE FALSE FALSE\n",
              "[1645] FALSE FALSE FALSE FALSE FALSE FALSE FALSE FALSE FALSE FALSE FALSE FALSE\n",
              "[1657] FALSE FALSE FALSE FALSE FALSE FALSE FALSE FALSE FALSE FALSE FALSE FALSE\n",
              "[1669] FALSE FALSE FALSE FALSE FALSE FALSE FALSE FALSE FALSE FALSE FALSE FALSE\n",
              "[1681] FALSE FALSE FALSE FALSE FALSE  TRUE FALSE FALSE FALSE FALSE FALSE FALSE\n",
              "[1693] FALSE FALSE FALSE FALSE FALSE FALSE FALSE FALSE FALSE FALSE FALSE FALSE\n",
              "[1705] FALSE FALSE FALSE FALSE FALSE FALSE FALSE FALSE FALSE FALSE FALSE FALSE\n",
              "[1717] FALSE FALSE FALSE FALSE FALSE FALSE FALSE FALSE FALSE FALSE FALSE FALSE\n",
              "[1729] FALSE FALSE FALSE FALSE FALSE FALSE FALSE FALSE FALSE FALSE FALSE FALSE\n",
              "[1741] FALSE  TRUE FALSE FALSE FALSE FALSE FALSE FALSE FALSE FALSE FALSE FALSE\n",
              "[1753] FALSE FALSE FALSE FALSE FALSE FALSE FALSE FALSE FALSE FALSE FALSE FALSE\n",
              "[1765] FALSE FALSE FALSE FALSE FALSE FALSE FALSE FALSE FALSE FALSE FALSE FALSE\n",
              "[1777] FALSE FALSE FALSE FALSE FALSE FALSE FALSE FALSE FALSE FALSE FALSE FALSE\n",
              "[1789] FALSE FALSE FALSE FALSE FALSE FALSE FALSE FALSE FALSE  TRUE FALSE FALSE\n",
              "[1801] FALSE FALSE FALSE FALSE FALSE FALSE FALSE FALSE FALSE FALSE FALSE FALSE\n",
              "[1813] FALSE FALSE FALSE FALSE FALSE FALSE FALSE FALSE FALSE FALSE FALSE FALSE\n",
              "[1825] FALSE FALSE FALSE FALSE FALSE FALSE FALSE FALSE FALSE FALSE FALSE FALSE\n",
              "[1837] FALSE FALSE FALSE FALSE FALSE FALSE FALSE FALSE FALSE FALSE FALSE FALSE\n",
              "[1849] FALSE FALSE FALSE FALSE FALSE  TRUE FALSE FALSE FALSE FALSE FALSE FALSE\n",
              "[1861] FALSE FALSE FALSE FALSE FALSE FALSE FALSE FALSE FALSE FALSE FALSE FALSE\n",
              "[1873] FALSE FALSE FALSE FALSE FALSE FALSE FALSE FALSE FALSE FALSE FALSE FALSE\n",
              "[1885] FALSE FALSE FALSE FALSE FALSE FALSE FALSE FALSE FALSE FALSE FALSE FALSE\n",
              "[1897] FALSE FALSE FALSE FALSE FALSE FALSE FALSE FALSE FALSE FALSE FALSE FALSE\n",
              "[1909] FALSE  TRUE FALSE FALSE FALSE FALSE FALSE FALSE FALSE FALSE FALSE FALSE\n",
              "[1921] FALSE FALSE FALSE FALSE FALSE FALSE FALSE FALSE FALSE FALSE FALSE FALSE\n",
              "[1933] FALSE FALSE FALSE FALSE FALSE FALSE FALSE FALSE FALSE FALSE FALSE FALSE\n",
              "[1945] FALSE FALSE FALSE FALSE FALSE FALSE FALSE FALSE FALSE FALSE FALSE FALSE\n",
              "[1957] FALSE FALSE FALSE FALSE FALSE FALSE FALSE FALSE FALSE  TRUE FALSE FALSE\n",
              "[1969] FALSE FALSE FALSE FALSE FALSE FALSE FALSE FALSE FALSE FALSE FALSE FALSE\n",
              "[1981] FALSE FALSE FALSE FALSE FALSE FALSE FALSE FALSE FALSE FALSE FALSE FALSE\n",
              "[1993] FALSE FALSE FALSE FALSE FALSE FALSE FALSE FALSE FALSE FALSE FALSE FALSE\n",
              "[2005] FALSE FALSE FALSE FALSE FALSE FALSE FALSE FALSE FALSE FALSE FALSE FALSE\n",
              "[2017] FALSE FALSE FALSE FALSE FALSE  TRUE FALSE FALSE FALSE FALSE FALSE FALSE\n",
              "[2029] FALSE FALSE FALSE FALSE FALSE FALSE FALSE FALSE FALSE FALSE FALSE FALSE\n",
              "[2041] FALSE FALSE FALSE FALSE FALSE FALSE FALSE FALSE FALSE FALSE FALSE FALSE\n",
              "[2053] FALSE FALSE FALSE FALSE FALSE FALSE FALSE FALSE FALSE FALSE FALSE FALSE\n",
              "[2065] FALSE FALSE FALSE FALSE FALSE FALSE FALSE FALSE FALSE FALSE FALSE FALSE\n",
              "[2077] FALSE  TRUE FALSE FALSE FALSE FALSE FALSE FALSE FALSE FALSE FALSE FALSE\n",
              "[2089] FALSE FALSE FALSE FALSE FALSE FALSE FALSE FALSE FALSE FALSE FALSE FALSE\n",
              "[2101] FALSE FALSE FALSE FALSE FALSE FALSE FALSE FALSE FALSE FALSE FALSE FALSE\n",
              "[2113] FALSE FALSE FALSE FALSE FALSE FALSE FALSE FALSE FALSE FALSE FALSE FALSE\n",
              "[2125] FALSE FALSE FALSE FALSE FALSE FALSE FALSE FALSE FALSE  TRUE FALSE FALSE\n",
              "[2137] FALSE FALSE FALSE FALSE FALSE FALSE FALSE FALSE FALSE FALSE FALSE FALSE\n",
              "[2149] FALSE FALSE FALSE FALSE FALSE FALSE FALSE FALSE FALSE FALSE FALSE FALSE\n",
              "[2161] FALSE FALSE FALSE FALSE FALSE FALSE FALSE FALSE FALSE FALSE FALSE FALSE\n",
              "[2173] FALSE FALSE FALSE FALSE FALSE FALSE FALSE FALSE FALSE FALSE FALSE FALSE\n",
              "[2185] FALSE FALSE FALSE FALSE FALSE  TRUE FALSE FALSE FALSE FALSE FALSE FALSE\n",
              "[2197] FALSE FALSE FALSE FALSE FALSE FALSE FALSE FALSE FALSE FALSE FALSE FALSE\n",
              "[2209] FALSE FALSE FALSE FALSE FALSE FALSE FALSE FALSE FALSE FALSE FALSE FALSE\n",
              "[2221] FALSE FALSE FALSE FALSE FALSE FALSE FALSE FALSE FALSE FALSE FALSE FALSE\n",
              "[2233] FALSE FALSE FALSE FALSE FALSE FALSE FALSE FALSE FALSE FALSE FALSE FALSE\n",
              "[2245] FALSE  TRUE FALSE FALSE FALSE FALSE FALSE FALSE FALSE FALSE FALSE FALSE\n",
              "[2257] FALSE FALSE FALSE FALSE FALSE FALSE FALSE FALSE FALSE FALSE FALSE FALSE\n",
              "[2269] FALSE FALSE FALSE FALSE FALSE FALSE FALSE FALSE FALSE FALSE FALSE FALSE\n",
              "[2281] FALSE FALSE FALSE FALSE FALSE FALSE FALSE FALSE FALSE FALSE FALSE FALSE\n",
              "[2293] FALSE FALSE FALSE FALSE FALSE FALSE FALSE FALSE FALSE  TRUE FALSE FALSE\n",
              "[2305] FALSE FALSE FALSE FALSE FALSE FALSE FALSE FALSE FALSE FALSE FALSE FALSE\n",
              "[2317] FALSE FALSE FALSE FALSE FALSE FALSE FALSE FALSE FALSE FALSE FALSE FALSE\n",
              "[2329] FALSE FALSE FALSE FALSE FALSE FALSE FALSE FALSE FALSE FALSE FALSE FALSE\n",
              "[2341] FALSE FALSE FALSE FALSE FALSE FALSE FALSE FALSE FALSE FALSE FALSE FALSE\n",
              "[2353] FALSE FALSE FALSE FALSE FALSE  TRUE FALSE FALSE FALSE FALSE FALSE FALSE\n",
              "[2365] FALSE FALSE FALSE FALSE FALSE FALSE FALSE FALSE FALSE FALSE FALSE FALSE\n",
              "[2377] FALSE FALSE FALSE FALSE FALSE FALSE FALSE FALSE FALSE FALSE FALSE FALSE\n",
              "[2389] FALSE FALSE FALSE FALSE FALSE FALSE FALSE FALSE FALSE FALSE FALSE FALSE\n",
              "[2401] FALSE FALSE FALSE FALSE FALSE FALSE FALSE FALSE FALSE FALSE FALSE FALSE\n",
              "[2413] FALSE  TRUE FALSE FALSE FALSE FALSE FALSE FALSE FALSE FALSE FALSE FALSE\n",
              "[2425] FALSE FALSE FALSE FALSE FALSE FALSE FALSE FALSE FALSE FALSE FALSE FALSE\n",
              "[2437] FALSE FALSE FALSE FALSE FALSE FALSE FALSE FALSE FALSE FALSE FALSE FALSE\n",
              "[2449] FALSE FALSE FALSE FALSE FALSE FALSE FALSE FALSE FALSE FALSE FALSE FALSE\n",
              "[2461] FALSE FALSE FALSE FALSE FALSE FALSE FALSE FALSE FALSE  TRUE FALSE FALSE\n",
              "[2473] FALSE FALSE FALSE FALSE FALSE FALSE FALSE FALSE FALSE FALSE FALSE FALSE\n",
              "[2485] FALSE FALSE FALSE FALSE FALSE FALSE FALSE FALSE FALSE FALSE FALSE FALSE\n",
              "[2497] FALSE FALSE FALSE FALSE FALSE FALSE FALSE FALSE FALSE FALSE FALSE FALSE\n",
              "[2509] FALSE FALSE FALSE FALSE FALSE FALSE FALSE FALSE FALSE FALSE FALSE FALSE\n",
              "[2521] FALSE FALSE FALSE FALSE FALSE  TRUE FALSE FALSE FALSE FALSE FALSE FALSE\n",
              "[2533] FALSE FALSE FALSE FALSE FALSE FALSE FALSE FALSE FALSE FALSE FALSE FALSE\n",
              "[2545] FALSE FALSE FALSE FALSE FALSE FALSE FALSE FALSE FALSE FALSE FALSE FALSE\n",
              "[2557] FALSE FALSE FALSE FALSE FALSE FALSE FALSE FALSE FALSE FALSE FALSE FALSE\n",
              "[2569] FALSE FALSE FALSE FALSE FALSE FALSE FALSE FALSE FALSE FALSE FALSE FALSE\n",
              "[2581] FALSE  TRUE FALSE FALSE FALSE FALSE FALSE FALSE FALSE FALSE FALSE FALSE\n",
              "[2593] FALSE FALSE FALSE FALSE FALSE FALSE FALSE FALSE FALSE FALSE FALSE FALSE\n",
              "[2605] FALSE FALSE FALSE FALSE FALSE FALSE FALSE FALSE FALSE FALSE FALSE FALSE\n",
              "[2617] FALSE FALSE FALSE FALSE FALSE FALSE FALSE FALSE FALSE FALSE FALSE FALSE\n",
              "[2629] FALSE FALSE FALSE FALSE FALSE FALSE FALSE FALSE FALSE  TRUE FALSE FALSE\n",
              "[2641] FALSE FALSE FALSE FALSE FALSE FALSE FALSE FALSE FALSE FALSE FALSE FALSE\n",
              "[2653] FALSE FALSE FALSE FALSE FALSE FALSE FALSE FALSE FALSE FALSE FALSE FALSE\n",
              "[2665] FALSE FALSE FALSE FALSE FALSE FALSE FALSE FALSE FALSE FALSE FALSE FALSE\n",
              "[2677] FALSE FALSE FALSE FALSE FALSE FALSE FALSE FALSE FALSE FALSE FALSE FALSE\n",
              "[2689] FALSE FALSE FALSE FALSE FALSE  TRUE FALSE FALSE FALSE FALSE FALSE FALSE\n",
              "[2701] FALSE FALSE FALSE FALSE FALSE FALSE FALSE FALSE FALSE FALSE FALSE FALSE\n",
              "[2713] FALSE FALSE FALSE FALSE FALSE FALSE FALSE FALSE FALSE FALSE FALSE FALSE\n",
              "[2725] FALSE FALSE FALSE FALSE FALSE FALSE FALSE FALSE FALSE FALSE FALSE FALSE\n",
              "[2737] FALSE FALSE FALSE FALSE FALSE FALSE FALSE FALSE FALSE FALSE FALSE FALSE\n",
              "[2749] FALSE  TRUE FALSE FALSE FALSE FALSE FALSE FALSE FALSE FALSE FALSE FALSE\n",
              "[2761] FALSE FALSE FALSE FALSE FALSE FALSE FALSE FALSE FALSE FALSE FALSE FALSE\n",
              "[2773] FALSE FALSE FALSE FALSE FALSE FALSE FALSE FALSE FALSE FALSE FALSE FALSE\n",
              "[2785] FALSE FALSE FALSE FALSE FALSE FALSE FALSE FALSE FALSE FALSE FALSE FALSE\n",
              "[2797] FALSE FALSE FALSE FALSE FALSE FALSE FALSE FALSE FALSE  TRUE FALSE FALSE\n",
              "[2809] FALSE FALSE FALSE FALSE FALSE FALSE FALSE FALSE FALSE FALSE FALSE FALSE\n",
              "[2821] FALSE FALSE FALSE FALSE FALSE FALSE FALSE FALSE FALSE FALSE FALSE FALSE\n",
              "[2833] FALSE FALSE FALSE FALSE FALSE FALSE FALSE FALSE FALSE FALSE FALSE FALSE\n",
              "[2845] FALSE FALSE FALSE FALSE FALSE FALSE FALSE FALSE FALSE FALSE FALSE FALSE\n",
              "[2857] FALSE FALSE FALSE FALSE FALSE  TRUE FALSE FALSE FALSE FALSE FALSE FALSE\n",
              "[2869] FALSE FALSE FALSE FALSE FALSE FALSE FALSE FALSE FALSE FALSE FALSE FALSE\n",
              "[2881] FALSE FALSE FALSE FALSE FALSE FALSE FALSE FALSE FALSE FALSE FALSE FALSE\n",
              "[2893] FALSE FALSE FALSE FALSE FALSE FALSE FALSE FALSE FALSE FALSE FALSE FALSE\n",
              "[2905] FALSE FALSE FALSE FALSE FALSE FALSE FALSE FALSE FALSE FALSE FALSE FALSE\n",
              "[2917] FALSE  TRUE FALSE FALSE FALSE FALSE FALSE FALSE FALSE FALSE FALSE FALSE\n",
              "[2929] FALSE FALSE FALSE FALSE FALSE FALSE FALSE FALSE FALSE FALSE FALSE FALSE\n",
              "[2941] FALSE FALSE FALSE FALSE FALSE FALSE FALSE FALSE FALSE FALSE FALSE FALSE\n",
              "[2953] FALSE FALSE FALSE FALSE FALSE FALSE FALSE FALSE FALSE FALSE FALSE FALSE\n",
              "[2965] FALSE FALSE FALSE FALSE FALSE FALSE FALSE FALSE FALSE  TRUE FALSE FALSE\n",
              "[2977] FALSE FALSE FALSE FALSE FALSE FALSE FALSE FALSE FALSE FALSE FALSE FALSE\n",
              "[2989] FALSE FALSE FALSE FALSE FALSE FALSE FALSE FALSE FALSE FALSE FALSE FALSE\n",
              "[3001] FALSE FALSE FALSE FALSE FALSE FALSE FALSE FALSE FALSE FALSE FALSE FALSE\n",
              "[3013] FALSE FALSE FALSE FALSE FALSE FALSE FALSE FALSE FALSE FALSE FALSE FALSE\n",
              "[3025] FALSE FALSE FALSE FALSE FALSE  TRUE FALSE FALSE FALSE FALSE FALSE FALSE\n",
              "[3037] FALSE FALSE FALSE FALSE FALSE FALSE FALSE FALSE FALSE FALSE FALSE FALSE\n",
              "[3049] FALSE FALSE FALSE FALSE FALSE FALSE FALSE FALSE FALSE FALSE FALSE FALSE\n",
              "[3061] FALSE FALSE FALSE FALSE FALSE FALSE FALSE FALSE FALSE FALSE FALSE FALSE\n",
              "[3073] FALSE FALSE FALSE FALSE FALSE FALSE FALSE FALSE FALSE FALSE FALSE FALSE\n",
              "[3085] FALSE  TRUE FALSE FALSE FALSE FALSE FALSE FALSE FALSE FALSE FALSE FALSE\n",
              "[3097] FALSE FALSE FALSE FALSE FALSE FALSE FALSE FALSE FALSE FALSE FALSE FALSE\n",
              "[3109] FALSE FALSE FALSE FALSE FALSE FALSE FALSE FALSE FALSE FALSE FALSE FALSE\n",
              "[3121] FALSE FALSE FALSE FALSE FALSE FALSE FALSE FALSE FALSE FALSE FALSE FALSE\n",
              "[3133] FALSE FALSE FALSE FALSE FALSE FALSE FALSE FALSE FALSE  TRUE FALSE FALSE\n",
              "[3145] FALSE FALSE FALSE FALSE FALSE FALSE FALSE FALSE FALSE FALSE FALSE FALSE\n",
              "[3157] FALSE FALSE FALSE FALSE FALSE FALSE FALSE FALSE FALSE FALSE FALSE FALSE\n",
              "[3169] FALSE FALSE FALSE FALSE FALSE FALSE FALSE FALSE FALSE FALSE FALSE FALSE\n",
              "[3181] FALSE FALSE FALSE FALSE FALSE FALSE FALSE FALSE FALSE FALSE FALSE FALSE\n",
              "[3193] FALSE FALSE FALSE FALSE FALSE  TRUE FALSE FALSE FALSE FALSE FALSE FALSE\n",
              "[3205] FALSE FALSE FALSE FALSE FALSE FALSE FALSE FALSE FALSE FALSE FALSE FALSE\n",
              "[3217] FALSE FALSE FALSE FALSE FALSE FALSE FALSE FALSE FALSE FALSE FALSE FALSE\n",
              "[3229] FALSE FALSE FALSE FALSE FALSE FALSE FALSE FALSE FALSE FALSE FALSE FALSE\n",
              "[3241] FALSE FALSE FALSE FALSE FALSE FALSE FALSE FALSE FALSE FALSE FALSE FALSE\n",
              "[3253] FALSE  TRUE FALSE FALSE FALSE FALSE FALSE FALSE FALSE FALSE FALSE FALSE\n",
              "[3265] FALSE FALSE FALSE FALSE FALSE FALSE FALSE FALSE FALSE FALSE FALSE FALSE\n",
              "[3277] FALSE FALSE FALSE FALSE FALSE FALSE FALSE FALSE FALSE FALSE FALSE FALSE\n",
              "[3289] FALSE FALSE FALSE FALSE FALSE FALSE FALSE FALSE FALSE FALSE FALSE FALSE\n",
              "[3301] FALSE FALSE FALSE FALSE FALSE FALSE FALSE FALSE FALSE  TRUE FALSE FALSE\n",
              "[3313] FALSE FALSE FALSE FALSE FALSE FALSE FALSE FALSE FALSE FALSE FALSE FALSE\n",
              "[3325] FALSE FALSE FALSE FALSE FALSE FALSE FALSE FALSE FALSE FALSE FALSE FALSE\n",
              "[3337] FALSE FALSE FALSE FALSE FALSE FALSE FALSE FALSE FALSE FALSE FALSE FALSE\n",
              "[3349] FALSE FALSE FALSE FALSE FALSE FALSE FALSE FALSE FALSE FALSE FALSE FALSE\n",
              "[3361] FALSE FALSE FALSE FALSE FALSE  TRUE FALSE FALSE FALSE FALSE FALSE FALSE\n",
              "[3373] FALSE FALSE FALSE FALSE FALSE FALSE FALSE FALSE FALSE FALSE FALSE FALSE\n",
              "[3385] FALSE FALSE FALSE FALSE FALSE FALSE FALSE FALSE FALSE FALSE FALSE FALSE\n",
              "[3397] FALSE FALSE FALSE FALSE FALSE FALSE FALSE FALSE FALSE FALSE FALSE FALSE\n",
              "[3409] FALSE FALSE FALSE FALSE FALSE FALSE FALSE FALSE FALSE FALSE FALSE FALSE\n",
              "[3421] FALSE  TRUE FALSE FALSE FALSE FALSE FALSE FALSE FALSE FALSE FALSE FALSE\n",
              "[3433] FALSE FALSE FALSE FALSE FALSE FALSE FALSE FALSE FALSE FALSE FALSE FALSE\n",
              "[3445] FALSE FALSE FALSE FALSE FALSE FALSE FALSE FALSE FALSE FALSE FALSE FALSE\n",
              "[3457] FALSE FALSE FALSE FALSE FALSE FALSE FALSE FALSE FALSE FALSE FALSE FALSE\n",
              "[3469] FALSE FALSE FALSE FALSE FALSE FALSE FALSE FALSE FALSE  TRUE FALSE FALSE\n",
              "[3481] FALSE FALSE FALSE FALSE FALSE FALSE FALSE FALSE FALSE FALSE FALSE FALSE\n",
              "[3493] FALSE FALSE FALSE FALSE FALSE FALSE FALSE FALSE FALSE FALSE FALSE FALSE\n",
              "[3505] FALSE FALSE FALSE FALSE FALSE FALSE FALSE FALSE FALSE FALSE FALSE FALSE\n",
              "[3517] FALSE FALSE FALSE FALSE FALSE FALSE FALSE FALSE FALSE FALSE FALSE FALSE\n",
              "[3529] FALSE FALSE FALSE FALSE FALSE  TRUE FALSE FALSE FALSE FALSE FALSE FALSE\n",
              "[3541] FALSE FALSE FALSE FALSE FALSE FALSE FALSE FALSE FALSE FALSE FALSE FALSE\n",
              "[3553] FALSE FALSE FALSE FALSE FALSE FALSE FALSE FALSE FALSE FALSE FALSE FALSE\n",
              "[3565] FALSE FALSE FALSE FALSE FALSE FALSE FALSE FALSE FALSE FALSE FALSE FALSE\n",
              "[3577] FALSE FALSE FALSE FALSE FALSE FALSE FALSE FALSE FALSE FALSE FALSE FALSE\n",
              "[3589] FALSE  TRUE FALSE FALSE FALSE FALSE FALSE FALSE FALSE FALSE FALSE FALSE\n",
              "[3601] FALSE FALSE FALSE FALSE FALSE FALSE FALSE FALSE FALSE FALSE FALSE FALSE\n",
              "[3613] FALSE FALSE FALSE FALSE FALSE FALSE FALSE FALSE FALSE FALSE FALSE FALSE\n",
              "[3625] FALSE FALSE FALSE FALSE FALSE FALSE FALSE FALSE FALSE FALSE FALSE FALSE\n",
              "[3637] FALSE FALSE FALSE FALSE FALSE FALSE FALSE FALSE FALSE  TRUE FALSE FALSE\n",
              "[3649] FALSE FALSE FALSE FALSE FALSE FALSE FALSE FALSE FALSE FALSE FALSE FALSE\n",
              "[3661] FALSE FALSE FALSE FALSE FALSE FALSE FALSE FALSE FALSE FALSE FALSE FALSE\n",
              "[3673] FALSE FALSE FALSE FALSE FALSE FALSE FALSE FALSE FALSE FALSE FALSE FALSE\n",
              "[3685] FALSE FALSE FALSE FALSE FALSE FALSE FALSE FALSE FALSE FALSE FALSE FALSE\n",
              "[3697] FALSE FALSE FALSE FALSE FALSE  TRUE FALSE FALSE FALSE FALSE FALSE FALSE\n",
              "[3709] FALSE FALSE FALSE FALSE FALSE FALSE FALSE FALSE FALSE FALSE FALSE FALSE\n",
              "[3721] FALSE FALSE FALSE FALSE FALSE FALSE FALSE FALSE FALSE FALSE FALSE FALSE\n",
              "[3733] FALSE FALSE FALSE FALSE FALSE FALSE FALSE FALSE FALSE FALSE FALSE FALSE\n",
              "[3745] FALSE FALSE FALSE FALSE FALSE FALSE FALSE FALSE FALSE FALSE FALSE FALSE\n",
              "[3757] FALSE  TRUE FALSE FALSE FALSE FALSE FALSE FALSE FALSE FALSE FALSE FALSE\n",
              "[3769] FALSE FALSE FALSE FALSE FALSE FALSE FALSE FALSE FALSE FALSE FALSE FALSE\n",
              "[3781] FALSE FALSE FALSE FALSE FALSE FALSE FALSE FALSE FALSE FALSE FALSE FALSE\n",
              "[3793] FALSE FALSE FALSE FALSE FALSE FALSE FALSE FALSE FALSE FALSE FALSE FALSE\n",
              "[3805] FALSE FALSE FALSE FALSE FALSE FALSE FALSE FALSE FALSE  TRUE FALSE FALSE\n",
              "[3817] FALSE FALSE FALSE FALSE FALSE FALSE FALSE FALSE FALSE FALSE FALSE FALSE\n",
              "[3829] FALSE FALSE FALSE FALSE FALSE FALSE FALSE FALSE FALSE FALSE FALSE FALSE\n",
              "[3841] FALSE FALSE FALSE FALSE FALSE FALSE FALSE FALSE FALSE FALSE FALSE FALSE\n",
              "[3853] FALSE FALSE FALSE FALSE FALSE FALSE FALSE FALSE FALSE FALSE FALSE FALSE\n",
              "[3865] FALSE FALSE FALSE FALSE FALSE  TRUE FALSE FALSE FALSE FALSE FALSE FALSE\n",
              "[3877] FALSE FALSE FALSE FALSE FALSE FALSE FALSE FALSE FALSE FALSE FALSE FALSE\n",
              "[3889] FALSE FALSE FALSE FALSE FALSE FALSE FALSE FALSE FALSE FALSE FALSE FALSE\n",
              "[3901] FALSE FALSE FALSE FALSE FALSE FALSE FALSE FALSE FALSE FALSE FALSE FALSE\n",
              "[3913] FALSE FALSE FALSE FALSE FALSE FALSE FALSE FALSE FALSE FALSE FALSE FALSE\n",
              "[3925] FALSE  TRUE FALSE FALSE FALSE FALSE FALSE FALSE FALSE FALSE FALSE FALSE\n",
              "[3937] FALSE FALSE FALSE FALSE FALSE FALSE FALSE FALSE FALSE FALSE FALSE FALSE\n",
              "[3949] FALSE FALSE FALSE FALSE FALSE FALSE FALSE FALSE FALSE FALSE FALSE FALSE\n",
              "[3961] FALSE FALSE FALSE FALSE FALSE FALSE FALSE FALSE FALSE FALSE FALSE FALSE\n",
              "[3973] FALSE FALSE FALSE FALSE FALSE FALSE FALSE FALSE FALSE  TRUE FALSE FALSE\n",
              "[3985] FALSE FALSE FALSE FALSE FALSE FALSE FALSE FALSE FALSE FALSE FALSE FALSE\n",
              "[3997] FALSE FALSE FALSE FALSE FALSE FALSE FALSE FALSE FALSE FALSE FALSE FALSE\n",
              "[4009] FALSE FALSE FALSE FALSE FALSE FALSE FALSE FALSE FALSE FALSE FALSE FALSE\n",
              "[4021] FALSE FALSE FALSE FALSE FALSE FALSE FALSE FALSE FALSE FALSE FALSE FALSE\n",
              "[4033] FALSE FALSE FALSE FALSE FALSE  TRUE FALSE FALSE FALSE FALSE FALSE FALSE\n",
              "[4045] FALSE FALSE FALSE FALSE FALSE FALSE FALSE FALSE FALSE FALSE FALSE FALSE\n",
              "[4057] FALSE FALSE FALSE FALSE FALSE FALSE FALSE FALSE FALSE FALSE FALSE FALSE\n",
              "[4069] FALSE FALSE FALSE FALSE FALSE FALSE FALSE FALSE FALSE FALSE FALSE FALSE\n",
              "[4081] FALSE FALSE FALSE FALSE FALSE FALSE FALSE FALSE FALSE FALSE FALSE FALSE\n",
              "[4093] FALSE  TRUE FALSE FALSE FALSE FALSE FALSE FALSE FALSE FALSE FALSE FALSE\n",
              "[4105] FALSE FALSE FALSE FALSE FALSE FALSE FALSE FALSE FALSE FALSE FALSE FALSE\n",
              "[4117] FALSE FALSE FALSE FALSE FALSE FALSE FALSE FALSE FALSE FALSE FALSE FALSE\n",
              "[4129] FALSE FALSE FALSE FALSE FALSE FALSE FALSE FALSE FALSE FALSE FALSE FALSE\n",
              "[4141] FALSE FALSE FALSE FALSE FALSE FALSE FALSE FALSE FALSE  TRUE FALSE FALSE\n",
              "[4153] FALSE FALSE FALSE FALSE FALSE FALSE FALSE FALSE FALSE FALSE FALSE FALSE\n",
              "[4165] FALSE FALSE FALSE FALSE FALSE FALSE FALSE FALSE FALSE FALSE FALSE FALSE\n",
              "[4177] FALSE FALSE FALSE FALSE FALSE FALSE FALSE FALSE FALSE FALSE FALSE FALSE\n",
              "[4189] FALSE FALSE FALSE FALSE FALSE FALSE FALSE FALSE FALSE FALSE FALSE FALSE\n",
              "[4201] FALSE FALSE FALSE FALSE FALSE  TRUE FALSE FALSE FALSE FALSE FALSE FALSE\n",
              "[4213] FALSE FALSE FALSE FALSE FALSE FALSE FALSE FALSE FALSE FALSE FALSE FALSE\n",
              "[4225] FALSE FALSE FALSE FALSE FALSE FALSE FALSE FALSE FALSE FALSE FALSE FALSE\n",
              "[4237] FALSE FALSE FALSE FALSE FALSE FALSE FALSE FALSE FALSE FALSE FALSE FALSE\n",
              "[4249] FALSE FALSE FALSE FALSE FALSE FALSE FALSE FALSE FALSE FALSE FALSE FALSE\n",
              "[4261] FALSE  TRUE FALSE FALSE FALSE FALSE FALSE FALSE FALSE FALSE FALSE FALSE\n",
              "[4273] FALSE FALSE FALSE FALSE FALSE FALSE FALSE FALSE FALSE FALSE FALSE FALSE\n",
              "[4285] FALSE FALSE FALSE FALSE FALSE FALSE FALSE FALSE FALSE FALSE FALSE FALSE\n",
              "[4297] FALSE FALSE FALSE FALSE FALSE FALSE FALSE FALSE FALSE FALSE FALSE FALSE\n",
              "[4309] FALSE FALSE FALSE FALSE FALSE FALSE FALSE FALSE FALSE  TRUE FALSE FALSE\n",
              "[4321] FALSE FALSE FALSE FALSE FALSE FALSE FALSE FALSE FALSE FALSE FALSE FALSE\n",
              "[4333] FALSE FALSE FALSE FALSE FALSE FALSE FALSE FALSE FALSE FALSE FALSE FALSE\n",
              "[4345] FALSE FALSE FALSE FALSE FALSE FALSE FALSE FALSE FALSE FALSE FALSE FALSE\n",
              "[4357] FALSE FALSE FALSE FALSE FALSE FALSE FALSE FALSE FALSE FALSE FALSE FALSE\n",
              "[4369] FALSE FALSE FALSE FALSE FALSE  TRUE FALSE FALSE FALSE FALSE FALSE FALSE\n",
              "[4381] FALSE FALSE FALSE FALSE FALSE FALSE FALSE FALSE FALSE FALSE FALSE FALSE\n",
              "[4393] FALSE FALSE FALSE FALSE FALSE FALSE FALSE FALSE FALSE FALSE FALSE FALSE\n",
              "[4405] FALSE FALSE FALSE FALSE FALSE FALSE FALSE FALSE FALSE FALSE FALSE FALSE\n",
              "[4417] FALSE FALSE FALSE FALSE FALSE FALSE FALSE FALSE FALSE FALSE FALSE FALSE\n",
              "[4429] FALSE  TRUE FALSE FALSE FALSE FALSE FALSE FALSE FALSE FALSE FALSE FALSE\n",
              "[4441] FALSE FALSE FALSE FALSE FALSE FALSE FALSE FALSE FALSE FALSE FALSE FALSE\n",
              "[4453] FALSE FALSE FALSE FALSE FALSE FALSE FALSE FALSE FALSE FALSE FALSE FALSE\n",
              "[4465] FALSE FALSE FALSE FALSE FALSE FALSE FALSE FALSE FALSE FALSE FALSE FALSE\n",
              "[4477] FALSE FALSE FALSE FALSE FALSE FALSE FALSE FALSE FALSE  TRUE FALSE FALSE\n",
              "[4489] FALSE FALSE FALSE FALSE FALSE FALSE FALSE FALSE FALSE FALSE FALSE FALSE\n",
              "[4501] FALSE FALSE FALSE FALSE FALSE FALSE FALSE FALSE FALSE FALSE FALSE FALSE\n",
              "[4513] FALSE FALSE FALSE FALSE FALSE FALSE FALSE FALSE FALSE FALSE FALSE FALSE\n",
              "[4525] FALSE FALSE FALSE FALSE FALSE FALSE FALSE FALSE FALSE FALSE FALSE FALSE\n",
              "[4537] FALSE FALSE FALSE FALSE FALSE  TRUE FALSE FALSE FALSE FALSE FALSE FALSE\n",
              "[4549] FALSE FALSE FALSE FALSE FALSE FALSE FALSE FALSE FALSE FALSE FALSE FALSE\n",
              "[4561] FALSE FALSE FALSE FALSE FALSE FALSE FALSE FALSE FALSE FALSE FALSE FALSE\n",
              "[4573] FALSE FALSE FALSE FALSE FALSE FALSE FALSE FALSE FALSE FALSE FALSE FALSE\n",
              "[4585] FALSE FALSE FALSE FALSE FALSE FALSE FALSE FALSE FALSE FALSE FALSE FALSE\n",
              "[4597] FALSE  TRUE FALSE FALSE FALSE FALSE FALSE FALSE FALSE FALSE FALSE FALSE\n",
              "[4609] FALSE FALSE FALSE FALSE FALSE FALSE FALSE FALSE FALSE FALSE FALSE FALSE\n",
              "[4621] FALSE FALSE FALSE FALSE FALSE FALSE FALSE FALSE FALSE FALSE FALSE FALSE\n",
              "[4633] FALSE FALSE FALSE FALSE FALSE FALSE FALSE FALSE FALSE FALSE FALSE FALSE\n",
              "[4645] FALSE FALSE FALSE FALSE FALSE FALSE FALSE FALSE FALSE  TRUE FALSE FALSE\n",
              "[4657] FALSE FALSE FALSE FALSE FALSE FALSE FALSE FALSE FALSE FALSE FALSE FALSE\n",
              "[4669] FALSE FALSE FALSE FALSE FALSE FALSE FALSE FALSE FALSE FALSE FALSE FALSE\n",
              "[4681] FALSE FALSE FALSE FALSE FALSE FALSE FALSE FALSE FALSE FALSE FALSE FALSE\n",
              "[4693] FALSE FALSE FALSE FALSE FALSE FALSE FALSE FALSE FALSE FALSE FALSE FALSE\n",
              "[4705] FALSE FALSE FALSE FALSE FALSE  TRUE FALSE FALSE FALSE FALSE FALSE FALSE\n",
              "[4717] FALSE FALSE FALSE FALSE FALSE FALSE FALSE FALSE FALSE FALSE FALSE FALSE\n",
              "[4729] FALSE FALSE FALSE FALSE FALSE FALSE FALSE FALSE FALSE FALSE FALSE FALSE\n",
              "[4741] FALSE FALSE FALSE FALSE FALSE FALSE FALSE FALSE FALSE FALSE FALSE FALSE\n",
              "[4753] FALSE FALSE FALSE FALSE FALSE FALSE FALSE FALSE FALSE FALSE FALSE FALSE\n",
              "[4765] FALSE  TRUE FALSE FALSE FALSE FALSE FALSE FALSE FALSE FALSE FALSE FALSE\n",
              "[4777] FALSE FALSE FALSE FALSE FALSE FALSE FALSE FALSE FALSE FALSE FALSE FALSE\n",
              "[4789] FALSE FALSE FALSE FALSE FALSE FALSE FALSE FALSE FALSE FALSE FALSE FALSE\n",
              "[4801] FALSE FALSE FALSE FALSE FALSE FALSE FALSE FALSE FALSE FALSE FALSE FALSE\n",
              "[4813] FALSE FALSE FALSE FALSE FALSE FALSE FALSE FALSE FALSE  TRUE FALSE FALSE\n",
              "[4825] FALSE FALSE FALSE FALSE FALSE FALSE FALSE FALSE FALSE FALSE FALSE FALSE\n",
              "[4837] FALSE FALSE FALSE FALSE FALSE FALSE FALSE FALSE FALSE FALSE FALSE FALSE\n",
              "[4849] FALSE FALSE FALSE FALSE FALSE FALSE FALSE FALSE FALSE FALSE FALSE FALSE\n",
              "[4861] FALSE FALSE FALSE FALSE FALSE FALSE FALSE FALSE FALSE FALSE FALSE FALSE\n",
              "[4873] FALSE FALSE FALSE FALSE FALSE  TRUE FALSE FALSE FALSE FALSE FALSE FALSE\n",
              "[4885] FALSE FALSE FALSE FALSE FALSE FALSE FALSE FALSE FALSE FALSE FALSE FALSE\n",
              "[4897] FALSE FALSE FALSE FALSE FALSE FALSE FALSE FALSE FALSE FALSE FALSE FALSE\n",
              "[4909] FALSE FALSE FALSE FALSE FALSE FALSE FALSE FALSE FALSE FALSE FALSE FALSE\n",
              "[4921] FALSE FALSE FALSE FALSE FALSE FALSE FALSE FALSE FALSE FALSE FALSE FALSE\n",
              "[4933] FALSE  TRUE FALSE FALSE FALSE FALSE FALSE FALSE FALSE FALSE FALSE FALSE\n",
              "[4945] FALSE FALSE FALSE FALSE FALSE FALSE FALSE FALSE FALSE FALSE FALSE FALSE\n",
              "[4957] FALSE FALSE FALSE FALSE FALSE FALSE FALSE FALSE FALSE FALSE FALSE FALSE\n",
              "[4969] FALSE FALSE FALSE FALSE FALSE FALSE FALSE FALSE FALSE FALSE FALSE FALSE\n",
              "[4981] FALSE FALSE FALSE FALSE FALSE FALSE FALSE FALSE FALSE  TRUE FALSE FALSE\n",
              "[4993] FALSE FALSE FALSE FALSE FALSE FALSE FALSE FALSE FALSE FALSE FALSE FALSE\n",
              "[5005] FALSE FALSE FALSE FALSE FALSE FALSE FALSE FALSE FALSE FALSE FALSE FALSE\n",
              "[5017] FALSE FALSE FALSE FALSE FALSE FALSE FALSE FALSE FALSE FALSE FALSE FALSE\n",
              "[5029] FALSE FALSE FALSE FALSE FALSE FALSE FALSE FALSE FALSE FALSE FALSE FALSE\n",
              "[5041] FALSE FALSE FALSE FALSE FALSE  TRUE FALSE FALSE FALSE FALSE FALSE FALSE\n",
              "[5053] FALSE FALSE FALSE FALSE FALSE FALSE FALSE FALSE FALSE FALSE FALSE FALSE\n",
              "[5065] FALSE FALSE FALSE FALSE FALSE FALSE FALSE FALSE FALSE FALSE FALSE FALSE\n",
              "[5077] FALSE FALSE FALSE FALSE FALSE FALSE FALSE FALSE FALSE FALSE FALSE FALSE\n",
              "[5089] FALSE FALSE FALSE FALSE FALSE FALSE FALSE FALSE FALSE FALSE FALSE FALSE\n",
              "[5101] FALSE  TRUE FALSE FALSE FALSE FALSE FALSE FALSE FALSE FALSE FALSE FALSE\n",
              "[5113] FALSE FALSE FALSE FALSE FALSE FALSE FALSE FALSE FALSE FALSE FALSE FALSE\n",
              "[5125] FALSE FALSE FALSE FALSE FALSE FALSE FALSE FALSE FALSE FALSE FALSE FALSE\n",
              "[5137] FALSE FALSE FALSE FALSE FALSE FALSE FALSE FALSE FALSE FALSE FALSE FALSE\n",
              "[5149] FALSE FALSE FALSE FALSE FALSE FALSE FALSE FALSE FALSE  TRUE FALSE FALSE\n",
              "[5161] FALSE FALSE FALSE FALSE FALSE FALSE FALSE FALSE FALSE FALSE FALSE FALSE\n",
              "[5173] FALSE FALSE FALSE FALSE FALSE FALSE FALSE FALSE FALSE FALSE FALSE FALSE\n",
              "[5185] FALSE FALSE FALSE FALSE FALSE FALSE FALSE FALSE FALSE FALSE FALSE FALSE\n",
              "[5197] FALSE FALSE FALSE FALSE FALSE FALSE FALSE FALSE FALSE FALSE FALSE FALSE\n",
              "[5209] FALSE FALSE FALSE FALSE FALSE  TRUE FALSE FALSE FALSE FALSE FALSE FALSE\n",
              "[5221] FALSE FALSE FALSE FALSE FALSE FALSE FALSE FALSE FALSE FALSE FALSE FALSE\n",
              "[5233] FALSE FALSE FALSE FALSE FALSE FALSE FALSE FALSE FALSE FALSE FALSE FALSE\n",
              "[5245] FALSE FALSE FALSE FALSE FALSE FALSE FALSE FALSE FALSE FALSE FALSE FALSE\n",
              "[5257] FALSE FALSE FALSE FALSE FALSE FALSE FALSE FALSE FALSE FALSE FALSE FALSE\n",
              "[5269] FALSE  TRUE FALSE FALSE FALSE FALSE FALSE FALSE FALSE FALSE FALSE FALSE\n",
              "[5281] FALSE FALSE FALSE FALSE FALSE FALSE FALSE FALSE FALSE FALSE FALSE FALSE\n",
              "[5293] FALSE FALSE FALSE FALSE FALSE FALSE FALSE FALSE FALSE FALSE FALSE FALSE\n",
              "[5305] FALSE FALSE FALSE FALSE FALSE FALSE FALSE FALSE FALSE FALSE FALSE FALSE\n",
              "[5317] FALSE FALSE FALSE FALSE FALSE FALSE FALSE FALSE FALSE  TRUE FALSE FALSE\n",
              "[5329] FALSE FALSE FALSE FALSE FALSE FALSE FALSE FALSE FALSE FALSE FALSE FALSE\n",
              "[5341] FALSE FALSE FALSE FALSE FALSE FALSE FALSE FALSE FALSE FALSE FALSE FALSE\n",
              "[5353] FALSE FALSE FALSE FALSE FALSE FALSE FALSE FALSE FALSE FALSE FALSE FALSE\n",
              "[5365] FALSE FALSE FALSE FALSE FALSE FALSE FALSE FALSE FALSE FALSE FALSE FALSE\n",
              "[5377] FALSE FALSE FALSE FALSE FALSE  TRUE FALSE FALSE FALSE FALSE FALSE FALSE\n",
              "[5389] FALSE FALSE FALSE FALSE FALSE FALSE FALSE FALSE FALSE FALSE FALSE FALSE\n",
              "[5401] FALSE FALSE FALSE FALSE FALSE FALSE FALSE FALSE FALSE FALSE FALSE FALSE\n",
              "[5413] FALSE FALSE FALSE FALSE FALSE FALSE FALSE FALSE FALSE FALSE FALSE FALSE\n",
              "[5425] FALSE FALSE FALSE FALSE FALSE FALSE FALSE FALSE FALSE FALSE FALSE FALSE\n",
              "[5437] FALSE  TRUE FALSE FALSE FALSE FALSE FALSE FALSE FALSE FALSE FALSE FALSE\n",
              "[5449] FALSE FALSE FALSE FALSE FALSE FALSE FALSE FALSE FALSE FALSE FALSE FALSE\n",
              "[5461] FALSE FALSE FALSE FALSE FALSE FALSE FALSE FALSE FALSE FALSE FALSE FALSE\n",
              "[5473] FALSE FALSE FALSE FALSE FALSE FALSE FALSE FALSE FALSE FALSE FALSE FALSE\n",
              "[5485] FALSE FALSE FALSE FALSE FALSE FALSE FALSE FALSE FALSE  TRUE FALSE FALSE\n",
              "[5497] FALSE FALSE FALSE FALSE FALSE FALSE FALSE FALSE FALSE FALSE FALSE FALSE\n",
              "[5509] FALSE FALSE FALSE FALSE FALSE FALSE FALSE FALSE FALSE FALSE FALSE FALSE\n",
              "[5521] FALSE FALSE FALSE FALSE FALSE FALSE FALSE FALSE FALSE FALSE FALSE FALSE\n",
              "[5533] FALSE FALSE FALSE FALSE FALSE FALSE FALSE FALSE FALSE FALSE FALSE FALSE\n",
              "[5545] FALSE FALSE FALSE FALSE FALSE  TRUE FALSE FALSE FALSE FALSE FALSE FALSE\n",
              "[5557] FALSE FALSE FALSE FALSE FALSE FALSE FALSE FALSE FALSE FALSE FALSE FALSE\n",
              "[5569] FALSE FALSE FALSE FALSE FALSE FALSE FALSE FALSE FALSE FALSE FALSE FALSE\n",
              "[5581] FALSE FALSE FALSE FALSE FALSE FALSE FALSE FALSE FALSE FALSE FALSE FALSE\n",
              "[5593] FALSE FALSE FALSE FALSE FALSE FALSE FALSE FALSE FALSE FALSE FALSE FALSE\n",
              "[5605] FALSE  TRUE FALSE FALSE FALSE FALSE FALSE FALSE FALSE FALSE FALSE FALSE\n",
              "[5617] FALSE FALSE FALSE FALSE FALSE FALSE FALSE FALSE FALSE FALSE FALSE FALSE\n",
              "[5629] FALSE FALSE FALSE FALSE FALSE FALSE FALSE FALSE FALSE FALSE FALSE FALSE\n",
              "[5641] FALSE FALSE FALSE FALSE FALSE FALSE FALSE FALSE FALSE FALSE FALSE FALSE\n",
              "[5653] FALSE FALSE FALSE FALSE FALSE FALSE FALSE FALSE FALSE  TRUE FALSE FALSE\n",
              "[5665] FALSE FALSE FALSE FALSE FALSE FALSE FALSE FALSE FALSE FALSE FALSE FALSE\n",
              "[5677] FALSE FALSE FALSE FALSE FALSE FALSE FALSE FALSE FALSE FALSE FALSE FALSE\n",
              "[5689] FALSE FALSE FALSE FALSE FALSE FALSE FALSE FALSE FALSE FALSE FALSE FALSE\n",
              "[5701] FALSE FALSE FALSE FALSE FALSE FALSE FALSE FALSE FALSE FALSE FALSE FALSE\n",
              "[5713] FALSE FALSE FALSE FALSE FALSE  TRUE FALSE FALSE FALSE FALSE FALSE FALSE\n",
              "[5725] FALSE FALSE FALSE FALSE FALSE FALSE FALSE FALSE FALSE FALSE FALSE FALSE\n",
              "[5737] FALSE FALSE FALSE FALSE FALSE FALSE FALSE FALSE FALSE FALSE FALSE FALSE\n",
              "[5749] FALSE FALSE FALSE FALSE FALSE FALSE FALSE FALSE FALSE FALSE FALSE FALSE\n",
              "[5761] FALSE FALSE FALSE FALSE FALSE FALSE FALSE FALSE FALSE FALSE FALSE FALSE\n",
              "[5773] FALSE  TRUE FALSE FALSE FALSE FALSE FALSE FALSE FALSE FALSE FALSE FALSE\n",
              "[5785] FALSE FALSE FALSE FALSE FALSE FALSE FALSE FALSE FALSE FALSE FALSE FALSE\n",
              "[5797] FALSE FALSE FALSE FALSE FALSE FALSE FALSE FALSE FALSE FALSE FALSE FALSE\n",
              "[5809] FALSE FALSE FALSE FALSE FALSE FALSE FALSE FALSE FALSE FALSE FALSE FALSE\n",
              "[5821] FALSE FALSE FALSE FALSE FALSE FALSE FALSE FALSE FALSE  TRUE FALSE FALSE\n",
              "[5833] FALSE FALSE FALSE FALSE FALSE FALSE FALSE FALSE FALSE FALSE FALSE FALSE\n",
              "[5845] FALSE FALSE FALSE FALSE FALSE FALSE FALSE FALSE FALSE FALSE FALSE FALSE\n",
              "[5857] FALSE FALSE FALSE FALSE FALSE FALSE FALSE FALSE FALSE FALSE FALSE FALSE\n",
              "[5869] FALSE FALSE FALSE FALSE FALSE FALSE FALSE FALSE FALSE FALSE FALSE FALSE\n",
              "[5881] FALSE FALSE FALSE FALSE FALSE  TRUE FALSE FALSE FALSE FALSE FALSE FALSE\n",
              "[5893] FALSE FALSE FALSE FALSE FALSE FALSE FALSE FALSE FALSE FALSE FALSE FALSE\n",
              "[5905] FALSE FALSE FALSE FALSE FALSE FALSE FALSE FALSE FALSE FALSE FALSE FALSE\n",
              "[5917] FALSE FALSE FALSE FALSE FALSE FALSE FALSE FALSE FALSE FALSE FALSE FALSE\n",
              "[5929] FALSE FALSE FALSE FALSE FALSE FALSE FALSE FALSE FALSE FALSE FALSE FALSE\n",
              "[5941] FALSE  TRUE FALSE FALSE FALSE FALSE FALSE FALSE FALSE FALSE FALSE FALSE\n",
              "[5953] FALSE FALSE FALSE FALSE FALSE FALSE FALSE FALSE FALSE FALSE FALSE FALSE\n",
              "[5965] FALSE FALSE FALSE FALSE FALSE FALSE FALSE FALSE FALSE FALSE FALSE FALSE\n",
              "[5977] FALSE FALSE FALSE FALSE FALSE FALSE FALSE FALSE FALSE FALSE FALSE FALSE\n",
              "[5989] FALSE FALSE FALSE FALSE FALSE FALSE FALSE FALSE FALSE  TRUE FALSE FALSE\n",
              "[6001] FALSE FALSE FALSE FALSE FALSE FALSE FALSE FALSE FALSE FALSE FALSE FALSE\n",
              "[6013] FALSE FALSE FALSE FALSE FALSE FALSE FALSE FALSE FALSE FALSE FALSE FALSE\n",
              "[6025] FALSE FALSE FALSE FALSE FALSE FALSE FALSE FALSE FALSE FALSE FALSE FALSE\n",
              "[6037] FALSE FALSE FALSE FALSE FALSE FALSE FALSE FALSE FALSE FALSE FALSE FALSE\n",
              "[6049] FALSE FALSE FALSE FALSE FALSE  TRUE FALSE FALSE FALSE FALSE FALSE FALSE\n",
              "[6061] FALSE FALSE FALSE FALSE FALSE FALSE FALSE FALSE FALSE FALSE FALSE FALSE\n",
              "[6073] FALSE FALSE FALSE FALSE FALSE FALSE FALSE FALSE FALSE FALSE FALSE FALSE\n",
              "[6085] FALSE FALSE FALSE FALSE FALSE FALSE FALSE FALSE FALSE FALSE FALSE FALSE\n",
              "[6097] FALSE FALSE FALSE FALSE FALSE FALSE FALSE FALSE FALSE FALSE FALSE FALSE\n",
              "[6109] FALSE  TRUE FALSE FALSE FALSE FALSE FALSE FALSE FALSE FALSE FALSE FALSE\n",
              "[6121] FALSE FALSE FALSE FALSE FALSE FALSE FALSE FALSE FALSE FALSE FALSE FALSE\n",
              "[6133] FALSE FALSE FALSE FALSE FALSE FALSE FALSE FALSE FALSE FALSE FALSE FALSE\n",
              "[6145] FALSE FALSE FALSE FALSE FALSE FALSE FALSE FALSE FALSE FALSE FALSE FALSE\n",
              "[6157] FALSE FALSE FALSE FALSE FALSE FALSE FALSE FALSE FALSE  TRUE FALSE FALSE\n",
              "[6169] FALSE FALSE FALSE FALSE FALSE FALSE FALSE FALSE FALSE FALSE FALSE FALSE\n",
              "[6181] FALSE FALSE FALSE FALSE FALSE FALSE FALSE FALSE FALSE FALSE FALSE FALSE\n",
              "[6193] FALSE FALSE FALSE FALSE FALSE FALSE FALSE FALSE FALSE FALSE FALSE FALSE\n",
              "[6205] FALSE FALSE FALSE FALSE FALSE FALSE FALSE FALSE FALSE FALSE FALSE FALSE\n",
              "[6217] FALSE FALSE FALSE FALSE FALSE  TRUE FALSE FALSE FALSE FALSE FALSE FALSE\n",
              "[6229] FALSE FALSE FALSE FALSE FALSE FALSE FALSE FALSE FALSE FALSE FALSE FALSE\n",
              "[6241] FALSE FALSE FALSE FALSE FALSE FALSE FALSE FALSE FALSE FALSE FALSE FALSE\n",
              "[6253] FALSE FALSE FALSE FALSE FALSE FALSE FALSE FALSE FALSE FALSE FALSE FALSE\n",
              "[6265] FALSE FALSE FALSE FALSE FALSE FALSE FALSE FALSE FALSE FALSE FALSE FALSE\n",
              "[6277] FALSE  TRUE FALSE FALSE FALSE FALSE FALSE FALSE FALSE FALSE FALSE FALSE\n",
              "[6289] FALSE FALSE FALSE FALSE FALSE FALSE FALSE FALSE FALSE FALSE FALSE FALSE\n",
              "[6301] FALSE FALSE FALSE FALSE FALSE FALSE FALSE FALSE FALSE FALSE FALSE FALSE\n",
              "[6313] FALSE FALSE FALSE FALSE FALSE FALSE FALSE FALSE FALSE FALSE FALSE FALSE\n",
              "[6325] FALSE FALSE FALSE FALSE FALSE FALSE FALSE FALSE FALSE  TRUE FALSE FALSE\n",
              "[6337] FALSE FALSE FALSE FALSE FALSE FALSE FALSE FALSE FALSE FALSE FALSE FALSE\n",
              "[6349] FALSE FALSE FALSE FALSE FALSE FALSE FALSE FALSE FALSE FALSE FALSE FALSE\n",
              "[6361] FALSE FALSE FALSE FALSE FALSE FALSE FALSE FALSE FALSE FALSE FALSE FALSE\n",
              "[6373] FALSE FALSE FALSE FALSE FALSE FALSE FALSE FALSE FALSE FALSE FALSE FALSE\n",
              "[6385] FALSE FALSE FALSE FALSE FALSE  TRUE FALSE FALSE FALSE FALSE FALSE FALSE\n",
              "[6397] FALSE FALSE FALSE FALSE FALSE FALSE FALSE FALSE FALSE FALSE FALSE FALSE\n",
              "[6409] FALSE FALSE FALSE FALSE FALSE FALSE FALSE FALSE FALSE FALSE FALSE FALSE\n",
              "[6421] FALSE FALSE FALSE FALSE FALSE FALSE FALSE FALSE FALSE FALSE FALSE FALSE\n",
              "[6433] FALSE FALSE FALSE FALSE FALSE FALSE FALSE FALSE FALSE FALSE FALSE FALSE\n",
              "[6445] FALSE  TRUE FALSE FALSE FALSE FALSE FALSE FALSE FALSE FALSE FALSE FALSE\n",
              "[6457] FALSE FALSE FALSE FALSE FALSE FALSE FALSE FALSE FALSE FALSE FALSE FALSE\n",
              "[6469] FALSE FALSE FALSE FALSE FALSE FALSE FALSE FALSE FALSE FALSE FALSE FALSE\n",
              "[6481] FALSE FALSE FALSE FALSE FALSE FALSE FALSE FALSE FALSE FALSE FALSE FALSE\n",
              "[6493] FALSE FALSE FALSE FALSE FALSE FALSE FALSE FALSE FALSE  TRUE FALSE FALSE\n",
              "[6505] FALSE FALSE FALSE FALSE FALSE FALSE FALSE FALSE FALSE FALSE FALSE FALSE\n",
              "[6517] FALSE FALSE FALSE FALSE FALSE FALSE FALSE FALSE FALSE FALSE FALSE FALSE\n",
              "[6529] FALSE FALSE FALSE FALSE FALSE FALSE FALSE FALSE FALSE FALSE FALSE FALSE\n",
              "[6541] FALSE FALSE FALSE FALSE FALSE FALSE FALSE FALSE FALSE FALSE FALSE FALSE\n",
              "[6553] FALSE FALSE FALSE FALSE FALSE  TRUE FALSE FALSE FALSE FALSE FALSE FALSE\n",
              "[6565] FALSE FALSE FALSE FALSE FALSE FALSE FALSE FALSE FALSE FALSE FALSE FALSE\n",
              "[6577] FALSE FALSE FALSE FALSE FALSE FALSE FALSE FALSE FALSE FALSE FALSE FALSE\n",
              "[6589] FALSE FALSE FALSE FALSE FALSE FALSE FALSE FALSE FALSE FALSE FALSE FALSE\n",
              "[6601] FALSE FALSE FALSE FALSE FALSE FALSE FALSE FALSE FALSE FALSE FALSE FALSE\n",
              "[6613] FALSE  TRUE FALSE FALSE FALSE FALSE FALSE FALSE FALSE FALSE FALSE FALSE\n",
              "[6625] FALSE FALSE FALSE FALSE FALSE FALSE FALSE FALSE FALSE FALSE FALSE FALSE\n",
              "[6637] FALSE FALSE FALSE FALSE FALSE FALSE FALSE FALSE FALSE FALSE FALSE FALSE\n",
              "[6649] FALSE FALSE FALSE FALSE FALSE FALSE FALSE FALSE FALSE FALSE FALSE FALSE\n",
              "[6661] FALSE FALSE FALSE FALSE FALSE FALSE FALSE FALSE FALSE  TRUE FALSE FALSE\n",
              "[6673] FALSE FALSE FALSE FALSE FALSE FALSE FALSE FALSE FALSE FALSE FALSE FALSE\n",
              "[6685] FALSE FALSE FALSE FALSE FALSE FALSE FALSE FALSE FALSE FALSE FALSE FALSE\n",
              "[6697] FALSE FALSE FALSE FALSE FALSE FALSE FALSE FALSE FALSE FALSE FALSE FALSE\n",
              "[6709] FALSE FALSE FALSE FALSE FALSE FALSE FALSE FALSE FALSE FALSE FALSE FALSE\n",
              "[6721] FALSE FALSE FALSE FALSE FALSE  TRUE FALSE FALSE FALSE FALSE FALSE FALSE\n",
              "[6733] FALSE FALSE FALSE FALSE FALSE FALSE FALSE FALSE FALSE FALSE FALSE FALSE\n",
              "[6745] FALSE FALSE FALSE FALSE FALSE FALSE FALSE FALSE FALSE FALSE FALSE FALSE\n",
              "[6757] FALSE FALSE FALSE FALSE FALSE FALSE FALSE FALSE FALSE FALSE FALSE FALSE\n",
              "[6769] FALSE FALSE FALSE FALSE FALSE FALSE FALSE FALSE FALSE FALSE FALSE FALSE\n",
              "[6781] FALSE  TRUE FALSE FALSE FALSE FALSE FALSE FALSE FALSE FALSE FALSE FALSE\n",
              "[6793] FALSE FALSE FALSE FALSE FALSE FALSE FALSE FALSE FALSE FALSE FALSE FALSE\n",
              "[6805] FALSE FALSE FALSE FALSE FALSE FALSE FALSE FALSE FALSE FALSE FALSE FALSE\n",
              "[6817] FALSE FALSE FALSE FALSE FALSE FALSE FALSE FALSE FALSE FALSE FALSE FALSE\n",
              "[6829] FALSE FALSE FALSE FALSE FALSE FALSE FALSE FALSE FALSE  TRUE FALSE FALSE\n",
              "[6841] FALSE FALSE FALSE FALSE FALSE FALSE FALSE FALSE FALSE FALSE FALSE FALSE\n",
              "[6853] FALSE FALSE FALSE FALSE FALSE FALSE FALSE FALSE FALSE FALSE FALSE FALSE\n",
              "[6865] FALSE FALSE FALSE FALSE FALSE FALSE FALSE FALSE FALSE FALSE FALSE FALSE\n",
              "[6877] FALSE FALSE FALSE FALSE FALSE FALSE FALSE FALSE FALSE FALSE FALSE FALSE\n",
              "[6889] FALSE FALSE FALSE FALSE FALSE  TRUE FALSE FALSE FALSE FALSE FALSE FALSE\n",
              "[6901] FALSE FALSE FALSE FALSE FALSE FALSE FALSE FALSE FALSE FALSE FALSE FALSE\n",
              "[6913] FALSE FALSE FALSE FALSE FALSE FALSE FALSE FALSE FALSE FALSE FALSE FALSE\n",
              "[6925] FALSE FALSE FALSE FALSE FALSE FALSE FALSE FALSE FALSE FALSE FALSE FALSE\n",
              "[6937] FALSE FALSE FALSE FALSE FALSE FALSE FALSE FALSE FALSE FALSE FALSE FALSE\n",
              "[6949] FALSE  TRUE FALSE FALSE FALSE FALSE FALSE FALSE FALSE FALSE FALSE FALSE\n",
              "[6961] FALSE FALSE FALSE FALSE FALSE FALSE FALSE FALSE FALSE FALSE FALSE FALSE\n",
              "[6973] FALSE FALSE FALSE FALSE FALSE FALSE FALSE FALSE FALSE FALSE FALSE FALSE\n",
              "[6985] FALSE FALSE FALSE FALSE FALSE FALSE FALSE FALSE FALSE FALSE FALSE FALSE\n",
              "[6997] FALSE FALSE FALSE FALSE FALSE FALSE FALSE FALSE FALSE  TRUE FALSE FALSE\n",
              "[7009] FALSE FALSE FALSE FALSE FALSE FALSE FALSE FALSE FALSE FALSE FALSE FALSE\n",
              "[7021] FALSE FALSE FALSE FALSE FALSE FALSE FALSE FALSE FALSE FALSE FALSE FALSE\n",
              "[7033] FALSE FALSE FALSE FALSE FALSE FALSE FALSE FALSE FALSE FALSE FALSE FALSE\n",
              "[7045] FALSE FALSE FALSE FALSE FALSE FALSE FALSE FALSE FALSE FALSE FALSE FALSE\n",
              "[7057] FALSE FALSE FALSE FALSE FALSE  TRUE FALSE FALSE FALSE FALSE FALSE FALSE\n",
              "[7069] FALSE FALSE FALSE FALSE FALSE FALSE FALSE FALSE FALSE FALSE FALSE FALSE\n",
              "[7081] FALSE FALSE FALSE FALSE FALSE FALSE FALSE FALSE FALSE FALSE FALSE FALSE\n",
              "[7093] FALSE FALSE FALSE FALSE FALSE FALSE FALSE FALSE FALSE FALSE FALSE FALSE\n",
              "[7105] FALSE FALSE FALSE FALSE FALSE FALSE FALSE FALSE FALSE FALSE FALSE FALSE\n",
              "[7117] FALSE  TRUE FALSE FALSE FALSE FALSE FALSE FALSE FALSE FALSE FALSE FALSE\n",
              "[7129] FALSE FALSE FALSE FALSE FALSE FALSE FALSE FALSE FALSE FALSE FALSE FALSE\n",
              "[7141] FALSE FALSE FALSE FALSE FALSE FALSE FALSE FALSE FALSE FALSE FALSE FALSE\n",
              "[7153] FALSE FALSE FALSE FALSE FALSE FALSE FALSE FALSE FALSE FALSE FALSE FALSE\n",
              "[7165] FALSE FALSE FALSE FALSE FALSE FALSE FALSE FALSE FALSE  TRUE FALSE FALSE\n",
              "[7177] FALSE FALSE FALSE FALSE FALSE FALSE FALSE FALSE FALSE FALSE FALSE FALSE\n",
              "[7189] FALSE FALSE FALSE FALSE FALSE FALSE FALSE FALSE FALSE FALSE FALSE FALSE\n",
              "[7201] FALSE FALSE FALSE FALSE FALSE FALSE FALSE FALSE FALSE FALSE FALSE FALSE\n",
              "[7213] FALSE FALSE FALSE FALSE FALSE FALSE FALSE FALSE FALSE FALSE FALSE FALSE\n",
              "[7225] FALSE FALSE FALSE FALSE FALSE  TRUE FALSE FALSE FALSE FALSE FALSE FALSE\n",
              "[7237] FALSE FALSE FALSE FALSE FALSE FALSE FALSE FALSE FALSE FALSE FALSE FALSE\n",
              "[7249] FALSE FALSE FALSE FALSE FALSE FALSE FALSE FALSE FALSE FALSE FALSE FALSE\n",
              "[7261] FALSE FALSE FALSE FALSE FALSE FALSE FALSE FALSE FALSE FALSE FALSE FALSE\n",
              "[7273] FALSE FALSE FALSE FALSE FALSE FALSE FALSE FALSE FALSE FALSE FALSE FALSE\n",
              "[7285] FALSE  TRUE FALSE FALSE FALSE FALSE FALSE FALSE FALSE FALSE FALSE FALSE\n",
              "[7297] FALSE FALSE FALSE FALSE FALSE FALSE FALSE FALSE FALSE FALSE FALSE FALSE\n",
              "[7309] FALSE FALSE FALSE FALSE FALSE FALSE FALSE FALSE FALSE FALSE FALSE FALSE\n",
              "[7321] FALSE FALSE FALSE FALSE FALSE FALSE FALSE FALSE FALSE FALSE FALSE FALSE\n",
              "[7333] FALSE FALSE FALSE FALSE FALSE FALSE FALSE FALSE FALSE  TRUE FALSE FALSE\n",
              "[7345] FALSE FALSE FALSE FALSE FALSE FALSE FALSE FALSE FALSE FALSE FALSE FALSE\n",
              "[7357] FALSE FALSE FALSE FALSE FALSE FALSE FALSE FALSE FALSE FALSE FALSE FALSE\n",
              "[7369] FALSE FALSE FALSE FALSE FALSE FALSE FALSE FALSE FALSE FALSE FALSE FALSE\n",
              "[7381] FALSE FALSE FALSE FALSE FALSE FALSE FALSE FALSE FALSE FALSE FALSE FALSE\n",
              "[7393] FALSE FALSE FALSE FALSE FALSE  TRUE FALSE FALSE FALSE FALSE FALSE FALSE\n",
              "[7405] FALSE FALSE FALSE FALSE FALSE FALSE FALSE FALSE FALSE FALSE FALSE FALSE\n",
              "[7417] FALSE FALSE FALSE FALSE FALSE FALSE FALSE FALSE FALSE FALSE FALSE FALSE\n",
              "[7429] FALSE FALSE FALSE FALSE FALSE FALSE FALSE FALSE FALSE FALSE FALSE FALSE\n",
              "[7441] FALSE FALSE FALSE FALSE FALSE FALSE FALSE FALSE FALSE FALSE FALSE FALSE\n",
              "[7453] FALSE  TRUE FALSE FALSE FALSE FALSE FALSE FALSE FALSE FALSE FALSE FALSE\n",
              "[7465] FALSE FALSE FALSE FALSE FALSE FALSE FALSE FALSE FALSE FALSE FALSE FALSE\n",
              "[7477] FALSE FALSE FALSE FALSE FALSE FALSE FALSE FALSE FALSE FALSE FALSE FALSE\n",
              "[7489] FALSE FALSE FALSE FALSE FALSE FALSE FALSE FALSE FALSE FALSE FALSE FALSE\n",
              "[7501] FALSE FALSE FALSE FALSE FALSE FALSE FALSE FALSE FALSE  TRUE FALSE FALSE\n",
              "[7513] FALSE FALSE FALSE FALSE FALSE FALSE FALSE FALSE FALSE FALSE FALSE FALSE\n",
              "[7525] FALSE FALSE FALSE FALSE FALSE FALSE FALSE FALSE FALSE FALSE FALSE FALSE\n",
              "[7537] FALSE FALSE FALSE FALSE FALSE FALSE FALSE FALSE FALSE FALSE FALSE FALSE\n",
              "[7549] FALSE FALSE FALSE FALSE FALSE FALSE FALSE FALSE FALSE FALSE FALSE FALSE\n",
              "[7561] FALSE FALSE FALSE FALSE FALSE  TRUE FALSE FALSE FALSE FALSE FALSE FALSE\n",
              "[7573] FALSE FALSE FALSE FALSE FALSE FALSE FALSE FALSE FALSE FALSE FALSE FALSE\n",
              "[7585] FALSE FALSE FALSE FALSE FALSE FALSE FALSE FALSE FALSE FALSE FALSE FALSE\n",
              "[7597] FALSE FALSE FALSE FALSE FALSE FALSE FALSE FALSE FALSE FALSE FALSE FALSE\n",
              "[7609] FALSE FALSE FALSE FALSE FALSE FALSE FALSE FALSE FALSE FALSE FALSE FALSE\n",
              "[7621] FALSE  TRUE FALSE FALSE FALSE FALSE FALSE FALSE FALSE FALSE FALSE FALSE\n",
              "[7633] FALSE FALSE FALSE FALSE FALSE FALSE FALSE FALSE FALSE FALSE FALSE FALSE\n",
              "[7645] FALSE FALSE FALSE FALSE FALSE FALSE FALSE FALSE FALSE FALSE FALSE FALSE\n",
              "[7657] FALSE FALSE FALSE FALSE FALSE FALSE FALSE FALSE FALSE FALSE FALSE FALSE\n",
              "[7669] FALSE FALSE FALSE FALSE FALSE FALSE FALSE FALSE FALSE  TRUE FALSE FALSE\n",
              "[7681] FALSE FALSE FALSE FALSE FALSE FALSE FALSE FALSE FALSE FALSE FALSE FALSE\n",
              "[7693] FALSE FALSE FALSE FALSE FALSE FALSE FALSE FALSE FALSE FALSE FALSE FALSE\n",
              "[7705] FALSE FALSE FALSE FALSE FALSE FALSE FALSE FALSE FALSE FALSE FALSE FALSE\n",
              "[7717] FALSE FALSE FALSE FALSE FALSE FALSE FALSE FALSE FALSE FALSE FALSE FALSE\n",
              "[7729] FALSE FALSE FALSE FALSE FALSE  TRUE FALSE FALSE FALSE FALSE FALSE FALSE\n",
              "[7741] FALSE FALSE FALSE FALSE FALSE FALSE FALSE FALSE FALSE FALSE FALSE FALSE\n",
              "[7753] FALSE FALSE FALSE FALSE FALSE FALSE FALSE FALSE FALSE FALSE FALSE FALSE\n",
              "[7765] FALSE FALSE FALSE FALSE FALSE FALSE FALSE FALSE FALSE FALSE FALSE FALSE\n",
              "[7777] FALSE FALSE FALSE FALSE FALSE FALSE FALSE FALSE FALSE FALSE FALSE FALSE\n",
              "[7789] FALSE  TRUE FALSE FALSE FALSE FALSE FALSE FALSE FALSE FALSE FALSE FALSE\n",
              "[7801] FALSE FALSE FALSE FALSE FALSE FALSE FALSE FALSE FALSE FALSE FALSE FALSE\n",
              "[7813] FALSE FALSE FALSE FALSE FALSE FALSE FALSE FALSE FALSE FALSE FALSE FALSE\n",
              "[7825] FALSE FALSE FALSE FALSE FALSE FALSE FALSE FALSE FALSE FALSE FALSE FALSE\n",
              "[7837] FALSE FALSE FALSE FALSE FALSE FALSE FALSE FALSE FALSE  TRUE FALSE FALSE\n",
              "[7849] FALSE FALSE FALSE FALSE FALSE FALSE FALSE FALSE FALSE FALSE FALSE FALSE\n",
              "[7861] FALSE FALSE FALSE FALSE FALSE FALSE FALSE FALSE FALSE FALSE FALSE FALSE\n",
              "[7873] FALSE FALSE FALSE FALSE FALSE FALSE FALSE FALSE FALSE FALSE FALSE FALSE\n",
              "[7885] FALSE FALSE FALSE FALSE FALSE FALSE FALSE FALSE FALSE FALSE FALSE FALSE\n",
              "[7897] FALSE FALSE FALSE FALSE FALSE  TRUE FALSE FALSE FALSE FALSE FALSE FALSE\n",
              "[7909] FALSE FALSE FALSE FALSE FALSE FALSE FALSE FALSE FALSE FALSE FALSE FALSE\n",
              "[7921] FALSE FALSE FALSE FALSE FALSE FALSE FALSE FALSE FALSE FALSE FALSE FALSE\n",
              "[7933] FALSE FALSE FALSE FALSE FALSE FALSE FALSE FALSE FALSE FALSE FALSE FALSE\n",
              "[7945] FALSE FALSE FALSE FALSE FALSE FALSE FALSE FALSE FALSE FALSE FALSE FALSE\n",
              "[7957] FALSE  TRUE FALSE FALSE FALSE FALSE FALSE FALSE FALSE FALSE FALSE FALSE\n",
              "[7969] FALSE FALSE FALSE FALSE FALSE FALSE FALSE FALSE FALSE FALSE FALSE FALSE\n",
              "[7981] FALSE FALSE FALSE FALSE FALSE FALSE FALSE FALSE FALSE FALSE FALSE FALSE\n",
              "[7993] FALSE FALSE FALSE FALSE FALSE FALSE FALSE FALSE FALSE FALSE FALSE FALSE\n",
              "[8005] FALSE FALSE FALSE FALSE FALSE FALSE FALSE FALSE FALSE  TRUE FALSE FALSE\n",
              "[8017] FALSE FALSE FALSE FALSE FALSE FALSE FALSE FALSE FALSE FALSE FALSE FALSE\n",
              "[8029] FALSE FALSE FALSE FALSE FALSE FALSE FALSE FALSE FALSE FALSE FALSE FALSE\n",
              "[8041] FALSE FALSE FALSE FALSE FALSE FALSE FALSE FALSE FALSE FALSE FALSE FALSE\n",
              "[8053] FALSE FALSE FALSE FALSE FALSE FALSE FALSE FALSE FALSE FALSE FALSE FALSE\n",
              "[8065] FALSE FALSE FALSE FALSE FALSE  TRUE FALSE FALSE FALSE FALSE FALSE FALSE\n",
              "[8077] FALSE FALSE FALSE FALSE FALSE FALSE FALSE FALSE FALSE FALSE FALSE FALSE\n",
              "[8089] FALSE FALSE FALSE FALSE FALSE FALSE FALSE FALSE FALSE FALSE FALSE FALSE\n",
              "[8101] FALSE FALSE FALSE FALSE FALSE FALSE FALSE FALSE FALSE FALSE FALSE FALSE\n",
              "[8113] FALSE FALSE FALSE FALSE FALSE FALSE FALSE FALSE FALSE FALSE FALSE FALSE\n",
              "[8125]  TRUE FALSE FALSE FALSE FALSE FALSE FALSE FALSE FALSE FALSE FALSE FALSE\n",
              "[8137] FALSE FALSE FALSE FALSE FALSE FALSE FALSE FALSE FALSE FALSE FALSE FALSE\n",
              "[8149] FALSE FALSE FALSE FALSE FALSE FALSE FALSE FALSE FALSE FALSE FALSE FALSE\n",
              "[8161] FALSE FALSE FALSE FALSE FALSE FALSE FALSE FALSE FALSE FALSE FALSE FALSE\n",
              "[8173] FALSE FALSE FALSE  TRUE FALSE FALSE FALSE FALSE FALSE FALSE FALSE FALSE\n",
              "[8185] FALSE FALSE FALSE FALSE FALSE FALSE FALSE FALSE FALSE FALSE FALSE FALSE\n",
              "[8197] FALSE FALSE FALSE FALSE FALSE FALSE FALSE FALSE FALSE FALSE FALSE FALSE\n",
              "[8209] FALSE FALSE FALSE FALSE FALSE FALSE FALSE FALSE FALSE FALSE FALSE FALSE\n",
              "[8221] FALSE FALSE FALSE FALSE FALSE FALSE  TRUE FALSE FALSE FALSE FALSE FALSE\n",
              "[8233] FALSE FALSE FALSE FALSE FALSE FALSE FALSE FALSE FALSE FALSE FALSE FALSE\n",
              "[8245] FALSE FALSE FALSE FALSE FALSE FALSE FALSE FALSE FALSE FALSE FALSE FALSE\n",
              "[8257] FALSE FALSE FALSE FALSE FALSE FALSE FALSE FALSE FALSE FALSE FALSE FALSE\n",
              "[8269] FALSE FALSE FALSE FALSE FALSE FALSE FALSE FALSE FALSE  TRUE FALSE FALSE\n",
              "[8281] FALSE FALSE FALSE FALSE FALSE FALSE FALSE FALSE FALSE FALSE FALSE FALSE\n",
              "[8293] FALSE FALSE FALSE FALSE FALSE FALSE FALSE FALSE FALSE FALSE FALSE FALSE\n",
              "[8305] FALSE FALSE FALSE FALSE FALSE FALSE FALSE FALSE FALSE FALSE FALSE FALSE\n",
              "[8317] FALSE FALSE FALSE FALSE FALSE FALSE FALSE FALSE FALSE FALSE FALSE FALSE\n",
              "[8329]  TRUE FALSE FALSE FALSE FALSE FALSE FALSE FALSE FALSE FALSE FALSE FALSE\n",
              "[8341] FALSE FALSE FALSE FALSE FALSE FALSE FALSE FALSE FALSE FALSE FALSE FALSE\n",
              "[8353] FALSE FALSE FALSE FALSE FALSE FALSE FALSE FALSE FALSE FALSE FALSE FALSE\n",
              "[8365] FALSE FALSE FALSE FALSE FALSE FALSE FALSE FALSE FALSE FALSE FALSE FALSE\n",
              "[8377] FALSE FALSE  TRUE FALSE FALSE FALSE FALSE FALSE FALSE FALSE FALSE FALSE\n",
              "[8389] FALSE FALSE FALSE FALSE FALSE FALSE FALSE FALSE FALSE FALSE FALSE FALSE\n",
              "[8401] FALSE FALSE FALSE FALSE FALSE FALSE FALSE FALSE FALSE FALSE FALSE FALSE\n",
              "[8413] FALSE FALSE FALSE FALSE FALSE FALSE FALSE FALSE FALSE FALSE FALSE FALSE\n",
              "[8425] FALSE FALSE FALSE FALSE  TRUE FALSE FALSE FALSE FALSE FALSE FALSE FALSE\n",
              "[8437] FALSE FALSE FALSE FALSE FALSE FALSE FALSE FALSE FALSE FALSE FALSE FALSE\n",
              "[8449] FALSE FALSE FALSE FALSE FALSE FALSE FALSE FALSE FALSE FALSE FALSE FALSE\n",
              "[8461] FALSE FALSE FALSE FALSE FALSE FALSE FALSE FALSE FALSE FALSE FALSE FALSE\n",
              "[8473] FALSE FALSE FALSE FALSE FALSE FALSE  TRUE FALSE FALSE FALSE FALSE FALSE\n",
              "[8485] FALSE FALSE FALSE FALSE FALSE FALSE FALSE FALSE FALSE FALSE FALSE FALSE\n",
              "[8497] FALSE FALSE FALSE FALSE FALSE FALSE FALSE FALSE FALSE FALSE FALSE FALSE\n",
              "[8509] FALSE FALSE FALSE FALSE FALSE FALSE FALSE FALSE FALSE FALSE FALSE FALSE\n",
              "[8521] FALSE FALSE FALSE FALSE FALSE FALSE FALSE FALSE  TRUE FALSE FALSE FALSE\n",
              "[8533] FALSE FALSE FALSE FALSE FALSE FALSE FALSE FALSE FALSE FALSE FALSE FALSE\n",
              "[8545] FALSE FALSE FALSE FALSE FALSE FALSE FALSE FALSE FALSE FALSE FALSE FALSE\n",
              "[8557] FALSE FALSE FALSE FALSE FALSE FALSE FALSE FALSE FALSE FALSE FALSE FALSE\n",
              "[8569] FALSE FALSE FALSE FALSE FALSE FALSE FALSE FALSE FALSE  TRUE FALSE FALSE\n",
              "[8581] FALSE FALSE FALSE FALSE FALSE FALSE FALSE FALSE FALSE FALSE FALSE FALSE\n",
              "[8593] FALSE FALSE FALSE FALSE FALSE FALSE FALSE FALSE FALSE FALSE FALSE FALSE\n",
              "[8605] FALSE FALSE FALSE FALSE FALSE FALSE FALSE  TRUE FALSE FALSE FALSE FALSE\n",
              "[8617] FALSE FALSE FALSE FALSE FALSE FALSE FALSE FALSE FALSE FALSE FALSE FALSE\n",
              "[8629] FALSE FALSE FALSE FALSE FALSE FALSE FALSE  TRUE FALSE FALSE FALSE FALSE\n",
              "[8641] FALSE FALSE FALSE FALSE FALSE FALSE FALSE FALSE FALSE FALSE FALSE FALSE\n",
              "[8653] FALSE FALSE FALSE FALSE FALSE FALSE FALSE FALSE FALSE FALSE FALSE FALSE\n",
              "[8665] FALSE FALSE FALSE FALSE FALSE FALSE FALSE FALSE FALSE FALSE FALSE FALSE\n",
              "[8677] FALSE FALSE FALSE FALSE FALSE FALSE FALSE FALSE FALSE FALSE FALSE FALSE\n",
              "[8689] FALSE FALSE FALSE FALSE FALSE FALSE FALSE FALSE FALSE"
            ]
          },
          "metadata": {}
        }
      ],
      "source": [
        "COVID$state == 'CA'"
      ]
    },
    {
      "cell_type": "code",
      "execution_count": null,
      "id": "6c1f510b",
      "metadata": {
        "scrolled": true,
        "id": "6c1f510b"
      },
      "outputs": [],
      "source": [
        "COVID"
      ]
    },
    {
      "cell_type": "code",
      "execution_count": null,
      "id": "b4b0264b",
      "metadata": {
        "id": "b4b0264b"
      },
      "outputs": [],
      "source": [
        "ls()"
      ]
    },
    {
      "cell_type": "code",
      "execution_count": 67,
      "id": "b4150d68",
      "metadata": {
        "id": "b4150d68",
        "colab": {
          "base_uri": "https://localhost:8080/",
          "height": 306
        },
        "outputId": "100bebcc-2a3f-4113-aa18-cb2d0ab381d9"
      },
      "outputs": [
        {
          "output_type": "display_data",
          "data": {
            "text/html": [
              "<table class=\"dataframe\">\n",
              "<caption>A data.frame: 6 × 41</caption>\n",
              "<thead>\n",
              "\t<tr><th></th><th scope=col>date</th><th scope=col>state</th><th scope=col>positive</th><th scope=col>negative</th><th scope=col>pending</th><th scope=col>hospitalizedCurrently</th><th scope=col>hospitalizedCumulative</th><th scope=col>inIcuCurrently</th><th scope=col>inIcuCumulative</th><th scope=col>onVentilatorCurrently</th><th scope=col>⋯</th><th scope=col>posNeg</th><th scope=col>deathIncrease</th><th scope=col>hospitalizedIncrease</th><th scope=col>hash</th><th scope=col>commercialScore</th><th scope=col>negativeRegularScore</th><th scope=col>negativeScore</th><th scope=col>positiveScore</th><th scope=col>score</th><th scope=col>grade</th></tr>\n",
              "\t<tr><th></th><th scope=col>&lt;int&gt;</th><th scope=col>&lt;fct&gt;</th><th scope=col>&lt;int&gt;</th><th scope=col>&lt;int&gt;</th><th scope=col>&lt;int&gt;</th><th scope=col>&lt;int&gt;</th><th scope=col>&lt;int&gt;</th><th scope=col>&lt;int&gt;</th><th scope=col>&lt;int&gt;</th><th scope=col>&lt;int&gt;</th><th scope=col>⋯</th><th scope=col>&lt;int&gt;</th><th scope=col>&lt;int&gt;</th><th scope=col>&lt;int&gt;</th><th scope=col>&lt;chr&gt;</th><th scope=col>&lt;int&gt;</th><th scope=col>&lt;int&gt;</th><th scope=col>&lt;int&gt;</th><th scope=col>&lt;int&gt;</th><th scope=col>&lt;int&gt;</th><th scope=col>&lt;lgl&gt;</th></tr>\n",
              "</thead>\n",
              "<tbody>\n",
              "\t<tr><th scope=row>6</th><td>20200807</td><td>CA</td><td>538416</td><td>8058466</td><td>NA</td><td>7277</td><td>NA</td><td>1978</td><td>NA</td><td>NA</td><td>⋯</td><td>8596882</td><td>142</td><td>0</td><td>de76be81f6dc15ca6c65b81d94e2c5e34e4489df</td><td>0</td><td>0</td><td>0</td><td>0</td><td>0</td><td>NA</td></tr>\n",
              "\t<tr><th scope=row>62</th><td>20200806</td><td>CA</td><td>529980</td><td>7970483</td><td>NA</td><td>7485</td><td>NA</td><td>2026</td><td>NA</td><td>NA</td><td>⋯</td><td>8500463</td><td>166</td><td>0</td><td>04d0f37534059d04347fd2c84c1183d80fe86371</td><td>0</td><td>0</td><td>0</td><td>0</td><td>0</td><td>NA</td></tr>\n",
              "\t<tr><th scope=row>118</th><td>20200805</td><td>CA</td><td>524722</td><td>7884678</td><td>NA</td><td>7552</td><td>NA</td><td>2005</td><td>NA</td><td>NA</td><td>⋯</td><td>8409400</td><td>202</td><td>0</td><td>c877f9c8b267330bc105adeffdf3dce664b3ba94</td><td>0</td><td>0</td><td>0</td><td>0</td><td>0</td><td>NA</td></tr>\n",
              "\t<tr><th scope=row>174</th><td>20200804</td><td>CA</td><td>519427</td><td>7786286</td><td>NA</td><td>7630</td><td>NA</td><td>2082</td><td>NA</td><td>NA</td><td>⋯</td><td>8305713</td><td>113</td><td>0</td><td>90e3e08ccbd077a1dd09f6322366feedef7d2356</td><td>0</td><td>0</td><td>0</td><td>0</td><td>0</td><td>NA</td></tr>\n",
              "\t<tr><th scope=row>230</th><td>20200803</td><td>CA</td><td>514901</td><td>7669795</td><td>NA</td><td>7629</td><td>NA</td><td>2069</td><td>NA</td><td>NA</td><td>⋯</td><td>8184696</td><td> 32</td><td>0</td><td>3e13c19ce424ee3a196c2af8c24fa9df6cedf226</td><td>0</td><td>0</td><td>0</td><td>0</td><td>0</td><td>NA</td></tr>\n",
              "\t<tr><th scope=row>286</th><td>20200802</td><td>CA</td><td>509162</td><td>7526813</td><td>NA</td><td>7761</td><td>NA</td><td>2119</td><td>NA</td><td>NA</td><td>⋯</td><td>8035975</td><td>132</td><td>0</td><td>acaee9f7ca22b9c2c31866d7b2477e601fef5c3a</td><td>0</td><td>0</td><td>0</td><td>0</td><td>0</td><td>NA</td></tr>\n",
              "</tbody>\n",
              "</table>\n"
            ],
            "text/markdown": "\nA data.frame: 6 × 41\n\n| <!--/--> | date &lt;int&gt; | state &lt;fct&gt; | positive &lt;int&gt; | negative &lt;int&gt; | pending &lt;int&gt; | hospitalizedCurrently &lt;int&gt; | hospitalizedCumulative &lt;int&gt; | inIcuCurrently &lt;int&gt; | inIcuCumulative &lt;int&gt; | onVentilatorCurrently &lt;int&gt; | ⋯ ⋯ | posNeg &lt;int&gt; | deathIncrease &lt;int&gt; | hospitalizedIncrease &lt;int&gt; | hash &lt;chr&gt; | commercialScore &lt;int&gt; | negativeRegularScore &lt;int&gt; | negativeScore &lt;int&gt; | positiveScore &lt;int&gt; | score &lt;int&gt; | grade &lt;lgl&gt; |\n|---|---|---|---|---|---|---|---|---|---|---|---|---|---|---|---|---|---|---|---|---|---|\n| 6 | 20200807 | CA | 538416 | 8058466 | NA | 7277 | NA | 1978 | NA | NA | ⋯ | 8596882 | 142 | 0 | de76be81f6dc15ca6c65b81d94e2c5e34e4489df | 0 | 0 | 0 | 0 | 0 | NA |\n| 62 | 20200806 | CA | 529980 | 7970483 | NA | 7485 | NA | 2026 | NA | NA | ⋯ | 8500463 | 166 | 0 | 04d0f37534059d04347fd2c84c1183d80fe86371 | 0 | 0 | 0 | 0 | 0 | NA |\n| 118 | 20200805 | CA | 524722 | 7884678 | NA | 7552 | NA | 2005 | NA | NA | ⋯ | 8409400 | 202 | 0 | c877f9c8b267330bc105adeffdf3dce664b3ba94 | 0 | 0 | 0 | 0 | 0 | NA |\n| 174 | 20200804 | CA | 519427 | 7786286 | NA | 7630 | NA | 2082 | NA | NA | ⋯ | 8305713 | 113 | 0 | 90e3e08ccbd077a1dd09f6322366feedef7d2356 | 0 | 0 | 0 | 0 | 0 | NA |\n| 230 | 20200803 | CA | 514901 | 7669795 | NA | 7629 | NA | 2069 | NA | NA | ⋯ | 8184696 |  32 | 0 | 3e13c19ce424ee3a196c2af8c24fa9df6cedf226 | 0 | 0 | 0 | 0 | 0 | NA |\n| 286 | 20200802 | CA | 509162 | 7526813 | NA | 7761 | NA | 2119 | NA | NA | ⋯ | 8035975 | 132 | 0 | acaee9f7ca22b9c2c31866d7b2477e601fef5c3a | 0 | 0 | 0 | 0 | 0 | NA |\n\n",
            "text/latex": "A data.frame: 6 × 41\n\\begin{tabular}{r|lllllllllllllllllllll}\n  & date & state & positive & negative & pending & hospitalizedCurrently & hospitalizedCumulative & inIcuCurrently & inIcuCumulative & onVentilatorCurrently & ⋯ & posNeg & deathIncrease & hospitalizedIncrease & hash & commercialScore & negativeRegularScore & negativeScore & positiveScore & score & grade\\\\\n  & <int> & <fct> & <int> & <int> & <int> & <int> & <int> & <int> & <int> & <int> & ⋯ & <int> & <int> & <int> & <chr> & <int> & <int> & <int> & <int> & <int> & <lgl>\\\\\n\\hline\n\t6 & 20200807 & CA & 538416 & 8058466 & NA & 7277 & NA & 1978 & NA & NA & ⋯ & 8596882 & 142 & 0 & de76be81f6dc15ca6c65b81d94e2c5e34e4489df & 0 & 0 & 0 & 0 & 0 & NA\\\\\n\t62 & 20200806 & CA & 529980 & 7970483 & NA & 7485 & NA & 2026 & NA & NA & ⋯ & 8500463 & 166 & 0 & 04d0f37534059d04347fd2c84c1183d80fe86371 & 0 & 0 & 0 & 0 & 0 & NA\\\\\n\t118 & 20200805 & CA & 524722 & 7884678 & NA & 7552 & NA & 2005 & NA & NA & ⋯ & 8409400 & 202 & 0 & c877f9c8b267330bc105adeffdf3dce664b3ba94 & 0 & 0 & 0 & 0 & 0 & NA\\\\\n\t174 & 20200804 & CA & 519427 & 7786286 & NA & 7630 & NA & 2082 & NA & NA & ⋯ & 8305713 & 113 & 0 & 90e3e08ccbd077a1dd09f6322366feedef7d2356 & 0 & 0 & 0 & 0 & 0 & NA\\\\\n\t230 & 20200803 & CA & 514901 & 7669795 & NA & 7629 & NA & 2069 & NA & NA & ⋯ & 8184696 &  32 & 0 & 3e13c19ce424ee3a196c2af8c24fa9df6cedf226 & 0 & 0 & 0 & 0 & 0 & NA\\\\\n\t286 & 20200802 & CA & 509162 & 7526813 & NA & 7761 & NA & 2119 & NA & NA & ⋯ & 8035975 & 132 & 0 & acaee9f7ca22b9c2c31866d7b2477e601fef5c3a & 0 & 0 & 0 & 0 & 0 & NA\\\\\n\\end{tabular}\n",
            "text/plain": [
              "    date     state positive negative pending hospitalizedCurrently\n",
              "6   20200807 CA    538416   8058466  NA      7277                 \n",
              "62  20200806 CA    529980   7970483  NA      7485                 \n",
              "118 20200805 CA    524722   7884678  NA      7552                 \n",
              "174 20200804 CA    519427   7786286  NA      7630                 \n",
              "230 20200803 CA    514901   7669795  NA      7629                 \n",
              "286 20200802 CA    509162   7526813  NA      7761                 \n",
              "    hospitalizedCumulative inIcuCurrently inIcuCumulative onVentilatorCurrently\n",
              "6   NA                     1978           NA              NA                   \n",
              "62  NA                     2026           NA              NA                   \n",
              "118 NA                     2005           NA              NA                   \n",
              "174 NA                     2082           NA              NA                   \n",
              "230 NA                     2069           NA              NA                   \n",
              "286 NA                     2119           NA              NA                   \n",
              "    ⋯ posNeg  deathIncrease hospitalizedIncrease\n",
              "6   ⋯ 8596882 142           0                   \n",
              "62  ⋯ 8500463 166           0                   \n",
              "118 ⋯ 8409400 202           0                   \n",
              "174 ⋯ 8305713 113           0                   \n",
              "230 ⋯ 8184696  32           0                   \n",
              "286 ⋯ 8035975 132           0                   \n",
              "    hash                                     commercialScore\n",
              "6   de76be81f6dc15ca6c65b81d94e2c5e34e4489df 0              \n",
              "62  04d0f37534059d04347fd2c84c1183d80fe86371 0              \n",
              "118 c877f9c8b267330bc105adeffdf3dce664b3ba94 0              \n",
              "174 90e3e08ccbd077a1dd09f6322366feedef7d2356 0              \n",
              "230 3e13c19ce424ee3a196c2af8c24fa9df6cedf226 0              \n",
              "286 acaee9f7ca22b9c2c31866d7b2477e601fef5c3a 0              \n",
              "    negativeRegularScore negativeScore positiveScore score grade\n",
              "6   0                    0             0             0     NA   \n",
              "62  0                    0             0             0     NA   \n",
              "118 0                    0             0             0     NA   \n",
              "174 0                    0             0             0     NA   \n",
              "230 0                    0             0             0     NA   \n",
              "286 0                    0             0             0     NA   "
            ]
          },
          "metadata": {}
        }
      ],
      "source": [
        "head(CA)"
      ]
    },
    {
      "cell_type": "markdown",
      "id": "af9b33da",
      "metadata": {
        "id": "af9b33da"
      },
      "source": [
        "## Use of ***dplyr*** package for summarizing variables"
      ]
    },
    {
      "cell_type": "markdown",
      "id": "baf818ae",
      "metadata": {
        "id": "baf818ae"
      },
      "source": [
        "We’re going to learn some of the most common dplyr functions:\n",
        "select(), filter(),\n",
        "group_by(), and summarize().\n",
        "* To select columns of a data frame, use select().\n",
        "* filter() helps you filter your data.\n",
        "* group_by() helps you aggregate your data into groups.\n",
        "* summarize() will eventually create a summary table"
      ]
    },
    {
      "cell_type": "markdown",
      "id": "1abbc8cf",
      "metadata": {
        "id": "1abbc8cf"
      },
      "source": [
        "### pipeline function\n",
        "\n",
        "pipe operator ***%>%** is Ctrl+Shift+M (Windows) or Cmd+Shift+M (Mac)."
      ]
    },
    {
      "cell_type": "markdown",
      "id": "d5c27975",
      "metadata": {
        "id": "d5c27975"
      },
      "source": [
        "for more details on the data check this description  \n",
        "https://covidtracking.com/data/api"
      ]
    },
    {
      "cell_type": "code",
      "execution_count": 68,
      "id": "81d30553",
      "metadata": {
        "id": "81d30553",
        "colab": {
          "base_uri": "https://localhost:8080/"
        },
        "outputId": "1f5baea2-f1a2-4d9d-c4f2-4e001bfc5d14"
      },
      "outputs": [
        {
          "output_type": "stream",
          "name": "stderr",
          "text": [
            "\n",
            "Attaching package: ‘dplyr’\n",
            "\n",
            "\n",
            "The following objects are masked from ‘package:stats’:\n",
            "\n",
            "    filter, lag\n",
            "\n",
            "\n",
            "The following objects are masked from ‘package:base’:\n",
            "\n",
            "    intersect, setdiff, setequal, union\n",
            "\n",
            "\n"
          ]
        }
      ],
      "source": [
        "library(dplyr)"
      ]
    },
    {
      "cell_type": "code",
      "execution_count": 69,
      "id": "d08ad6ea",
      "metadata": {
        "scrolled": true,
        "id": "d08ad6ea",
        "colab": {
          "base_uri": "https://localhost:8080/",
          "height": 1000
        },
        "outputId": "34c89e16-272e-42cb-a81d-bb3b9c7d5be0"
      },
      "outputs": [
        {
          "output_type": "display_data",
          "data": {
            "text/html": [
              "<table class=\"dataframe\">\n",
              "<caption>A data.frame: 8697 × 1</caption>\n",
              "<thead>\n",
              "\t<tr><th scope=col>state</th></tr>\n",
              "\t<tr><th scope=col>&lt;fct&gt;</th></tr>\n",
              "</thead>\n",
              "<tbody>\n",
              "\t<tr><td>AK</td></tr>\n",
              "\t<tr><td>AL</td></tr>\n",
              "\t<tr><td>AR</td></tr>\n",
              "\t<tr><td>AS</td></tr>\n",
              "\t<tr><td>AZ</td></tr>\n",
              "\t<tr><td>CA</td></tr>\n",
              "\t<tr><td>CO</td></tr>\n",
              "\t<tr><td>CT</td></tr>\n",
              "\t<tr><td>DC</td></tr>\n",
              "\t<tr><td>DE</td></tr>\n",
              "\t<tr><td>FL</td></tr>\n",
              "\t<tr><td>GA</td></tr>\n",
              "\t<tr><td>GU</td></tr>\n",
              "\t<tr><td>HI</td></tr>\n",
              "\t<tr><td>IA</td></tr>\n",
              "\t<tr><td>ID</td></tr>\n",
              "\t<tr><td>IL</td></tr>\n",
              "\t<tr><td>IN</td></tr>\n",
              "\t<tr><td>KS</td></tr>\n",
              "\t<tr><td>KY</td></tr>\n",
              "\t<tr><td>LA</td></tr>\n",
              "\t<tr><td>MA</td></tr>\n",
              "\t<tr><td>MD</td></tr>\n",
              "\t<tr><td>ME</td></tr>\n",
              "\t<tr><td>MI</td></tr>\n",
              "\t<tr><td>MN</td></tr>\n",
              "\t<tr><td>MO</td></tr>\n",
              "\t<tr><td>MP</td></tr>\n",
              "\t<tr><td>MS</td></tr>\n",
              "\t<tr><td>MT</td></tr>\n",
              "\t<tr><td>⋮</td></tr>\n",
              "\t<tr><td>WA</td></tr>\n",
              "\t<tr><td>WA</td></tr>\n",
              "\t<tr><td>WA</td></tr>\n",
              "\t<tr><td>WA</td></tr>\n",
              "\t<tr><td>WA</td></tr>\n",
              "\t<tr><td>WA</td></tr>\n",
              "\t<tr><td>WA</td></tr>\n",
              "\t<tr><td>WA</td></tr>\n",
              "\t<tr><td>WA</td></tr>\n",
              "\t<tr><td>WA</td></tr>\n",
              "\t<tr><td>WA</td></tr>\n",
              "\t<tr><td>WA</td></tr>\n",
              "\t<tr><td>WA</td></tr>\n",
              "\t<tr><td>WA</td></tr>\n",
              "\t<tr><td>WA</td></tr>\n",
              "\t<tr><td>WA</td></tr>\n",
              "\t<tr><td>WA</td></tr>\n",
              "\t<tr><td>WA</td></tr>\n",
              "\t<tr><td>WA</td></tr>\n",
              "\t<tr><td>WA</td></tr>\n",
              "\t<tr><td>WA</td></tr>\n",
              "\t<tr><td>WA</td></tr>\n",
              "\t<tr><td>WA</td></tr>\n",
              "\t<tr><td>WA</td></tr>\n",
              "\t<tr><td>WA</td></tr>\n",
              "\t<tr><td>WA</td></tr>\n",
              "\t<tr><td>WA</td></tr>\n",
              "\t<tr><td>WA</td></tr>\n",
              "\t<tr><td>WA</td></tr>\n",
              "\t<tr><td>WA</td></tr>\n",
              "</tbody>\n",
              "</table>\n"
            ],
            "text/markdown": "\nA data.frame: 8697 × 1\n\n| state &lt;fct&gt; |\n|---|\n| AK |\n| AL |\n| AR |\n| AS |\n| AZ |\n| CA |\n| CO |\n| CT |\n| DC |\n| DE |\n| FL |\n| GA |\n| GU |\n| HI |\n| IA |\n| ID |\n| IL |\n| IN |\n| KS |\n| KY |\n| LA |\n| MA |\n| MD |\n| ME |\n| MI |\n| MN |\n| MO |\n| MP |\n| MS |\n| MT |\n| ⋮ |\n| WA |\n| WA |\n| WA |\n| WA |\n| WA |\n| WA |\n| WA |\n| WA |\n| WA |\n| WA |\n| WA |\n| WA |\n| WA |\n| WA |\n| WA |\n| WA |\n| WA |\n| WA |\n| WA |\n| WA |\n| WA |\n| WA |\n| WA |\n| WA |\n| WA |\n| WA |\n| WA |\n| WA |\n| WA |\n| WA |\n\n",
            "text/latex": "A data.frame: 8697 × 1\n\\begin{tabular}{l}\n state\\\\\n <fct>\\\\\n\\hline\n\t AK\\\\\n\t AL\\\\\n\t AR\\\\\n\t AS\\\\\n\t AZ\\\\\n\t CA\\\\\n\t CO\\\\\n\t CT\\\\\n\t DC\\\\\n\t DE\\\\\n\t FL\\\\\n\t GA\\\\\n\t GU\\\\\n\t HI\\\\\n\t IA\\\\\n\t ID\\\\\n\t IL\\\\\n\t IN\\\\\n\t KS\\\\\n\t KY\\\\\n\t LA\\\\\n\t MA\\\\\n\t MD\\\\\n\t ME\\\\\n\t MI\\\\\n\t MN\\\\\n\t MO\\\\\n\t MP\\\\\n\t MS\\\\\n\t MT\\\\\n\t ⋮\\\\\n\t WA\\\\\n\t WA\\\\\n\t WA\\\\\n\t WA\\\\\n\t WA\\\\\n\t WA\\\\\n\t WA\\\\\n\t WA\\\\\n\t WA\\\\\n\t WA\\\\\n\t WA\\\\\n\t WA\\\\\n\t WA\\\\\n\t WA\\\\\n\t WA\\\\\n\t WA\\\\\n\t WA\\\\\n\t WA\\\\\n\t WA\\\\\n\t WA\\\\\n\t WA\\\\\n\t WA\\\\\n\t WA\\\\\n\t WA\\\\\n\t WA\\\\\n\t WA\\\\\n\t WA\\\\\n\t WA\\\\\n\t WA\\\\\n\t WA\\\\\n\\end{tabular}\n",
            "text/plain": [
              "     state\n",
              "1    AK   \n",
              "2    AL   \n",
              "3    AR   \n",
              "4    AS   \n",
              "5    AZ   \n",
              "6    CA   \n",
              "7    CO   \n",
              "8    CT   \n",
              "9    DC   \n",
              "10   DE   \n",
              "11   FL   \n",
              "12   GA   \n",
              "13   GU   \n",
              "14   HI   \n",
              "15   IA   \n",
              "16   ID   \n",
              "17   IL   \n",
              "18   IN   \n",
              "19   KS   \n",
              "20   KY   \n",
              "21   LA   \n",
              "22   MA   \n",
              "23   MD   \n",
              "24   ME   \n",
              "25   MI   \n",
              "26   MN   \n",
              "27   MO   \n",
              "28   MP   \n",
              "29   MS   \n",
              "30   MT   \n",
              "⋮    ⋮    \n",
              "8668 WA   \n",
              "8669 WA   \n",
              "8670 WA   \n",
              "8671 WA   \n",
              "8672 WA   \n",
              "8673 WA   \n",
              "8674 WA   \n",
              "8675 WA   \n",
              "8676 WA   \n",
              "8677 WA   \n",
              "8678 WA   \n",
              "8679 WA   \n",
              "8680 WA   \n",
              "8681 WA   \n",
              "8682 WA   \n",
              "8683 WA   \n",
              "8684 WA   \n",
              "8685 WA   \n",
              "8686 WA   \n",
              "8687 WA   \n",
              "8688 WA   \n",
              "8689 WA   \n",
              "8690 WA   \n",
              "8691 WA   \n",
              "8692 WA   \n",
              "8693 WA   \n",
              "8694 WA   \n",
              "8695 WA   \n",
              "8696 WA   \n",
              "8697 WA   "
            ]
          },
          "metadata": {}
        }
      ],
      "source": [
        "COVID %>%\n",
        "select(state)"
      ]
    },
    {
      "cell_type": "code",
      "source": [],
      "metadata": {
        "id": "pZBwSumQIqYc"
      },
      "id": "pZBwSumQIqYc",
      "execution_count": null,
      "outputs": []
    },
    {
      "cell_type": "code",
      "source": [],
      "metadata": {
        "id": "xYu1GIn6Iv3t"
      },
      "id": "xYu1GIn6Iv3t",
      "execution_count": null,
      "outputs": []
    },
    {
      "cell_type": "markdown",
      "source": [
        "Hello"
      ],
      "metadata": {
        "id": "hmoOLR9TIwNt"
      },
      "id": "hmoOLR9TIwNt"
    },
    {
      "cell_type": "code",
      "execution_count": 71,
      "id": "1a8cac46",
      "metadata": {
        "id": "1a8cac46",
        "colab": {
          "base_uri": "https://localhost:8080/",
          "height": 34
        },
        "outputId": "bee76b7a-e2f2-4911-9b75-b55806a9c353"
      },
      "outputs": [
        {
          "output_type": "display_data",
          "data": {
            "text/html": [
              "'integer'"
            ],
            "text/markdown": "'integer'",
            "text/latex": "'integer'",
            "text/plain": [
              "[1] \"integer\""
            ]
          },
          "metadata": {}
        }
      ],
      "source": [
        "typeof(COVID$state)"
      ]
    },
    {
      "cell_type": "code",
      "execution_count": null,
      "id": "d74871dc",
      "metadata": {
        "id": "d74871dc"
      },
      "outputs": [],
      "source": [
        "typeof(COVID$state)"
      ]
    },
    {
      "cell_type": "code",
      "execution_count": 72,
      "id": "e9fb276d",
      "metadata": {
        "scrolled": true,
        "id": "e9fb276d",
        "colab": {
          "base_uri": "https://localhost:8080/",
          "height": 1000
        },
        "outputId": "bfa590fc-bb2e-41fe-b291-8c8d283f747d"
      },
      "outputs": [
        {
          "output_type": "display_data",
          "data": {
            "text/html": [
              "<table class=\"dataframe\">\n",
              "<caption>A data.frame: 8697 × 3</caption>\n",
              "<thead>\n",
              "\t<tr><th scope=col>state</th><th scope=col>positive</th><th scope=col>positiveIncrease</th></tr>\n",
              "\t<tr><th scope=col>&lt;fct&gt;</th><th scope=col>&lt;int&gt;</th><th scope=col>&lt;int&gt;</th></tr>\n",
              "</thead>\n",
              "<tbody>\n",
              "\t<tr><td>AK</td><td>  4288</td><td>  65</td></tr>\n",
              "\t<tr><td>AL</td><td> 98301</td><td>1709</td></tr>\n",
              "\t<tr><td>AR</td><td> 48039</td><td>1011</td></tr>\n",
              "\t<tr><td>AS</td><td>     0</td><td>   0</td></tr>\n",
              "\t<tr><td>AZ</td><td>185053</td><td>1406</td></tr>\n",
              "\t<tr><td>CA</td><td>538416</td><td>8436</td></tr>\n",
              "\t<tr><td>CO</td><td> 49436</td><td> 448</td></tr>\n",
              "\t<tr><td>CT</td><td> 50320</td><td>  75</td></tr>\n",
              "\t<tr><td>DC</td><td> 12589</td><td>  71</td></tr>\n",
              "\t<tr><td>DE</td><td> 15445</td><td>  80</td></tr>\n",
              "\t<tr><td>FL</td><td>518075</td><td>7686</td></tr>\n",
              "\t<tr><td>GA</td><td>209004</td><td>4109</td></tr>\n",
              "\t<tr><td>GU</td><td>   411</td><td>  14</td></tr>\n",
              "\t<tr><td>HI</td><td>  2914</td><td> 151</td></tr>\n",
              "\t<tr><td>IA</td><td> 47865</td><td> 504</td></tr>\n",
              "\t<tr><td>ID</td><td> 23399</td><td> 692</td></tr>\n",
              "\t<tr><td>IL</td><td>191808</td><td>2103</td></tr>\n",
              "\t<tr><td>IN</td><td> 72254</td><td>1239</td></tr>\n",
              "\t<tr><td>KS</td><td> 30638</td><td> 921</td></tr>\n",
              "\t<tr><td>KY</td><td> 33796</td><td> 542</td></tr>\n",
              "\t<tr><td>LA</td><td>128746</td><td>1500</td></tr>\n",
              "\t<tr><td>MA</td><td>120291</td><td> 417</td></tr>\n",
              "\t<tr><td>MD</td><td> 93806</td><td> 801</td></tr>\n",
              "\t<tr><td>ME</td><td>  4014</td><td>  17</td></tr>\n",
              "\t<tr><td>MI</td><td> 95470</td><td> 814</td></tr>\n",
              "\t<tr><td>MN</td><td> 59185</td><td> 545</td></tr>\n",
              "\t<tr><td>MO</td><td> 57379</td><td> 996</td></tr>\n",
              "\t<tr><td>MP</td><td>    47</td><td>   0</td></tr>\n",
              "\t<tr><td>MS</td><td> 65436</td><td>1036</td></tr>\n",
              "\t<tr><td>MT</td><td>  4757</td><td> 155</td></tr>\n",
              "\t<tr><td>⋮</td><td>⋮</td><td>⋮</td></tr>\n",
              "\t<tr><td>WA</td><td>82</td><td>13</td></tr>\n",
              "\t<tr><td>WA</td><td>69</td><td>10</td></tr>\n",
              "\t<tr><td>WA</td><td>59</td><td> 9</td></tr>\n",
              "\t<tr><td>WA</td><td>50</td><td>15</td></tr>\n",
              "\t<tr><td>WA</td><td>35</td><td> 7</td></tr>\n",
              "\t<tr><td>WA</td><td>28</td><td> 7</td></tr>\n",
              "\t<tr><td>WA</td><td>21</td><td> 3</td></tr>\n",
              "\t<tr><td>WA</td><td>18</td><td> 0</td></tr>\n",
              "\t<tr><td>WA</td><td>18</td><td> 1</td></tr>\n",
              "\t<tr><td>WA</td><td>17</td><td> 1</td></tr>\n",
              "\t<tr><td>WA</td><td>16</td><td> 3</td></tr>\n",
              "\t<tr><td>WA</td><td>13</td><td> 0</td></tr>\n",
              "\t<tr><td>WA</td><td>13</td><td> 1</td></tr>\n",
              "\t<tr><td>WA</td><td>12</td><td> 1</td></tr>\n",
              "\t<tr><td>WA</td><td>11</td><td> 3</td></tr>\n",
              "\t<tr><td>WA</td><td> 8</td><td> 0</td></tr>\n",
              "\t<tr><td>WA</td><td> 8</td><td> 1</td></tr>\n",
              "\t<tr><td>WA</td><td> 7</td><td> 1</td></tr>\n",
              "\t<tr><td>WA</td><td> 6</td><td> 2</td></tr>\n",
              "\t<tr><td>WA</td><td> 4</td><td> 1</td></tr>\n",
              "\t<tr><td>WA</td><td> 3</td><td> 0</td></tr>\n",
              "\t<tr><td>WA</td><td> 3</td><td> 0</td></tr>\n",
              "\t<tr><td>WA</td><td> 3</td><td> 1</td></tr>\n",
              "\t<tr><td>WA</td><td> 2</td><td> 0</td></tr>\n",
              "\t<tr><td>WA</td><td> 2</td><td> 0</td></tr>\n",
              "\t<tr><td>WA</td><td> 2</td><td> 0</td></tr>\n",
              "\t<tr><td>WA</td><td> 2</td><td> 0</td></tr>\n",
              "\t<tr><td>WA</td><td> 2</td><td> 0</td></tr>\n",
              "\t<tr><td>WA</td><td> 2</td><td> 0</td></tr>\n",
              "\t<tr><td>WA</td><td> 2</td><td> 0</td></tr>\n",
              "</tbody>\n",
              "</table>\n"
            ],
            "text/markdown": "\nA data.frame: 8697 × 3\n\n| state &lt;fct&gt; | positive &lt;int&gt; | positiveIncrease &lt;int&gt; |\n|---|---|---|\n| AK |   4288 |   65 |\n| AL |  98301 | 1709 |\n| AR |  48039 | 1011 |\n| AS |      0 |    0 |\n| AZ | 185053 | 1406 |\n| CA | 538416 | 8436 |\n| CO |  49436 |  448 |\n| CT |  50320 |   75 |\n| DC |  12589 |   71 |\n| DE |  15445 |   80 |\n| FL | 518075 | 7686 |\n| GA | 209004 | 4109 |\n| GU |    411 |   14 |\n| HI |   2914 |  151 |\n| IA |  47865 |  504 |\n| ID |  23399 |  692 |\n| IL | 191808 | 2103 |\n| IN |  72254 | 1239 |\n| KS |  30638 |  921 |\n| KY |  33796 |  542 |\n| LA | 128746 | 1500 |\n| MA | 120291 |  417 |\n| MD |  93806 |  801 |\n| ME |   4014 |   17 |\n| MI |  95470 |  814 |\n| MN |  59185 |  545 |\n| MO |  57379 |  996 |\n| MP |     47 |    0 |\n| MS |  65436 | 1036 |\n| MT |   4757 |  155 |\n| ⋮ | ⋮ | ⋮ |\n| WA | 82 | 13 |\n| WA | 69 | 10 |\n| WA | 59 |  9 |\n| WA | 50 | 15 |\n| WA | 35 |  7 |\n| WA | 28 |  7 |\n| WA | 21 |  3 |\n| WA | 18 |  0 |\n| WA | 18 |  1 |\n| WA | 17 |  1 |\n| WA | 16 |  3 |\n| WA | 13 |  0 |\n| WA | 13 |  1 |\n| WA | 12 |  1 |\n| WA | 11 |  3 |\n| WA |  8 |  0 |\n| WA |  8 |  1 |\n| WA |  7 |  1 |\n| WA |  6 |  2 |\n| WA |  4 |  1 |\n| WA |  3 |  0 |\n| WA |  3 |  0 |\n| WA |  3 |  1 |\n| WA |  2 |  0 |\n| WA |  2 |  0 |\n| WA |  2 |  0 |\n| WA |  2 |  0 |\n| WA |  2 |  0 |\n| WA |  2 |  0 |\n| WA |  2 |  0 |\n\n",
            "text/latex": "A data.frame: 8697 × 3\n\\begin{tabular}{lll}\n state & positive & positiveIncrease\\\\\n <fct> & <int> & <int>\\\\\n\\hline\n\t AK &   4288 &   65\\\\\n\t AL &  98301 & 1709\\\\\n\t AR &  48039 & 1011\\\\\n\t AS &      0 &    0\\\\\n\t AZ & 185053 & 1406\\\\\n\t CA & 538416 & 8436\\\\\n\t CO &  49436 &  448\\\\\n\t CT &  50320 &   75\\\\\n\t DC &  12589 &   71\\\\\n\t DE &  15445 &   80\\\\\n\t FL & 518075 & 7686\\\\\n\t GA & 209004 & 4109\\\\\n\t GU &    411 &   14\\\\\n\t HI &   2914 &  151\\\\\n\t IA &  47865 &  504\\\\\n\t ID &  23399 &  692\\\\\n\t IL & 191808 & 2103\\\\\n\t IN &  72254 & 1239\\\\\n\t KS &  30638 &  921\\\\\n\t KY &  33796 &  542\\\\\n\t LA & 128746 & 1500\\\\\n\t MA & 120291 &  417\\\\\n\t MD &  93806 &  801\\\\\n\t ME &   4014 &   17\\\\\n\t MI &  95470 &  814\\\\\n\t MN &  59185 &  545\\\\\n\t MO &  57379 &  996\\\\\n\t MP &     47 &    0\\\\\n\t MS &  65436 & 1036\\\\\n\t MT &   4757 &  155\\\\\n\t ⋮ & ⋮ & ⋮\\\\\n\t WA & 82 & 13\\\\\n\t WA & 69 & 10\\\\\n\t WA & 59 &  9\\\\\n\t WA & 50 & 15\\\\\n\t WA & 35 &  7\\\\\n\t WA & 28 &  7\\\\\n\t WA & 21 &  3\\\\\n\t WA & 18 &  0\\\\\n\t WA & 18 &  1\\\\\n\t WA & 17 &  1\\\\\n\t WA & 16 &  3\\\\\n\t WA & 13 &  0\\\\\n\t WA & 13 &  1\\\\\n\t WA & 12 &  1\\\\\n\t WA & 11 &  3\\\\\n\t WA &  8 &  0\\\\\n\t WA &  8 &  1\\\\\n\t WA &  7 &  1\\\\\n\t WA &  6 &  2\\\\\n\t WA &  4 &  1\\\\\n\t WA &  3 &  0\\\\\n\t WA &  3 &  0\\\\\n\t WA &  3 &  1\\\\\n\t WA &  2 &  0\\\\\n\t WA &  2 &  0\\\\\n\t WA &  2 &  0\\\\\n\t WA &  2 &  0\\\\\n\t WA &  2 &  0\\\\\n\t WA &  2 &  0\\\\\n\t WA &  2 &  0\\\\\n\\end{tabular}\n",
            "text/plain": [
              "     state positive positiveIncrease\n",
              "1    AK      4288     65            \n",
              "2    AL     98301   1709            \n",
              "3    AR     48039   1011            \n",
              "4    AS         0      0            \n",
              "5    AZ    185053   1406            \n",
              "6    CA    538416   8436            \n",
              "7    CO     49436    448            \n",
              "8    CT     50320     75            \n",
              "9    DC     12589     71            \n",
              "10   DE     15445     80            \n",
              "11   FL    518075   7686            \n",
              "12   GA    209004   4109            \n",
              "13   GU       411     14            \n",
              "14   HI      2914    151            \n",
              "15   IA     47865    504            \n",
              "16   ID     23399    692            \n",
              "17   IL    191808   2103            \n",
              "18   IN     72254   1239            \n",
              "19   KS     30638    921            \n",
              "20   KY     33796    542            \n",
              "21   LA    128746   1500            \n",
              "22   MA    120291    417            \n",
              "23   MD     93806    801            \n",
              "24   ME      4014     17            \n",
              "25   MI     95470    814            \n",
              "26   MN     59185    545            \n",
              "27   MO     57379    996            \n",
              "28   MP        47      0            \n",
              "29   MS     65436   1036            \n",
              "30   MT      4757    155            \n",
              "⋮    ⋮     ⋮        ⋮               \n",
              "8668 WA    82       13              \n",
              "8669 WA    69       10              \n",
              "8670 WA    59        9              \n",
              "8671 WA    50       15              \n",
              "8672 WA    35        7              \n",
              "8673 WA    28        7              \n",
              "8674 WA    21        3              \n",
              "8675 WA    18        0              \n",
              "8676 WA    18        1              \n",
              "8677 WA    17        1              \n",
              "8678 WA    16        3              \n",
              "8679 WA    13        0              \n",
              "8680 WA    13        1              \n",
              "8681 WA    12        1              \n",
              "8682 WA    11        3              \n",
              "8683 WA     8        0              \n",
              "8684 WA     8        1              \n",
              "8685 WA     7        1              \n",
              "8686 WA     6        2              \n",
              "8687 WA     4        1              \n",
              "8688 WA     3        0              \n",
              "8689 WA     3        0              \n",
              "8690 WA     3        1              \n",
              "8691 WA     2        0              \n",
              "8692 WA     2        0              \n",
              "8693 WA     2        0              \n",
              "8694 WA     2        0              \n",
              "8695 WA     2        0              \n",
              "8696 WA     2        0              \n",
              "8697 WA     2        0              "
            ]
          },
          "metadata": {}
        }
      ],
      "source": [
        "COVID %>%\n",
        "select(state, positive, positiveIncrease) ## total cases and increase in cases every day"
      ]
    },
    {
      "cell_type": "markdown",
      "id": "1fd22a56",
      "metadata": {
        "id": "1fd22a56"
      },
      "source": [
        "\n",
        "## How can we determine the TOTAL number of cases for each state?\n",
        "positive: represents cumulative number of cases  \n",
        "positiveIncrease: daily increase: incidence   "
      ]
    },
    {
      "cell_type": "code",
      "execution_count": 73,
      "id": "fe520974",
      "metadata": {
        "scrolled": true,
        "id": "fe520974",
        "colab": {
          "base_uri": "https://localhost:8080/",
          "height": 1000
        },
        "outputId": "77255de4-d0dd-44d6-cb20-a378e0de5871"
      },
      "outputs": [
        {
          "output_type": "display_data",
          "data": {
            "text/html": [
              "<table class=\"dataframe\">\n",
              "<caption>A tibble: 56 × 1</caption>\n",
              "<thead>\n",
              "\t<tr><th scope=col>state</th></tr>\n",
              "\t<tr><th scope=col>&lt;fct&gt;</th></tr>\n",
              "</thead>\n",
              "<tbody>\n",
              "\t<tr><td>AK</td></tr>\n",
              "\t<tr><td>AL</td></tr>\n",
              "\t<tr><td>AR</td></tr>\n",
              "\t<tr><td>AS</td></tr>\n",
              "\t<tr><td>AZ</td></tr>\n",
              "\t<tr><td>CA</td></tr>\n",
              "\t<tr><td>CO</td></tr>\n",
              "\t<tr><td>CT</td></tr>\n",
              "\t<tr><td>DC</td></tr>\n",
              "\t<tr><td>DE</td></tr>\n",
              "\t<tr><td>FL</td></tr>\n",
              "\t<tr><td>GA</td></tr>\n",
              "\t<tr><td>GU</td></tr>\n",
              "\t<tr><td>HI</td></tr>\n",
              "\t<tr><td>IA</td></tr>\n",
              "\t<tr><td>ID</td></tr>\n",
              "\t<tr><td>IL</td></tr>\n",
              "\t<tr><td>IN</td></tr>\n",
              "\t<tr><td>KS</td></tr>\n",
              "\t<tr><td>KY</td></tr>\n",
              "\t<tr><td>LA</td></tr>\n",
              "\t<tr><td>MA</td></tr>\n",
              "\t<tr><td>MD</td></tr>\n",
              "\t<tr><td>ME</td></tr>\n",
              "\t<tr><td>MI</td></tr>\n",
              "\t<tr><td>MN</td></tr>\n",
              "\t<tr><td>MO</td></tr>\n",
              "\t<tr><td>MP</td></tr>\n",
              "\t<tr><td>MS</td></tr>\n",
              "\t<tr><td>MT</td></tr>\n",
              "\t<tr><td>NC</td></tr>\n",
              "\t<tr><td>ND</td></tr>\n",
              "\t<tr><td>NE</td></tr>\n",
              "\t<tr><td>NH</td></tr>\n",
              "\t<tr><td>NJ</td></tr>\n",
              "\t<tr><td>NM</td></tr>\n",
              "\t<tr><td>NV</td></tr>\n",
              "\t<tr><td>NY</td></tr>\n",
              "\t<tr><td>OH</td></tr>\n",
              "\t<tr><td>OK</td></tr>\n",
              "\t<tr><td>OR</td></tr>\n",
              "\t<tr><td>PA</td></tr>\n",
              "\t<tr><td>PR</td></tr>\n",
              "\t<tr><td>RI</td></tr>\n",
              "\t<tr><td>SC</td></tr>\n",
              "\t<tr><td>SD</td></tr>\n",
              "\t<tr><td>TN</td></tr>\n",
              "\t<tr><td>TX</td></tr>\n",
              "\t<tr><td>UT</td></tr>\n",
              "\t<tr><td>VA</td></tr>\n",
              "\t<tr><td>VI</td></tr>\n",
              "\t<tr><td>VT</td></tr>\n",
              "\t<tr><td>WA</td></tr>\n",
              "\t<tr><td>WI</td></tr>\n",
              "\t<tr><td>WV</td></tr>\n",
              "\t<tr><td>WY</td></tr>\n",
              "</tbody>\n",
              "</table>\n"
            ],
            "text/markdown": "\nA tibble: 56 × 1\n\n| state &lt;fct&gt; |\n|---|\n| AK |\n| AL |\n| AR |\n| AS |\n| AZ |\n| CA |\n| CO |\n| CT |\n| DC |\n| DE |\n| FL |\n| GA |\n| GU |\n| HI |\n| IA |\n| ID |\n| IL |\n| IN |\n| KS |\n| KY |\n| LA |\n| MA |\n| MD |\n| ME |\n| MI |\n| MN |\n| MO |\n| MP |\n| MS |\n| MT |\n| NC |\n| ND |\n| NE |\n| NH |\n| NJ |\n| NM |\n| NV |\n| NY |\n| OH |\n| OK |\n| OR |\n| PA |\n| PR |\n| RI |\n| SC |\n| SD |\n| TN |\n| TX |\n| UT |\n| VA |\n| VI |\n| VT |\n| WA |\n| WI |\n| WV |\n| WY |\n\n",
            "text/latex": "A tibble: 56 × 1\n\\begin{tabular}{l}\n state\\\\\n <fct>\\\\\n\\hline\n\t AK\\\\\n\t AL\\\\\n\t AR\\\\\n\t AS\\\\\n\t AZ\\\\\n\t CA\\\\\n\t CO\\\\\n\t CT\\\\\n\t DC\\\\\n\t DE\\\\\n\t FL\\\\\n\t GA\\\\\n\t GU\\\\\n\t HI\\\\\n\t IA\\\\\n\t ID\\\\\n\t IL\\\\\n\t IN\\\\\n\t KS\\\\\n\t KY\\\\\n\t LA\\\\\n\t MA\\\\\n\t MD\\\\\n\t ME\\\\\n\t MI\\\\\n\t MN\\\\\n\t MO\\\\\n\t MP\\\\\n\t MS\\\\\n\t MT\\\\\n\t NC\\\\\n\t ND\\\\\n\t NE\\\\\n\t NH\\\\\n\t NJ\\\\\n\t NM\\\\\n\t NV\\\\\n\t NY\\\\\n\t OH\\\\\n\t OK\\\\\n\t OR\\\\\n\t PA\\\\\n\t PR\\\\\n\t RI\\\\\n\t SC\\\\\n\t SD\\\\\n\t TN\\\\\n\t TX\\\\\n\t UT\\\\\n\t VA\\\\\n\t VI\\\\\n\t VT\\\\\n\t WA\\\\\n\t WI\\\\\n\t WV\\\\\n\t WY\\\\\n\\end{tabular}\n",
            "text/plain": [
              "   state\n",
              "1  AK   \n",
              "2  AL   \n",
              "3  AR   \n",
              "4  AS   \n",
              "5  AZ   \n",
              "6  CA   \n",
              "7  CO   \n",
              "8  CT   \n",
              "9  DC   \n",
              "10 DE   \n",
              "11 FL   \n",
              "12 GA   \n",
              "13 GU   \n",
              "14 HI   \n",
              "15 IA   \n",
              "16 ID   \n",
              "17 IL   \n",
              "18 IN   \n",
              "19 KS   \n",
              "20 KY   \n",
              "21 LA   \n",
              "22 MA   \n",
              "23 MD   \n",
              "24 ME   \n",
              "25 MI   \n",
              "26 MN   \n",
              "27 MO   \n",
              "28 MP   \n",
              "29 MS   \n",
              "30 MT   \n",
              "31 NC   \n",
              "32 ND   \n",
              "33 NE   \n",
              "34 NH   \n",
              "35 NJ   \n",
              "36 NM   \n",
              "37 NV   \n",
              "38 NY   \n",
              "39 OH   \n",
              "40 OK   \n",
              "41 OR   \n",
              "42 PA   \n",
              "43 PR   \n",
              "44 RI   \n",
              "45 SC   \n",
              "46 SD   \n",
              "47 TN   \n",
              "48 TX   \n",
              "49 UT   \n",
              "50 VA   \n",
              "51 VI   \n",
              "52 VT   \n",
              "53 WA   \n",
              "54 WI   \n",
              "55 WV   \n",
              "56 WY   "
            ]
          },
          "metadata": {}
        }
      ],
      "source": [
        "COVID %>%\n",
        "select(state, positive, positiveIncrease) %>%\n",
        "group_by(state) %>%\n",
        "summarise_all(list())"
      ]
    },
    {
      "cell_type": "code",
      "execution_count": 74,
      "id": "26486a3d",
      "metadata": {
        "id": "26486a3d"
      },
      "outputs": [],
      "source": [
        "total_cases = COVID %>%\n",
        "select(state, positive, positiveIncrease)  %>%\n",
        "group_by(state) %>%\n",
        "summarise_all(list(sum))"
      ]
    },
    {
      "cell_type": "code",
      "execution_count": 75,
      "id": "bf7caffc",
      "metadata": {
        "scrolled": true,
        "id": "bf7caffc",
        "colab": {
          "base_uri": "https://localhost:8080/",
          "height": 1000
        },
        "outputId": "62b94025-66e9-4190-9eda-47d590300bdb"
      },
      "outputs": [
        {
          "output_type": "display_data",
          "data": {
            "text/html": [
              "<table class=\"dataframe\">\n",
              "<caption>A tibble: 56 × 3</caption>\n",
              "<thead>\n",
              "\t<tr><th scope=col>state</th><th scope=col>positive</th><th scope=col>positiveIncrease</th></tr>\n",
              "\t<tr><th scope=col>&lt;fct&gt;</th><th scope=col>&lt;int&gt;</th><th scope=col>&lt;int&gt;</th></tr>\n",
              "</thead>\n",
              "<tbody>\n",
              "\t<tr><td>AK</td><td>  134077</td><td>  4288</td></tr>\n",
              "\t<tr><td>AL</td><td> 3871170</td><td> 98301</td></tr>\n",
              "\t<tr><td>AR</td><td> 1889375</td><td> 48039</td></tr>\n",
              "\t<tr><td>AS</td><td>      NA</td><td>     0</td></tr>\n",
              "\t<tr><td>AZ</td><td> 7214571</td><td>185051</td></tr>\n",
              "\t<tr><td>CA</td><td>22831073</td><td>538363</td></tr>\n",
              "\t<tr><td>CO</td><td> 3337953</td><td> 49436</td></tr>\n",
              "\t<tr><td>CT</td><td> 4784306</td><td> 50320</td></tr>\n",
              "\t<tr><td>DC</td><td> 1012805</td><td> 12589</td></tr>\n",
              "\t<tr><td>DE</td><td> 1126585</td><td> 15445</td></tr>\n",
              "\t<tr><td>FL</td><td>17961848</td><td>518073</td></tr>\n",
              "\t<tr><td>GA</td><td> 8965625</td><td>209002</td></tr>\n",
              "\t<tr><td>GU</td><td>   27822</td><td>   408</td></tr>\n",
              "\t<tr><td>HI</td><td>  116125</td><td>  2913</td></tr>\n",
              "\t<tr><td>IA</td><td> 2724964</td><td> 47865</td></tr>\n",
              "\t<tr><td>ID</td><td>  780975</td><td> 23399</td></tr>\n",
              "\t<tr><td>IL</td><td>13942819</td><td>191804</td></tr>\n",
              "\t<tr><td>IN</td><td> 4537344</td><td> 72253</td></tr>\n",
              "\t<tr><td>KS</td><td> 1501936</td><td> 30638</td></tr>\n",
              "\t<tr><td>KY</td><td> 1587228</td><td> 33796</td></tr>\n",
              "\t<tr><td>LA</td><td> 6701003</td><td>128746</td></tr>\n",
              "\t<tr><td>MA</td><td>11100553</td><td>120283</td></tr>\n",
              "\t<tr><td>MD</td><td> 6383048</td><td> 93806</td></tr>\n",
              "\t<tr><td>ME</td><td>  300570</td><td>  4014</td></tr>\n",
              "\t<tr><td>MI</td><td> 8101859</td><td> 95461</td></tr>\n",
              "\t<tr><td>MN</td><td> 3384119</td><td> 59184</td></tr>\n",
              "\t<tr><td>MO</td><td> 2367625</td><td> 57379</td></tr>\n",
              "\t<tr><td>MP</td><td>    3224</td><td>    47</td></tr>\n",
              "\t<tr><td>MS</td><td> 2787282</td><td> 65436</td></tr>\n",
              "\t<tr><td>MT</td><td>  148042</td><td>  4757</td></tr>\n",
              "\t<tr><td>NC</td><td> 5923173</td><td>132811</td></tr>\n",
              "\t<tr><td>ND</td><td>  364448</td><td>  7327</td></tr>\n",
              "\t<tr><td>NE</td><td> 1712696</td><td> 27821</td></tr>\n",
              "\t<tr><td>NH</td><td>  539795</td><td>  6740</td></tr>\n",
              "\t<tr><td>NJ</td><td>18509154</td><td>184060</td></tr>\n",
              "\t<tr><td>NM</td><td> 1159927</td><td> 21773</td></tr>\n",
              "\t<tr><td>NV</td><td> 2053853</td><td> 54532</td></tr>\n",
              "\t<tr><td>NY</td><td>44361091</td><td>419636</td></tr>\n",
              "\t<tr><td>OH</td><td> 5297440</td><td> 98675</td></tr>\n",
              "\t<tr><td>OK</td><td> 1525603</td><td> 42254</td></tr>\n",
              "\t<tr><td>OR</td><td>  905039</td><td> 20633</td></tr>\n",
              "\t<tr><td>PA</td><td> 8966796</td><td>117277</td></tr>\n",
              "\t<tr><td>PR</td><td>  773783</td><td> 20681</td></tr>\n",
              "\t<tr><td>RI</td><td> 1694542</td><td> 19736</td></tr>\n",
              "\t<tr><td>SC</td><td> 3660931</td><td> 98219</td></tr>\n",
              "\t<tr><td>SD</td><td>  637711</td><td>  9371</td></tr>\n",
              "\t<tr><td>TN</td><td> 4748342</td><td>118781</td></tr>\n",
              "\t<tr><td>TX</td><td>17198909</td><td>474523</td></tr>\n",
              "\t<tr><td>UT</td><td> 2049009</td><td> 43374</td></tr>\n",
              "\t<tr><td>VA</td><td> 5789989</td><td> 97882</td></tr>\n",
              "\t<tr><td>VI</td><td>   16785</td><td>   521</td></tr>\n",
              "\t<tr><td>VT</td><td>  137662</td><td>  1448</td></tr>\n",
              "\t<tr><td>WA</td><td> 3706985</td><td> 60915</td></tr>\n",
              "\t<tr><td>WI</td><td> 3143226</td><td> 63027</td></tr>\n",
              "\t<tr><td>WV</td><td>  334690</td><td>  7433</td></tr>\n",
              "\t<tr><td>WY</td><td>  149770</td><td>  3000</td></tr>\n",
              "</tbody>\n",
              "</table>\n"
            ],
            "text/markdown": "\nA tibble: 56 × 3\n\n| state &lt;fct&gt; | positive &lt;int&gt; | positiveIncrease &lt;int&gt; |\n|---|---|---|\n| AK |   134077 |   4288 |\n| AL |  3871170 |  98301 |\n| AR |  1889375 |  48039 |\n| AS |       NA |      0 |\n| AZ |  7214571 | 185051 |\n| CA | 22831073 | 538363 |\n| CO |  3337953 |  49436 |\n| CT |  4784306 |  50320 |\n| DC |  1012805 |  12589 |\n| DE |  1126585 |  15445 |\n| FL | 17961848 | 518073 |\n| GA |  8965625 | 209002 |\n| GU |    27822 |    408 |\n| HI |   116125 |   2913 |\n| IA |  2724964 |  47865 |\n| ID |   780975 |  23399 |\n| IL | 13942819 | 191804 |\n| IN |  4537344 |  72253 |\n| KS |  1501936 |  30638 |\n| KY |  1587228 |  33796 |\n| LA |  6701003 | 128746 |\n| MA | 11100553 | 120283 |\n| MD |  6383048 |  93806 |\n| ME |   300570 |   4014 |\n| MI |  8101859 |  95461 |\n| MN |  3384119 |  59184 |\n| MO |  2367625 |  57379 |\n| MP |     3224 |     47 |\n| MS |  2787282 |  65436 |\n| MT |   148042 |   4757 |\n| NC |  5923173 | 132811 |\n| ND |   364448 |   7327 |\n| NE |  1712696 |  27821 |\n| NH |   539795 |   6740 |\n| NJ | 18509154 | 184060 |\n| NM |  1159927 |  21773 |\n| NV |  2053853 |  54532 |\n| NY | 44361091 | 419636 |\n| OH |  5297440 |  98675 |\n| OK |  1525603 |  42254 |\n| OR |   905039 |  20633 |\n| PA |  8966796 | 117277 |\n| PR |   773783 |  20681 |\n| RI |  1694542 |  19736 |\n| SC |  3660931 |  98219 |\n| SD |   637711 |   9371 |\n| TN |  4748342 | 118781 |\n| TX | 17198909 | 474523 |\n| UT |  2049009 |  43374 |\n| VA |  5789989 |  97882 |\n| VI |    16785 |    521 |\n| VT |   137662 |   1448 |\n| WA |  3706985 |  60915 |\n| WI |  3143226 |  63027 |\n| WV |   334690 |   7433 |\n| WY |   149770 |   3000 |\n\n",
            "text/latex": "A tibble: 56 × 3\n\\begin{tabular}{lll}\n state & positive & positiveIncrease\\\\\n <fct> & <int> & <int>\\\\\n\\hline\n\t AK &   134077 &   4288\\\\\n\t AL &  3871170 &  98301\\\\\n\t AR &  1889375 &  48039\\\\\n\t AS &       NA &      0\\\\\n\t AZ &  7214571 & 185051\\\\\n\t CA & 22831073 & 538363\\\\\n\t CO &  3337953 &  49436\\\\\n\t CT &  4784306 &  50320\\\\\n\t DC &  1012805 &  12589\\\\\n\t DE &  1126585 &  15445\\\\\n\t FL & 17961848 & 518073\\\\\n\t GA &  8965625 & 209002\\\\\n\t GU &    27822 &    408\\\\\n\t HI &   116125 &   2913\\\\\n\t IA &  2724964 &  47865\\\\\n\t ID &   780975 &  23399\\\\\n\t IL & 13942819 & 191804\\\\\n\t IN &  4537344 &  72253\\\\\n\t KS &  1501936 &  30638\\\\\n\t KY &  1587228 &  33796\\\\\n\t LA &  6701003 & 128746\\\\\n\t MA & 11100553 & 120283\\\\\n\t MD &  6383048 &  93806\\\\\n\t ME &   300570 &   4014\\\\\n\t MI &  8101859 &  95461\\\\\n\t MN &  3384119 &  59184\\\\\n\t MO &  2367625 &  57379\\\\\n\t MP &     3224 &     47\\\\\n\t MS &  2787282 &  65436\\\\\n\t MT &   148042 &   4757\\\\\n\t NC &  5923173 & 132811\\\\\n\t ND &   364448 &   7327\\\\\n\t NE &  1712696 &  27821\\\\\n\t NH &   539795 &   6740\\\\\n\t NJ & 18509154 & 184060\\\\\n\t NM &  1159927 &  21773\\\\\n\t NV &  2053853 &  54532\\\\\n\t NY & 44361091 & 419636\\\\\n\t OH &  5297440 &  98675\\\\\n\t OK &  1525603 &  42254\\\\\n\t OR &   905039 &  20633\\\\\n\t PA &  8966796 & 117277\\\\\n\t PR &   773783 &  20681\\\\\n\t RI &  1694542 &  19736\\\\\n\t SC &  3660931 &  98219\\\\\n\t SD &   637711 &   9371\\\\\n\t TN &  4748342 & 118781\\\\\n\t TX & 17198909 & 474523\\\\\n\t UT &  2049009 &  43374\\\\\n\t VA &  5789989 &  97882\\\\\n\t VI &    16785 &    521\\\\\n\t VT &   137662 &   1448\\\\\n\t WA &  3706985 &  60915\\\\\n\t WI &  3143226 &  63027\\\\\n\t WV &   334690 &   7433\\\\\n\t WY &   149770 &   3000\\\\\n\\end{tabular}\n",
            "text/plain": [
              "   state positive positiveIncrease\n",
              "1  AK      134077   4288          \n",
              "2  AL     3871170  98301          \n",
              "3  AR     1889375  48039          \n",
              "4  AS          NA      0          \n",
              "5  AZ     7214571 185051          \n",
              "6  CA    22831073 538363          \n",
              "7  CO     3337953  49436          \n",
              "8  CT     4784306  50320          \n",
              "9  DC     1012805  12589          \n",
              "10 DE     1126585  15445          \n",
              "11 FL    17961848 518073          \n",
              "12 GA     8965625 209002          \n",
              "13 GU       27822    408          \n",
              "14 HI      116125   2913          \n",
              "15 IA     2724964  47865          \n",
              "16 ID      780975  23399          \n",
              "17 IL    13942819 191804          \n",
              "18 IN     4537344  72253          \n",
              "19 KS     1501936  30638          \n",
              "20 KY     1587228  33796          \n",
              "21 LA     6701003 128746          \n",
              "22 MA    11100553 120283          \n",
              "23 MD     6383048  93806          \n",
              "24 ME      300570   4014          \n",
              "25 MI     8101859  95461          \n",
              "26 MN     3384119  59184          \n",
              "27 MO     2367625  57379          \n",
              "28 MP        3224     47          \n",
              "29 MS     2787282  65436          \n",
              "30 MT      148042   4757          \n",
              "31 NC     5923173 132811          \n",
              "32 ND      364448   7327          \n",
              "33 NE     1712696  27821          \n",
              "34 NH      539795   6740          \n",
              "35 NJ    18509154 184060          \n",
              "36 NM     1159927  21773          \n",
              "37 NV     2053853  54532          \n",
              "38 NY    44361091 419636          \n",
              "39 OH     5297440  98675          \n",
              "40 OK     1525603  42254          \n",
              "41 OR      905039  20633          \n",
              "42 PA     8966796 117277          \n",
              "43 PR      773783  20681          \n",
              "44 RI     1694542  19736          \n",
              "45 SC     3660931  98219          \n",
              "46 SD      637711   9371          \n",
              "47 TN     4748342 118781          \n",
              "48 TX    17198909 474523          \n",
              "49 UT     2049009  43374          \n",
              "50 VA     5789989  97882          \n",
              "51 VI       16785    521          \n",
              "52 VT      137662   1448          \n",
              "53 WA     3706985  60915          \n",
              "54 WI     3143226  63027          \n",
              "55 WV      334690   7433          \n",
              "56 WY      149770   3000          "
            ]
          },
          "metadata": {}
        }
      ],
      "source": [
        "total_cases"
      ]
    },
    {
      "cell_type": "code",
      "execution_count": 76,
      "id": "3042db08",
      "metadata": {
        "id": "3042db08",
        "colab": {
          "base_uri": "https://localhost:8080/",
          "height": 257
        },
        "outputId": "bb15b954-7509-4000-d9e1-9fc6abc15d52"
      },
      "outputs": [
        {
          "output_type": "display_data",
          "data": {
            "text/plain": [
              "plot without title"
            ],
            "image/png": "[encoded data removed]"
          },
          "metadata": {
            "image/png": {
              "width": 360,
              "height": 240
            }
          }
        }
      ],
      "source": [
        "ggplot(total_cases)+\n",
        "aes(x = state)+\n",
        "aes(y = positiveIncrease)+\n",
        "geom_bar(stat=\"identity\", color = 'steelblue', fill = 'steelblue')+\n",
        "xlab('State')+ ylab('Total COVID cases')+\n",
        "labs(title = \"COVID tracker data\")+\n",
        "coord_flip()\n",
        "#ggsave(\"state_points.pdf\", width = 4, height = 4)"
      ]
    },
    {
      "cell_type": "code",
      "execution_count": null,
      "id": "9b0ad0d0-ad11-4076-844a-c52b58801a6c",
      "metadata": {
        "id": "9b0ad0d0-ad11-4076-844a-c52b58801a6c"
      },
      "outputs": [],
      "source": []
    }
  ],
  "metadata": {
    "celltoolbar": "Slideshow",
    "kernelspec": {
      "display_name": "R",
      "name": "ir"
    },
    "language_info": {
      "codemirror_mode": "r",
      "file_extension": ".r",
      "mimetype": "text/x-r-source",
      "name": "R",
      "pygments_lexer": "r",
      "version": "4.4.1"
    },
    "colab": {
      "provenance": [],
      "include_colab_link": true
    }
  },
  "nbformat": 4,
  "nbformat_minor": 5
}