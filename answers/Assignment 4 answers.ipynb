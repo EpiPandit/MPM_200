{
 "cells": [
  {
   "cell_type": "markdown",
   "id": "56fadf42",
   "metadata": {},
   "source": [
    "# VME 298: Assingment 1"
   ]
  },
  {
   "cell_type": "markdown",
   "id": "8484bbbf",
   "metadata": {},
   "source": [
    "### Due 7th April 2022 9AM"
   ]
  },
  {
   "cell_type": "markdown",
   "id": "a0849975",
   "metadata": {},
   "source": [
    "* For all questions you must show your work. This enables us to understand your thought process, give partial credit and prevent crude cheating.\n",
    "* Please ensure that you are not copying each-others code, but rather understand each-others work and learn from it.   \n",
    "* Please provide the R code at the end of your solution. Include R commands with R outputs. It helps to describe your solutions. "
   ]
  },
  {
   "cell_type": "markdown",
   "id": "725f46ea",
   "metadata": {},
   "source": [
    "# Section 0: R"
   ]
  },
  {
   "cell_type": "markdown",
   "id": "519bfa54",
   "metadata": {},
   "source": [
    "**Q0: install package \"beepr\" from CRAN and use *beep()* function to make \"MARIO\" sound.**"
   ]
  },
  {
   "cell_type": "markdown",
   "id": "dc0b28a8",
   "metadata": {},
   "source": [
    "make sure you have following packaeges installed. \n",
    "1. Tidyverse\n",
    "2. dplyr\n",
    "3. GGplot2\n",
    "4. sjPlot"
   ]
  },
  {
   "cell_type": "markdown",
   "id": "f00a8942",
   "metadata": {},
   "source": [
    "## Will the hummer survive?\n",
    "\n",
    "#### You are a wildlife veterinarian and are interested in understanding the trends in hummingbird survival in California. You collaborate with a few regional rehabilitation centers and develop a dataset of hummingbird rehabiliation cases based on records established by the rehabilitation centers. \n",
    "\n",
    "#### The data recorded was following:\n",
    "\n",
    "Disposition_binary: Died or Released  \n",
    "Place: Rehabilitation center  \n",
    "F_Aid: First aid provided  \n",
    "Species_e: Hummingbird species: ANHU == Anna's Hummingbirds, Non-selasphorus: non-orange hummingbirds that are not identified till species level, Selasphorus: Hummingbirds that are from Selasphorus genus but not identified until species level, BCHU: Black-chinned hummmingbirds  \n",
    "Sex_e:  \n",
    "Age_e:  \n",
    "Brought_in_after: Number of days it was with the rescuer before it came to rehabilitation center  \n",
    "season: season when it was admitted  \n",
    "r: reason for admission  \n",
    "G_O: species classification: Green or Orange bird  \n",
    "ID: unique ID given to individual bird  \n",
    "\n"
   ]
  },
  {
   "cell_type": "markdown",
   "id": "5772b8fd",
   "metadata": {},
   "source": [
    "* Your aim is it idenify factors that affect the survival or sucessful release of hummingbirds once they are admitted to the rehabilitation center\n",
    "* You are expected to do following \n",
    "1. Tabulate and plot the distrbution of your ourcome variable\n",
    "2. Identify covariates that you think (based on your general understanding) and explore individual covariates\n",
    "3. Plot/tabulate individual covariates with your outcome\n",
    "4. Run univariate generalized linear models\n",
    "5. Run backward elimination to find the best fitting model\n",
    "6. Run forward addition to find best fitting model"
   ]
  },
  {
   "cell_type": "markdown",
   "id": "0d04e103",
   "metadata": {},
   "source": [
    "# Section 1\n",
    "### Reading the data\n",
    "Here you will read the **Hummingbird_data.csv** file dataset and create a random sample of it.   \n",
    "**The random sample dataset is what you will use to do the rest of the excersice.** "
   ]
  },
  {
   "cell_type": "markdown",
   "id": "197ac75d",
   "metadata": {},
   "source": [
    "**Q1. read the Hummingbird_data.csv file in R**   \n",
    "2 points"
   ]
  },
  {
   "cell_type": "code",
   "execution_count": 1,
   "id": "333b1846",
   "metadata": {},
   "outputs": [
    {
     "name": "stderr",
     "output_type": "stream",
     "text": [
      "Warning message in file(file, \"rt\"):\n",
      "\"cannot open file 'C:/Users/prana/Desktop/MPM 204/Week 1/Hummingbird_data.csv': No such file or directory\"\n"
     ]
    },
    {
     "ename": "ERROR",
     "evalue": "Error in file(file, \"rt\"): cannot open the connection\n",
     "output_type": "error",
     "traceback": [
      "Error in file(file, \"rt\"): cannot open the connection\nTraceback:\n",
      "1. read.table(file = file, header = header, sep = sep, quote = quote, \n .     dec = dec, fill = fill, comment.char = comment.char, ...)",
      "2. file(file, \"rt\")",
      "3. .handleSimpleError(function (cnd) \n . {\n .     watcher$capture_plot_and_output()\n .     cnd <- sanitize_call(cnd)\n .     watcher$push(cnd)\n .     switch(on_error, continue = invokeRestart(\"eval_continue\"), \n .         stop = invokeRestart(\"eval_stop\"), error = invokeRestart(\"eval_error\", \n .             cnd))\n . }, \"cannot open the connection\", base::quote(file(file, \"rt\")))"
     ]
    }
   ],
   "source": [
    "#read the csv file and\n",
    "data  = read.csv(\"C:/Users/prana/Desktop/MPM 204/Week 1/Hummingbird_data.csv\")"
   ]
  },
  {
   "cell_type": "code",
   "execution_count": 2,
   "id": "2e53b94b",
   "metadata": {},
   "outputs": [
    {
     "data": {
      "text/html": [
       "<style>\n",
       ".list-inline {list-style: none; margin:0; padding: 0}\n",
       ".list-inline>li {display: inline-block}\n",
       ".list-inline>li:not(:last-child)::after {content: \"\\00b7\"; padding: 0 .5ex}\n",
       "</style>\n",
       "<ol class=list-inline><li>'Admitted'</li><li>'Disposition_binary'</li><li>'Place'</li><li>'F_Aid'</li><li>'Species_e'</li><li>'Sex_e'</li><li>'Age_e'</li><li>'Brought_in_after'</li><li>'season'</li><li>'r'</li><li>'Green_Orange'</li><li>'ID'</li></ol>\n"
      ],
      "text/latex": [
       "\\begin{enumerate*}\n",
       "\\item 'Admitted'\n",
       "\\item 'Disposition\\_binary'\n",
       "\\item 'Place'\n",
       "\\item 'F\\_Aid'\n",
       "\\item 'Species\\_e'\n",
       "\\item 'Sex\\_e'\n",
       "\\item 'Age\\_e'\n",
       "\\item 'Brought\\_in\\_after'\n",
       "\\item 'season'\n",
       "\\item 'r'\n",
       "\\item 'Green\\_Orange'\n",
       "\\item 'ID'\n",
       "\\end{enumerate*}\n"
      ],
      "text/markdown": [
       "1. 'Admitted'\n",
       "2. 'Disposition_binary'\n",
       "3. 'Place'\n",
       "4. 'F_Aid'\n",
       "5. 'Species_e'\n",
       "6. 'Sex_e'\n",
       "7. 'Age_e'\n",
       "8. 'Brought_in_after'\n",
       "9. 'season'\n",
       "10. 'r'\n",
       "11. 'Green_Orange'\n",
       "12. 'ID'\n",
       "\n",
       "\n"
      ],
      "text/plain": [
       " [1] \"Admitted\"           \"Disposition_binary\" \"Place\"             \n",
       " [4] \"F_Aid\"              \"Species_e\"          \"Sex_e\"             \n",
       " [7] \"Age_e\"              \"Brought_in_after\"   \"season\"            \n",
       "[10] \"r\"                  \"Green_Orange\"       \"ID\"                "
      ]
     },
     "metadata": {},
     "output_type": "display_data"
    }
   ],
   "source": [
    "colnames(data)"
   ]
  },
  {
   "cell_type": "markdown",
   "id": "604c27c6",
   "metadata": {},
   "source": [
    "**Q2. How many rows and columns are in the datafame**  \n",
    "1 point"
   ]
  },
  {
   "cell_type": "code",
   "execution_count": 3,
   "id": "60d88dbd",
   "metadata": {},
   "outputs": [
    {
     "data": {
      "text/html": [
       "<style>\n",
       ".list-inline {list-style: none; margin:0; padding: 0}\n",
       ".list-inline>li {display: inline-block}\n",
       ".list-inline>li:not(:last-child)::after {content: \"\\00b7\"; padding: 0 .5ex}\n",
       "</style>\n",
       "<ol class=list-inline><li>6908</li><li>12</li></ol>\n"
      ],
      "text/latex": [
       "\\begin{enumerate*}\n",
       "\\item 6908\n",
       "\\item 12\n",
       "\\end{enumerate*}\n"
      ],
      "text/markdown": [
       "1. 6908\n",
       "2. 12\n",
       "\n",
       "\n"
      ],
      "text/plain": [
       "[1] 6908   12"
      ]
     },
     "metadata": {},
     "output_type": "display_data"
    }
   ],
   "source": [
    "dim(data)"
   ]
  },
  {
   "cell_type": "markdown",
   "id": "b84e1fcc",
   "metadata": {},
   "source": [
    "Next step is to create a random subset of the given data.   \n",
    "Use the given code to create the subset data."
   ]
  },
  {
   "cell_type": "code",
   "execution_count": 4,
   "id": "26bf1712",
   "metadata": {},
   "outputs": [
    {
     "name": "stderr",
     "output_type": "stream",
     "text": [
      "Warning message:\n",
      "\"package 'dplyr' was built under R version 3.6.3\"\n",
      "\n",
      "Attaching package: 'dplyr'\n",
      "\n",
      "\n",
      "The following objects are masked from 'package:stats':\n",
      "\n",
      "    filter, lag\n",
      "\n",
      "\n",
      "The following objects are masked from 'package:base':\n",
      "\n",
      "    intersect, setdiff, setequal, union\n",
      "\n",
      "\n"
     ]
    }
   ],
   "source": [
    "library(dplyr)\n",
    "model_data = sample_n(data, 5000)"
   ]
  },
  {
   "cell_type": "markdown",
   "id": "310ec408",
   "metadata": {},
   "source": [
    "**Use *model_data* dataframe to answer remainder question of the assingment.**"
   ]
  },
  {
   "cell_type": "markdown",
   "id": "0147551f",
   "metadata": {},
   "source": [
    "**Q3: How many rows and columns are present in your dataframe now?  \n",
    "1 Point**"
   ]
  },
  {
   "cell_type": "markdown",
   "id": "ca5c7e97",
   "metadata": {},
   "source": [
    "**Q4: How many columns are categorical variables and how many are continuous variables in the dataset?  \n",
    "2 Points**"
   ]
  },
  {
   "cell_type": "markdown",
   "id": "bd0e783c",
   "metadata": {},
   "source": [
    "**Q5: Submit your model_data file along with your submission.  \n",
    "Save it as \"Hummingbird_data_YOURNAME.csv\" and submit it.  \n",
    "2 Points**"
   ]
  },
  {
   "cell_type": "code",
   "execution_count": 5,
   "id": "09de3c77",
   "metadata": {},
   "outputs": [],
   "source": [
    "library(ggplot2)"
   ]
  },
  {
   "cell_type": "markdown",
   "id": "b2ca9fbd",
   "metadata": {},
   "source": [
    "# Section 2\n",
    "## Rehabilation Center and number of hummingbirds\n",
    "Lets see how we can explore how many birds were admitted to each rehab center (represented by column Place).  \n",
    "We will use functions from *dplyr* to generate summary tables and plot them using GGplot2"
   ]
  },
  {
   "cell_type": "code",
   "execution_count": 6,
   "id": "8f4a8276",
   "metadata": {},
   "outputs": [
    {
     "data": {
      "text/html": [
       "<table class=\"dataframe\">\n",
       "<caption>A tibble: 3 × 2</caption>\n",
       "<thead>\n",
       "\t<tr><th scope=col>Place</th><th scope=col>count</th></tr>\n",
       "\t<tr><th scope=col>&lt;fct&gt;</th><th scope=col>&lt;int&gt;</th></tr>\n",
       "</thead>\n",
       "<tbody>\n",
       "\t<tr><td>Lindsey      </td><td>4129</td></tr>\n",
       "\t<tr><td>malibu       </td><td> 795</td></tr>\n",
       "\t<tr><td>Santa Barbara</td><td>  76</td></tr>\n",
       "</tbody>\n",
       "</table>\n"
      ],
      "text/latex": [
       "A tibble: 3 × 2\n",
       "\\begin{tabular}{ll}\n",
       " Place & count\\\\\n",
       " <fct> & <int>\\\\\n",
       "\\hline\n",
       "\t Lindsey       & 4129\\\\\n",
       "\t malibu        &  795\\\\\n",
       "\t Santa Barbara &   76\\\\\n",
       "\\end{tabular}\n"
      ],
      "text/markdown": [
       "\n",
       "A tibble: 3 × 2\n",
       "\n",
       "| Place &lt;fct&gt; | count &lt;int&gt; |\n",
       "|---|---|\n",
       "| Lindsey       | 4129 |\n",
       "| malibu        |  795 |\n",
       "| Santa Barbara |   76 |\n",
       "\n"
      ],
      "text/plain": [
       "  Place         count\n",
       "1 Lindsey       4129 \n",
       "2 malibu         795 \n",
       "3 Santa Barbara   76 "
      ]
     },
     "metadata": {},
     "output_type": "display_data"
    }
   ],
   "source": [
    "model_data%>% \n",
    "group_by(Place)%>% \n",
    "summarise(count = n_distinct(ID))"
   ]
  },
  {
   "cell_type": "code",
   "execution_count": 7,
   "id": "1fa154a0",
   "metadata": {},
   "outputs": [],
   "source": [
    "rehab = model_data  %>% \n",
    "group_by(Place)%>% \n",
    "summarise(count = n_distinct(ID))"
   ]
  },
  {
   "cell_type": "code",
   "execution_count": 8,
   "id": "291488b0",
   "metadata": {},
   "outputs": [],
   "source": [
    "p = ggplot(rehab, aes(x = Place, y = count)) +\n",
    "geom_bar(stat=\"identity\", color = 'steelblue', fill = 'steelblue')+\n",
    "xlab('Rehabilitation center')+ ylab('number of hummingbirds')+\n",
    "labs(title = \"Number of rescued hummingbirds\")"
   ]
  },
  {
   "cell_type": "code",
   "execution_count": 9,
   "id": "6a561829",
   "metadata": {},
   "outputs": [
    {
     "data": {
      "image/png": "[encoded data removed]",
      "text/plain": [
       "plot without title"
      ]
     },
     "metadata": {
      "image/png": {
       "height": 420,
       "width": 420
      }
     },
     "output_type": "display_data"
    }
   ],
   "source": [
    "p"
   ]
  },
  {
   "cell_type": "markdown",
   "id": "a1cc5e8c",
   "metadata": {},
   "source": [
    "**Q6: Save this plot to a pdf file and submit it along with your assingment.  \n",
    "Make sure the size of the plot is 4 inches wide and 3 inches tall.  \n",
    "Point: 2**  "
   ]
  },
  {
   "cell_type": "markdown",
   "id": "39904046",
   "metadata": {},
   "source": [
    "**Q7: Explain the code above in words. What is each line of R code is doing.   \n",
    "Starting from the code that creates the \"Rehab\" onject until the plot.**  "
   ]
  },
  {
   "cell_type": "markdown",
   "id": "129272ff",
   "metadata": {},
   "source": [
    "# Section 3\n",
    "\n",
    "## Key variables that affect can affect the survival of hummingbirds  "
   ]
  },
  {
   "cell_type": "markdown",
   "id": "21168085",
   "metadata": {},
   "source": [
    "#### Do the following steps\n",
    "1. List 5 covariates from data columns that you think might affect the survival.   \n",
    "2. For each variable, create a table showing number of birds survived and died for each subcategory for the covariate.  \n",
    "3. To do that create a table first with COVARIATE, Disposition_binary and unique IDs\n",
    "4. Then use that dataframe to generate barplots and use **facet_grid** function in GGPlot "
   ]
  },
  {
   "cell_type": "markdown",
   "id": "0bf52867",
   "metadata": {},
   "source": [
    "**Q8: What is your observation based on those tables and plots? Do you think all those are associated with final disposition of hummingbirds? Any suggestions for statistically testing them?  \n",
    "Points: 5**"
   ]
  },
  {
   "cell_type": "code",
   "execution_count": 10,
   "id": "1ea254e5",
   "metadata": {
    "scrolled": true
   },
   "outputs": [
    {
     "name": "stderr",
     "output_type": "stream",
     "text": [
      "`summarise()` has grouped output by 'Disposition_binary'. You can override using the `.groups` argument.\n",
      "\n"
     ]
    }
   ],
   "source": [
    "reason = model_data  %>% \n",
    "group_by(Disposition_binary, r)%>% \n",
    "summarise(count = n_distinct(ID))"
   ]
  },
  {
   "cell_type": "code",
   "execution_count": 11,
   "id": "203634e4",
   "metadata": {},
   "outputs": [
    {
     "data": {
      "text/html": [
       "<table class=\"dataframe\">\n",
       "<caption>A grouped_df: 14 × 3</caption>\n",
       "<thead>\n",
       "\t<tr><th scope=col>Disposition_binary</th><th scope=col>r</th><th scope=col>count</th></tr>\n",
       "\t<tr><th scope=col>&lt;fct&gt;</th><th scope=col>&lt;fct&gt;</th><th scope=col>&lt;int&gt;</th></tr>\n",
       "</thead>\n",
       "<tbody>\n",
       "\t<tr><td>Died    </td><td>caught by domestic animal</td><td> 474</td></tr>\n",
       "\t<tr><td>Died    </td><td>found inside             </td><td> 115</td></tr>\n",
       "\t<tr><td>Died    </td><td>found on the ground      </td><td>1422</td></tr>\n",
       "\t<tr><td>Died    </td><td>nest-related             </td><td> 259</td></tr>\n",
       "\t<tr><td>Died    </td><td>suspect torpor-like state</td><td>  86</td></tr>\n",
       "\t<tr><td>Died    </td><td>unknown                  </td><td> 498</td></tr>\n",
       "\t<tr><td>Died    </td><td>window hit               </td><td> 379</td></tr>\n",
       "\t<tr><td>Released</td><td>caught by domestic animal</td><td> 166</td></tr>\n",
       "\t<tr><td>Released</td><td>found inside             </td><td>  45</td></tr>\n",
       "\t<tr><td>Released</td><td>found on the ground      </td><td> 709</td></tr>\n",
       "\t<tr><td>Released</td><td>nest-related             </td><td> 413</td></tr>\n",
       "\t<tr><td>Released</td><td>suspect torpor-like state</td><td>   9</td></tr>\n",
       "\t<tr><td>Released</td><td>unknown                  </td><td> 321</td></tr>\n",
       "\t<tr><td>Released</td><td>window hit               </td><td> 104</td></tr>\n",
       "</tbody>\n",
       "</table>\n"
      ],
      "text/latex": [
       "A grouped\\_df: 14 × 3\n",
       "\\begin{tabular}{lll}\n",
       " Disposition\\_binary & r & count\\\\\n",
       " <fct> & <fct> & <int>\\\\\n",
       "\\hline\n",
       "\t Died     & caught by domestic animal &  474\\\\\n",
       "\t Died     & found inside              &  115\\\\\n",
       "\t Died     & found on the ground       & 1422\\\\\n",
       "\t Died     & nest-related              &  259\\\\\n",
       "\t Died     & suspect torpor-like state &   86\\\\\n",
       "\t Died     & unknown                   &  498\\\\\n",
       "\t Died     & window hit                &  379\\\\\n",
       "\t Released & caught by domestic animal &  166\\\\\n",
       "\t Released & found inside              &   45\\\\\n",
       "\t Released & found on the ground       &  709\\\\\n",
       "\t Released & nest-related              &  413\\\\\n",
       "\t Released & suspect torpor-like state &    9\\\\\n",
       "\t Released & unknown                   &  321\\\\\n",
       "\t Released & window hit                &  104\\\\\n",
       "\\end{tabular}\n"
      ],
      "text/markdown": [
       "\n",
       "A grouped_df: 14 × 3\n",
       "\n",
       "| Disposition_binary &lt;fct&gt; | r &lt;fct&gt; | count &lt;int&gt; |\n",
       "|---|---|---|\n",
       "| Died     | caught by domestic animal |  474 |\n",
       "| Died     | found inside              |  115 |\n",
       "| Died     | found on the ground       | 1422 |\n",
       "| Died     | nest-related              |  259 |\n",
       "| Died     | suspect torpor-like state |   86 |\n",
       "| Died     | unknown                   |  498 |\n",
       "| Died     | window hit                |  379 |\n",
       "| Released | caught by domestic animal |  166 |\n",
       "| Released | found inside              |   45 |\n",
       "| Released | found on the ground       |  709 |\n",
       "| Released | nest-related              |  413 |\n",
       "| Released | suspect torpor-like state |    9 |\n",
       "| Released | unknown                   |  321 |\n",
       "| Released | window hit                |  104 |\n",
       "\n"
      ],
      "text/plain": [
       "   Disposition_binary r                         count\n",
       "1  Died               caught by domestic animal  474 \n",
       "2  Died               found inside               115 \n",
       "3  Died               found on the ground       1422 \n",
       "4  Died               nest-related               259 \n",
       "5  Died               suspect torpor-like state   86 \n",
       "6  Died               unknown                    498 \n",
       "7  Died               window hit                 379 \n",
       "8  Released           caught by domestic animal  166 \n",
       "9  Released           found inside                45 \n",
       "10 Released           found on the ground        709 \n",
       "11 Released           nest-related               413 \n",
       "12 Released           suspect torpor-like state    9 \n",
       "13 Released           unknown                    321 \n",
       "14 Released           window hit                 104 "
      ]
     },
     "metadata": {},
     "output_type": "display_data"
    }
   ],
   "source": [
    "reason"
   ]
  },
  {
   "cell_type": "code",
   "execution_count": 12,
   "id": "d78fbb93",
   "metadata": {},
   "outputs": [
    {
     "data": {
      "image/png": "[encoded data removed]",
      "text/plain": [
       "plot without title"
      ]
     },
     "metadata": {
      "image/png": {
       "height": 420,
       "width": 420
      }
     },
     "output_type": "display_data"
    }
   ],
   "source": [
    "p = ggplot(reason, aes(x = r, y = count)) +\n",
    "geom_bar(stat=\"identity\", color = 'steelblue', fill = 'steelblue')+\n",
    "xlab('Admission reason')+ ylab('number of hummingbirds')+\n",
    "labs(title = \"Rehabiliation \")\n",
    "p"
   ]
  },
  {
   "cell_type": "code",
   "execution_count": 13,
   "id": "f7bde597",
   "metadata": {},
   "outputs": [
    {
     "data": {
      "image/png": "[encoded data removed]",
      "text/plain": [
       "plot without title"
      ]
     },
     "metadata": {
      "image/png": {
       "height": 420,
       "width": 420
      }
     },
     "output_type": "display_data"
    }
   ],
   "source": [
    "p + facet_grid(. ~ Disposition_binary)+ coord_flip()"
   ]
  },
  {
   "cell_type": "markdown",
   "id": "0c969d23",
   "metadata": {},
   "source": [
    "**Q9: Run univariate glm for testing the associations.   \n",
    "Use *glm* function.  \n",
    "Points: 10** \n",
    "1. Which family will you be using? \n",
    "2. What is the default link option for your selected family? Which other options can you select? Use R documentation, StackOverflow and other online resourses to search for the answer. \n",
    "3. From the disposition column what your \"sucess\" from the binomial distrbution?\n",
    "4. How did you find which outcome is sucess and which one is failure?\n",
    "5. Will it change my model if I reverse the sucess and failure?\n",
    "6. Which variable is has the higest Beta value?"
   ]
  },
  {
   "cell_type": "markdown",
   "id": "61f12a16",
   "metadata": {},
   "source": [
    "# Section 4: Running full model and model selection"
   ]
  },
  {
   "cell_type": "markdown",
   "id": "e0d28953",
   "metadata": {},
   "source": [
    "**Q10: Perform backwards elimination to select a good ftting model for predicting the logit of \n",
    "probability of survival starting from the model which contains all five predictors that you selected in the previous question.\n",
    "Use *step* function to achieve the selection. We will go through model selection in detail in unpcoming classes. So, do not worry about it for now, but this is one of the methods to select best model by dropping individual covariates.  \n",
    "Points: 10**"
   ]
  },
  {
   "cell_type": "markdown",
   "id": "b86c4a4c",
   "metadata": {},
   "source": [
    "1. Fit a full model \n",
    "2. use following command with full model to do stepwise model selection"
   ]
  },
  {
   "cell_type": "code",
   "execution_count": 14,
   "id": "9a38ff63",
   "metadata": {},
   "outputs": [
    {
     "data": {
      "text/plain": [
       "\n",
       "Call:  glm(formula = Disposition_binary ~ r + Green_Orange + season + \n",
       "    F_Aid + Species_e, family = binomial(link = logit), data = model_data)\n",
       "\n",
       "Coefficients:\n",
       "                 (Intercept)                 rfound inside  \n",
       "                     -2.0897                        0.2497  \n",
       "        rfound on the ground                 rnest-related  \n",
       "                      0.1827                        0.7272  \n",
       "  rsuspect torpor-like state                      runknown  \n",
       "                     -1.0699                        0.4115  \n",
       "                 rwindow hit  Green_OrangeSelasphorus spp.  \n",
       "                     -0.1027                        0.2950  \n",
       "                seasonSpring                  seasonSummer  \n",
       "                      1.1713                        1.0527  \n",
       "                seasonWinter                      F_AidYes  \n",
       "                      0.6700                       -0.1617  \n",
       "               Species_eBCHU      Species_eNon-selasphorus  \n",
       "                      0.2090                        1.2354  \n",
       "        Species_eSelasphorus  \n",
       "                          NA  \n",
       "\n",
       "Degrees of Freedom: 4999 Total (i.e. Null);  4986 Residual\n",
       "Null Deviance:\t    6495 \n",
       "Residual Deviance: 5864 \tAIC: 5892"
      ]
     },
     "metadata": {},
     "output_type": "display_data"
    }
   ],
   "source": [
    "fullmodel  = glm(Disposition_binary ~ r + Green_Orange + season+F_Aid+Species_e, data = model_data, family= binomial(link = logit))\n",
    "fullmodel"
   ]
  },
  {
   "cell_type": "code",
   "execution_count": 15,
   "id": "860817b8",
   "metadata": {},
   "outputs": [
    {
     "name": "stdout",
     "output_type": "stream",
     "text": [
      "Start:  AIC=5892.05\n",
      "Disposition_binary ~ r + Green_Orange + season + F_Aid + Species_e\n",
      "\n",
      "\n",
      "Step:  AIC=5892.05\n",
      "Disposition_binary ~ r + season + F_Aid + Species_e\n",
      "\n",
      "            Df Deviance    AIC     LRT  Pr(>Chi)    \n",
      "<none>           5864.0 5892.0                      \n",
      "- F_Aid      1   5869.8 5895.8   5.721   0.01676 *  \n",
      "- r          6   5929.7 5945.7  65.675 3.141e-12 ***\n",
      "- season     3   5948.7 5970.7  84.660 < 2.2e-16 ***\n",
      "- Species_e  3   6061.4 6083.4 197.340 < 2.2e-16 ***\n",
      "---\n",
      "Signif. codes:  0 '***' 0.001 '**' 0.01 '*' 0.05 '.' 0.1 ' ' 1\n"
     ]
    }
   ],
   "source": [
    "backward_model = step(fullmodel,k=2,direction = \"backward\",test=\"Chisq\")"
   ]
  },
  {
   "cell_type": "code",
   "execution_count": 16,
   "id": "2bcbf484",
   "metadata": {},
   "outputs": [
    {
     "name": "stdout",
     "output_type": "stream",
     "text": [
      "Start:  AIC=5892.05\n",
      "Disposition_binary ~ r + Green_Orange + season + F_Aid + Species_e\n",
      "\n",
      "\n",
      "Step:  AIC=5892.05\n",
      "Disposition_binary ~ r + season + F_Aid + Species_e\n",
      "\n",
      "            Df Deviance    AIC     LRT  Pr(>Chi)    \n",
      "<none>           5864.0 5892.0                      \n",
      "- F_Aid      1   5869.8 5895.8   5.721   0.01676 *  \n",
      "- r          6   5929.7 5945.7  65.675 3.141e-12 ***\n",
      "- season     3   5948.7 5970.7  84.660 < 2.2e-16 ***\n",
      "- Species_e  3   6061.4 6083.4 197.340 < 2.2e-16 ***\n",
      "---\n",
      "Signif. codes:  0 '***' 0.001 '**' 0.01 '*' 0.05 '.' 0.1 ' ' 1\n"
     ]
    }
   ],
   "source": [
    "forward_model = step(fullmodel,k=2,direction = ,test=\"Chisq\")"
   ]
  },
  {
   "cell_type": "markdown",
   "id": "cefe876d",
   "metadata": {},
   "source": [
    "**Q 11: Describe the best fitting model: covariates in models selected by forward and backward selection process  \n",
    "Q 12: Find the covariate with highest Odds on survival  \n",
    "Q 13: Did both the models have same measures of effects for covariates?  \n",
    "Points: 5**"
   ]
  },
  {
   "cell_type": "markdown",
   "id": "f35c4cf1",
   "metadata": {},
   "source": [
    "# Section 5: explore the glm object"
   ]
  },
  {
   "cell_type": "markdown",
   "id": "80cecc1a",
   "metadata": {},
   "source": [
    "**Q13: How many model properties are avaiable to call after model fitting?** \n",
    "**Points 1**\n",
    "use following command"
   ]
  },
  {
   "cell_type": "code",
   "execution_count": 18,
   "id": "1f4b335b",
   "metadata": {},
   "outputs": [
    {
     "data": {
      "text/html": [
       "<style>\n",
       ".list-inline {list-style: none; margin:0; padding: 0}\n",
       ".list-inline>li {display: inline-block}\n",
       ".list-inline>li:not(:last-child)::after {content: \"\\00b7\"; padding: 0 .5ex}\n",
       "</style>\n",
       "<ol class=list-inline><li>'coefficients'</li><li>'residuals'</li><li>'fitted.values'</li><li>'effects'</li><li>'R'</li><li>'rank'</li><li>'qr'</li><li>'family'</li><li>'linear.predictors'</li><li>'deviance'</li><li>'aic'</li><li>'null.deviance'</li><li>'iter'</li><li>'weights'</li><li>'prior.weights'</li><li>'df.residual'</li><li>'df.null'</li><li>'y'</li><li>'converged'</li><li>'boundary'</li><li>'model'</li><li>'call'</li><li>'formula'</li><li>'terms'</li><li>'data'</li><li>'offset'</li><li>'control'</li><li>'method'</li><li>'contrasts'</li><li>'xlevels'</li><li>'anova'</li></ol>\n"
      ],
      "text/latex": [
       "\\begin{enumerate*}\n",
       "\\item 'coefficients'\n",
       "\\item 'residuals'\n",
       "\\item 'fitted.values'\n",
       "\\item 'effects'\n",
       "\\item 'R'\n",
       "\\item 'rank'\n",
       "\\item 'qr'\n",
       "\\item 'family'\n",
       "\\item 'linear.predictors'\n",
       "\\item 'deviance'\n",
       "\\item 'aic'\n",
       "\\item 'null.deviance'\n",
       "\\item 'iter'\n",
       "\\item 'weights'\n",
       "\\item 'prior.weights'\n",
       "\\item 'df.residual'\n",
       "\\item 'df.null'\n",
       "\\item 'y'\n",
       "\\item 'converged'\n",
       "\\item 'boundary'\n",
       "\\item 'model'\n",
       "\\item 'call'\n",
       "\\item 'formula'\n",
       "\\item 'terms'\n",
       "\\item 'data'\n",
       "\\item 'offset'\n",
       "\\item 'control'\n",
       "\\item 'method'\n",
       "\\item 'contrasts'\n",
       "\\item 'xlevels'\n",
       "\\item 'anova'\n",
       "\\end{enumerate*}\n"
      ],
      "text/markdown": [
       "1. 'coefficients'\n",
       "2. 'residuals'\n",
       "3. 'fitted.values'\n",
       "4. 'effects'\n",
       "5. 'R'\n",
       "6. 'rank'\n",
       "7. 'qr'\n",
       "8. 'family'\n",
       "9. 'linear.predictors'\n",
       "10. 'deviance'\n",
       "11. 'aic'\n",
       "12. 'null.deviance'\n",
       "13. 'iter'\n",
       "14. 'weights'\n",
       "15. 'prior.weights'\n",
       "16. 'df.residual'\n",
       "17. 'df.null'\n",
       "18. 'y'\n",
       "19. 'converged'\n",
       "20. 'boundary'\n",
       "21. 'model'\n",
       "22. 'call'\n",
       "23. 'formula'\n",
       "24. 'terms'\n",
       "25. 'data'\n",
       "26. 'offset'\n",
       "27. 'control'\n",
       "28. 'method'\n",
       "29. 'contrasts'\n",
       "30. 'xlevels'\n",
       "31. 'anova'\n",
       "\n",
       "\n"
      ],
      "text/plain": [
       " [1] \"coefficients\"      \"residuals\"         \"fitted.values\"    \n",
       " [4] \"effects\"           \"R\"                 \"rank\"             \n",
       " [7] \"qr\"                \"family\"            \"linear.predictors\"\n",
       "[10] \"deviance\"          \"aic\"               \"null.deviance\"    \n",
       "[13] \"iter\"              \"weights\"           \"prior.weights\"    \n",
       "[16] \"df.residual\"       \"df.null\"           \"y\"                \n",
       "[19] \"converged\"         \"boundary\"          \"model\"            \n",
       "[22] \"call\"              \"formula\"           \"terms\"            \n",
       "[25] \"data\"              \"offset\"            \"control\"          \n",
       "[28] \"method\"            \"contrasts\"         \"xlevels\"          \n",
       "[31] \"anova\"            "
      ]
     },
     "metadata": {},
     "output_type": "display_data"
    }
   ],
   "source": [
    "names(backward_model)"
   ]
  },
  {
   "cell_type": "markdown",
   "id": "39e83890",
   "metadata": {},
   "source": [
    "explore individual attributes of the fitted model and read about it in the R documentation"
   ]
  },
  {
   "cell_type": "markdown",
   "id": "52a90721",
   "metadata": {},
   "source": [
    "**Q14: Calcuate Odds ratios from these outputs**  \n",
    "Which variable has the highest odds of survival for hummingbirds?\n",
    "**Points 5:**"
   ]
  },
  {
   "cell_type": "markdown",
   "id": "d582b81a",
   "metadata": {},
   "source": [
    "**Q15: Write down in words the interpretation of the higest Odds ratio seen**  \n",
    "**Point:1**"
   ]
  },
  {
   "cell_type": "code",
   "execution_count": 19,
   "id": "c3cd7ae4",
   "metadata": {},
   "outputs": [],
   "source": [
    "library(sjPlot)"
   ]
  },
  {
   "cell_type": "markdown",
   "id": "c2744d0b",
   "metadata": {},
   "source": [
    "**Q16: from sjPlot library use following command and see if Odds ratio you calculated from previous answer match to the ones provided by the package.  \n",
    "Points: 2**"
   ]
  },
  {
   "cell_type": "code",
   "execution_count": 20,
   "id": "2458e2ea",
   "metadata": {},
   "outputs": [],
   "source": [
    "tab_model(backward_model)"
   ]
  },
  {
   "cell_type": "code",
   "execution_count": null,
   "id": "e528e37e",
   "metadata": {},
   "outputs": [],
   "source": []
  }
 ],
 "metadata": {
  "kernelspec": {
   "display_name": "R",
   "language": "R",
   "name": "ir"
  },
  "language_info": {
   "codemirror_mode": "r",
   "file_extension": ".r",
   "mimetype": "text/x-r-source",
   "name": "R",
   "pygments_lexer": "r",
   "version": "4.4.1"
  }
 },
 "nbformat": 4,
 "nbformat_minor": 5
}
